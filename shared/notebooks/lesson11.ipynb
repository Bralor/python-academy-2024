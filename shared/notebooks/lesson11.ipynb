{
 "cells": [
  {
   "cell_type": "markdown",
   "metadata": {},
   "source": [
    "# Python akademie 2025\n",
    "\n",
    "---\n",
    "\n",
    "<br>\n",
    "\n",
    "## Obsah lekce\n",
    "---\n",
    "\n",
    "1. [Úvod do souborů](#Úvod-do-souborů),\n",
    "2. [Soubory CSV](#Soubory-CSV),\n",
    "3. [Soubory JSON](#Soubor-JSON),\n",
    "4. [Spouštění s ARGS](#Spouštění-skriptu-s-argumenty).\n",
    "\n",
    "---"
   ]
  },
  {
   "cell_type": "markdown",
   "metadata": {},
   "source": [
    "<br>\n",
    "\n",
    "<img src=\"https://external-content.duckduckgo.com/iu/?u=https%3A%2F%2Ftse1.mm.bing.net%2Fth%3Fid%3DOIP.8jGQ1dJfUljV9kn_Vq8legHaHa%26pid%3DApi&f=1&ipt=f522baaf36bd4a4e9df7274eb105d86b11fcfdc5435921fd74de1c7564d77a83&ipo=images\" width=\"180\" style=\"margin-left:auto; margin-right:auto\">"
   ]
  },
  {
   "cell_type": "markdown",
   "metadata": {},
   "source": [
    "### Úvod do souborů\n",
    "\n",
    "---"
   ]
  },
  {
   "cell_type": "markdown",
   "metadata": {},
   "source": [
    "Pracovat **s textovými soubory** je velkou výhodou. Obzvláště, pokud potřebuješ **uchovat data**.\n",
    "\n",
    "Občas ale není na škodu, ovládat také mírně složitější formáty.\n",
    "\n",
    "Ty ti totiž umožní vytvořit **přehlednější struktury** souborů."
   ]
  },
  {
   "cell_type": "markdown",
   "metadata": {},
   "source": [
    "Pokud jeden potřebuje:\n",
    "* **mapovat atributy** na jejich hodnoty,\n",
    "* evidovat **záznamy v tabulce**."
   ]
  },
  {
   "cell_type": "markdown",
   "metadata": {},
   "source": [
    "Práce s těmito typy souborů **je podobná práci** s textovými soubory.\n",
    "\n",
    "Navíc ovšem existují nějaká **pravidla** (předpisy), která tyto soubory dělají tím, čím jsou.\n",
    "\n",
    "Další změnou bude práce **za pomocí příslušných knihoven**, které ti umožní takové objekty chystat.\n",
    "<br>"
   ]
  },
  {
   "cell_type": "markdown",
   "metadata": {},
   "source": [
    "<img src=\"https://imgs.search.brave.com/M36qy1EgSA9eFIwwVk1Zc2nmO6srCeH_P5v3PQQLqFk/rs:fit:500:0:1:0/g:ce/aHR0cHM6Ly90NC5m/dGNkbi5uZXQvanBn/LzAyLzAyLzQxLzcz/LzM2MF9GXzIwMjQx/NzMzNV9NczRETERw/aTJSaTdIN01aS0ZL/Mkw2TlZMdWNMQXQ4/TS5qcGc\" width=\"180\" style=\"margin-left:auto; margin-right:auto\">\n",
    "\n"
   ]
  },
  {
   "cell_type": "markdown",
   "metadata": {},
   "source": [
    "### File Input/Output (~vstupní soubor, výstupní soubor)\n",
    "\n",
    "---\n",
    "Opět bude potřeba vytvořit soubor (což je v podstatě jen *sekvence bajtů*) a schovat je za **jméno souboru**.\n",
    "\n",
    "Dále potom připravit objekt v Pythonu, který bude reprezentovat most mezi daty a souborem na disku."
   ]
  },
  {
   "cell_type": "markdown",
   "metadata": {},
   "source": [
    "<br>\n",
    "\n",
    "Nejprve si tedy zkus práci **s tabulkovými soubory**."
   ]
  },
  {
   "cell_type": "markdown",
   "metadata": {},
   "source": [
    "<br>\n",
    "\n",
    "<img src=\"https://external-content.duckduckgo.com/iu/?u=https%3A%2F%2Ftse2.mm.bing.net%2Fth%3Fid%3DOIP.3vUw9kaVMOQPBQOvNZ9OkgHaHa%26pid%3DApi&f=1&ipt=5d535e2a1b28bb87b209c1395babc2cf0a51f8fafe7e55085f8b7643f2e8c554&ipo=images\" width=\"150\" style=\"margin-left:auto; margin-right:auto\">"
   ]
  },
  {
   "cell_type": "markdown",
   "metadata": {},
   "source": [
    "### Soubory CSV\n",
    "\n",
    "---"
   ]
  },
  {
   "cell_type": "markdown",
   "metadata": {},
   "source": [
    "**CSV soubor** (*Comma Separated Values*) ukládá *tabulková data*, podobně jako například soubory **.xlsx** (*MS Excel* nebo *LibreOffice*), které pravděpodobně znáš."
   ]
  },
  {
   "cell_type": "markdown",
   "metadata": {},
   "source": [
    "<a href=\"https://imgur.com/3zomtvk\" style=\"margin-left:auto; margin-right:auto\"><img src=\"https://i.imgur.com/3zomtvk.png\" title=\"source: imgur.com\" width=\"600\" /></a>"
   ]
  },
  {
   "cell_type": "markdown",
   "metadata": {},
   "source": [
    "Rozdíl spočívá v tom, že soubor **CSV** je ukládá v **textové podobě**.\n",
    "\n",
    "<br>\n",
    "\n",
    "**CSV soubor** je tedy mnohem univerzálnější, můžeš ho normálně otevřít prakticky ve všech tabulkových procesorech:\n",
    "* *MS Excel*,\n",
    "* *LibreOffice Calc*,\n",
    "* v textových editorech jako je *Notepad* nebo *Poznámkový blok*,\n",
    "* a navíc se s ním dobře pracuje v Pythonu."
   ]
  },
  {
   "cell_type": "markdown",
   "metadata": {},
   "source": [
    "CSV soubory jsou navíc velmi dobře použitelné i v programovacím jazyce Python, kde existují knihovny (např. csv, pandas), které práci s nimi výrazně usnadňují."
   ]
  },
  {
   "cell_type": "markdown",
   "metadata": {},
   "source": [
    "<br>\n",
    "\n",
    "### Struktura\n",
    "\n",
    "---"
   ]
  },
  {
   "cell_type": "markdown",
   "metadata": {},
   "source": [
    "Přesto, že v různých softwarových řešeních najdeš data úhledně graficky naformátovaná do:\n",
    "1.  **řádků** *(na obrázku 1, 2, 3)*,\n",
    "2.  **a sloupců** *(na obrázku A, B, C, D)*."
   ]
  },
  {
   "cell_type": "markdown",
   "metadata": {},
   "source": [
    ".., reprezentované hodnoty **v jednoduchém editoru** vypadají jinak:\n",
    "```\n",
    "jmeno;prijmeni;email;projekt\n",
    "Matous;Holinka;m.holinka@firma.cz;hr\n",
    "Petr;Svetr;p.svetr@firma.cz;devops\n",
    "```"
   ]
  },
  {
   "cell_type": "markdown",
   "metadata": {},
   "source": [
    "Aby měl takový **CSV** konzistentní vzhled a formát, potřebuje zadaná pravidla, tedy **dialekt**."
   ]
  },
  {
   "cell_type": "markdown",
   "metadata": {},
   "source": [
    "### Dialekt CSV souborů\n",
    "\n",
    "---\n",
    "Dialektem rozuměj nějaký **formátovací pravidla**.\n",
    "\n",
    "Podle těchto pravidel bude tvůj **CSV** vypadat.\n",
    "\n",
    "<br>\n",
    "\n",
    "**Dialekt** udává jakými znaky jsou:\n",
    "1. oddělované **jednotlivé buňky** (na obrázku výše středník `;`),\n",
    "2. oddělované **řádky** (na obrázku není vybraný žádný symbol).\n",
    "3. jestli se **používají uvozovky** kolem hodnot\n",
    "4. jak se zachází **se speciálními znaky** (tzv. *escape znaky*)\n",
    "\n",
    "Další možnosti **upřesnění dialektu** můžeš najít <a href=\"https://docs.python.org/3/library/csv.html#dialects-and-formatting-parameters\" target=\"_blank\">zde</a>."
   ]
  },
  {
   "cell_type": "markdown",
   "metadata": {},
   "source": [
    "Ať už konkrétně typ souboru **.csv** nebo jeho příbuzní **.xls** nebo **.xlsx** aj., pracuje tento typ souboru výborně pro ukládání jednotlivých záznamů řádek po řádku.\n",
    "\n",
    "<br>"
   ]
  },
  {
   "cell_type": "markdown",
   "metadata": {},
   "source": [
    "Protože se u **CSV souborů** nejedná o nativní formát Pythonu, jako takový jej nemůžeš v Pythonu napsat.\n",
    "\n",
    "Platí, že pokud budeš chtít pracovat **s CSV soubory** v Pythonu, musíš *nahrát* k tomu určenou **built-in knihovnu**:"
   ]
  },
  {
   "cell_type": "code",
   "execution_count": 1,
   "metadata": {},
   "outputs": [],
   "source": [
    "import csv"
   ]
  },
  {
   "cell_type": "markdown",
   "metadata": {},
   "source": [
    "#### Vyzkoušej si následující\n",
    "\n",
    "---\n",
    "\n",
    "| jméno objektu | účel metody |\n",
    "| :-| :- |\n",
    "| `csv.writer(m)` | funkce zapíše objekt do souboru (+ `writerows`)|\n",
    "| `csv.reader(m)` | funkce vrátí iterovatelný objekt (co cyklus, to řádek) |\n",
    "| `csv.DictWriter(m)` | třída pro zápis slovníku do souboru |\n",
    "| `csv.DictReader(m)` | třída pro čtení souboru do slovníku |\n",
    "\n",
    "<br>\n",
    "\n",
    "\n",
    "*pozn* `m` je objekt (proměnná)\n",
    "\n",
    "<br>\n",
    "\n",
    "Základní dva procesy (obdobně jako pro textové soubory), které budeš provádět jsou:\n",
    "1. __čtení__ souboru `csv`\n",
    "2. __zápis__ do souboru `csv`\n",
    "\n",
    "<br>"
   ]
  },
  {
   "cell_type": "markdown",
   "metadata": {},
   "source": [
    "### Vytvoříš soubor s příponou `.csv`\n",
    "\n",
    "---\n",
    "\n",
    "Nejprve nahraj potřebnou knihovnu:"
   ]
  },
  {
   "cell_type": "code",
   "execution_count": 2,
   "metadata": {},
   "outputs": [],
   "source": [
    "import csv"
   ]
  },
  {
   "cell_type": "markdown",
   "metadata": {},
   "source": [
    "Vytvoř údaje, ze kterých soubor založíš.\n",
    "\n",
    "Tedy *záhlaví* a dva řádky *záznamů* v tabulce."
   ]
  },
  {
   "cell_type": "code",
   "execution_count": 3,
   "metadata": {},
   "outputs": [],
   "source": [
    "hlavicka = (\"jmeno\", \"prijmeni\", \"vek\")\n",
    "osoba_1 = (\"Matous\", \"Holinka\", \"28\")\n",
    "osoba_2 = (\"Petr\", \"Svetr\", \"27\")"
   ]
  },
  {
   "cell_type": "markdown",
   "metadata": {},
   "source": [
    "<br>\n",
    "\n",
    "Při tvorbě objektu je nutné zadat znak, který se bude objevovat **na konci řádků**:"
   ]
  },
  {
   "cell_type": "code",
   "execution_count": 4,
   "metadata": {},
   "outputs": [],
   "source": [
    "csv_soubor = open(\n",
    "    \"../onsite/l11_prvni_tabulka.csv\",\n",
    "    mode=\"w\",\n",
    "    encoding=\"UTF-8\"\n",
    ")"
   ]
  },
  {
   "cell_type": "code",
   "execution_count": 5,
   "metadata": {},
   "outputs": [
    {
     "name": "stdout",
     "output_type": "stream",
     "text": [
      "<_io.TextIOWrapper name='../onsite/l11_prvni_tabulka.csv' mode='w' encoding='UTF-8'>\n"
     ]
    }
   ],
   "source": [
    "print(csv_soubor)"
   ]
  },
  {
   "cell_type": "code",
   "execution_count": 6,
   "metadata": {},
   "outputs": [],
   "source": [
    "csv_soubor.close()"
   ]
  },
  {
   "cell_type": "markdown",
   "metadata": {},
   "source": [
    "<br>\n",
    "\n",
    "..příp. postupovat pomocí **kontextového manažeru**:"
   ]
  },
  {
   "cell_type": "code",
   "execution_count": 7,
   "metadata": {},
   "outputs": [],
   "source": [
    "with open('../onsite/l11_prvni_tabulka.csv',\n",
    "          mode='w',\n",
    "          encoding='UTF-8') as csv_soubor:\n",
    "    pass"
   ]
  },
  {
   "cell_type": "markdown",
   "metadata": {},
   "source": [
    "<br>\n",
    "\n",
    "Jakmile vytvoříš **spojovací objekt**, můžeš definovat, co do něj zapíšeš.\n",
    "\n",
    "U knihovny `csv` se využívá tzv. *zapisovací* (*writer*) funkce.\n",
    "\n",
    "Ten je zase specifický tím, že zadáš oddělovač, který oddělí **jednotlivé buňky** v tabulce:"
   ]
  },
  {
   "cell_type": "code",
   "execution_count": 10,
   "metadata": {},
   "outputs": [],
   "source": [
    "csv_soubor = open(\n",
    "    \"../onsite/l11_prvni_tabulka.csv\",\n",
    "    mode=\"w\",\n",
    "    encoding=\"UTF-8\"\n",
    ")"
   ]
  },
  {
   "cell_type": "code",
   "execution_count": 11,
   "metadata": {},
   "outputs": [],
   "source": [
    "zapisovac = csv.writer(csv_soubor, delimiter=\";\")"
   ]
  },
  {
   "cell_type": "code",
   "execution_count": 12,
   "metadata": {},
   "outputs": [
    {
     "data": {
      "text/plain": [
       "15"
      ]
     },
     "execution_count": 12,
     "metadata": {},
     "output_type": "execute_result"
    }
   ],
   "source": [
    "zapisovac.writerow(hlavicka)\n",
    "zapisovac.writerow(osoba_1)\n",
    "zapisovac.writerow(osoba_2)"
   ]
  },
  {
   "cell_type": "markdown",
   "metadata": {},
   "source": [
    "..nebo ideálně více řádků současně:\n",
    "```python\n",
    "zapisovac.writerows((hlavicka, osoba_1, osoba_2))\n",
    "```"
   ]
  },
  {
   "cell_type": "markdown",
   "metadata": {},
   "source": [
    "Po zaznamenání údajů a na konci workflow nezapomeň objekt načtený *interpretem* **ukončit**."
   ]
  },
  {
   "cell_type": "code",
   "execution_count": 15,
   "metadata": {},
   "outputs": [],
   "source": [
    "csv_soubor.close()"
   ]
  },
  {
   "cell_type": "markdown",
   "metadata": {},
   "source": [
    "Pokud si nebudeš jistý, jestli je *stream* zavřený, vyzkoušej metodu `closed`.\n",
    "\n",
    "Ta vrací `True`, pokud je *spojení* opravdu **ukončené**:"
   ]
  },
  {
   "cell_type": "code",
   "execution_count": 17,
   "metadata": {},
   "outputs": [
    {
     "data": {
      "text/plain": [
       "True"
      ]
     },
     "execution_count": 17,
     "metadata": {},
     "output_type": "execute_result"
    }
   ],
   "source": [
    "csv_soubor.closed  # Je soubor uzavřený? True == Ano, je!"
   ]
  },
  {
   "cell_type": "markdown",
   "metadata": {},
   "source": [
    "<br>\n",
    "\n",
    "### Zápis pomocí kontextového manažeru\n",
    "\n",
    "---"
   ]
  },
  {
   "cell_type": "code",
   "execution_count": 20,
   "metadata": {},
   "outputs": [],
   "source": [
    "with open('../onsite/l11_tabulka.csv',\n",
    "          mode='w',\n",
    "          encoding='UTF-8') as csv_soubor:\n",
    "\n",
    "    # Místo, pro zadání dialektu\n",
    "    zapisovac = csv.writer(csv_soubor, delimiter=';')\n",
    "\n",
    "    # Provést samotný zápis\n",
    "    zapisovac.writerows((hlavicka, osoba_1, osoba_2))"
   ]
  },
  {
   "cell_type": "markdown",
   "metadata": {},
   "source": [
    "<br>\n",
    "\n",
    "Po skončení celého procesu, pomocí `with` není nutné spojení ukončovat."
   ]
  },
  {
   "cell_type": "markdown",
   "metadata": {},
   "source": [
    "### DictWriter\n",
    "\n",
    "---\n",
    "\n",
    "Objekty v Pythonu, použité před chvílí, byly **sekvenčního typu**.\n",
    "\n",
    "Pokud ovšem dostaneš mapovaný objekt, můžeš vyzkoušet další typ zapisovače, `DictWriter`:"
   ]
  },
  {
   "cell_type": "code",
   "execution_count": 21,
   "metadata": {},
   "outputs": [],
   "source": [
    "# příp. namedtuple\n",
    "osoba_1 = {\"jméno\": \"Matouš\", \"příjmení\": \"Holinka\", \"věk\": \"28\"}\n",
    "osoba_2 = {\"jméno\": \"Petr\", \"příjmení\": \"Svetr\", \"věk\": \"27\"}"
   ]
  },
  {
   "cell_type": "code",
   "execution_count": 22,
   "metadata": {},
   "outputs": [
    {
     "name": "stdout",
     "output_type": "stream",
     "text": [
      "dict_keys(['jméno', 'příjmení', 'věk'])\n"
     ]
    }
   ],
   "source": [
    "print(osoba_1.keys())"
   ]
  },
  {
   "cell_type": "markdown",
   "metadata": {},
   "source": [
    "Pokud argument `newline` nepotřebuješ, můžeš pracovat s jeho defaultní hodnotou `None`:"
   ]
  },
  {
   "cell_type": "code",
   "execution_count": 23,
   "metadata": {},
   "outputs": [],
   "source": [
    "dalsi_csv = open(\"../onsite/l11_druha_tabulka.csv\",\n",
    "                 mode=\"w\",\n",
    "                 encoding=\"UTF-8\")"
   ]
  },
  {
   "cell_type": "markdown",
   "metadata": {},
   "source": [
    "Objektu zapisovače opět předáš přichystaný proměnnou `dalsi_csv` a **jména sloupečků** (záhlaví):"
   ]
  },
  {
   "cell_type": "code",
   "execution_count": null,
   "metadata": {},
   "outputs": [],
   "source": [
    "csv.DictWriter?"
   ]
  },
  {
   "cell_type": "code",
   "execution_count": 25,
   "metadata": {},
   "outputs": [],
   "source": [
    "# zapisovac = csv.DictWriter(dalsi_csv)  # TypeError"
   ]
  },
  {
   "cell_type": "code",
   "execution_count": 26,
   "metadata": {},
   "outputs": [],
   "source": [
    "zahlavi = tuple(osoba_1.keys())"
   ]
  },
  {
   "cell_type": "code",
   "execution_count": 27,
   "metadata": {},
   "outputs": [
    {
     "name": "stdout",
     "output_type": "stream",
     "text": [
      "('jméno', 'příjmení', 'věk')\n"
     ]
    }
   ],
   "source": [
    "print(zahlavi)"
   ]
  },
  {
   "cell_type": "code",
   "execution_count": 28,
   "metadata": {},
   "outputs": [],
   "source": [
    "zapisovac = csv.DictWriter(dalsi_csv, fieldnames=zahlavi)"
   ]
  },
  {
   "cell_type": "markdown",
   "metadata": {},
   "source": [
    "<br>\n",
    "\n",
    "Můžeš záznamy zapsat **postupně**:"
   ]
  },
  {
   "cell_type": "code",
   "execution_count": 29,
   "metadata": {},
   "outputs": [
    {
     "data": {
      "text/plain": [
       "20"
      ]
     },
     "execution_count": 29,
     "metadata": {},
     "output_type": "execute_result"
    }
   ],
   "source": [
    "zapisovac.writeheader()"
   ]
  },
  {
   "cell_type": "code",
   "execution_count": 30,
   "metadata": {},
   "outputs": [
    {
     "data": {
      "text/plain": [
       "15"
      ]
     },
     "execution_count": 30,
     "metadata": {},
     "output_type": "execute_result"
    }
   ],
   "source": [
    "zapisovac.writerow(osoba_1)\n",
    "zapisovac.writerow(osoba_2)"
   ]
  },
  {
   "cell_type": "markdown",
   "metadata": {},
   "source": [
    "eventuálně zapsat také **hromadně**:\n",
    "```python\n",
    "zapisovac.writerows((osoba_1, osoba_2))\n",
    "```"
   ]
  },
  {
   "cell_type": "markdown",
   "metadata": {},
   "source": [
    "a nakonec *stream* zase důsledně uzavřít:"
   ]
  },
  {
   "cell_type": "code",
   "execution_count": 31,
   "metadata": {},
   "outputs": [
    {
     "data": {
      "text/plain": [
       "False"
      ]
     },
     "execution_count": 31,
     "metadata": {},
     "output_type": "execute_result"
    }
   ],
   "source": [
    "dalsi_csv.closed"
   ]
  },
  {
   "cell_type": "code",
   "execution_count": 32,
   "metadata": {},
   "outputs": [],
   "source": [
    "dalsi_csv.close()"
   ]
  },
  {
   "cell_type": "code",
   "execution_count": 33,
   "metadata": {},
   "outputs": [
    {
     "data": {
      "text/plain": [
       "True"
      ]
     },
     "execution_count": 33,
     "metadata": {},
     "output_type": "execute_result"
    }
   ],
   "source": [
    "dalsi_csv.closed"
   ]
  },
  {
   "cell_type": "markdown",
   "metadata": {},
   "source": [
    "<br>\n",
    "\n",
    "### Zápis pomocí kontextového manažeru pro slovníkové hodnoty\n",
    "\n",
    "---"
   ]
  },
  {
   "cell_type": "code",
   "execution_count": 34,
   "metadata": {},
   "outputs": [],
   "source": [
    "with open(\"../onsite/l11_tabulka_2.csv\",\n",
    "          mode=\"w\",\n",
    "          encoding=\"UTF-8\") as dalsi_csv:\n",
    "    zapisovac = csv.DictWriter(dalsi_csv, delimiter=';', fieldnames=osoba_1.keys())\n",
    "    zapisovac.writeheader()\n",
    "    zapisovac.writerows('')"
   ]
  },
  {
   "cell_type": "markdown",
   "metadata": {},
   "source": [
    "<br>\n",
    "\n",
    "### Přečti obsah souboru `.csv`\n",
    "\n",
    "---"
   ]
  },
  {
   "cell_type": "markdown",
   "metadata": {},
   "source": [
    "Zápis bez *kontextového manažeru*:"
   ]
  },
  {
   "cell_type": "code",
   "execution_count": 36,
   "metadata": {},
   "outputs": [],
   "source": [
    "obsah_prvni_csv = open(\n",
    "    \"../onsite/l11_tabulka_2.csv\",\n",
    "    encoding=\"UTF-8\",\n",
    "    mode=\"r\"  # Default\n",
    ")"
   ]
  },
  {
   "cell_type": "code",
   "execution_count": 37,
   "metadata": {},
   "outputs": [],
   "source": [
    "cteni = csv.reader(obsah_prvni_csv)"
   ]
  },
  {
   "cell_type": "markdown",
   "metadata": {},
   "source": [
    "Obsah souboru je možné vrátit **jako sekvenci**:"
   ]
  },
  {
   "cell_type": "code",
   "execution_count": 38,
   "metadata": {},
   "outputs": [],
   "source": [
    "obsah_souboru = tuple(cteni)"
   ]
  },
  {
   "cell_type": "markdown",
   "metadata": {},
   "source": [
    "Případně pro další processing **procházet smyčkou**:"
   ]
  },
  {
   "cell_type": "code",
   "execution_count": 39,
   "metadata": {},
   "outputs": [],
   "source": [
    "for radek in cteni:\n",
    "    print(radek)"
   ]
  },
  {
   "cell_type": "code",
   "execution_count": 40,
   "metadata": {},
   "outputs": [],
   "source": [
    "obsah_prvni_csv.close()"
   ]
  },
  {
   "cell_type": "markdown",
   "metadata": {},
   "source": [
    "<br>\n",
    "\n",
    "Pomocí `with` manažeru:"
   ]
  },
  {
   "cell_type": "code",
   "execution_count": 41,
   "metadata": {},
   "outputs": [],
   "source": [
    "with open('../onsite/l11_druha_tabulka.csv',\n",
    "          mode='r',\n",
    "          encoding='UTF-8',  # Potenciální problém\n",
    "          newline='') as csv_soubor:\n",
    "    cteni = csv.DictReader(csv_soubor)"
   ]
  },
  {
   "cell_type": "markdown",
   "metadata": {},
   "source": [
    "*Lazy-evaluation* proces, který nezprostředkuje čtení souboru, jenom nachystá postup pro načtení."
   ]
  },
  {
   "cell_type": "code",
   "execution_count": 42,
   "metadata": {},
   "outputs": [
    {
     "name": "stdout",
     "output_type": "stream",
     "text": [
      "<csv.DictReader object at 0x7f14005197c0>\n"
     ]
    }
   ],
   "source": [
    "print(cteni)"
   ]
  },
  {
   "cell_type": "code",
   "execution_count": 44,
   "metadata": {},
   "outputs": [],
   "source": [
    "# print(tuple(cteni))  # ValueError"
   ]
  },
  {
   "cell_type": "code",
   "execution_count": 45,
   "metadata": {},
   "outputs": [],
   "source": [
    "with open('../onsite/l11_druha_tabulka.csv',\n",
    "          mode='r',\n",
    "          encoding='UTF-8',  # Potenciální problém\n",
    "          newline='') as csv_soubor:\n",
    "    cteni = csv.DictReader(csv_soubor)\n",
    "    ulozene_hodnoty = tuple(cteni)"
   ]
  },
  {
   "cell_type": "code",
   "execution_count": 46,
   "metadata": {},
   "outputs": [
    {
     "name": "stdout",
     "output_type": "stream",
     "text": [
      "({'jméno': 'Matouš', 'příjmení': 'Holinka', 'věk': '28'}, {'jméno': 'Petr', 'příjmení': 'Svetr', 'věk': '27'})\n"
     ]
    }
   ],
   "source": [
    "print(ulozene_hodnoty)"
   ]
  },
  {
   "cell_type": "code",
   "execution_count": 48,
   "metadata": {},
   "outputs": [
    {
     "data": {
      "text/plain": [
       "True"
      ]
     },
     "execution_count": 48,
     "metadata": {},
     "output_type": "execute_result"
    }
   ],
   "source": [
    "csv_soubor.closed"
   ]
  },
  {
   "cell_type": "markdown",
   "metadata": {},
   "source": [
    "<br>\n",
    "\n",
    "### DictReader\n",
    "\n",
    "---\n",
    "\n",
    "Analogicky je možnost data obsažená v *CSV* souboru reprezentovat s *interpretem* jako `dict`:"
   ]
  },
  {
   "cell_type": "code",
   "execution_count": 50,
   "metadata": {},
   "outputs": [],
   "source": [
    "moje_csv = open(\n",
    "    \"../onsite/l11_druha_tabulka.csv\",\n",
    "    encoding=\"utf-8\",\n",
    "    mode=\"r\"\n",
    ")"
   ]
  },
  {
   "cell_type": "code",
   "execution_count": 51,
   "metadata": {},
   "outputs": [],
   "source": [
    "obsah = csv.DictReader(moje_csv)"
   ]
  },
  {
   "cell_type": "code",
   "execution_count": 52,
   "metadata": {},
   "outputs": [
    {
     "name": "stdout",
     "output_type": "stream",
     "text": [
      "({'jméno': 'Matouš', 'příjmení': 'Holinka', 'věk': '28'}, {'jméno': 'Petr', 'příjmení': 'Svetr', 'věk': '27'})\n"
     ]
    }
   ],
   "source": [
    "print(tuple(obsah))"
   ]
  },
  {
   "cell_type": "code",
   "execution_count": 53,
   "metadata": {},
   "outputs": [],
   "source": [
    "moje_csv.close()"
   ]
  },
  {
   "cell_type": "markdown",
   "metadata": {},
   "source": [
    "<br>\n",
    "\n",
    "### Kontextový manažer\n",
    "\n",
    "---\n",
    "\n",
    "Prakticky neustále se postup pro manipulaci se soubory kombinuje s manažerem `with`:"
   ]
  },
  {
   "cell_type": "code",
   "execution_count": 54,
   "metadata": {},
   "outputs": [],
   "source": [
    "jmeno_csv = \"../onsite/l11_druha_tabulka.csv\""
   ]
  },
  {
   "cell_type": "code",
   "execution_count": 55,
   "metadata": {},
   "outputs": [],
   "source": [
    "with open(jmeno_csv,\n",
    "          mode=\"r\",\n",
    "          encoding=\"UTF-8\"\n",
    ") as csv_soubor:\n",
    "    cteni = csv.DictReader(csv_soubor)\n",
    "    obsah = tuple(cteni)"
   ]
  },
  {
   "cell_type": "code",
   "execution_count": 56,
   "metadata": {},
   "outputs": [
    {
     "name": "stdout",
     "output_type": "stream",
     "text": [
      "dict_keys(['jméno', 'příjmení', 'věk'])\n"
     ]
    }
   ],
   "source": [
    "print(obsah[0].keys())"
   ]
  },
  {
   "cell_type": "code",
   "execution_count": 57,
   "metadata": {},
   "outputs": [
    {
     "data": {
      "text/plain": [
       "({'jméno': 'Matouš', 'příjmení': 'Holinka', 'věk': '28'},\n",
       " {'jméno': 'Petr', 'příjmení': 'Svetr', 'věk': '27'})"
      ]
     },
     "execution_count": 57,
     "metadata": {},
     "output_type": "execute_result"
    }
   ],
   "source": [
    "obsah"
   ]
  },
  {
   "cell_type": "code",
   "execution_count": 58,
   "metadata": {},
   "outputs": [
    {
     "name": "stdout",
     "output_type": "stream",
     "text": [
      "Matouš Holinka\n",
      "Petr Svetr\n"
     ]
    }
   ],
   "source": [
    "for zaznam in obsah:\n",
    "    print(zaznam.get('jméno'), zaznam.get('příjmení', '<neznámé příjmení>'))"
   ]
  },
  {
   "cell_type": "code",
   "execution_count": 59,
   "metadata": {},
   "outputs": [
    {
     "data": {
      "text/plain": [
       "True"
      ]
     },
     "execution_count": 59,
     "metadata": {},
     "output_type": "execute_result"
    }
   ],
   "source": [
    "csv_soubor.closed"
   ]
  },
  {
   "cell_type": "markdown",
   "metadata": {},
   "source": [
    "Takže tabulkový formát je zpracovaný, co když budeš potřebovat soubor **organizovaný pomocí klíčů**."
   ]
  },
  {
   "cell_type": "markdown",
   "metadata": {},
   "source": [
    "<br>\n",
    "\n",
    "### 🧠 CVIČENÍ 🧠, Vyzkoušej si práci s *CSV soubory*:"
   ]
  },
  {
   "cell_type": "markdown",
   "metadata": {},
   "source": [
    "1. Vytvoř funkci `zpracuj_vsechny_uzivatele` s parametrem `zadane_hodnoty` a `nezadouci`,\n",
    "2. funkci zadám sekvenci slovníkových hodnot, ona je projde jednu po druhé a zpracuje pomocí další funkce,\n",
    "3. ..výstup potom uloží do `tuple`,\n",
    "4. vytvoř funkci `filtruj_nezadouci_sloupce` s parametrem `zadany_slovnik` a `nezadouci`,\n",
    "5. tato funkce prochází klíče ve slovníku a pokud jsou i mezi argumenty v parametru `nezadouci`, přeskočí je,\n",
    "6. .. pokud nejsou součástí, přidá je do mezivýsledku `vysledny_slovnik`, ten po iteraci vrátí z funkce,\n",
    "7. vytvoř funkci `zapis_jako_csv_soubor` s parametrem `data` a `cesta_k_souboru`,\n",
    "8. funkce zapíše vyfiltrované hodnoty **do CSV souboru**."
   ]
  },
  {
   "cell_type": "code",
   "execution_count": null,
   "metadata": {},
   "outputs": [],
   "source": [
    "data = [  # namedtuple\n",
    "    {\"name\": \"Alice\", \"age\": 23, \"score\": 85},\n",
    "    {\"name\": \"Bob\", \"age\": 27, \"score\": 90},\n",
    "    {\"name\": \"Charlie\", \"age\": 22, \"score\": 87},\n",
    "    {\"name\": \"Diana\", \"age\": 24, \"score\": 92},\n",
    "    {\"name\": \"Edward\", \"age\": 29, \"score\": 88}\n",
    "]"
   ]
  },
  {
   "cell_type": "code",
   "execution_count": null,
   "metadata": {},
   "outputs": [],
   "source": [
    "import csv\n",
    "from typing import List, Dict, Any  # Volitelné"
   ]
  },
  {
   "cell_type": "markdown",
   "metadata": {},
   "source": [
    "<details>\n",
    "  <summary>▶️ Klikni zde pro zobrazení řešení</summary>\n",
    "   \n",
    "```python\n",
    "import csv\n",
    "from typing import List, Dict, Union, Tuple\n",
    "\n",
    "\n",
    "def zapis_jako_csv_soubor(data: List[Dict[str, Union[str, int]]], cesta_k_souboru: str) -> None:\n",
    "    with open(cesta_k_souboru, mode='w', newline='') as csv_soubor:\n",
    "        zapisovac = csv.DictWriter(csv_soubor, fieldnames=data[0].keys())\n",
    "        zapisovac.writeheader()\n",
    "        zapisovac.writerows(data)\n",
    "\n",
    "def zpracuj_vsechny_uzivatele(zadane_hodnoty: List[Dict[str, str]], nezadouci: Tuple[str, ...]):\n",
    "    vysledny_list_slovniku = list()\n",
    "\n",
    "    for slovnik in zadane_hodnoty:\n",
    "        vysledny_list_slovniku.append(filtruj_nezadouci_sloupce(slovnik, nezadouci))\n",
    "\n",
    "    return tuple(vysledny_list_slovniku)\n",
    "    \n",
    "\n",
    "def filtruj_nezadouci_sloupce(zadany_slovnik: Dict[str, str], nezadouci: Tuple[str, ...]):\n",
    "    vysledny_slovnik = dict()\n",
    "\n",
    "    for klic, hodnota in zadany_slovnik.items():\n",
    "        if klic in nezadouci:\n",
    "            continue\n",
    "        vysledny_slovnik[klic] = hodnota\n",
    "\n",
    "    return vysledny_slovnik\n",
    "\n",
    "zpracuj_vsechny_uzivatele(data, (\"age\"))\n",
    "```\n",
    "</details>"
   ]
  },
  {
   "cell_type": "markdown",
   "metadata": {},
   "source": [
    "<img src=\"https://external-content.duckduckgo.com/iu/?u=https%3A%2F%2Ftse1.mm.bing.net%2Fth%3Fid%3DOIP.HE9t18rjtPfxKI4noPxHiwHaHa%26pid%3DApi&f=1&ipt=75010c912a1bd645939e0cce59df21f5842a62439ba97cda758a4c7002f40ae6&ipo=images\" width=\"150\" style=\"margin-left:auto; margin-right:auto\">"
   ]
  },
  {
   "cell_type": "markdown",
   "metadata": {},
   "source": [
    "### Soubor JSON\n",
    "\n",
    "---"
   ]
  },
  {
   "cell_type": "markdown",
   "metadata": {},
   "source": [
    "Tento typ souboru možná ještě neznáš. Jedná se o příponu u souborů **.json**.\n",
    "\n",
    "Celé jméno souboru může vypadat třeba jako `uzivatele.json`.\n",
    "\n",
    "**JSON** si můžeš představit následovně:\n",
    "```python\n",
    "{\n",
    "    \"jmeno\": \"Chuck Norris\",\n",
    "    \"neuspech\": null,\n",
    "    \"kliky\": \"vsechny\",\n",
    "    \"konkurence\": false,\n",
    "}\n",
    "```"
   ]
  },
  {
   "cell_type": "markdown",
   "metadata": {},
   "source": [
    "Na první pohled můžeš říct, že se hodně podobá **Pythonovskému slovníku**.\n",
    "\n",
    "Nicméně má svoji vlastní charakteristickou **sadu pravidel** pro převod datových typů.\n",
    "\n",
    "Níže jsou uvedená některá pravidla, která se týkají ukázky výše (všechna pravidla najdeš [zde](https://docs.python.org/3/library/json.html#encoders-and-decoders)):\n",
    "\n",
    "\n",
    "| JSON | Python |\n",
    "| :-: | :-: |\n",
    "| string | str |\n",
    "| true | True |\n",
    "| false | False |\n",
    "| null | None |"
   ]
  },
  {
   "cell_type": "markdown",
   "metadata": {},
   "source": [
    "Účelem tohoto souboru je zejména **přenos dat** (*JavaScript Object Notation*).\n",
    "\n",
    "Jde o záměrně zjednodušený formát, který **není standardním datovým typem pro Python**."
   ]
  },
  {
   "cell_type": "markdown",
   "metadata": {},
   "source": [
    "Poměrně často se s ním setkáš u **webových aplikací** různých *eshopů*, které ti vykresují nabídku na základě informací získaných z databází."
   ]
  },
  {
   "cell_type": "markdown",
   "metadata": {},
   "source": [
    "Protože **JSON** není standardním datovým typem, jako takový jej nemůžeš v Pythonu použít.\n",
    "\n",
    "Pokud budeš chtít pracovat s JSON v Pythonu, musíš *nahrát* k tomu určenou **built-in knihovnu**."
   ]
  },
  {
   "cell_type": "markdown",
   "metadata": {},
   "source": [
    "\n",
    "V rámci <a href=\"https://docs.python.org/3/library/index.html\" target=\"_blank\">seznamu dokumentace Pythonu</a>  najdeš knihovnu `json`.\n",
    "\n",
    "Právě tato knihovna ti umožní pomocí *interpretu* Pythonu *vytvořit* nebo *načíst* JSON."
   ]
  },
  {
   "cell_type": "code",
   "execution_count": 60,
   "metadata": {},
   "outputs": [],
   "source": [
    "import json"
   ]
  },
  {
   "cell_type": "markdown",
   "metadata": {},
   "source": [
    "<br>\n",
    "\n",
    "V rámci **základní manipulace** se zaměř hlavně na tyto funkce:\n",
    "\n",
    "| Funkce | Účel |\n",
    "| :- | :- |\n",
    "| `json.dump(m, n)` | zapíše objekt do souboru JSON |\n",
    "| `json.dumps(m)` | zapíše objekt do `str` |\n",
    "| `json.load(m)` | načte JSON data ze souboru |\n",
    "| `json.loads(m)` | načte JSON data ze `str` |\n",
    "\n",
    "Detail tabulky:\n",
    "- `m` představuje jméno objektu,\n",
    "- `n` představuje jméno souboru."
   ]
  },
  {
   "cell_type": "markdown",
   "metadata": {},
   "source": [
    "###  Vytvořím JSON jako string\n",
    "\n",
    "---\n",
    "\n",
    "Obecně se při práci se soubory typu `json` mluví o procesech *serialization* a *deserialization* (tedy čtení a zápis), ke kterým patří příslušné funkce uvedené výše v tabulce."
   ]
  },
  {
   "cell_type": "code",
   "execution_count": 61,
   "metadata": {},
   "outputs": [],
   "source": [
    "chuckuv_slovnik = {\"jmeno\": \"Chuck Norris\",\n",
    "                   \"neuspech\": None,\n",
    "                   \"kliky\": \"vsechny\",\n",
    "                   \"konkurence\": False,\n",
    "                   \"doplneni\": \"Łukasz\"}"
   ]
  },
  {
   "cell_type": "code",
   "execution_count": 62,
   "metadata": {},
   "outputs": [
    {
     "name": "stdout",
     "output_type": "stream",
     "text": [
      "<class 'dict'>\n"
     ]
    }
   ],
   "source": [
    "print(type(chuckuv_slovnik))"
   ]
  },
  {
   "cell_type": "code",
   "execution_count": 63,
   "metadata": {},
   "outputs": [],
   "source": [
    "vypis_json = json.dumps(chuckuv_slovnik)  # Výstup pouze jako str"
   ]
  },
  {
   "cell_type": "code",
   "execution_count": 64,
   "metadata": {},
   "outputs": [],
   "source": [
    "from pprint import pprint"
   ]
  },
  {
   "cell_type": "code",
   "execution_count": 65,
   "metadata": {},
   "outputs": [
    {
     "data": {
      "text/plain": [
       "'{\"jmeno\": \"Chuck Norris\", \"neuspech\": null, \"kliky\": \"vsechny\", \"konkurence\": false, \"doplneni\": \"\\\\u0141ukasz\"}'"
      ]
     },
     "execution_count": 65,
     "metadata": {},
     "output_type": "execute_result"
    }
   ],
   "source": [
    "vypis_json"
   ]
  },
  {
   "cell_type": "code",
   "execution_count": 66,
   "metadata": {},
   "outputs": [
    {
     "name": "stdout",
     "output_type": "stream",
     "text": [
      "<class 'str'>\n"
     ]
    }
   ],
   "source": [
    "print(type(vypis_json))"
   ]
  },
  {
   "cell_type": "markdown",
   "metadata": {},
   "source": [
    "Jakmile se podíváš na výstup, všimni si následujícího:\n",
    "1. `null`, klíč `neuspech` už neobsahuje `None`,\n",
    "2. `false`, klíč `konkurence` už neobsahuje `False`,\n",
    "3. `\"\\u0141ukasz\"`, klíč `doplneni` se nějak zkomolil.\n",
    "\n",
    "Důvodem pro výše **zdůrazněné změny** je právě změna *Python objektů* na *JSON objekty*.\n",
    "\n",
    "<br>\n",
    "\n",
    "V klíči `doplneni` dostaneš string `\"\\u0141ukasz\"`, jak je to možné?\n",
    "\n",
    "Defaultně totiž funkce `dump` všechny *non-ASCII* znaky (které nenajdeš v ASCII tabulce) převede na znaky doplněné **zpětným lomítkem** (tedy `Ł` na `\\u0141`)."
   ]
  },
  {
   "cell_type": "markdown",
   "metadata": {},
   "source": [
    "### Vytvoření souboru `.json`\n",
    "\n",
    "---"
   ]
  },
  {
   "cell_type": "code",
   "execution_count": 67,
   "metadata": {},
   "outputs": [],
   "source": [
    "json_soubor = open(\n",
    "    \"../onsite/l11_JSON.json\",\n",
    "    mode=\"w\",\n",
    "    encoding=\"UTF-8\"\n",
    ")"
   ]
  },
  {
   "cell_type": "code",
   "execution_count": 68,
   "metadata": {},
   "outputs": [],
   "source": [
    "json.dump(chuckuv_slovnik, json_soubor)"
   ]
  },
  {
   "cell_type": "code",
   "execution_count": 69,
   "metadata": {},
   "outputs": [],
   "source": [
    "json_soubor.close()"
   ]
  },
  {
   "cell_type": "code",
   "execution_count": 70,
   "metadata": {},
   "outputs": [
    {
     "data": {
      "text/plain": [
       "True"
      ]
     },
     "execution_count": 70,
     "metadata": {},
     "output_type": "execute_result"
    }
   ],
   "source": [
    "json_soubor.closed"
   ]
  },
  {
   "cell_type": "markdown",
   "metadata": {},
   "source": [
    "#### Kontextový manažer\n",
    "\n",
    "\n",
    "---"
   ]
  },
  {
   "cell_type": "code",
   "execution_count": 71,
   "metadata": {},
   "outputs": [],
   "source": [
    "with open('../onsite/l11_atributy.json',\n",
    "          mode='w',\n",
    "          encoding='utf-8') as json_soubor:\n",
    "    json.dump(chuckuv_slovnik, json_soubor)"
   ]
  },
  {
   "cell_type": "code",
   "execution_count": 72,
   "metadata": {},
   "outputs": [
    {
     "data": {
      "text/plain": [
       "True"
      ]
     },
     "execution_count": 72,
     "metadata": {},
     "output_type": "execute_result"
    }
   ],
   "source": [
    "json_soubor.closed"
   ]
  },
  {
   "cell_type": "markdown",
   "metadata": {},
   "source": [
    "##### Doplňující argumenty:\n",
    "1. `indent=4` - odsadí zapsaný `json` o 4 mezery\n",
    "2. `sort_keys` - seřadí klíče (`True`/`False`)\n",
    "3. `ensure_ascii` - `False` zapíše původní znak, `True` zapíše reprezentaci znaku pomocí lomítek."
   ]
  },
  {
   "cell_type": "markdown",
   "metadata": {},
   "source": [
    "<br>\n",
    "\n",
    "### Jak zapíšeme správně naformátovaný JSON string?\n",
    "\n",
    "---"
   ]
  },
  {
   "cell_type": "code",
   "execution_count": 73,
   "metadata": {},
   "outputs": [],
   "source": [
    "data = json.dumps(chuckuv_slovnik,  # Dle pořadí\n",
    "                  ensure_ascii=False,\n",
    "                  sort_keys=True,\n",
    "                  indent=4)"
   ]
  },
  {
   "cell_type": "code",
   "execution_count": 74,
   "metadata": {},
   "outputs": [
    {
     "name": "stdout",
     "output_type": "stream",
     "text": [
      "{\n",
      "    \"doplneni\": \"Łukasz\",\n",
      "    \"jmeno\": \"Chuck Norris\",\n",
      "    \"kliky\": \"vsechny\",\n",
      "    \"konkurence\": false,\n",
      "    \"neuspech\": null\n",
      "}\n"
     ]
    }
   ],
   "source": [
    "print(data)"
   ]
  },
  {
   "cell_type": "markdown",
   "metadata": {},
   "source": [
    "<br>\n",
    "\n",
    "### Jak zapíšeme správně naformátovaný JSON soubor?\n",
    "\n",
    "---"
   ]
  },
  {
   "cell_type": "code",
   "execution_count": 75,
   "metadata": {},
   "outputs": [],
   "source": [
    "with open('../onsite/lesson11_atributy_2.json',\n",
    "          mode='w',\n",
    "          newline='',\n",
    "          encoding='UTF-8') as json_soubor:\n",
    "    json.dump(chuckuv_slovnik,  # Dle pořadí\n",
    "              json_soubor,      # Dle pořadí\n",
    "              ensure_ascii=False,\n",
    "              sort_keys=True,\n",
    "              indent=4)"
   ]
  },
  {
   "cell_type": "markdown",
   "metadata": {},
   "source": [
    "### Načti existující soubor `.json`\n",
    "\n",
    "---"
   ]
  },
  {
   "cell_type": "code",
   "execution_count": 77,
   "metadata": {},
   "outputs": [],
   "source": [
    "existujici_json = open(\"../onsite/lesson11_atributy_2.json\",\n",
    "                       encoding=\"utf-8\",\n",
    "                       mode=\"r\")"
   ]
  },
  {
   "cell_type": "code",
   "execution_count": 78,
   "metadata": {},
   "outputs": [
    {
     "name": "stdout",
     "output_type": "stream",
     "text": [
      "<_io.TextIOWrapper name='../onsite/lesson11_atributy_2.json' mode='r' encoding='utf-8'>\n"
     ]
    }
   ],
   "source": [
    "print(existujici_json)"
   ]
  },
  {
   "cell_type": "code",
   "execution_count": 79,
   "metadata": {},
   "outputs": [],
   "source": [
    "obsah_json = json.load(existujici_json)"
   ]
  },
  {
   "cell_type": "code",
   "execution_count": 80,
   "metadata": {},
   "outputs": [
    {
     "name": "stdout",
     "output_type": "stream",
     "text": [
      "{'doplneni': 'Łukasz', 'jmeno': 'Chuck Norris', 'kliky': 'vsechny', 'konkurence': False, 'neuspech': None}\n"
     ]
    }
   ],
   "source": [
    "print(obsah_json)"
   ]
  },
  {
   "cell_type": "code",
   "execution_count": 81,
   "metadata": {},
   "outputs": [],
   "source": [
    "existujici_json.close()"
   ]
  },
  {
   "cell_type": "markdown",
   "metadata": {},
   "source": [
    "<br>\n",
    "\n",
    "#### Kontextový manažer\n",
    "\n",
    "---"
   ]
  },
  {
   "cell_type": "code",
   "execution_count": 82,
   "metadata": {},
   "outputs": [],
   "source": [
    "with open('../onsite/lesson11_atributy_2.json',\n",
    "          mode='r',\n",
    "          encoding='UTF-8') as existujici_json:\n",
    "    obsah_json = json.load(existujici_json)"
   ]
  },
  {
   "cell_type": "code",
   "execution_count": 83,
   "metadata": {},
   "outputs": [
    {
     "data": {
      "text/plain": [
       "True"
      ]
     },
     "execution_count": 83,
     "metadata": {},
     "output_type": "execute_result"
    }
   ],
   "source": [
    "existujici_json.closed"
   ]
  },
  {
   "cell_type": "code",
   "execution_count": 84,
   "metadata": {},
   "outputs": [
    {
     "name": "stdout",
     "output_type": "stream",
     "text": [
      "<class 'dict'>\n"
     ]
    }
   ],
   "source": [
    "print(type(obsah_json))"
   ]
  },
  {
   "cell_type": "code",
   "execution_count": 85,
   "metadata": {},
   "outputs": [
    {
     "name": "stdout",
     "output_type": "stream",
     "text": [
      "{'doplneni': 'Łukasz',\n",
      " 'jmeno': 'Chuck Norris',\n",
      " 'kliky': 'vsechny',\n",
      " 'konkurence': False,\n",
      " 'neuspech': None}\n"
     ]
    }
   ],
   "source": [
    "pprint(obsah_json)"
   ]
  },
  {
   "cell_type": "code",
   "execution_count": 86,
   "metadata": {},
   "outputs": [
    {
     "name": "stdout",
     "output_type": "stream",
     "text": [
      "vsechny\n"
     ]
    }
   ],
   "source": [
    "print(obsah_json['kliky'])"
   ]
  },
  {
   "cell_type": "markdown",
   "metadata": {},
   "source": [
    "<br>\n",
    "\n",
    "### Jak načíst data z JSON stringu na slovník v Pythonu?\n",
    "\n",
    "---"
   ]
  },
  {
   "cell_type": "markdown",
   "metadata": {},
   "source": [
    "Není možné, uchopit string tak, abych extrahoval hodnoty, pomocí jména klíče:"
   ]
  },
  {
   "cell_type": "code",
   "execution_count": 87,
   "metadata": {},
   "outputs": [
    {
     "data": {
      "text/plain": [
       "'{\\n    \"doplneni\": \"Łukasz\",\\n    \"jmeno\": \"Chuck Norris\",\\n    \"kliky\": \"vsechny\",\\n    \"konkurence\": false,\\n    \"neuspech\": null\\n}'"
      ]
     },
     "execution_count": 87,
     "metadata": {},
     "output_type": "execute_result"
    }
   ],
   "source": [
    "data"
   ]
  },
  {
   "cell_type": "code",
   "execution_count": 88,
   "metadata": {},
   "outputs": [],
   "source": [
    "nactena_data = json.loads(data)"
   ]
  },
  {
   "cell_type": "code",
   "execution_count": 89,
   "metadata": {},
   "outputs": [
    {
     "name": "stdout",
     "output_type": "stream",
     "text": [
      "{'doplneni': 'Łukasz', 'jmeno': 'Chuck Norris', 'kliky': 'vsechny', 'konkurence': False, 'neuspech': None}\n"
     ]
    }
   ],
   "source": [
    "print(nactena_data)"
   ]
  },
  {
   "cell_type": "code",
   "execution_count": 90,
   "metadata": {},
   "outputs": [
    {
     "name": "stdout",
     "output_type": "stream",
     "text": [
      "Chuck Norris\n"
     ]
    }
   ],
   "source": [
    "print(nactena_data['jmeno'])"
   ]
  },
  {
   "cell_type": "markdown",
   "metadata": {},
   "source": [
    "<br>\n",
    "\n",
    "<img src=\"https://external-content.duckduckgo.com/iu/?u=https%3A%2F%2Ftse1.mm.bing.net%2Fth%3Fid%3DOIP._kpwh7Nlbd9zz581knhxIgHaHa%26pid%3DApi&f=1&ipt=8b3537d53bff97aa8ee01b5f42a34e5740448207c5c479158e94be6a62b75cdc&ipo=images\" width=\"220\" style=\"margin-left:auto; margin-right:auto\" />"
   ]
  },
  {
   "cell_type": "markdown",
   "metadata": {},
   "source": [
    "## Spouštění skriptu s argumenty\n",
    "\n",
    "---"
   ]
  },
  {
   "cell_type": "markdown",
   "metadata": {},
   "source": [
    "Jak předávat hodnoty tvému modulu nebo skriptu?\n",
    "\n",
    "Co, když potřebuješ zadat jméno souboru, nebo jinou hodnotu?"
   ]
  },
  {
   "cell_type": "code",
   "execution_count": null,
   "metadata": {},
   "outputs": [],
   "source": [
    "def pozdrav_uzivatele(jmeno):\n",
    "    if not jmeno:\n",
    "        return None\n",
    "\n",
    "    return f'Ahoj, {jmeno}, jak se vede?'\n",
    "\n",
    "\n",
    "if __name__ == '__main__':\n",
    "    print(pozdrav_uzivatele(jmeno=input('ZADEJ JMÉNO:')))"
   ]
  },
  {
   "cell_type": "markdown",
   "metadata": {},
   "source": [
    "Funkce `input` je výborná pro různé výukové materiály a ukázky kódů.\n",
    "\n",
    "Pro skutečný skript ale není vhodná. Testování a práce s ní není jednoduchá.\n",
    "\n",
    "Zejména kvůli:\n",
    "* **nepraktickému** chování (funkce zkrátká čeká),\n",
    "* následnému **testování** (potřeba přepisovat *\"mockovat\"* funkcionalitu).\n",
    "\n",
    "Proto ji **v produkčním prostředí** prakticky nepotkáš.\n",
    "\n",
    "Jak tedy jinak předat hodnoty do souboru?"
   ]
  },
  {
   "cell_type": "markdown",
   "metadata": {},
   "source": [
    "<br>\n",
    "\n",
    "#### knihovna `sys`\n",
    "\n",
    "---\n",
    "\n",
    "Knihovna umí zajistit práci, některé systémové příkazy a systémové proměnné.\n",
    "\n",
    "<br>\n",
    "\n",
    "\n",
    "Dále umí také doplnit **spuštění tvého skriptu**:"
   ]
  },
  {
   "cell_type": "code",
   "execution_count": null,
   "metadata": {},
   "outputs": [],
   "source": [
    "import sys\n",
    "print(sys.platform)"
   ]
  },
  {
   "cell_type": "code",
   "execution_count": null,
   "metadata": {},
   "outputs": [],
   "source": [
    "import sys\n",
    "from typing import Optional\n",
    "\n",
    "\n",
    "def pozdrav_uzivatele(jmeno: str) -> Optional[str]:\n",
    "    if not jmeno:\n",
    "        return None\n",
    "\n",
    "    return f'Ahoj, {jmeno}, jak se vede?'\n",
    "\n",
    "\n",
    "if __name__ == '__main__':\n",
    "    print(sys.argv)\n",
    "    # print(pozdrav_uzivatele(jmeno=input('ZADEJ JMÉNO:')))  # Nyní nepotřebujeme"
   ]
  },
  {
   "cell_type": "markdown",
   "metadata": {},
   "source": [
    "Takový výstup je podivný.\n",
    "\n",
    "Můžeš si všimnout sekvence, která obsahuje jen nultý index. Tedy jméno spuštěního skriptu."
   ]
  },
  {
   "cell_type": "markdown",
   "metadata": {},
   "source": [
    "<br>\n",
    "\n",
    "Co se stane, pokud spuštění souboru ještě doplníš o následnou hodnotu jako:\n",
    "```bash\n",
    "python3 ../onsite/vloz_jmeno_sys.py \"a\" \"b\"\n",
    "```"
   ]
  },
  {
   "cell_type": "markdown",
   "metadata": {},
   "source": [
    "#### Demo: příkazový řádek, `python <jmeno_souboru>.py \"a\" \"b\"`"
   ]
  },
  {
   "cell_type": "markdown",
   "metadata": {},
   "source": [
    "<br>\n",
    "\n",
    "Tentokrát sekvence (`list`) obsahuje více obsazených indexů.\n",
    "\n",
    "Můžeš použít i samotné jméno:\n",
    "```bash\n",
    "python3 ../onsite/vloz_jmeno_sys.py \"Matouš\"\n",
    "```"
   ]
  },
  {
   "cell_type": "markdown",
   "metadata": {},
   "source": [
    "#### Demo: příkazový řádek, `python <jmeno_souboru>.py \"Matouš\"`"
   ]
  },
  {
   "cell_type": "markdown",
   "metadata": {},
   "source": [
    "Uprav nyní původní skript tak, aby pracoval se jménem (resp. druhým argumentem)."
   ]
  },
  {
   "cell_type": "code",
   "execution_count": null,
   "metadata": {},
   "outputs": [],
   "source": [
    "%%file ../onsite/vloz_jmeno_sys_opt.py\n",
    "\n",
    "import sys\n",
    "from typing import Optional\n",
    "\n",
    "\n",
    "def pozdrav_uzivatele(jmeno: str) -> Optional[str]:\n",
    "    if not jmeno:\n",
    "        return None\n",
    "\n",
    "    return f'Ahoj, {jmeno}, jak se vede?'\n",
    "\n",
    "\n",
    "if __name__ == '__main__':\n",
    "    try:\n",
    "        vyplnene_jmeno = sys.argv[1]\n",
    "\n",
    "    except IndexError:\n",
    "        print(\"Chybí argument se jménem\")\n",
    "    else:\n",
    "        print(pozdrav_uzivatele(jmeno=sys.argv[1]))"
   ]
  },
  {
   "cell_type": "markdown",
   "metadata": {},
   "source": [
    "<br>\n",
    "\n",
    "Tímto způsobem můžeš práci tvého skriptu ještě vylepšit.\n",
    "\n",
    "Můžeš použít samozřejmě i **více systémových argumentů**.\n",
    "\n",
    "Tam už je ale složitější sledovat pořadí."
   ]
  },
  {
   "cell_type": "code",
   "execution_count": null,
   "metadata": {},
   "outputs": [],
   "source": [
    "import sys\n",
    "\n",
    "if len(sys.argv) != 3:\n",
    "    print(\n",
    "        \"Chybné spuštění\",\n",
    "        \"Příklad: python jmeno.py 'arg1' 'arg2'\",  # Kdy zapsat který systémový argument\n",
    "        sep=\"\\n\"\n",
    "    )\n",
    "else:\n",
    "    print(\"Pokračuji\")"
   ]
  },
  {
   "cell_type": "markdown",
   "metadata": {},
   "source": [
    "<br>\n",
    "\n",
    "#### Více argumentů a pořádně\n",
    "\n",
    "---\n",
    "\n",
    "Pokud budeš potřebovat **zadat a utřídit více argumentů**, jsou vhodné další knihovny.\n",
    "\n",
    "Další varianty:\n",
    "1. Knihovny `argparse` ([dokumentace](https://docs.python.org/3/library/argparse.html?highlight=argparse#module-argparse)), *zabudovaná* knihovna,\n",
    "2. knihovna `click` ([dokumentace](https://pypi.org/project/click/)), knihovna *třetích stran*.\n",
    "\n",
    "#### **Demo: ukázka `argparse`**"
   ]
  },
  {
   "cell_type": "code",
   "execution_count": null,
   "metadata": {},
   "outputs": [],
   "source": [
    "import argparse\n",
    "\n",
    "parser = argparse.ArgumentParser()\n",
    "parser.add_argument('-n', dest='jmeno')\n",
    "parser.add_argument('-s', dest='strana', choices=['prava', 'leva'])\n",
    "\n",
    "args = parser.parse_args()\n",
    "\n",
    "print(args.jmeno, args.strana, sep=\"\\n\")"
   ]
  },
  {
   "cell_type": "markdown",
   "metadata": {},
   "source": [
    "<br>\n",
    "\n",
    "#### **Demo: ukázka `click`**"
   ]
  },
  {
   "cell_type": "code",
   "execution_count": null,
   "metadata": {},
   "outputs": [],
   "source": [
    "import click\n",
    "\n",
    "\n",
    "@click.command()\n",
    "@click.option(\"-t\", \"--token\", required=True)\n",
    "@click.argument(\"tabulky\", nargs=-1)\n",
    "def upload(token: str, tabulky) -> None:\n",
    "    if token:\n",
    "        print(f\"Získávám tabulky: {tabulky}\")\n",
    "    else:\n",
    "        print(\"Neplatný token.\")\n",
    "\n",
    "\n",
    "upload()"
   ]
  },
  {
   "cell_type": "code",
   "execution_count": null,
   "metadata": {},
   "outputs": [],
   "source": [
    "# python muj_modul.py -u 'adr1' 'adr2'\n",
    "# python muj_modul.py 'all'"
   ]
  },
  {
   "cell_type": "code",
   "execution_count": null,
   "metadata": {},
   "outputs": [],
   "source": [
    "# python muj_modul.py \"muj_soubor.json\""
   ]
  },
  {
   "cell_type": "markdown",
   "metadata": {},
   "source": [
    "<br>\n",
    "\n",
    "<img src=\"https://imgs.search.brave.com/oMISOgOJlYZeLqOg3SCQ78ELS8_-GUPHkNGsGevGUmw/rs:fit:500:0:1:0/g:ce/aHR0cHM6Ly9jZG4t/aWNvbnMtcG5nLmZy/ZWVwaWsuY29tLzI1/Ni80NzcxLzQ3NzE3/MjkucG5nP3NlbXQ9/YWlzX2h5YnJpZA\" width=\"150\">\n",
    "\n",
    "## Domácí úloha\n",
    "\n",
    "---"
   ]
  },
  {
   "cell_type": "markdown",
   "metadata": {},
   "source": [
    "Napiš *skript*, který:\n",
    "\n",
    "1. Načte soubor typu `JSON`,\n",
    "2. rozdělí obsah **podle klíčů**,\n",
    "3. zapíšeš rozdělená data do sloupečků **v CSV souboru**,\n",
    "4. (nepovinné), zadávání vstupního a výstupního jména souborů proběhne pomocí spouštěcích argumentů.\n",
    "\n",
    "Vstupní **JSON** soubor:"
   ]
  },
  {
   "cell_type": "markdown",
   "metadata": {},
   "source": [
    "```\n",
    "    {\n",
    "        \"id\": 1,\n",
    "        \"first_name\": \"Dorri\",\n",
    "        \"last_name\": \"Di Bernardo\",\n",
    "        \"email\": \"ddibernardo0@nba.com\",\n",
    "        \"gender\": \"Female\",\n",
    "        \"ip_address\": \"158.223.131.8\"\n",
    "    },\n",
    "    {\n",
    "        \"id\": 2,\n",
    "        \"first_name\": \"Nisse\",\n",
    "        \"last_name\": \"Noye\",\n",
    "        \"email\": \"nnoye1@theatlantic.com\",\n",
    "        \"gender\": \"Female\",\n",
    "        \"ip_address\": \"252.57.218.72\"\n",
    "    },\n",
    "    ...\n",
    "```"
   ]
  },
  {
   "cell_type": "markdown",
   "metadata": {},
   "source": [
    "Výstupní **CSV**:\n",
    "```\n",
    "[\"id\", \"first_name\", \"last_name\", \"email\", \"gender\", \"ip_address\"],\n",
    "[\"1\", \"Dorri\", \"Di Bernardo\", \"ddibernardo0@nba.com\", \"Female\", \"158.223.131.8\"],\n",
    "[\"2\", \"Nisse\", \"Noye\", \"nnoye1@theatlantic.com\", \"Female\", \"252.57.218.72\"],\n",
    "...\n",
    "```"
   ]
  },
  {
   "cell_type": "markdown",
   "metadata": {},
   "source": [
    "---"
   ]
  }
 ],
 "metadata": {
  "kernelspec": {
   "display_name": "Python 3 (ipykernel)",
   "language": "python",
   "name": "python3"
  },
  "language_info": {
   "codemirror_mode": {
    "name": "ipython",
    "version": 3
   },
   "file_extension": ".py",
   "mimetype": "text/x-python",
   "name": "python",
   "nbconvert_exporter": "python",
   "pygments_lexer": "ipython3",
   "version": "3.8.10"
  }
 },
 "nbformat": 4,
 "nbformat_minor": 4
}
