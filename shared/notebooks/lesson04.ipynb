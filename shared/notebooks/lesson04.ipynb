{
 "cells": [
  {
   "cell_type": "markdown",
   "metadata": {},
   "source": [
    "# Python akademie\n",
    "\n",
    "---"
   ]
  },
  {
   "cell_type": "markdown",
   "metadata": {},
   "source": [
    "<br>\n",
    "\n",
    "## Obsah lekce\n",
    "\n",
    "---"
   ]
  },
  {
   "cell_type": "markdown",
   "metadata": {},
   "source": [
    "1. [Iterační protokol](#Iterační-protokol),\n",
    "2. [for loop](#for-loop),\n",
    "3. [range](#Datový-typ-RANGE),\n",
    "4. [enumerate](#Enumerate),\n",
    "5. [zip](#Zip).\n",
    "\n",
    "---"
   ]
  },
  {
   "cell_type": "markdown",
   "metadata": {},
   "source": [
    "<br>\n",
    "\n",
    "<img src=\"https://external-content.duckduckgo.com/iu/?u=https%3A%2F%2Ftse1.mm.bing.net%2Fth%3Fid%3DOIP.yg9qTK4GbobmIc9KTC39pQHaFy%26pid%3DApi&f=1\" width=\"200\" style=\"margin-left:auto; margin-right:auto\" />"
   ]
  },
  {
   "cell_type": "markdown",
   "metadata": {},
   "source": [
    "## Iterační protokol a.k.a. cyklus\n",
    "\n",
    "---"
   ]
  },
  {
   "cell_type": "markdown",
   "metadata": {},
   "source": [
    "V některých situacích se můžeš setkat s **opakujícím se zápisem**:\n",
    "```python\n",
    "\n",
    "# Máš set..\n",
    "domena = set()\n",
    "\n",
    "# .. chceš procházet stringy s emaily..\n",
    "email_1 = \"m.vybiralova@firma.cz\"\n",
    "email_2 = \"m.vybiralova@email.cz\"\n",
    "email_3 = \"m.vybiralova@dobradomena.cz\"\n",
    "email_4 = \"marie@vybiralova.cz\"\n",
    "email_5 = \"marie.vybiralova@gmail.com\"\n",
    "\n",
    "# ..a do původního setu ukládat pouze jména domén.\n",
    "domena = set(\n",
    "    (\n",
    "        email_1.split(\"@\")[1].split(\".\")[0],\n",
    "        email_2.split(\"@\")[1].split(\".\")[0],\n",
    "        email_3.split(\"@\")[1].split(\".\")[0],\n",
    "        email_4.split(\"@\")[1].split(\".\")[0],\n",
    "        email_5.split(\"@\")[1].split(\".\")[0]\n",
    "    )\n",
    ")\n",
    "```"
   ]
  },
  {
   "cell_type": "markdown",
   "metadata": {},
   "source": [
    "Ten nutně nemusí znamenat **chybný** nebo **nelogický zápis**, ale pokud chceš provádět podobný postup 10x, 100x, 1000x, už může být nereálný na zapsání.\n",
    "```python\n",
    "domeny = list()\n",
    "\n",
    "# pro každý email v listu emailu\n",
    "# .. vyber email,\n",
    "# .. označ pouze doménu,\n",
    "# .. ulož ji do setu.\n",
    "\n",
    "```"
   ]
  },
  {
   "cell_type": "markdown",
   "metadata": {},
   "source": [
    "<br>\n",
    "\n",
    "Pro periodické opakování ohlášení existují tzv. *iterační protokoly* (příp.  označovány jako smyčky, cykly, loopy).\n",
    "\n",
    "Ty umožní zápis **zkrátit, automatizovat** a **současně udělat přehlednější**.\n",
    "\n",
    "<br>\n",
    "\n",
    "V rámci Pythonu se budeme bavit o **dvou základních typech smyček**:\n",
    "1. smyčka `for`,\n",
    "2. smyčka `while`.\n",
    "\n",
    "\n",
    "<br>"
   ]
  },
  {
   "cell_type": "markdown",
   "metadata": {},
   "source": [
    "<img src=\"https://external-content.duckduckgo.com/iu/?u=https%3A%2F%2Ftse2.mm.bing.net%2Fth%3Fid%3DOIP.XOkl2fR4SKcajGnAi6KoZQHaDt%26pid%3DApi&f=1\" width=\"400\" style=\"margin-left:auto; margin-right:auto\" />"
   ]
  },
  {
   "cell_type": "markdown",
   "metadata": {},
   "source": [
    "## For loop <a class=\"anchor\" id=\"for-loop\"></a>\n",
    "\n",
    "---\n",
    "\n",
    "*For cyklus* je v jednoduchosti proces, který ti umožní projít tebou zadaný objekt **od prvního údaje** až **do posledního**."
   ]
  },
  {
   "cell_type": "markdown",
   "metadata": {},
   "source": [
    "<br>\n",
    "\n",
    "### Obecně\n",
    "\n",
    "---"
   ]
  },
  {
   "cell_type": "code",
   "execution_count": 4,
   "metadata": {},
   "outputs": [
    {
     "name": "stdout",
     "output_type": "stream",
     "text": [
      "a\n",
      "b\n",
      "c\n",
      "d\n",
      "e\n"
     ]
    }
   ],
   "source": [
    "for pismeno in ['a', 'b', 'c', 'd', 'e']:  # StopIteration\n",
    "    print(pismeno)"
   ]
  },
  {
   "cell_type": "code",
   "execution_count": 5,
   "metadata": {},
   "outputs": [],
   "source": [
    "iterator = iter(['a', 'b', 'c', 'd', 'e'])"
   ]
  },
  {
   "cell_type": "code",
   "execution_count": 6,
   "metadata": {},
   "outputs": [
    {
     "name": "stdout",
     "output_type": "stream",
     "text": [
      "<list_iterator object at 0x7f30ec47ed30>\n"
     ]
    }
   ],
   "source": [
    "print(iterator)"
   ]
  },
  {
   "cell_type": "code",
   "execution_count": 12,
   "metadata": {},
   "outputs": [
    {
     "ename": "StopIteration",
     "evalue": "",
     "output_type": "error",
     "traceback": [
      "\u001b[0;31m---------------------------------------------------------------------------\u001b[0m",
      "\u001b[0;31mStopIteration\u001b[0m                             Traceback (most recent call last)",
      "Cell \u001b[0;32mIn[12], line 1\u001b[0m\n\u001b[0;32m----> 1\u001b[0m \u001b[38;5;28;43mnext\u001b[39;49m\u001b[43m(\u001b[49m\u001b[43miterator\u001b[49m\u001b[43m)\u001b[49m\n",
      "\u001b[0;31mStopIteration\u001b[0m: "
     ]
    }
   ],
   "source": [
    "next(iterator)"
   ]
  },
  {
   "cell_type": "markdown",
   "metadata": {},
   "source": [
    "1. `for` je **klíčkový výraz** v zahlaví (zápisu) cyklu,\n",
    "2. `pismeno` je **proměnná vytvořená v cyklu**,jejíž obsah se v každém kroku cyklu přepíše,\n",
    "3. `in` **klíčový výraz** ukazující zdroj objektů pro dočasnou proměnnou,\n",
    "4. `\"Matous\"` je tzv. *iterovatelný objekt*, tedy proměnná, kterou můžeme procházet (třeba `str`, `list`, `set`, `dict`),\n",
    "5. `:` řádek s předpisem musí být **zakončený dvojtečkou**,\n",
    "6. `print(pismeno)` následují **odsazené instrukce**, které se budou opakovat v každém kroku."
   ]
  },
  {
   "cell_type": "markdown",
   "metadata": {},
   "source": [
    "### Co všechno můžeš iterovat\n",
    "\n",
    "---"
   ]
  },
  {
   "cell_type": "markdown",
   "metadata": {},
   "source": [
    "##### Sety"
   ]
  },
  {
   "cell_type": "code",
   "execution_count": 13,
   "metadata": {},
   "outputs": [
    {
     "name": "stdout",
     "output_type": "stream",
     "text": [
      "Matouš\n",
      "Marek\n",
      "Lukáš\n"
     ]
    }
   ],
   "source": [
    "for jmeno in {\"Matouš\", \"Marek\", \"Lukáš\"}:\n",
    "    print(jmeno)"
   ]
  },
  {
   "cell_type": "markdown",
   "metadata": {},
   "source": [
    "##### Tuple"
   ]
  },
  {
   "cell_type": "code",
   "execution_count": 14,
   "metadata": {},
   "outputs": [
    {
     "name": "stdout",
     "output_type": "stream",
     "text": [
      "Matouš\n",
      "Marek\n",
      "Lukáš\n"
     ]
    }
   ],
   "source": [
    "for jmeno in (\"Matouš\", \"Marek\", \"Lukáš\"):\n",
    "    print(jmeno)"
   ]
  },
  {
   "cell_type": "markdown",
   "metadata": {},
   "source": [
    "##### List"
   ]
  },
  {
   "cell_type": "code",
   "execution_count": 15,
   "metadata": {},
   "outputs": [
    {
     "name": "stdout",
     "output_type": "stream",
     "text": [
      "Matouš\n",
      "Marek\n",
      "Lukáš\n"
     ]
    }
   ],
   "source": [
    "for jmeno in [\"Matouš\", \"Marek\", \"Lukáš\"]:\n",
    "    print(jmeno)"
   ]
  },
  {
   "cell_type": "markdown",
   "metadata": {},
   "source": [
    "##### Dictionaries"
   ]
  },
  {
   "cell_type": "code",
   "execution_count": 19,
   "metadata": {},
   "outputs": [
    {
     "name": "stdout",
     "output_type": "stream",
     "text": [
      "Matous\n",
      "Holinka\n",
      "matous@holinka.com\n"
     ]
    }
   ],
   "source": [
    "for par_hodnot in {\n",
    "    \"jmeno\": \"Matous\",\n",
    "    \"prijmeni\": \"Holinka\",\n",
    "    \"email\": \"matous@holinka.com\"\n",
    "}.values():\n",
    "    print(par_hodnot)"
   ]
  },
  {
   "cell_type": "markdown",
   "metadata": {},
   "source": [
    "##### Integers"
   ]
  },
  {
   "cell_type": "code",
   "execution_count": 22,
   "metadata": {},
   "outputs": [
    {
     "ename": "TypeError",
     "evalue": "'int' object is not iterable",
     "output_type": "error",
     "traceback": [
      "\u001b[0;31m---------------------------------------------------------------------------\u001b[0m",
      "\u001b[0;31mTypeError\u001b[0m                                 Traceback (most recent call last)",
      "Cell \u001b[0;32mIn[22], line 1\u001b[0m\n\u001b[0;32m----> 1\u001b[0m \u001b[38;5;28;01mfor\u001b[39;00m cislo \u001b[38;5;129;01min\u001b[39;00m \u001b[38;5;241m12345\u001b[39m:\n\u001b[1;32m      2\u001b[0m     \u001b[38;5;28mprint\u001b[39m(cislo)\n",
      "\u001b[0;31mTypeError\u001b[0m: 'int' object is not iterable"
     ]
    }
   ],
   "source": [
    "for cislo in 12345:\n",
    "    print(cislo)"
   ]
  },
  {
   "cell_type": "markdown",
   "metadata": {},
   "source": [
    "<br>\n",
    "\n",
    "Obecný cyklus *for* se dá různě upravovat.\n",
    "\n",
    "Jednou z možností a častých kombinací je doplnit cyklus **podmínkovým zápisem**.\n",
    "\n",
    "<br>"
   ]
  },
  {
   "cell_type": "markdown",
   "metadata": {},
   "source": [
    "### S proměnnou a podmínkou\n",
    "\n",
    "---\n",
    "Cyklus lze kombinovat s objekty, které jsou ti již dobře známé. Tedy *proměnné* a *podmínkové zápisy*:"
   ]
  },
  {
   "cell_type": "code",
   "execution_count": 23,
   "metadata": {},
   "outputs": [],
   "source": [
    "pismena = [\"a\", \"b\", \"c\", \"d\", \"e\", \"f\", \"g\", \"h\", \"i\"]"
   ]
  },
  {
   "cell_type": "code",
   "execution_count": 24,
   "metadata": {},
   "outputs": [
    {
     "name": "stdout",
     "output_type": "stream",
     "text": [
      "Nemam 'g', ale a\n",
      "Nemam 'g', ale b\n",
      "Nemam 'g', ale c\n",
      "Nemam 'g', ale d\n",
      "Nemam 'g', ale e\n",
      "Nemam 'g', ale f\n",
      "*Mam hodnotu ->* g\n",
      "Nemam 'g', ale h\n",
      "Nemam 'g', ale i\n"
     ]
    }
   ],
   "source": [
    "for pismeno in pismena:\n",
    "    if pismeno == \"g\":  # \"a\" --> False\n",
    "        print(\"*Mam hodnotu ->*\", pismeno)\n",
    "    else:\n",
    "        print(\"Nemam 'g', ale\", pismeno)"
   ]
  },
  {
   "cell_type": "markdown",
   "metadata": {},
   "source": [
    "<br>\n",
    "\n",
    "### 🧠 CVIČENÍ 🧠, Vyzkoušej si práci s `for` smyčkou a podmínkovým zápisem:"
   ]
  },
  {
   "cell_type": "markdown",
   "metadata": {},
   "source": [
    "1. Procházej hodnoty pro zadaný `tuple` se jménem `cisla`,\n",
    "2. .. pokud je hodnota **dělitelná třemi**, vypiš `\"Fizz\"`,\n",
    "3. .. pokud je hodnota **dělitelná pěti**, vypiš `\"Buzz\"`,\n",
    "4. .. pokud je hodnota **dělitelná třemi a současně pěti**, vypiš `\"FizzBuzz\"`,\n",
    "5. .. pokud nebude platit ani jedna z předchozích podmínek, vypiš hodnotu samotnou."
   ]
  },
  {
   "cell_type": "code",
   "execution_count": null,
   "metadata": {},
   "outputs": [],
   "source": [
    "cisla = (1, 2, 3, 4, 5, 6, 7, 8, 9, 10, 11, 12, 13, 14, 15)"
   ]
  },
  {
   "cell_type": "markdown",
   "metadata": {},
   "source": [
    "<details>\n",
    "  <summary>▶️  Klikni zde pro zobrazení řešení</summary>\n",
    "   \n",
    "```python\n",
    "cisla = (1, 2, 3, 4, 5, 6, 7, 8, 9, 10, 11, 12, 13, 14, 15)\n",
    "\n",
    "for cislo in cisla:\n",
    "    if cislo % 3 == 0 and cislo % 5 == 0:\n",
    "        print(\"FizzBuzz\")\n",
    "    elif cislo % 3 == 0:\n",
    "        print(\"Fizz\")\n",
    "    elif cislo % 5 == 0:\n",
    "        print(\"Buzz\")\n",
    "    else:\n",
    "        print(cislo)\n",
    "```\n",
    "</details>"
   ]
  },
  {
   "cell_type": "markdown",
   "metadata": {},
   "source": [
    "<br>\n",
    "\n",
    "### For/else\n",
    "\n",
    "---\n",
    "\n",
    "Jde o **speciální syntaxi**, kde na ohlášení smyčky doplníš větev `else`, která má svoje využití:"
   ]
  },
  {
   "cell_type": "code",
   "execution_count": 31,
   "metadata": {},
   "outputs": [],
   "source": [
    "pismena = (\"a\", \"b\", \"c\", \"d\", \"e\", \"f\", \"g\", \"h\", \"i\", \"x\")"
   ]
  },
  {
   "cell_type": "code",
   "execution_count": 32,
   "metadata": {},
   "outputs": [
    {
     "name": "stdout",
     "output_type": "stream",
     "text": [
      "Nemam 'x', ale a\n",
      "Nemam 'x', ale b\n",
      "Nemam 'x', ale c\n",
      "Nemam 'x', ale d\n",
      "Nemam 'x', ale e\n",
      "Nemam 'x', ale f\n",
      "Nemam 'x', ale g\n",
      "Nemam 'x', ale h\n",
      "Nemam 'x', ale i\n",
      "*Mam hodnotu ->* x\n",
      "-----------------------------\n",
      "Hledane pismeno neni v listu!\n",
      "-----------------------------\n"
     ]
    }
   ],
   "source": [
    "for pismeno in pismena:\n",
    "    if pismeno == \"x\":\n",
    "        print(\"*Mam hodnotu ->*\", pismeno)\n",
    "    else:\n",
    "        print(\"Nemam 'x', ale\", pismeno)\n",
    "\n",
    "else:  # je možné napsat klasickou větev s \"if\"\n",
    "    print(\"-\" * 29, \"Hledane pismeno neni v listu!\", \"-\" * 29, sep=\"\\n\")"
   ]
  },
  {
   "cell_type": "markdown",
   "metadata": {},
   "source": [
    "*poznámka*. Pomocný `else` se přidává k cyklu `for`, pokud chceme nějaký proces provést **až po úspěšném skončení celého cyklu**.\n",
    "\n",
    "<br>\n",
    "\n",
    "### For loop s doplňujícím ohlášením\n",
    "\n",
    "---\n",
    "\n",
    "Cykly můžeš doplnit **ohlášeními**, obzvlášť pokud potřebujeme **přeskočit**/**pokračovat** v  průběhu cyklu.\n",
    "\n",
    "<br>\n",
    "\n",
    "| Ohlášení | Použití |\n",
    "|:-:|:-|\n",
    "|`break` | **přeskočí** zbytek smyčky (vč. else větve) a pokračuje kódem pod ní |\n",
    "|`continue` | \t**vrací se** k definici smyčky |\n",
    "|`pass` | \ttzv. *placeholder*, zabrání potenciální výjimce |\n",
    "\n",
    "<br>\n",
    "\n",
    "### Ohlášení BREAK"
   ]
  },
  {
   "cell_type": "markdown",
   "metadata": {},
   "source": [
    "#### Obyčejný for loop\n",
    "\n",
    "---"
   ]
  },
  {
   "cell_type": "code",
   "execution_count": 33,
   "metadata": {},
   "outputs": [
    {
     "name": "stdout",
     "output_type": "stream",
     "text": [
      "M\n",
      "a\n",
      "t\n",
      "o\n",
      "u\n",
      "s\n"
     ]
    }
   ],
   "source": [
    "for pismeno in \"Matous\":\n",
    "    print(pismeno)"
   ]
  },
  {
   "cell_type": "markdown",
   "metadata": {},
   "source": [
    "<br>\n",
    "\n",
    "#### For loop a ohlášení break\n",
    "\n",
    "---"
   ]
  },
  {
   "cell_type": "code",
   "execution_count": 34,
   "metadata": {},
   "outputs": [
    {
     "name": "stdout",
     "output_type": "stream",
     "text": [
      "M\n"
     ]
    }
   ],
   "source": [
    "for pismeno in \"Matous\":\n",
    "    print(pismeno)\n",
    "    break  # break == stop!"
   ]
  },
  {
   "cell_type": "markdown",
   "metadata": {},
   "source": [
    "<br>\n",
    "\n",
    "#### For/else bez ohlášení break\n",
    "\n",
    "---"
   ]
  },
  {
   "cell_type": "code",
   "execution_count": null,
   "metadata": {},
   "outputs": [],
   "source": [
    "for pismeno in \"Matous\":\n",
    "    print(pismeno)\n",
    "else:\n",
    "    print(\"-\" * 29, \"Konec smycky!\", \"-\" * 29, sep=\"\\n\")"
   ]
  },
  {
   "cell_type": "markdown",
   "metadata": {},
   "source": [
    "<br>\n",
    "\n",
    "#### For/else s ohlášením break\n",
    "\n",
    "---"
   ]
  },
  {
   "cell_type": "code",
   "execution_count": null,
   "metadata": {},
   "outputs": [],
   "source": [
    "for pismeno in \"Matous\":\n",
    "    print(pismeno)\n",
    "    break\n",
    "else:\n",
    "    print(\"-\" * 29, \"Konec smycky!\", \"-\" * 29, sep=\"\\n\")"
   ]
  },
  {
   "cell_type": "markdown",
   "metadata": {},
   "source": [
    "<br>\n",
    "\n",
    "#### For loop s ohlášením break bez else\n",
    "\n",
    "---"
   ]
  },
  {
   "cell_type": "code",
   "execution_count": null,
   "metadata": {},
   "outputs": [],
   "source": [
    "for pismeno in \"Matous\":\n",
    "    print(pismeno)\n",
    "    break\n",
    "\n",
    "print(\"-\" * 29, \"Konec smycky!\", \"-\" * 29, sep=\"\\n\")"
   ]
  },
  {
   "cell_type": "markdown",
   "metadata": {},
   "source": [
    "<br>\n",
    "\n",
    "#### For/else s ohlášením break a doplňujícím ohlášením pod cyklem\n",
    "\n",
    "---"
   ]
  },
  {
   "cell_type": "code",
   "execution_count": 40,
   "metadata": {},
   "outputs": [],
   "source": [
    "pismena = [\"a\", \"b\", \"c\", \"d\", \"x\", \"e\", \"f\", \"g\", \"h\"]"
   ]
  },
  {
   "cell_type": "code",
   "execution_count": 41,
   "metadata": {},
   "outputs": [
    {
     "name": "stdout",
     "output_type": "stream",
     "text": [
      "Nemam 'x', ale a\n",
      "Nemam 'x', ale b\n",
      "Nemam 'x', ale c\n",
      "Nemam 'x', ale d\n",
      "*Mam hodnotu ->* x\n"
     ]
    }
   ],
   "source": [
    "for pismeno in pismena:\n",
    "    \n",
    "    if pismeno == \"x\":\n",
    "        print(\"*Mam hodnotu ->*\", pismeno)\n",
    "        break\n",
    "    else:\n",
    "        print(\"Nemam 'x', ale\", pismeno)\n",
    "\n",
    "else:  # je možné napsat klasickou větev s \"if\"\n",
    "    print(\"-\" * 29, \"Hledane pismeno neni v listu!\", \"-\" * 29, sep=\"\\n\")"
   ]
  },
  {
   "cell_type": "markdown",
   "metadata": {},
   "source": [
    "<br>\n",
    "\n",
    "### Ohlášení CONTINUE\n",
    "\n",
    "---"
   ]
  },
  {
   "cell_type": "markdown",
   "metadata": {},
   "source": [
    "#### Obyčejný for loop\n",
    "\n",
    "---"
   ]
  },
  {
   "cell_type": "code",
   "execution_count": 42,
   "metadata": {},
   "outputs": [
    {
     "name": "stdout",
     "output_type": "stream",
     "text": [
      "M\n",
      "a\n",
      "t\n",
      "o\n",
      "u\n",
      "s\n"
     ]
    }
   ],
   "source": [
    "for pismeno in \"Matous\":\n",
    "    print(pismeno)"
   ]
  },
  {
   "cell_type": "markdown",
   "metadata": {},
   "source": [
    "<br>\n",
    "\n",
    "#### For loop a ohlášení continue\n",
    "\n",
    "---"
   ]
  },
  {
   "cell_type": "code",
   "execution_count": 43,
   "metadata": {},
   "outputs": [
    {
     "name": "stdout",
     "output_type": "stream",
     "text": [
      "M\n",
      "a\n",
      "t\n",
      "o\n",
      "u\n",
      "s\n"
     ]
    }
   ],
   "source": [
    "for pismeno in \"Matous\":\n",
    "    print(pismeno)\n",
    "    continue"
   ]
  },
  {
   "cell_type": "markdown",
   "metadata": {},
   "source": [
    "<br>\n",
    "\n",
    "#### For/else a ohlášení continue\n",
    "\n",
    "---"
   ]
  },
  {
   "cell_type": "code",
   "execution_count": 44,
   "metadata": {},
   "outputs": [
    {
     "name": "stdout",
     "output_type": "stream",
     "text": [
      "M\n",
      "a\n",
      "t\n",
      "o\n",
      "u\n",
      "s\n",
      "-----------------------------\n",
      "Konec smycky!\n",
      "-----------------------------\n"
     ]
    }
   ],
   "source": [
    "for pismeno in \"Matous\":\n",
    "    print(pismeno)\n",
    "    continue\n",
    "\n",
    "else:\n",
    "    print(\"-\" * 29, \"Konec smycky!\", \"-\" * 29, sep=\"\\n\")"
   ]
  },
  {
   "cell_type": "markdown",
   "metadata": {},
   "source": [
    "<br>\n",
    "\n",
    "#### For loop, podmínka a ohlášení continue\n",
    "\n",
    "---"
   ]
  },
  {
   "cell_type": "code",
   "execution_count": 45,
   "metadata": {},
   "outputs": [],
   "source": [
    "pismena = [\"a\", \"b\", \"c\", \"d\", \"e\", \"f\", \"g\", \"h\"]"
   ]
  },
  {
   "cell_type": "code",
   "execution_count": 48,
   "metadata": {
    "scrolled": true
   },
   "outputs": [
    {
     "name": "stdout",
     "output_type": "stream",
     "text": [
      "Hodnota je dulezita: e\n",
      "Hodnota je dulezita: f\n",
      "Hodnota je dulezita: g\n",
      "Hodnota je dulezita: h\n"
     ]
    }
   ],
   "source": [
    "for pismeno in pismena:\n",
    "    if pismeno in {\"a\", \"b\", \"c\", \"d\"}:\n",
    "        continue\n",
    "\n",
    "    print(\"Hodnota je dulezita:\", pismeno)"
   ]
  },
  {
   "cell_type": "markdown",
   "metadata": {},
   "source": [
    "<br>\n",
    "\n",
    "### Ohlášení PASS\n",
    "\n",
    "---\n",
    "\n",
    "Doplňující ohlášení, které slouží jako `placeholder` pro zápis, který ještě není kompletní a současně nezpůsobí výjimku."
   ]
  },
  {
   "cell_type": "markdown",
   "metadata": {},
   "source": [
    "<br>\n",
    "\n",
    "#### For loop, bez ohlášení pass\n",
    "\n",
    "---"
   ]
  },
  {
   "cell_type": "code",
   "execution_count": 54,
   "metadata": {},
   "outputs": [
    {
     "ename": "SyntaxError",
     "evalue": "unexpected EOF while parsing (2571020138.py, line 2)",
     "output_type": "error",
     "traceback": [
      "\u001b[0;36m  Cell \u001b[0;32mIn[54], line 2\u001b[0;36m\u001b[0m\n\u001b[0;31m    # budu iterovat skrze promennou: str\u001b[0m\n\u001b[0m                                        ^\u001b[0m\n\u001b[0;31mSyntaxError\u001b[0m\u001b[0;31m:\u001b[0m unexpected EOF while parsing\n"
     ]
    }
   ],
   "source": [
    "for pismeno in \"Matous\":\n",
    "    # budu iterovat skrze promennou: str"
   ]
  },
  {
   "cell_type": "markdown",
   "metadata": {},
   "source": [
    "<br>\n",
    "\n",
    "#### For loop, s ohlášením pass\n",
    "\n",
    "---"
   ]
  },
  {
   "cell_type": "code",
   "execution_count": 55,
   "metadata": {},
   "outputs": [],
   "source": [
    "for pismeno in \"Matous\":\n",
    "    # budu iterovat skrze promennou: str\n",
    "    pass"
   ]
  },
  {
   "cell_type": "markdown",
   "metadata": {},
   "source": [
    "<br>\n",
    "\n",
    "\n",
    "#### For loop, doplněná budoucí ohlášení\n",
    "\n",
    "---"
   ]
  },
  {
   "cell_type": "code",
   "execution_count": 56,
   "metadata": {},
   "outputs": [
    {
     "name": "stdout",
     "output_type": "stream",
     "text": [
      "M\n",
      "a\n",
      "t\n",
      "o\n",
      "u\n",
      "s\n"
     ]
    }
   ],
   "source": [
    "for pismeno in \"Matous\":\n",
    "    print(pismeno)\n",
    "#     pass"
   ]
  },
  {
   "cell_type": "markdown",
   "metadata": {},
   "source": [
    "<br>\n",
    "\n",
    "### 🧠 CVIČENÍ 🧠, Vyzkoušej si práci s nestovanou smyčkou:"
   ]
  },
  {
   "cell_type": "markdown",
   "metadata": {},
   "source": [
    "1. Procházej hodnoty pro zadaný dvoudimenzionální `list` se jménem `obsah`,\n",
    "2. .. nejprve procházej **samotné řádky**,\n",
    "3. .. následně procházej **buňku po buňce**."
   ]
  },
  {
   "cell_type": "code",
   "execution_count": 57,
   "metadata": {},
   "outputs": [],
   "source": [
    "obsah = [\n",
    "    ['jmeno;prijmeni;email;projekt'],\n",
    "    ['Matous;Holinka;m.holinka@firma.cz;hr'],\n",
    "    ['Petr;Svetr;p.svetr@firma.cz;devops']\n",
    "]"
   ]
  },
  {
   "cell_type": "code",
   "execution_count": 69,
   "metadata": {},
   "outputs": [
    {
     "name": "stdout",
     "output_type": "stream",
     "text": [
      "['jmeno', 'prijmeni', 'email', 'projekt']\n"
     ]
    }
   ],
   "source": [
    "print(obsah[0][0].split(\";\"))"
   ]
  },
  {
   "cell_type": "markdown",
   "metadata": {},
   "source": [
    "<details>\n",
    "  <summary>▶️  Klikni zde pro zobrazení řešení</summary>\n",
    "   \n",
    "```python\n",
    "obsah = [\n",
    "    ['jmeno;prijmeni;email;projekt'],\n",
    "    ['Matous;Holinka;m.holinka@firma.cz;hr'],\n",
    "    ['Petr;Svetr;p.svetr@firma.cz;devops']\n",
    "]\n",
    "\n",
    "for radek in obsah:\n",
    "    print(radek)\n",
    "\n",
    "    for bunka in radek[0].split(\";\"):\n",
    "        print(bunka)\n",
    "```\n",
    "</details>"
   ]
  },
  {
   "cell_type": "markdown",
   "metadata": {},
   "source": [
    "<br>\n",
    "\n",
    "\n",
    "<img src=\"https://external-content.duckduckgo.com/iu/?u=https%3A%2F%2Ftse3.mm.bing.net%2Fth%3Fid%3DOIP.fNwmtWM7vEaO1gxjCKwMOwHaHa%26pid%3DApi&f=1\" width=\"200\" style=\"margin-left:auto; margin-right:auto\" />\n",
    "\n",
    "## Datový typ RANGE\n",
    "\n",
    "---\n",
    "\n",
    "\n",
    "Jde o *built-in* funkci, která nám vytvoří datový typ `range`. Tento typ v podstatě odpovídá tomu, co si představíme pod slovem **interval** nebo **rozsah**:"
   ]
  },
  {
   "cell_type": "code",
   "execution_count": 70,
   "metadata": {},
   "outputs": [
    {
     "name": "stdout",
     "output_type": "stream",
     "text": [
      "range(0, 11)\n"
     ]
    }
   ],
   "source": [
    "print(range(11))"
   ]
  },
  {
   "cell_type": "code",
   "execution_count": 76,
   "metadata": {},
   "outputs": [
    {
     "name": "stdout",
     "output_type": "stream",
     "text": [
      "1\n"
     ]
    }
   ],
   "source": [
    "print(range(11)[1])"
   ]
  },
  {
   "cell_type": "code",
   "execution_count": 77,
   "metadata": {},
   "outputs": [
    {
     "name": "stdout",
     "output_type": "stream",
     "text": [
      "<class 'range'>\n"
     ]
    }
   ],
   "source": [
    "print(type(range(11)))"
   ]
  },
  {
   "cell_type": "code",
   "execution_count": 78,
   "metadata": {},
   "outputs": [
    {
     "name": "stdout",
     "output_type": "stream",
     "text": [
      "(0, 1, 2, 3, 4, 5, 6, 7, 8, 9, 10)\n"
     ]
    }
   ],
   "source": [
    "print(tuple(range(11)))"
   ]
  },
  {
   "cell_type": "code",
   "execution_count": 80,
   "metadata": {},
   "outputs": [
    {
     "name": "stdout",
     "output_type": "stream",
     "text": [
      "0\n",
      "1\n",
      "2\n",
      "3\n",
      "4\n",
      "5\n",
      "6\n",
      "7\n",
      "8\n",
      "9\n",
      "10\n"
     ]
    }
   ],
   "source": [
    "for cislo in range(11):\n",
    "    print(cislo)"
   ]
  },
  {
   "cell_type": "markdown",
   "metadata": {},
   "source": [
    "### Vytvoření RANGE\n",
    "\n",
    "---\n",
    "\n",
    "| Počet argumentů |\tVýznam |\n",
    "|:-:|:-|\n",
    "| **1** | \tHodnota stop. Začíná defaultně od 0 (končí o jednu hodnotu dříve než stop)\n",
    "| **2** | \tHodnoty start a stop |\n",
    "| **3** | \tHodnoty start, stop a step (tedy krok) |"
   ]
  },
  {
   "cell_type": "code",
   "execution_count": 81,
   "metadata": {},
   "outputs": [
    {
     "name": "stdout",
     "output_type": "stream",
     "text": [
      "range(0, 11)\n"
     ]
    }
   ],
   "source": [
    "print(range(11))"
   ]
  },
  {
   "cell_type": "code",
   "execution_count": 82,
   "metadata": {},
   "outputs": [
    {
     "name": "stdout",
     "output_type": "stream",
     "text": [
      "(0, 1, 2, 3, 4, 5, 6, 7, 8, 9, 10)\n"
     ]
    }
   ],
   "source": [
    "print(tuple(range(11)))"
   ]
  },
  {
   "cell_type": "code",
   "execution_count": 83,
   "metadata": {},
   "outputs": [
    {
     "name": "stdout",
     "output_type": "stream",
     "text": [
      "(5, 6, 7, 8, 9, 10)\n"
     ]
    }
   ],
   "source": [
    "print(tuple(range(5, 11)))"
   ]
  },
  {
   "cell_type": "code",
   "execution_count": 84,
   "metadata": {},
   "outputs": [
    {
     "name": "stdout",
     "output_type": "stream",
     "text": [
      "(0, 2, 4, 6, 8, 10)\n"
     ]
    }
   ],
   "source": [
    "print(tuple(range(0, 11, 2)))"
   ]
  },
  {
   "cell_type": "code",
   "execution_count": 86,
   "metadata": {},
   "outputs": [
    {
     "name": "stdout",
     "output_type": "stream",
     "text": [
      "(10, 9, 8, 7, 6, 5, 4, 3, 2, 1)\n"
     ]
    }
   ],
   "source": [
    "print(tuple(range(10, 0, -1)))"
   ]
  },
  {
   "cell_type": "code",
   "execution_count": 87,
   "metadata": {},
   "outputs": [
    {
     "name": "stdout",
     "output_type": "stream",
     "text": [
      "()\n"
     ]
    }
   ],
   "source": [
    "print(tuple(range(0, 10, -1)))"
   ]
  },
  {
   "cell_type": "markdown",
   "metadata": {},
   "source": [
    "*poznámka*. datový typ `range` pracuje pouze **s celými čísly**."
   ]
  },
  {
   "cell_type": "code",
   "execution_count": 88,
   "metadata": {},
   "outputs": [
    {
     "ename": "TypeError",
     "evalue": "'float' object cannot be interpreted as an integer",
     "output_type": "error",
     "traceback": [
      "\u001b[0;31m---------------------------------------------------------------------------\u001b[0m",
      "\u001b[0;31mTypeError\u001b[0m                                 Traceback (most recent call last)",
      "Cell \u001b[0;32mIn[88], line 1\u001b[0m\n\u001b[0;32m----> 1\u001b[0m \u001b[38;5;28mprint\u001b[39m(\u001b[38;5;28mtuple\u001b[39m(\u001b[38;5;28;43mrange\u001b[39;49m\u001b[43m(\u001b[49m\u001b[38;5;241;43m1.1\u001b[39;49m\u001b[43m,\u001b[49m\u001b[43m \u001b[49m\u001b[38;5;241;43m2.1\u001b[39;49m\u001b[43m)\u001b[49m))\n",
      "\u001b[0;31mTypeError\u001b[0m: 'float' object cannot be interpreted as an integer"
     ]
    }
   ],
   "source": [
    "print(tuple(range(1.1, 2.1)))"
   ]
  },
  {
   "cell_type": "code",
   "execution_count": 98,
   "metadata": {},
   "outputs": [
    {
     "name": "stdout",
     "output_type": "stream",
     "text": [
      "<class 'float'>\n"
     ]
    }
   ],
   "source": [
    "for cislo in range(3):\n",
    "    for desetinne_cislo in range(10):\n",
    "        vysledne_cislo = str(cislo) + \".\" + str(desetinne_cislo)\n",
    "        print(type(float(vysledne_cislo)))\n",
    "        break\n",
    "    break"
   ]
  },
  {
   "cell_type": "code",
   "execution_count": 93,
   "metadata": {},
   "outputs": [
    {
     "name": "stdout",
     "output_type": "stream",
     "text": [
      "www.oukro.cz/aukce&page=1\n",
      "www.oukro.cz/aukce&page=2\n",
      "www.oukro.cz/aukce&page=3\n",
      "www.oukro.cz/aukce&page=4\n",
      "www.oukro.cz/aukce&page=5\n",
      "www.oukro.cz/aukce&page=6\n",
      "www.oukro.cz/aukce&page=7\n",
      "www.oukro.cz/aukce&page=8\n",
      "www.oukro.cz/aukce&page=9\n",
      "www.oukro.cz/aukce&page=10\n"
     ]
    }
   ],
   "source": [
    "for cislo in range(1, 11):\n",
    "    print(\"www.oukro.cz/aukce&page=\", cislo, sep=\"\")"
   ]
  },
  {
   "cell_type": "code",
   "execution_count": 94,
   "metadata": {},
   "outputs": [
    {
     "name": "stdout",
     "output_type": "stream",
     "text": [
      "Kontroluji obsah souboru..\n",
      "Kontroluji obsah souboru..\n",
      "Kontroluji obsah souboru..\n",
      "Kontroluji obsah souboru..\n",
      "Kontroluji obsah souboru..\n",
      "Kontroluji obsah souboru..\n",
      "Soubor zkontrolován!\n"
     ]
    }
   ],
   "source": [
    "import time\n",
    "\n",
    "for _ in range(6):  # <-- Odkaz není podstatný\n",
    "    print(\"Kontroluji obsah souboru..\")\n",
    "    time.sleep(1)\n",
    "    \n",
    "print(\"Soubor zkontrolován!\")"
   ]
  },
  {
   "cell_type": "markdown",
   "metadata": {},
   "source": [
    "<br>\n",
    "\n",
    "<img src=\"https://external-content.duckduckgo.com/iu/?u=https%3A%2F%2Ftse1.mm.bing.net%2Fth%3Fid%3DOIP.xszhziZWTRmKLG00uoNozAHaHM%26pid%3DApi&f=1\" width=\"200\" style=\"margin-left:auto; margin-right:auto\" />\n",
    "\n",
    "\n",
    "## Enumerate\n",
    "\n",
    "---\n",
    "\n",
    "Jde opět o  **built-in funkci** a současně datový typ, která nám **vytvoří číslování** pro zadaný *iterovatelný* objekt."
   ]
  },
  {
   "cell_type": "code",
   "execution_count": 99,
   "metadata": {},
   "outputs": [
    {
     "name": "stdout",
     "output_type": "stream",
     "text": [
      "('Python', 'Java', 'JavaScript', 'C', 'Rust')\n"
     ]
    }
   ],
   "source": [
    "print((\"Python\", \"Java\", \"JavaScript\", \"C\", \"Rust\"))"
   ]
  },
  {
   "cell_type": "code",
   "execution_count": 100,
   "metadata": {},
   "outputs": [
    {
     "name": "stdout",
     "output_type": "stream",
     "text": [
      "<enumerate object at 0x7f30d7a70dc0>\n"
     ]
    }
   ],
   "source": [
    "print(enumerate((\"Python\", \"Java\", \"JavaScript\", \"C\", \"Rust\")))"
   ]
  },
  {
   "cell_type": "code",
   "execution_count": 101,
   "metadata": {},
   "outputs": [
    {
     "name": "stdout",
     "output_type": "stream",
     "text": [
      "((0, 'Python'), (1, 'Java'), (2, 'JavaScript'), (3, 'C'), (4, 'Rust'))\n"
     ]
    }
   ],
   "source": [
    "print(tuple(enumerate((\"Python\", \"Java\", \"JavaScript\", \"C\", \"Rust\"))))"
   ]
  },
  {
   "cell_type": "code",
   "execution_count": 102,
   "metadata": {},
   "outputs": [
    {
     "name": "stdout",
     "output_type": "stream",
     "text": [
      "<class 'enumerate'>\n"
     ]
    }
   ],
   "source": [
    "print(type(enumerate([\"Python\", \"Java\", \"JavaScript\", \"C\", \"Rust\"])))"
   ]
  },
  {
   "cell_type": "markdown",
   "metadata": {},
   "source": [
    "### For loop s enumerate\n",
    "\n",
    "---"
   ]
  },
  {
   "cell_type": "code",
   "execution_count": 103,
   "metadata": {},
   "outputs": [
    {
     "name": "stdout",
     "output_type": "stream",
     "text": [
      "Python\n",
      "Java\n",
      "JavaScript\n",
      "C\n",
      "Rust\n"
     ]
    }
   ],
   "source": [
    "for jazyk in (\"Python\", \"Java\", \"JavaScript\", \"C\", \"Rust\"):\n",
    "    print(jazyk)"
   ]
  },
  {
   "cell_type": "code",
   "execution_count": 111,
   "metadata": {},
   "outputs": [
    {
     "name": "stdout",
     "output_type": "stream",
     "text": [
      "(0, 'Python')\n",
      "(1, 'Java')\n",
      "(2, 'JavaScript')\n",
      "(3, 'C')\n",
      "(4, 'Rust')\n"
     ]
    }
   ],
   "source": [
    "for jazyk in enumerate((\"Python\", \"Java\", \"JavaScript\", \"C\", \"Rust\")):\n",
    "    print(jazyk)"
   ]
  },
  {
   "cell_type": "code",
   "execution_count": 107,
   "metadata": {},
   "outputs": [
    {
     "name": "stdout",
     "output_type": "stream",
     "text": [
      "JavaScript\n",
      "C\n",
      "Rust\n"
     ]
    }
   ],
   "source": [
    "for jazyk in enumerate((\"Python\", \"Java\", \"JavaScript\", \"C\", \"Rust\")):\n",
    "    if jazyk[0] >= 2:\n",
    "        print(jazyk[1])"
   ]
  },
  {
   "cell_type": "code",
   "execution_count": 109,
   "metadata": {},
   "outputs": [
    {
     "name": "stdout",
     "output_type": "stream",
     "text": [
      "JavaScript\n",
      "C\n",
      "Rust\n"
     ]
    }
   ],
   "source": [
    "for index, jazyk in enumerate((\"Python\", \"Java\", \"JavaScript\", \"C\", \"Rust\")):\n",
    "    if index >= 2:\n",
    "        print(jazyk)"
   ]
  },
  {
   "cell_type": "markdown",
   "metadata": {},
   "source": [
    "<br>\n",
    "\n",
    "\n",
    "<img src=\"https://external-content.duckduckgo.com/iu/?u=https%3A%2F%2Ftse1.mm.bing.net%2Fth%3Fid%3DOIP.CyCPAsiknznQ9BhxVDeJDwHaHa%26pid%3DApi&f=1&ipt=8b1f18ea0b82f715fe275a2a5a36f9bd0daa1c4ba524938d11c22d28b54f0df0&ipo=images\" width=\"300\" style=\"margin-left:auto; margin-right:auto\" />\n",
    "\n",
    "## Zip\n",
    "\n",
    "---"
   ]
  },
  {
   "cell_type": "markdown",
   "metadata": {},
   "source": [
    "Tato funkce ti umožní *iterovat* skrze několik *iterovatelných objektů* **současně**:"
   ]
  },
  {
   "cell_type": "code",
   "execution_count": 113,
   "metadata": {},
   "outputs": [],
   "source": [
    "jmena = (\"Petr\", \"Marek\", \"David\")\n",
    "prijmeni = (\"Svetr\", \"Pavel\", \"Dvořák\")"
   ]
  },
  {
   "cell_type": "markdown",
   "metadata": {},
   "source": [
    "<br>\n",
    "\n",
    "Funkce *zip* vrací *tuple*, který obsahuje hodnoty **o stejném indexu** z obou (nebo více) objektů."
   ]
  },
  {
   "cell_type": "code",
   "execution_count": 114,
   "metadata": {},
   "outputs": [
    {
     "name": "stdout",
     "output_type": "stream",
     "text": [
      "<zip object at 0x7f30d7a76ac0>\n"
     ]
    }
   ],
   "source": [
    "print(zip(jmena, prijmeni))        # Lazy evaluation: tuple, list"
   ]
  },
  {
   "cell_type": "code",
   "execution_count": 116,
   "metadata": {},
   "outputs": [
    {
     "name": "stdout",
     "output_type": "stream",
     "text": [
      "[('Petr', 'Svetr'), ('Marek', 'Pavel'), ('David', 'Dvořák')]\n"
     ]
    }
   ],
   "source": [
    "print(list(zip(jmena, prijmeni)))"
   ]
  },
  {
   "cell_type": "code",
   "execution_count": 118,
   "metadata": {},
   "outputs": [
    {
     "name": "stdout",
     "output_type": "stream",
     "text": [
      "Petr Svetr\n",
      "Marek Pavel\n",
      "David Dvořák\n"
     ]
    }
   ],
   "source": [
    "for cele_jmeno in zip(jmena, prijmeni):\n",
    "    print(\" \".join(cele_jmeno))"
   ]
  },
  {
   "cell_type": "code",
   "execution_count": 119,
   "metadata": {},
   "outputs": [
    {
     "name": "stdout",
     "output_type": "stream",
     "text": [
      "Petr SVETR\n",
      "Marek PAVEL\n",
      "David DVOŘÁK\n"
     ]
    }
   ],
   "source": [
    "for jmeno, prijmeni in zip(jmena, prijmeni):\n",
    "    print(jmeno, prijmeni.upper())"
   ]
  },
  {
   "cell_type": "markdown",
   "metadata": {},
   "source": [
    "<br>\n",
    "\n",
    "Pokud se hodnoty z jednoho z *iterovatelných* objektů vyčerpají, **přeskočí** zbytek hodnot:"
   ]
  },
  {
   "cell_type": "code",
   "execution_count": 122,
   "metadata": {},
   "outputs": [
    {
     "name": "stdout",
     "output_type": "stream",
     "text": [
      "Petr Svetr 22\n",
      "Marek Pavel 32\n",
      "Tomáš Dvořák 42\n"
     ]
    }
   ],
   "source": [
    "for jmeno, prijmeni, vek in zip(\n",
    "    (\"Petr\", \"Marek\", \"Tomáš\"), \n",
    "    (\"Svetr\", \"Pavel\", \"Dvořák\"), \n",
    "    (22, 32, 42)):\n",
    "    print(jmeno, prijmeni, vek)"
   ]
  },
  {
   "cell_type": "markdown",
   "metadata": {},
   "source": [
    "➡️ ➡️ **Formulář pro Tvoje hodnocení** [**čtvrté lekce**](https://forms.gle/onWSD3XiFqgP4w346) ⬅️ ⬅️"
   ]
  },
  {
   "cell_type": "markdown",
   "metadata": {},
   "source": [
    "<br>\n",
    "\n",
    "<img src=\"https://external-content.duckduckgo.com/iu/?u=https%3A%2F%2Ftse1.mm.bing.net%2Fth%3Fid%3DOIP.O9EkosTHP3lmEAvzA3D-2QHaHa%26pid%3DApi&f=1\" width=\"400\" style=\"margin-left:auto; margin-right:auto\" />\n",
    "\n",
    "\n",
    "\n",
    "## Domácí úkol\n",
    "\n",
    "---"
   ]
  },
  {
   "cell_type": "markdown",
   "metadata": {},
   "source": [
    "<br>\n",
    "\n",
    "### 🧠 CVIČENÍ 🧠, Vyzkoušej si práci s `for` smyčkou:\n",
    "\n",
    "Z výše zadaných jmen vytvoř slovník, kde budou klíče celá jména a hodnoty budou nestované slovníky, obsahující klíče křestní jméno, příjmení a email. Viz. ukázka:"
   ]
  },
  {
   "cell_type": "code",
   "execution_count": null,
   "metadata": {},
   "outputs": [],
   "source": [
    "zamestnanci_raw = \"\"\"\n",
    "Helena Vybíralová\n",
    "Wendy Štrumlová\n",
    "Marie Vybíralová\n",
    "Stanislav Bechyňka\n",
    "Zdeňka Urbánková\n",
    "Lukáš Riečan\n",
    "Veronika Koudelová\n",
    "Františka Vorlová\n",
    "Ilie Seleš\n",
    "Martin Železný\n",
    "Petra Niklesová\n",
    "Bohumil Skok\n",
    "Jakub Šmíd\n",
    "Jarmila Procházková\n",
    "Dagmar Hlavatá\n",
    "Jiří Nguyen Thanh\n",
    "Marie Franková\n",
    "Dana Ulrichová\n",
    "Jana Hranická\n",
    "Hana Budošová\n",
    "Ivan Široký\n",
    "Květoslava Jiráčková\n",
    "Pavel Przywara\n",
    "Josef Umlauf\n",
    "Tomáš Granzer\n",
    "Miroslav Kuba\n",
    "Miloslava Adámková\n",
    "Marie Karlíková\n",
    "Jaroslav Hronský\n",
    "Vlasta Karlíková\n",
    "Andrea Žatková\n",
    "Zuzana Lokočová\n",
    "Ondřej Ptáček\n",
    "Zdeněk Najman\n",
    "Tereza Šebešová\n",
    "Antonie Skokánková\n",
    "Jan Lion\n",
    "Václav Vecko\n",
    "František Vajgl\n",
    "Adéla Kavková\n",
    "Amália Vacková\n",
    "Anna Pažická\n",
    "Ivo Pustějovský\n",
    "Antonín Pavela\n",
    "Jitka Adamová\n",
    "Libuše Hamroziová\n",
    "Drahomíra Balzerová\n",
    "Marek Suchánek\n",
    "Petr Vavrinec\n",
    "Jonáš Stuchlý\n",
    "Jaromír Pecen\n",
    "Markéta Kyliánková\n",
    "Marina Pečenková\n",
    "Ivana Perdochová\n",
    "Michaela Drápalová\n",
    "Michael Mentlík\n",
    "Rudolf Špičák\n",
    "Žaneta Holá\n",
    "Blanka Lišková\n",
    "Eva Svatoňová\n",
    "Rostislav Hoang\n",
    "Martina Kalivodová\n",
    "Milan Hruška\n",
    "Zdenka Marková\n",
    "Lenka Schambergerová\n",
    "Růžena Martinů\n",
    "Věra Řezanková\n",
    "Marie Pečenková\n",
    "Miloš Váchal\n",
    "Jaroslava Hrubá\n",
    "Petr Pecen\n",
    "Pavla Konvicová\n",
    "Lucie Marešová\n",
    "Květuše Zdráhalová\n",
    "Vlastimila Svatošová\n",
    "Zora Michalčíková\n",
    "Daniel Švejnoha\n",
    "Klára Brunclíková\n",
    "Vladimír Bauer\n",
    "Michal Slaný\n",
    "Jiřina Novosadová\n",
    "Karel Sršeň\n",
    "Stanislava Lakosilová\n",
    "Filip Černý\n",
    "Alena Kubiková\n",
    "Sára Kotrlová\n",
    "Alois Rejlek\n",
    "Božena Novotná\n",
    "Maryana Nováková\n",
    "Kateřina Máslová\n",
    "Ladislav Dvořák\n",
    "Radek Varga\n",
    "Petr Dvořák\n",
    "Ludmila Jaklová\n",
    "Renáta Foubíková\n",
    "Nikola Lehká\n",
    "Dominika Riegerová\n",
    "Patrik Polák\n",
    "Soňa Štrbová\n",
    "David Matoušek\n",
    "Liubov Hollíková\n",
    "Monika Poláková\n",
    "Marie Jaklová\n",
    "Aleš Svoboda\n",
    "Roman Kolínský\n",
    "Karolína Košiková\n",
    "\"\"\""
   ]
  },
  {
   "cell_type": "markdown",
   "metadata": {},
   "source": [
    "```\n",
    "{'Adéla Kavková': {'email': 'a.kavková@firma.cz',\n",
    "                   'krestni_jmeno': 'Adéla',\n",
    "                   'prijmeni': 'Kavková'},\n",
    " 'Alena Kubiková': {'email': 'a.kubiková@firma.cz',\n",
    "                    'krestni_jmeno': 'Alena',\n",
    "                    'prijmeni': 'Kubiková'},\n",
    " 'Aleš Svoboda': {'email': 'a.svoboda@firma.cz',\n",
    "                  'krestni_jmeno': 'Aleš',\n",
    "                  'prijmeni': 'Svoboda'},\n",
    " ...\n",
    "}\n",
    "```"
   ]
  },
  {
   "cell_type": "code",
   "execution_count": null,
   "metadata": {},
   "outputs": [],
   "source": []
  },
  {
   "cell_type": "markdown",
   "metadata": {},
   "source": [
    "<details>\n",
    "  <summary>▶️  Klikni zde pro zobrazení řešení</summary>\n",
    "   \n",
    "```python\n",
    "zamestnanci = dict()\n",
    "\n",
    "for cele_jmeno in zamestnanci_raw.splitlines():\n",
    "    if cele_jmeno:\n",
    "        zamestnanci[cele_jmeno] = {\n",
    "            \"krestni_jmeno\": (kr_jmeno := cele_jmeno.split()[0]),\n",
    "            \"prijmeni\": (prijmeni := cele_jmeno.split()[1]),\n",
    "            \"email\": kr_jmeno.lower()[0] + \".\" + prijmeni.lower() + \"@firma.cz\",\n",
    "#             \"email\": f\"{kr_jmeno.lower()[0]}.{prijmeni.lower()}@firma.cz\"\n",
    "        }\n",
    "```\n",
    "</details>"
   ]
  },
  {
   "cell_type": "markdown",
   "metadata": {},
   "source": [
    "---"
   ]
  }
 ],
 "metadata": {
  "kernelspec": {
   "display_name": "Python 3 (ipykernel)",
   "language": "python",
   "name": "python3"
  },
  "language_info": {
   "codemirror_mode": {
    "name": "ipython",
    "version": 3
   },
   "file_extension": ".py",
   "mimetype": "text/x-python",
   "name": "python",
   "nbconvert_exporter": "python",
   "pygments_lexer": "ipython3",
   "version": "3.8.10"
  }
 },
 "nbformat": 4,
 "nbformat_minor": 4
}
