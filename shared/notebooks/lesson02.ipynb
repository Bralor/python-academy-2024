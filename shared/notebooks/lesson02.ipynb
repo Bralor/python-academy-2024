{
 "cells": [
  {
   "cell_type": "markdown",
   "metadata": {},
   "source": [
    "# Python akademie\n",
    "\n",
    "---\n",
    "\n",
    "<br>\n",
    "\n",
    "## Obsah lekce\n",
    "\n",
    "---"
   ]
  },
  {
   "cell_type": "markdown",
   "metadata": {},
   "source": [
    "1. [Rozhodování](#Rozhodování),\n",
    "2. [Datový typ boolean](#Datový-typ-bool-(~boolean)),\n",
    "3. [Operace s boolean](#Operace-související-s-dat.-typem-bool),\n",
    "4. [Jednoduchý podmínkový zápis](#Jednoduchý-podmínkový-zápis),\n",
    "5. [Rozvinutý podmínkový zápis](#Rozvinutý-podmínkový-zápis),\n",
    "6. [Ternární operátor](#Ternární-operátor),\n",
    "7. [Metody](#Metody),\n",
    "8. [Domácí úkol](#Domácí-úkol).\n",
    "\n",
    "---"
   ]
  },
  {
   "cell_type": "markdown",
   "metadata": {},
   "source": [
    "#### **Demo**: Načítání notebooků 👀"
   ]
  },
  {
   "cell_type": "markdown",
   "metadata": {},
   "source": [
    "<img src=\"https://external-content.duckduckgo.com/iu/?u=https%3A%2F%2Ftse1.mm.bing.net%2Fth%3Fid%3DOIP.yLOyM3kOmMLeoCCP47fziQHaHa%26pid%3DApi&f=1\" width=\"250\" style=\"margin-left:auto; margin-right:auto\" />"
   ]
  },
  {
   "cell_type": "markdown",
   "metadata": {},
   "source": [
    "## Rozhodování\n",
    "\n",
    "---\n",
    "\n",
    "Jeden ze **základních algoritmů**, který programátor (..a nejen on) musí znát, je naučit náš skript se sám **rozhodovat**.\n",
    "\n",
    "<br>"
   ]
  },
  {
   "cell_type": "markdown",
   "metadata": {},
   "source": [
    "### Praktické situace\n",
    "\n",
    "1. Uživatel Matouš **není plnoletý**. Proto mu **omezím přístup** k naší aplikaci.\n",
    "```python\n",
    "jmeno = \"Matous\"\n",
    "vek = 11\n",
    "# Jak uživateli Matouš omezím přístup?\n",
    "```\n",
    "\n",
    "<br>\n",
    "\n",
    "2. Potřebuji ověřit, jestli zadané jméno **patří k zaměstnancům** firmy.\n",
    "```python\n",
    "uzivatele = (\"Ladislav Dvořák\", \"Nikola Lehká\", \"Jitka Adamová\")\n",
    "cele_jmeno = \"Ladislav Dvořák\"\n",
    "# Jak potvrdím, že osoba Ladislav Dvořák je uživatel?\n",
    "```\n",
    "\n",
    "<br>\n",
    "\n",
    "3. Co když budu chtít přidat novou tabulku do DB a tabulka **již existuje**?\n",
    "```python\n",
    "soupis_tabulek = [\"users\", \"models\", \"employees\"]\n",
    "jmeno_tabulky = \"employees\"\n",
    "# Jak potvrdím, že tabulka employees již je součástí seznamu?\n",
    "```\n",
    "\n",
    "<br>\n",
    "\n",
    "Jak řešit tyto a podobné otázky se dozvíš dále.\n",
    "\n",
    "Budeš k tomu potřebovat další datový typ **boolean** a s ním související **podmínkový zápis**.\n"
   ]
  },
  {
   "cell_type": "markdown",
   "metadata": {},
   "source": [
    "<img src=\"https://external-content.duckduckgo.com/iu/?u=https%3A%2F%2Ftse1.mm.bing.net%2Fth%3Fid%3DOIP.6naTquItTnMaoNEZW-MPPQHaHa%26pid%3DApi&f=1\" width=\"250\" style=\"margin-left:auto; margin-right:auto\"/>"
   ]
  },
  {
   "cell_type": "markdown",
   "metadata": {},
   "source": [
    "## Datový typ `bool` (~boolean)\n",
    "\n",
    "---\n",
    "\n"
   ]
  },
  {
   "cell_type": "markdown",
   "metadata": {},
   "source": [
    "**Boolean** vychází z datového typu `integer` (~z celých čísel) a nabývá pouze **dvou hodnot**:\n",
    "* `True`, *PRAVDA* (odpovídá hodnotě `1`),\n",
    "* `False`, *NEPRAVDA* (odpovídá hodnotě `0`).\n",
    "\n",
    "Tento **datový typ** pomáhá *rozhodovat*, jestli je celý **zápis** (ohlášení) či **hodnota**(výraz) pravdivý a nebo nepravdivý.\n",
    "\n",
    "<br>"
   ]
  },
  {
   "cell_type": "code",
   "execution_count": 1,
   "metadata": {},
   "outputs": [],
   "source": [
    "vek = 11             # int\n",
    "jmeno = \"Matouš\"     # str"
   ]
  },
  {
   "cell_type": "code",
   "execution_count": 2,
   "metadata": {},
   "outputs": [],
   "source": [
    "je_plnolety = False  # bool"
   ]
  },
  {
   "cell_type": "code",
   "execution_count": 3,
   "metadata": {},
   "outputs": [
    {
     "name": "stdout",
     "output_type": "stream",
     "text": [
      "<class 'bool'>\n"
     ]
    }
   ],
   "source": [
    "print(type(je_plnolety))"
   ]
  },
  {
   "cell_type": "markdown",
   "metadata": {},
   "source": [
    "#### **Demo**: Původ jména <a href='https://en.wikipedia.org/wiki/Boolean_data_type' target=blank_>boolean</a>  👀"
   ]
  },
  {
   "cell_type": "markdown",
   "metadata": {},
   "source": [
    "<br>\n",
    "\n",
    "### Funkce `bool`\n",
    "\n",
    "---\n",
    "\n",
    "Tato *zabudovaná funkce* Ti pomůže lépe pochopit práci s datovým typem `bool` a co je pravdivé či nikoliv (prázdné nebo neprázdné).\n",
    "\n",
    "<br>\n",
    "\n",
    "Funguje jako nějaký **rozhodčí**, kterému zadáš **hodnotu** a funkce ji *ohodnotí*, jestli je **pravdivá** nebo **nepravdivá**."
   ]
  },
  {
   "cell_type": "code",
   "execution_count": 4,
   "metadata": {},
   "outputs": [
    {
     "name": "stdout",
     "output_type": "stream",
     "text": [
      "True\n"
     ]
    }
   ],
   "source": [
    "print(bool(1))"
   ]
  },
  {
   "cell_type": "code",
   "execution_count": 5,
   "metadata": {},
   "outputs": [
    {
     "name": "stdout",
     "output_type": "stream",
     "text": [
      "False\n"
     ]
    }
   ],
   "source": [
    "print(bool(0))"
   ]
  },
  {
   "cell_type": "markdown",
   "metadata": {},
   "source": [
    "<br>\n",
    "\n",
    "### Funkce `bool` a jiné datové typy\n",
    "\n",
    "---"
   ]
  },
  {
   "cell_type": "code",
   "execution_count": 6,
   "metadata": {},
   "outputs": [
    {
     "name": "stdout",
     "output_type": "stream",
     "text": [
      "True\n",
      "True\n",
      "True\n",
      "True\n"
     ]
    }
   ],
   "source": [
    "print(bool(2))\n",
    "print(bool(\"Matous\"))\n",
    "print(bool(2.5))\n",
    "print(bool([\"a\", \"b\"]))"
   ]
  },
  {
   "cell_type": "code",
   "execution_count": 10,
   "metadata": {},
   "outputs": [
    {
     "name": "stdout",
     "output_type": "stream",
     "text": [
      "True\n"
     ]
    }
   ],
   "source": [
    "print(bool([\"\", \"\"]))"
   ]
  },
  {
   "cell_type": "code",
   "execution_count": 13,
   "metadata": {},
   "outputs": [
    {
     "data": {
      "text/plain": [
       "''"
      ]
     },
     "execution_count": 13,
     "metadata": {},
     "output_type": "execute_result"
    }
   ],
   "source": [
    "[\"\", \"\"][1]"
   ]
  },
  {
   "cell_type": "code",
   "execution_count": 7,
   "metadata": {},
   "outputs": [
    {
     "name": "stdout",
     "output_type": "stream",
     "text": [
      "False\n",
      "False\n",
      "False\n",
      "False\n"
     ]
    }
   ],
   "source": [
    "print(bool(\"\"))\n",
    "print(bool([]))\n",
    "print(bool(()))\n",
    "print(bool(None))"
   ]
  },
  {
   "cell_type": "code",
   "execution_count": 8,
   "metadata": {},
   "outputs": [
    {
     "name": "stdout",
     "output_type": "stream",
     "text": [
      "<class 'NoneType'>\n"
     ]
    }
   ],
   "source": [
    "print(type(None))"
   ]
  },
  {
   "cell_type": "code",
   "execution_count": 9,
   "metadata": {},
   "outputs": [
    {
     "ename": "NameError",
     "evalue": "name 'none' is not defined",
     "output_type": "error",
     "traceback": [
      "\u001b[0;31m---------------------------------------------------------------------------\u001b[0m",
      "\u001b[0;31mNameError\u001b[0m                                 Traceback (most recent call last)",
      "Cell \u001b[0;32mIn[9], line 1\u001b[0m\n\u001b[0;32m----> 1\u001b[0m \u001b[43mnone\u001b[49m\n",
      "\u001b[0;31mNameError\u001b[0m: name 'none' is not defined"
     ]
    }
   ],
   "source": [
    "none"
   ]
  },
  {
   "cell_type": "markdown",
   "metadata": {},
   "source": [
    "`None` v Pythonu používáme pro označení **absence hodnoty** (*odkaz* nemá hodnotu). V jiných jazycích třeba `Null`, `NaN`.\n",
    "\n",
    "<br>\n",
    "\n",
    "#### Souhrn\n",
    "\n",
    "---\n",
    "\n",
    "<br>\n",
    "\n",
    "| Hodnota | Vyhodnocení funkcí `bool`|\n",
    "|:-:|:-:|\n",
    "|`2`| `True` |\n",
    "|`\"Matous\"`| `True` |\n",
    "|`2.5`| `True`|\n",
    "|`[]`|`False`|\n",
    "|`\"\"`| `False`|\n",
    "|`None`| `False`|\n",
    "\n",
    "<br>\n",
    "\n",
    "Můžeš tedy prohlásit, že pokud použiješ **neprázdnou hodnotu** (`str`, `int`, `list`, aj.), funkce `bool` vypíše hodnotu `True`.\n",
    "\n",
    "V opačném případě dostaneš `False`.\n",
    "\n",
    "<br>\n",
    "\n",
    "Teď, když víš, jakým způsobem Python pracuje s datovým typem *boolean* uvidíš, kde všude toho využiješ."
   ]
  },
  {
   "cell_type": "markdown",
   "metadata": {},
   "source": [
    "<img src=\"https://external-content.duckduckgo.com/iu/?u=https%3A%2F%2Ftse1.mm.bing.net%2Fth%3Fid%3DOIP.jcR4ASfryZwpiwc6WTRvyQHaHa%26pid%3DApi&f=1&ipt=b7026ac0b680ab9052a70cb4b2057fb60daf6c6e73133cf43c074210414992c8&ipo=images\" width=\"250\" style=\"margin-left:auto; margin-right:auto\"/>"
   ]
  },
  {
   "cell_type": "markdown",
   "metadata": {},
   "source": [
    "## Operace související s dat. typem `bool`\n",
    "\n",
    "---\n",
    "\n",
    "1. Srovnávací operace,\n",
    "2. *boolean* operace,\n",
    "3. *membership testing*,\n",
    "4. srovnávání *identit* objektů.\n",
    "\n",
    "\n",
    "<br>\n",
    "\n",
    "### 1. Srovnávácí operace\n",
    "\n",
    "---\n",
    "\n",
    "<br>\n",
    "\n",
    "| Operátor | Význam |\n",
    "|:-:|:-|\n",
    "| `<` | menší než |\n",
    "| `>` | větší než |\n",
    "| `<=` | menší nebo rovno |\n",
    "| `>=` | větší nebo rovno |\n",
    "| `==` | rovnost |\n",
    "| `!=` | nerovnost |"
   ]
  },
  {
   "cell_type": "code",
   "execution_count": 14,
   "metadata": {},
   "outputs": [
    {
     "name": "stdout",
     "output_type": "stream",
     "text": [
      "True\n",
      "False\n",
      "True\n"
     ]
    }
   ],
   "source": [
    "print(bool(144 > 1))\n",
    "print(bool(144 == 142))\n",
    "print(bool(144 != 100))"
   ]
  },
  {
   "cell_type": "code",
   "execution_count": 15,
   "metadata": {},
   "outputs": [
    {
     "name": "stdout",
     "output_type": "stream",
     "text": [
      "True\n",
      "False\n",
      "True\n"
     ]
    }
   ],
   "source": [
    "print(144 > 1)           # funguje také bez funkce \"bool\"\n",
    "print(144 == 142)\n",
    "print(144 != 100)"
   ]
  },
  {
   "cell_type": "markdown",
   "metadata": {},
   "source": [
    "### 2. Boolean operace\n",
    "\n",
    "---\n",
    "\n",
    "<br>\n",
    "\n",
    "*Operátory* sloužící **ke spojování** několika *srovnání* nebo *výrazů* (*vypsané podle rostoucí důležitosti*):\n",
    "1. `or`\n",
    "2. `and`,\n",
    "3. `not`.\n",
    "\n",
    "<br>\n",
    "\n",
    "##### Operátor `and`\n",
    "\n",
    "---"
   ]
  },
  {
   "cell_type": "code",
   "execution_count": 16,
   "metadata": {},
   "outputs": [
    {
     "name": "stdout",
     "output_type": "stream",
     "text": [
      "True\n",
      "False\n",
      "False\n"
     ]
    }
   ],
   "source": [
    "print(True and True)  # opět možnost nepoužít funkci bool()\n",
    "print(True and False)\n",
    "print(False and False)"
   ]
  },
  {
   "cell_type": "code",
   "execution_count": 17,
   "metadata": {},
   "outputs": [
    {
     "name": "stdout",
     "output_type": "stream",
     "text": [
      "True\n",
      "False\n"
     ]
    }
   ],
   "source": [
    "print(True and True and True)\n",
    "print(True and True and True and False)"
   ]
  },
  {
   "cell_type": "markdown",
   "metadata": {},
   "source": [
    "Pokud použiješ **boolean operátor** `and` a od jednotlivých výroků získáš byť jednu hodnotu `False`, **celý výsledek** bude **nepravdivý** (`False`).\n",
    "\n",
    "<br>\n",
    "\n",
    "Dále můžeš aplikovat princip tzv. *zkráceného vyhodnocování*. Pokud uvidíš jako první hodnotu `False` (a pracuji s operátorem `and`), nemusíš procházet dálší výrazy. Výsledek je `False`.\n",
    "\n",
    "<br>\n",
    "\n",
    "##### Operátor `or`\n",
    "\n",
    "---"
   ]
  },
  {
   "cell_type": "code",
   "execution_count": 18,
   "metadata": {},
   "outputs": [
    {
     "name": "stdout",
     "output_type": "stream",
     "text": [
      "True\n",
      "True\n",
      "False\n",
      "True\n"
     ]
    }
   ],
   "source": [
    "print(True or False)\n",
    "print(False or True)\n",
    "print(False or False)\n",
    "print(True or True)"
   ]
  },
  {
   "cell_type": "code",
   "execution_count": 19,
   "metadata": {},
   "outputs": [
    {
     "name": "stdout",
     "output_type": "stream",
     "text": [
      "False\n",
      "True\n"
     ]
    }
   ],
   "source": [
    "print(False or False or False)\n",
    "print(False or False or True)"
   ]
  },
  {
   "cell_type": "markdown",
   "metadata": {},
   "source": [
    "Pokud použiješ **boolean operátor** `or` a od jednotlivých výroků získáš byť jednu hodnotu `True`, **celý výsledek** bude **pravdivý** (`True`).\n",
    "\n",
    "<br>\n",
    "\n",
    "Opět lze použít princip *zrychleného vyhodnocování*. Tedy pokud funkce `bool` vrátí aspoň jednu hodnotu `True` (a pracuji s operátorem `or`), výsledek celého zápisu bude `True`.\n",
    "\n",
    "<br>\n",
    "\n",
    "##### Operátor `not`\n",
    "\n",
    "---"
   ]
  },
  {
   "cell_type": "code",
   "execution_count": 20,
   "metadata": {},
   "outputs": [
    {
     "name": "stdout",
     "output_type": "stream",
     "text": [
      "False\n",
      "True\n"
     ]
    }
   ],
   "source": [
    "print(not True)\n",
    "print(not False)"
   ]
  },
  {
   "cell_type": "markdown",
   "metadata": {},
   "source": [
    "Při použití operátoru `not` získáš obrácenou hodnotu.\n",
    "\n",
    "<br>\n",
    "\n",
    "Pokud potřebuješ **spojit** více porovnávání hodnot, můžeš je doplnit o *boolean operace*."
   ]
  },
  {
   "cell_type": "code",
   "execution_count": 21,
   "metadata": {},
   "outputs": [
    {
     "name": "stdout",
     "output_type": "stream",
     "text": [
      "True\n"
     ]
    }
   ],
   "source": [
    "print(False and False or True)  # výsledek?"
   ]
  },
  {
   "cell_type": "code",
   "execution_count": 22,
   "metadata": {},
   "outputs": [
    {
     "name": "stdout",
     "output_type": "stream",
     "text": [
      "False\n"
     ]
    }
   ],
   "source": [
    "print(False or False and True)  # výsledek?"
   ]
  },
  {
   "cell_type": "markdown",
   "metadata": {},
   "source": [
    "Ovšem dávej pozor na **důležitosti jednotlivých operátorů**. Srovnávací operátory mají totiž vyšší prioritu než boolean operátory, proto dojde nejprve k jejich vyhodnocení.\n",
    "\n",
    "<br>\n",
    "\n",
    "| Priorita | Operátor |\tPopis |\tPříklad |\n",
    "| :-: | :- | :- | :- |\n",
    "|1\t| `**`\t| Mocnina |\t2 ** 3 → 8 |\n",
    "|2\t| `*, /, //, %`\t| Násobení, dělení, celočíselné dělení, zbytek |\t10 * 2 → 20 |\n",
    "|3\t| `+, -`\t| Sčítání, odčítání |\t5 + 3 → 8\n",
    "|4\t| `==, !=, <, <=, >, >=`\t| Porovnání (rovnost, větší, menší...) |\t5 < 10 → True |\n",
    "\n",
    "<br>\n",
    "\n",
    "Pro lepší názornost můžeš použít **kulaté závorky**."
   ]
  },
  {
   "cell_type": "markdown",
   "metadata": {},
   "source": [
    "<br>\n",
    "\n",
    "Pokud potřebuješ **současně spojuješ** pomocí `and` a v obou výrazech je stejná hodnota, můžeš zápis zkrátit:"
   ]
  },
  {
   "cell_type": "code",
   "execution_count": 23,
   "metadata": {},
   "outputs": [
    {
     "name": "stdout",
     "output_type": "stream",
     "text": [
      "False\n"
     ]
    }
   ],
   "source": [
    "print(1 < 5 and 5 > 10)  # původní zápis"
   ]
  },
  {
   "cell_type": "code",
   "execution_count": 24,
   "metadata": {},
   "outputs": [
    {
     "name": "stdout",
     "output_type": "stream",
     "text": [
      "False\n"
     ]
    }
   ],
   "source": [
    "print(1 < 5 > 10)        # zkrácený zápis"
   ]
  },
  {
   "cell_type": "code",
   "execution_count": 25,
   "metadata": {},
   "outputs": [
    {
     "name": "stdout",
     "output_type": "stream",
     "text": [
      "True\n"
     ]
    }
   ],
   "source": [
    "print(1 < 5 or 5 > 10)"
   ]
  },
  {
   "cell_type": "code",
   "execution_count": 26,
   "metadata": {},
   "outputs": [
    {
     "name": "stdout",
     "output_type": "stream",
     "text": [
      "False\n"
     ]
    }
   ],
   "source": [
    "print(1 < 5 > 10) "
   ]
  },
  {
   "cell_type": "code",
   "execution_count": 30,
   "metadata": {},
   "outputs": [
    {
     "name": "stdout",
     "output_type": "stream",
     "text": [
      "False\n",
      "False\n"
     ]
    }
   ],
   "source": [
    "print(1 < 2 and 2 < 3 and 3 > 4)  # původní zápis\n",
    "print(1 < 2 < 3 > 4)              # zkrácený zápis"
   ]
  },
  {
   "cell_type": "markdown",
   "metadata": {},
   "source": [
    "<br>\n",
    "\n",
    "Víc realitě odpovídá práce s proměnnými:"
   ]
  },
  {
   "cell_type": "code",
   "execution_count": 28,
   "metadata": {},
   "outputs": [
    {
     "name": "stdout",
     "output_type": "stream",
     "text": [
      "True\n"
     ]
    }
   ],
   "source": [
    "vek = 15\n",
    "print(10 < vek < 20)"
   ]
  },
  {
   "cell_type": "markdown",
   "metadata": {},
   "source": [
    "<br>\n",
    "\n",
    "### 3. Membership testing (~Ověření členství)\n",
    "\n",
    "\n",
    "---\n",
    "\n",
    "Nejde o proces, který by přímo pracoval s `bool` hodnotami.\n",
    "\n",
    "Ovšem právě `True` a `False` jsou hodnoty, které jsou **výsledkem toho procesu**.\n",
    "\n",
    "<br>\n"
   ]
  },
  {
   "cell_type": "code",
   "execution_count": 31,
   "metadata": {},
   "outputs": [
    {
     "name": "stdout",
     "output_type": "stream",
     "text": [
      "False\n"
     ]
    }
   ],
   "source": [
    "print(\"m\" in \"Matous\")"
   ]
  },
  {
   "cell_type": "code",
   "execution_count": 32,
   "metadata": {},
   "outputs": [
    {
     "name": "stdout",
     "output_type": "stream",
     "text": [
      "True\n"
     ]
    }
   ],
   "source": [
    "print(\"M\" in \"Matous\")"
   ]
  },
  {
   "cell_type": "code",
   "execution_count": 33,
   "metadata": {},
   "outputs": [
    {
     "name": "stdout",
     "output_type": "stream",
     "text": [
      "False\n"
     ]
    }
   ],
   "source": [
    "print(\"m\" in (\"a\", \"n\", \"c\", \"ma\"))"
   ]
  },
  {
   "cell_type": "code",
   "execution_count": 34,
   "metadata": {},
   "outputs": [
    {
     "name": "stdout",
     "output_type": "stream",
     "text": [
      "True\n"
     ]
    }
   ],
   "source": [
    "print(\"m\" in \"ma\")"
   ]
  },
  {
   "cell_type": "markdown",
   "metadata": {},
   "source": [
    "<br>\n",
    "\n",
    "Opět si můžeš všimnout **rezervovaného slova** `in`, které je pro **membership testing** typické.\n",
    "\n",
    "V podstatě se ptáš, jestli je výraz **na levé straně** součásti výrazu **na pravé straně**."
   ]
  },
  {
   "cell_type": "code",
   "execution_count": 35,
   "metadata": {},
   "outputs": [],
   "source": [
    "registrovani_uzivatele = (\"Matouš Holinka\", \"Adam Novák\")"
   ]
  },
  {
   "cell_type": "code",
   "execution_count": 36,
   "metadata": {},
   "outputs": [],
   "source": [
    "uzivatel = \"Lukáš Holinka\""
   ]
  },
  {
   "cell_type": "code",
   "execution_count": 37,
   "metadata": {},
   "outputs": [
    {
     "name": "stdout",
     "output_type": "stream",
     "text": [
      "False\n"
     ]
    }
   ],
   "source": [
    "print(uzivatel in registrovani_uzivatele)"
   ]
  },
  {
   "cell_type": "markdown",
   "metadata": {},
   "source": [
    "<br>\n",
    "\n",
    "**Ověření členství** je ve skutečnosti proces, který obecně zařazujeme mezi operace jako *indexing*, *slicing*, *striding*.\n",
    "\n",
    "Resp. operace, které můžeme provádět nejenom se **sekvencemi**."
   ]
  },
  {
   "cell_type": "markdown",
   "metadata": {},
   "source": [
    "<br>\n",
    "\n",
    "### 4. Srovnání identit objektů\n",
    "\n",
    "\n",
    "---\n",
    "\n",
    "<br>\n",
    "\n",
    "| Operátor | Význam |\n",
    "| :-: | :-: |\n",
    "| `is` | totožná identita |\n",
    "| `is not` | různá identita |\n",
    "\n",
    "<br>\n",
    "\n",
    "Každý objekt má svůj **identifikátor** (~číslo, poznávací značku).\n",
    "\n",
    "<br>\n",
    "\n",
    "Tento **identifikátor** můžeš vypsat pomocí *zabudované funkce* `id`:"
   ]
  },
  {
   "cell_type": "code",
   "execution_count": 38,
   "metadata": {},
   "outputs": [
    {
     "name": "stdout",
     "output_type": "stream",
     "text": [
      "140105136282160\n"
     ]
    }
   ],
   "source": [
    "print(id(\"a\"))"
   ]
  },
  {
   "cell_type": "markdown",
   "metadata": {},
   "source": [
    "<br>\n",
    "\n",
    "Tedy funkce `id` vrátí číslo představující **adresu objektu v paměti**."
   ]
  },
  {
   "cell_type": "code",
   "execution_count": 39,
   "metadata": {},
   "outputs": [],
   "source": [
    "jmeno_1 = \"Matous\"\n",
    "jmeno_2 = \"Lukas\""
   ]
  },
  {
   "cell_type": "code",
   "execution_count": 40,
   "metadata": {},
   "outputs": [],
   "source": [
    "prijmeni_1 = \"Holinka\"\n",
    "prijmeni_2 = \"Holinka\""
   ]
  },
  {
   "cell_type": "code",
   "execution_count": 41,
   "metadata": {},
   "outputs": [
    {
     "name": "stdout",
     "output_type": "stream",
     "text": [
      "Matous:\t140104447196208\n",
      "Lukas: \t140104447195952\n"
     ]
    }
   ],
   "source": [
    "print(\"Matous:\\t\" + str(id(jmeno_1)))\n",
    "print(\"Lukas: \\t\" + str(id(jmeno_2)))"
   ]
  },
  {
   "cell_type": "markdown",
   "metadata": {},
   "source": [
    "<br>\n",
    "\n",
    "Kde `\\t` představuje další speciální znak, **tabulátor**."
   ]
  },
  {
   "cell_type": "code",
   "execution_count": 42,
   "metadata": {},
   "outputs": [
    {
     "name": "stdout",
     "output_type": "stream",
     "text": [
      "Holinka: 140104447196080\n",
      "Holinka: 140104447196080\n"
     ]
    }
   ],
   "source": [
    "print(\"Holinka: \" + str(id(prijmeni_1)))\n",
    "print(\"Holinka: \" + str(id(prijmeni_2)))"
   ]
  },
  {
   "cell_type": "markdown",
   "metadata": {},
   "source": [
    "▶️ **pozn.** Jde o tzv. <a href=\"https://stackabuse.com/guide-to-string-interning-in-python/\" target=\"_blank\">*string interning*</a>, tedy koncept, který souvisí s tím, že je string **nezměnitelný datový typ**.\n",
    "\n",
    "<img src=\"https://i.imgur.com/mXZ8xXj.png\" title=\"source: imgur.com\" width=\"850\" style=\"margin-left:auto; margin-right:auto\"/>\n",
    "\n",
    "Dále *internování* znamená, že pokud vytvoříš **dva stejné stringy** `\"Holinka\"`, *interpret* zařídí, že **pouze jeden** se alokuje do paměti a druhý pouze ukazuje na stejné místo (číslo)."
   ]
  },
  {
   "cell_type": "code",
   "execution_count": 43,
   "metadata": {},
   "outputs": [],
   "source": [
    "jmeno_1 = \"Matous\"\n",
    "jmeno_2 = \"Lukas\""
   ]
  },
  {
   "cell_type": "code",
   "execution_count": 44,
   "metadata": {},
   "outputs": [],
   "source": [
    "prijmeni_1 = \"Holinka\"\n",
    "prijmeni_2 = \"Holinka\""
   ]
  },
  {
   "cell_type": "code",
   "execution_count": 45,
   "metadata": {},
   "outputs": [
    {
     "name": "stdout",
     "output_type": "stream",
     "text": [
      "True\n"
     ]
    }
   ],
   "source": [
    "print(jmeno_1 is not jmeno_2)"
   ]
  },
  {
   "cell_type": "code",
   "execution_count": 46,
   "metadata": {},
   "outputs": [
    {
     "name": "stdout",
     "output_type": "stream",
     "text": [
      "True\n"
     ]
    }
   ],
   "source": [
    "print(prijmeni_1 is prijmeni_2)"
   ]
  },
  {
   "cell_type": "markdown",
   "metadata": {},
   "source": [
    "<br>\n",
    "\n",
    "Ačkoliv je string **nezměnitelný datový typ**, občas je tu potíž s ne-ASCII znaky:"
   ]
  },
  {
   "cell_type": "code",
   "execution_count": 47,
   "metadata": {},
   "outputs": [],
   "source": [
    "name_1 = \"Matouš\""
   ]
  },
  {
   "cell_type": "code",
   "execution_count": 48,
   "metadata": {},
   "outputs": [],
   "source": [
    "name_2 = \"Matouš\""
   ]
  },
  {
   "cell_type": "code",
   "execution_count": 50,
   "metadata": {},
   "outputs": [
    {
     "name": "stdout",
     "output_type": "stream",
     "text": [
      "140104786751824\n",
      "140104786751728\n"
     ]
    }
   ],
   "source": [
    "print(id(name_1), id(name_2), sep='\\n')"
   ]
  },
  {
   "cell_type": "code",
   "execution_count": 51,
   "metadata": {},
   "outputs": [
    {
     "name": "stdout",
     "output_type": "stream",
     "text": [
      "False\n"
     ]
    }
   ],
   "source": [
    "print(name_1 is name_2)"
   ]
  },
  {
   "cell_type": "markdown",
   "metadata": {},
   "source": [
    "<br>\n",
    "\n",
    "Další praktická aplikace souvisí s porovnáváním hodnoty a boolean hodnot:"
   ]
  },
  {
   "cell_type": "code",
   "execution_count": 52,
   "metadata": {},
   "outputs": [],
   "source": [
    "cele_jmeno = \"Matouš Holinka\"\n",
    "je_dospely = True"
   ]
  },
  {
   "cell_type": "code",
   "execution_count": 53,
   "metadata": {},
   "outputs": [
    {
     "name": "stdout",
     "output_type": "stream",
     "text": [
      "True\n"
     ]
    }
   ],
   "source": [
    "print(je_dospely is True)      # ! Nepoužívat je_dospely == True"
   ]
  },
  {
   "cell_type": "code",
   "execution_count": 54,
   "metadata": {},
   "outputs": [
    {
     "name": "stdout",
     "output_type": "stream",
     "text": [
      "False\n"
     ]
    }
   ],
   "source": [
    "print(je_dospely is not True)  # ! Nepoužívat je_dospely != True"
   ]
  },
  {
   "cell_type": "markdown",
   "metadata": {},
   "source": [
    "<br>\n",
    "\n",
    "####  `is` nebo `==` ?\n",
    "\n",
    "---"
   ]
  },
  {
   "cell_type": "markdown",
   "metadata": {},
   "source": [
    "<br>\n",
    "\n",
    "Opatrně na aplikaci operátorů porovnávání **identit** a **hodnot**:\n",
    "* `==` a `!=` **porovnávají hodnotu**,\n",
    "* `is` a `is not` porovnávají, jestli dvě proměnné ukazují v paměti počítače **na stejný objekt**."
   ]
  },
  {
   "cell_type": "code",
   "execution_count": 55,
   "metadata": {},
   "outputs": [],
   "source": [
    "muj_seznam_1 = [1, 2, 3]\n",
    "muj_seznam_2 = [1, 2]"
   ]
  },
  {
   "cell_type": "code",
   "execution_count": 56,
   "metadata": {},
   "outputs": [
    {
     "name": "stdout",
     "output_type": "stream",
     "text": [
      "False\n"
     ]
    }
   ],
   "source": [
    "print(muj_seznam_1 == muj_seznam_2)  # [1, 2, 3] != [1, 2]"
   ]
  },
  {
   "cell_type": "code",
   "execution_count": 57,
   "metadata": {},
   "outputs": [],
   "source": [
    "muj_seznam_3 = [1, 2, 3]\n",
    "muj_seznam_4 = [1, 2, 3]"
   ]
  },
  {
   "cell_type": "code",
   "execution_count": 58,
   "metadata": {},
   "outputs": [
    {
     "name": "stdout",
     "output_type": "stream",
     "text": [
      "True\n"
     ]
    }
   ],
   "source": [
    "print(muj_seznam_3 == muj_seznam_4)  # [1, 2, 3] == [1, 2, 3]"
   ]
  },
  {
   "cell_type": "code",
   "execution_count": 59,
   "metadata": {},
   "outputs": [
    {
     "name": "stdout",
     "output_type": "stream",
     "text": [
      "140104447336832\n",
      "140104447147264\n"
     ]
    }
   ],
   "source": [
    "print(id(muj_seznam_3))\n",
    "print(id(muj_seznam_4))"
   ]
  },
  {
   "cell_type": "code",
   "execution_count": 60,
   "metadata": {},
   "outputs": [
    {
     "name": "stdout",
     "output_type": "stream",
     "text": [
      "False\n"
     ]
    }
   ],
   "source": [
    "print(muj_seznam_3 is muj_seznam_4)"
   ]
  },
  {
   "cell_type": "code",
   "execution_count": 61,
   "metadata": {},
   "outputs": [],
   "source": [
    "muj_seznam_5 = []\n",
    "muj_seznam_6 = []"
   ]
  },
  {
   "cell_type": "code",
   "execution_count": 62,
   "metadata": {},
   "outputs": [
    {
     "name": "stdout",
     "output_type": "stream",
     "text": [
      "True\n"
     ]
    }
   ],
   "source": [
    "print(muj_seznam_5 == muj_seznam_6)"
   ]
  },
  {
   "cell_type": "code",
   "execution_count": 63,
   "metadata": {},
   "outputs": [
    {
     "name": "stdout",
     "output_type": "stream",
     "text": [
      "140104800402432\n",
      "140104447374016\n"
     ]
    }
   ],
   "source": [
    "print(id(muj_seznam_5))\n",
    "print(id(muj_seznam_6))"
   ]
  },
  {
   "cell_type": "code",
   "execution_count": 64,
   "metadata": {},
   "outputs": [
    {
     "name": "stdout",
     "output_type": "stream",
     "text": [
      "True\n"
     ]
    }
   ],
   "source": [
    "print(muj_seznam_5 is not muj_seznam_6)"
   ]
  },
  {
   "cell_type": "code",
   "execution_count": 68,
   "metadata": {},
   "outputs": [],
   "source": [
    "muj_tuple_7 = ()\n",
    "muj_tuple_8 = ()"
   ]
  },
  {
   "cell_type": "code",
   "execution_count": 69,
   "metadata": {},
   "outputs": [
    {
     "name": "stdout",
     "output_type": "stream",
     "text": [
      "140105137111104\n",
      "140105137111104\n"
     ]
    }
   ],
   "source": [
    "print(id(muj_tuple_7))\n",
    "print(id(muj_tuple_8))"
   ]
  },
  {
   "cell_type": "code",
   "execution_count": 70,
   "metadata": {},
   "outputs": [
    {
     "name": "stdout",
     "output_type": "stream",
     "text": [
      "True\n"
     ]
    }
   ],
   "source": [
    "print(muj_tuple_7 is muj_tuple_8)"
   ]
  },
  {
   "cell_type": "markdown",
   "metadata": {},
   "source": [
    "Použití datového typu *boolean* nesouvisí pouze s těmito procesy, ale také s tvorbou **rozhodovacích procesů**."
   ]
  },
  {
   "cell_type": "markdown",
   "metadata": {},
   "source": [
    "#### **Demo**: Reálná analogie 👀🐱"
   ]
  },
  {
   "cell_type": "markdown",
   "metadata": {},
   "source": [
    "<img src=\"https://external-content.duckduckgo.com/iu/?u=https%3A%2F%2Ftse1.mm.bing.net%2Fth%3Fid%3DOIP.-i3k3_zQEjLhFLuMGEW5NAHaHZ%26pid%3DApi&f=1&ipt=1cd115c93942aa169dd40aa5a11f192af6a24b0975c0797ca2dc7bc0ab5b4a56&ipo=images\" width=\"250\" style=\"margin-left:auto; margin-right:auto\"/>"
   ]
  },
  {
   "attachments": {},
   "cell_type": "markdown",
   "metadata": {},
   "source": [
    "## Jednoduchý podmínkový zápis\n",
    "\n",
    "---\n",
    "\n",
    "**Podmínkový zápis** je proces, který budeš potřebovat, pokud budeš chtít, aby **tvůj skript** sám rozhodoval.\n",
    "\n",
    "\n",
    "V Pythonu můžeš rozhodování zapsat pomocí tzv. *podmínkového zápisu*, který začíná rezervovaným výrazem `if`. \n",
    "\n",
    "Velkou výhodou oproti jiným programovacím jazykům, je možnost **nepsat závorky** (jak tomu je u *Javy*, *R* aj.)."
   ]
  },
  {
   "cell_type": "code",
   "execution_count": 80,
   "metadata": {},
   "outputs": [],
   "source": [
    "jmeno = \"Matouš\"\n",
    "vek = 10"
   ]
  },
  {
   "cell_type": "code",
   "execution_count": 81,
   "metadata": {},
   "outputs": [
    {
     "name": "stdout",
     "output_type": "stream",
     "text": [
      "Uživatel Matouš není plnoletý.\n",
      "a\n"
     ]
    }
   ],
   "source": [
    "if vek >= 18:\n",
    "    print(\"Uživatel\", jmeno, \"je plnoletý.\")    # --> True\n",
    "else:\n",
    "    print(\"Uživatel\", jmeno, \"není plnoletý.\")  # --> False"
   ]
  },
  {
   "cell_type": "markdown",
   "metadata": {},
   "source": [
    "<br>\n",
    "\n",
    "Zápis se nyní skládá z:\n",
    "1. `if`, klíčové slovo pro **předpis podmínky**,\n",
    "2. `plnolety`, **výraz**,\n",
    "3. `:`, řádek **ukončený dvojtečkou**,\n",
    "4. `print(...)` odsazený následující řádek, který nastane pokud je podmínka **pravdivá**,\n",
    "5. `else`, klíčové slovo, pokud výraz pro větev v případě, že je výraz **nepravdivý**,\n",
    "6. `:`, řádek **ukončený dvojtečkou**,\n",
    "7. `print(...)` odsazený **následující řádek**."
   ]
  },
  {
   "cell_type": "markdown",
   "metadata": {},
   "source": [
    "<br>\n",
    "\n",
    "### 🧠 CVIČENÍ 1 🧠, Vyzkoušej si porovnávání desetinných čísel"
   ]
  },
  {
   "cell_type": "markdown",
   "metadata": {},
   "source": [
    "1. Vytvoř proměnné `cislo_1` a `cislo_2`, kam budeš ukládat vstup uživatele jako **desetinná čísla** (pomocí funkce `input`),\n",
    "2. pokud je hodnota v proměnné `cislo_1` **větší než** `cislo_2`, program by měl vypsat `\"První číslo je větší než druhé.\"`,\n",
    "3. pokud je hodnota v proměnné `cislo_1` **menší než** `cislo_2`, program by měl vypsat `\"První číslo je menší než druhé.\"`,"
   ]
  },
  {
   "cell_type": "code",
   "execution_count": 107,
   "metadata": {},
   "outputs": [
    {
     "name": "stdin",
     "output_type": "stream",
     "text": [
      "Zadej první desetinné číslo: 1.1\n",
      "Zadej druhé desetinné číslo: 1.1\n"
     ]
    },
    {
     "name": "stdout",
     "output_type": "stream",
     "text": [
      "První číslo je menší než druhé.\n"
     ]
    }
   ],
   "source": [
    "cislo_1 = float(input('Zadej první desetinné číslo:'))\n",
    "cislo_2 = float(input('Zadej druhé desetinné číslo:'))\n",
    "\n",
    "if cislo_1 > cislo_2:\n",
    "    print(\"První číslo je větší než druhé.\")\n",
    "else:\n",
    "    print(\"První číslo je menší než druhé.\")"
   ]
  },
  {
   "cell_type": "markdown",
   "metadata": {},
   "source": [
    "<details>\n",
    "  <summary>▶️  Klikni zde pro zobrazení řešení</summary>\n",
    "   \n",
    "```python\n",
    "cislo_1 = float(input(\"Zadejte první číslo: \"))\n",
    "cislo_2 = float(input(\"Zadejte druhé číslo: \"))\n",
    "\n",
    "if cislo_1 < cislo_2:\n",
    "    print(\"První číslo je menší než druhé.\")\n",
    "else:\n",
    "    print(\"První číslo je větší než druhé.\")\n",
    "```\n",
    "</details>"
   ]
  },
  {
   "cell_type": "markdown",
   "metadata": {},
   "source": [
    "<img src=\"https://external-content.duckduckgo.com/iu/?u=https%3A%2F%2Ftse1.mm.bing.net%2Fth%3Fid%3DOIP.yLOyM3kOmMLeoCCP47fziQHaHa%26pid%3DApi&f=1\" width=\"300\" style=\"margin-left:auto; margin-right:auto\"/>"
   ]
  },
  {
   "cell_type": "markdown",
   "metadata": {},
   "source": [
    "## Rozvinutý podmínkový zápis\n",
    "\n",
    "---\n",
    "\n",
    "Podmínkový zápis ale není jen obyčejné `if`, `elif` a `else`.\n",
    "\n",
    "<br>\n",
    "\n",
    "Záleží na okolnostech a možných scénářích, ale pomocí operátorů můžeš zápis ještě **rozšířit**."
   ]
  },
  {
   "cell_type": "code",
   "execution_count": 113,
   "metadata": {},
   "outputs": [],
   "source": [
    "cislo = 22"
   ]
  },
  {
   "cell_type": "code",
   "execution_count": 114,
   "metadata": {},
   "outputs": [
    {
     "name": "stdout",
     "output_type": "stream",
     "text": [
      "Nepatřím mezi prvních dvacet\n"
     ]
    }
   ],
   "source": [
    "if 0 < cislo <= 10:\n",
    "    print(\"Patřím mezi prvních deset\")\n",
    "elif 10 < cislo <= 20:\n",
    "    print(\"Patřím mezi druhých deset\")\n",
    "else:\n",
    "    print(\"Nepatřím mezi prvních dvacet\")"
   ]
  },
  {
   "cell_type": "markdown",
   "metadata": {},
   "source": [
    "<br>\n",
    "\n",
    "Zápis se nyní skládá z:\n",
    "1. `if`, klíčové slovo pro **předpis podmínky**,\n",
    "2. `0 < cislo <= 10`, výrazu,\n",
    "3. `:`, řádek **ukončený dvojtečkou**,\n",
    "4. `print(...)` odsazený následující řádek, který se interpretuje pokud je podmínka u `if` **pravdivá**,\n",
    "5. `elif`, klíčové slovo, pokud je větev `if` **nepravdivá**, zkontroluj tuto větev s podmínkou,\n",
    "6. `:`, řádek ukončený **dvojtečkou**,\n",
    "7. `print(...)` ...,\n",
    "8. `else`, klíčové slovo, proveď automaticky tuto větev, pokud byly předchozí podmínky **nepravdivé**.\n"
   ]
  },
  {
   "cell_type": "markdown",
   "metadata": {},
   "source": [
    "<br>\n",
    "\n",
    "### Složitější předpis\n",
    "\n",
    "---"
   ]
  },
  {
   "cell_type": "markdown",
   "metadata": {},
   "source": [
    "Můžeš totiž často kombinovat některé podmínky pomocí boolean operátorů `and`, `or` a `not`.\n",
    "\n",
    "K tomu však potřebuješ další podmínkovou větev, kterou dostaneš kombinací `else if`, tedy `elif`:"
   ]
  },
  {
   "cell_type": "code",
   "execution_count": 115,
   "metadata": {},
   "outputs": [],
   "source": [
    "jmeno = \"Matouš\"\n",
    "je_uzivatel = False\n",
    "je_dospely = False"
   ]
  },
  {
   "cell_type": "code",
   "execution_count": 116,
   "metadata": {},
   "outputs": [
    {
     "name": "stdout",
     "output_type": "stream",
     "text": [
      "Ahoj, neregistrovaný uživateli, tady je naše nabídka pro mladistvé.\n"
     ]
    }
   ],
   "source": [
    "if je_uzivatel and je_dospely:\n",
    "    print(\"Ahoj,\", jmeno, \"tady je naše kompletní nabídka.\")\n",
    "\n",
    "elif je_uzivatel and not je_dospely:  # False and True --> False\n",
    "    print(\"Ahoj,\", jmeno, \"tady je naše nabídka pro mladistvé.\")\n",
    "\n",
    "elif not je_uzivatel and je_dospely:  # False\n",
    "    print(\"Ahoj, neregistrovaný uživateli, tady je naše kompletní nabídka.\")\n",
    "\n",
    "else:\n",
    "    print(\"Ahoj, neregistrovaný uživateli, tady je naše nabídka pro mladistvé.\")"
   ]
  },
  {
   "cell_type": "markdown",
   "metadata": {},
   "source": [
    "<br>\n",
    "\n",
    "### 🧠 CVIČENÍ  2 🧠, Vyzkoušej si hru `FizzBuzz`"
   ]
  },
  {
   "cell_type": "markdown",
   "metadata": {},
   "source": [
    "1. Vytvoř proměnnou `cislo`, kam budeš ukládat vstup uživatele jako **celé číslo**,\n",
    "2. pokud je číslo **dělitelné třemi**, program by měl vypsat `\"Fizz\"`,\n",
    "3. pokud je číslo **dělitelné pěti**, program by měl vypsat `\"Buzz\"`,\n",
    "4. pokud je číslo **dělitelné třemi i pěti**, program by měl vypsat `\"FizzBuzz\"`,\n",
    "5. pokud číslo **není dělitelné ani třemi, ani pěti**, program by měl vypsat toto číslo."
   ]
  },
  {
   "cell_type": "code",
   "execution_count": 130,
   "metadata": {},
   "outputs": [
    {
     "name": "stdin",
     "output_type": "stream",
     "text": [
      "Zadej celé číslo: 8\n"
     ]
    },
    {
     "name": "stdout",
     "output_type": "stream",
     "text": [
      "8\n"
     ]
    }
   ],
   "source": [
    "cislo = int(input('Zadej celé číslo:'))\n",
    "\n",
    "if cislo % 3 == 0 and cislo % 5 == 0:\n",
    "    print(\"FizzBuzz\")\n",
    "elif cislo % 3 == 0:\n",
    "    print(\"Fizz\")\n",
    "elif cislo % 5 == 0:\n",
    "    print(\"Buzz\")\n",
    "else:\n",
    "    print(cislo)"
   ]
  },
  {
   "cell_type": "markdown",
   "metadata": {},
   "source": [
    "<details>\n",
    "  <summary>▶️  Klikni zde pro zobrazení řešení</summary>\n",
    "   \n",
    "```python\n",
    "cislo = int(input(\"Zadejte celé číslo: \"))\n",
    "\n",
    "if cislo % 3 == 0 and cislo % 5 == 0:\n",
    "    print(\"FizzBuzz\")\n",
    "elif cislo % 3 == 0:\n",
    "    print(\"Fizz\")\n",
    "elif cislo % 5 == 0:\n",
    "    print(\"Buzz\")\n",
    "else:\n",
    "    print(cislo)\n",
    "```\n",
    "</details>"
   ]
  },
  {
   "cell_type": "markdown",
   "metadata": {},
   "source": [
    "<img src=\"../pictures/proj.webp\" width=\"300\" style=\"margin-left:auto; margin-right:auto\"/>\n",
    "\n",
    "## [mírně pokročilé] Ternární operátor\n",
    "\n",
    "---\n",
    "V Pythonu 2.5 byl přidán jednořádkový zápis pro jednoduchou podmínku `if/else`. Jde o **pokročilejší variantu** zápisu podmínky:\n",
    "\n",
    "```python\n",
    "<proveď_toto> if <pokud_platí_toto> else <jinak_proveď_toto>\n",
    "```"
   ]
  },
  {
   "cell_type": "code",
   "execution_count": null,
   "metadata": {},
   "outputs": [],
   "source": [
    "vek = 18"
   ]
  },
  {
   "cell_type": "code",
   "execution_count": null,
   "metadata": {},
   "outputs": [],
   "source": [
    "if vek >= 18:\n",
    "    print(\"Dospělý\")\n",
    "else:\n",
    "    print(\"Mladiství\")"
   ]
  },
  {
   "cell_type": "code",
   "execution_count": null,
   "metadata": {},
   "outputs": [],
   "source": [
    "print(\"Dospělý\") if vek >= 18 else print(\"Mladiství\")"
   ]
  },
  {
   "cell_type": "code",
   "execution_count": null,
   "metadata": {},
   "outputs": [],
   "source": [
    "je_dospely = True if vek >= 18 else False"
   ]
  },
  {
   "cell_type": "code",
   "execution_count": null,
   "metadata": {},
   "outputs": [],
   "source": [
    "print(je_dospely)"
   ]
  },
  {
   "cell_type": "markdown",
   "metadata": {},
   "source": [
    "<br>\n",
    "\n",
    "Uložení hodnoty do proměnné:"
   ]
  },
  {
   "cell_type": "code",
   "execution_count": null,
   "metadata": {},
   "outputs": [],
   "source": [
    "vek = 15\n",
    "\n",
    "stav = \"Dospělý\" if vek >= 18 else \"Mladiství\""
   ]
  },
  {
   "cell_type": "code",
   "execution_count": null,
   "metadata": {},
   "outputs": [],
   "source": [
    "print(stav)"
   ]
  },
  {
   "cell_type": "markdown",
   "metadata": {},
   "source": [
    "<br>\n",
    "\n",
    "<img src=\"../pictures/tools.webp\" width=\"200\" style=\"margin-left:auto; margin-right:auto\"/>\n",
    "\n",
    "## Metody\n",
    "\n",
    "---"
   ]
  },
  {
   "cell_type": "markdown",
   "metadata": {},
   "source": [
    "Kromě *zabudovaných funkcí*, které jsou k dispozici v Pythonu, máme také tzv. **metody datových typů**.\n",
    "\n",
    "\n",
    "**Metody** jsou také v podstatě nástroje, které rozšiřují použití jednotlivých datových typů.\n",
    "\n",
    "<br>\n",
    "\n",
    "Jaký je tedy rozdíl mezi *metodou* a *funkcí*?\n",
    "\n",
    "\n",
    "1. **Funkce** jsou obecnější, protože umí pracovat s různými datovými typy (`print`),\n",
    "2. **Metody** jsou úzce zaměřené na konkrétní datový typ (`str`)."
   ]
  },
  {
   "cell_type": "code",
   "execution_count": 131,
   "metadata": {},
   "outputs": [
    {
     "name": "stdout",
     "output_type": "stream",
     "text": [
      "1\n",
      "1.0\n",
      "Jedna\n"
     ]
    }
   ],
   "source": [
    "print(1)        # int\n",
    "print(1.00)     # float\n",
    "print(\"Jedna\")  # str"
   ]
  },
  {
   "cell_type": "markdown",
   "metadata": {},
   "source": [
    "### Metody stringu\n",
    "\n",
    "---\n",
    "\n",
    "Některé metody pro datový typ `str`:"
   ]
  },
  {
   "cell_type": "code",
   "execution_count": null,
   "metadata": {},
   "outputs": [],
   "source": [
    "print(dir(str))  # Vypsat všechny dostupné metody pro STRING"
   ]
  },
  {
   "cell_type": "code",
   "execution_count": null,
   "metadata": {},
   "outputs": [],
   "source": [
    "print(help(str.title))"
   ]
  },
  {
   "cell_type": "code",
   "execution_count": null,
   "metadata": {},
   "outputs": [],
   "source": [
    "print()\n",
    "input()\n",
    "type()"
   ]
  },
  {
   "cell_type": "code",
   "execution_count": 132,
   "metadata": {},
   "outputs": [
    {
     "name": "stdout",
     "output_type": "stream",
     "text": [
      "Matouš Holinka\n"
     ]
    }
   ],
   "source": [
    "print(\"matouš holinka\".title())"
   ]
  },
  {
   "cell_type": "code",
   "execution_count": 133,
   "metadata": {},
   "outputs": [
    {
     "name": "stdout",
     "output_type": "stream",
     "text": [
      "Matouš holinka\n"
     ]
    }
   ],
   "source": [
    "print(\"matouš holinka\".capitalize())"
   ]
  },
  {
   "cell_type": "code",
   "execution_count": 136,
   "metadata": {},
   "outputs": [],
   "source": [
    "# str.split?"
   ]
  },
  {
   "cell_type": "code",
   "execution_count": 138,
   "metadata": {},
   "outputs": [
    {
     "name": "stdout",
     "output_type": "stream",
     "text": [
      "['matouš ', 'olinka']\n"
     ]
    }
   ],
   "source": [
    "print(\"matouš holinka\".split('h'))"
   ]
  },
  {
   "cell_type": "code",
   "execution_count": 140,
   "metadata": {},
   "outputs": [
    {
     "name": "stdout",
     "output_type": "stream",
     "text": [
      "Matouš\n"
     ]
    }
   ],
   "source": [
    "print(\"matouš holinka\".split()[0].capitalize())"
   ]
  },
  {
   "cell_type": "code",
   "execution_count": null,
   "metadata": {},
   "outputs": [],
   "source": [
    "print(\"matous\".isnumeric())"
   ]
  },
  {
   "cell_type": "code",
   "execution_count": null,
   "metadata": {},
   "outputs": [],
   "source": [
    "print(\"1234\".isnumeric())"
   ]
  },
  {
   "cell_type": "code",
   "execution_count": null,
   "metadata": {},
   "outputs": [],
   "source": [
    "print(\"matous\".upper())"
   ]
  },
  {
   "cell_type": "code",
   "execution_count": null,
   "metadata": {},
   "outputs": [],
   "source": [
    "print(\"MaTouS\".lower())"
   ]
  },
  {
   "cell_type": "code",
   "execution_count": 142,
   "metadata": {},
   "outputs": [
    {
     "name": "stdout",
     "output_type": "stream",
     "text": [
      "MAtous\n"
     ]
    }
   ],
   "source": [
    "print(\"matous\".replace('m', 'M').replace('a', 'A'))"
   ]
  },
  {
   "cell_type": "code",
   "execution_count": null,
   "metadata": {},
   "outputs": [],
   "source": [
    "print(\"matous\".title())"
   ]
  },
  {
   "cell_type": "markdown",
   "metadata": {},
   "source": [
    "<br>\n",
    "\n",
    "### 🧠 CVIČENÍ 3 🧠, Vyzkoušej si metody pro `str`:"
   ]
  },
  {
   "cell_type": "markdown",
   "metadata": {},
   "source": [
    "1. Ze stringu `\"matous.holinka@gmail.com\"`, získej jenom `\"matous.holinka\"`,\n",
    "2. nahraď ve `\"matous.holinka\"` znak `\".\"` pomocí mezery `\" \"`,\n",
    "3. vypiš jméno *titlecase*, tedy `\"Matous Holinka\"`."
   ]
  },
  {
   "cell_type": "code",
   "execution_count": 149,
   "metadata": {},
   "outputs": [
    {
     "name": "stdout",
     "output_type": "stream",
     "text": [
      "Matous Holinka\n"
     ]
    }
   ],
   "source": [
    "print(\"matous.holinka@gmail.com\".split('@')\n",
    "                                [0]\n",
    "                                .replace('.', ' ')\n",
    "                                .title())"
   ]
  },
  {
   "cell_type": "markdown",
   "metadata": {},
   "source": [
    "<details>\n",
    "  <summary>▶️  Klikni zde pro zobrazení řešení</summary>\n",
    "   \n",
    "```python\n",
    "print(\"matous.holinka@gmail.com\".split(\"@\")[0].replace(\".\", \" \").title())\n",
    "```\n",
    "</details>"
   ]
  },
  {
   "cell_type": "markdown",
   "metadata": {},
   "source": [
    "<br>\n",
    "\n",
    "### Metody listu\n",
    "\n",
    "---\n",
    "\n",
    "Některé metody pro datový typ `list`:"
   ]
  },
  {
   "cell_type": "code",
   "execution_count": 1,
   "metadata": {},
   "outputs": [],
   "source": [
    "jmena = [\"Matouš\", \"Lukáš\"]"
   ]
  },
  {
   "cell_type": "code",
   "execution_count": 2,
   "metadata": {},
   "outputs": [
    {
     "name": "stdout",
     "output_type": "stream",
     "text": [
      "['Matouš', 'Lukáš']\n"
     ]
    }
   ],
   "source": [
    "print(jmena)"
   ]
  },
  {
   "cell_type": "markdown",
   "metadata": {},
   "source": [
    "<br>\n",
    "\n",
    "Metody pro rozšíření hodnot ve stávajícím `list`:"
   ]
  },
  {
   "cell_type": "code",
   "execution_count": 5,
   "metadata": {},
   "outputs": [],
   "source": [
    "jmena.append(\"Petr\")"
   ]
  },
  {
   "cell_type": "code",
   "execution_count": 6,
   "metadata": {},
   "outputs": [
    {
     "name": "stdout",
     "output_type": "stream",
     "text": [
      "['Matouš', 'Lukáš', 'Petr', 'Petr']\n"
     ]
    }
   ],
   "source": [
    "print(jmena)"
   ]
  },
  {
   "cell_type": "code",
   "execution_count": 7,
   "metadata": {},
   "outputs": [],
   "source": [
    "jmena.insert(0, \"Marek\")"
   ]
  },
  {
   "cell_type": "code",
   "execution_count": 8,
   "metadata": {},
   "outputs": [
    {
     "name": "stdout",
     "output_type": "stream",
     "text": [
      "['Marek', 'Matouš', 'Lukáš', 'Petr', 'Petr']\n"
     ]
    }
   ],
   "source": [
    "print(jmena)"
   ]
  },
  {
   "cell_type": "code",
   "execution_count": 9,
   "metadata": {},
   "outputs": [],
   "source": [
    "jmena.insert(1, \"David\")"
   ]
  },
  {
   "cell_type": "code",
   "execution_count": 10,
   "metadata": {},
   "outputs": [
    {
     "name": "stdout",
     "output_type": "stream",
     "text": [
      "['Marek', 'David', 'Matouš', 'Lukáš', 'Petr', 'Petr']\n"
     ]
    }
   ],
   "source": [
    "print(jmena)"
   ]
  },
  {
   "cell_type": "markdown",
   "metadata": {},
   "source": [
    "<br>\n",
    "\n",
    "Není možné, kombinovat různé metody pro různé datové typy:"
   ]
  },
  {
   "cell_type": "code",
   "execution_count": 11,
   "metadata": {},
   "outputs": [
    {
     "ename": "AttributeError",
     "evalue": "'list' object has no attribute 'split'",
     "output_type": "error",
     "traceback": [
      "\u001b[0;31m---------------------------------------------------------------------------\u001b[0m",
      "\u001b[0;31mAttributeError\u001b[0m                            Traceback (most recent call last)",
      "Cell \u001b[0;32mIn[11], line 1\u001b[0m\n\u001b[0;32m----> 1\u001b[0m \u001b[43mjmena\u001b[49m\u001b[38;5;241;43m.\u001b[39;49m\u001b[43msplit\u001b[49m()\n",
      "\u001b[0;31mAttributeError\u001b[0m: 'list' object has no attribute 'split'"
     ]
    }
   ],
   "source": [
    "jmena.split()"
   ]
  },
  {
   "cell_type": "markdown",
   "metadata": {},
   "source": [
    "<br>\n",
    "\n",
    "### 🧠 CVIČENÍ 4 🧠, Vyzkoušej si metody pro `list`:"
   ]
  },
  {
   "cell_type": "markdown",
   "metadata": {},
   "source": [
    "1. Z proměnné `zaznam`, získej jednotlivé hodnoty rozdělené na řádcích, vyselektuj jen validní hodnoty:\n",
    "   ```python\n",
    "   ['2021-01-01 11:11:11:1111 - něco se děje,',\n",
    " '2021-01-01 11:12:11:1111 - nic to nebylo,',\n",
    " '2021-01-01 11:13:11:1111 - a přece něco!,']\n",
    "   ```\n",
    "3. na **nultý index** přidej hodnotu:\n",
    "   ```python\n",
    "   ['2021-01-01 11:10:11:1111 - BANG,\\n',\n",
    " '2021-01-01 11:11:11:1111 - něco se děje,',\n",
    " '2021-01-01 11:12:11:1111 - nic to nebylo,',\n",
    " '2021-01-01 11:13:11:1111 - a přece něco!,']\n",
    "   ```\n",
    "4. na **poslední index** přidej hodnotu:\n",
    "   ```python\n",
    "   ['2021-01-01 11:10:11:1111 - BANG,\\n',\n",
    " '2021-01-01 11:11:11:1111 - něco se děje,',\n",
    " '2021-01-01 11:12:11:1111 - nic to nebylo,',\n",
    " '2021-01-01 11:13:11:1111 - a přece něco!,',\n",
    " '2021-01-01 11:14:11:1111 - BANG BANG!,\\n']\n",
    "   ```"
   ]
  },
  {
   "cell_type": "code",
   "execution_count": 12,
   "metadata": {},
   "outputs": [],
   "source": [
    "zaznam = \"\"\"\n",
    "2021-01-01 11:11:11:1111 - něco se děje,\n",
    "2021-01-01 11:12:11:1111 - nic to nebylo,\n",
    "2021-01-01 11:13:11:1111 - a přece něco!,\n",
    "\"\"\""
   ]
  },
  {
   "cell_type": "code",
   "execution_count": 27,
   "metadata": {},
   "outputs": [
    {
     "name": "stdout",
     "output_type": "stream",
     "text": [
      "['2021-01-01 11:10:11:1111 - BANG,\\n',\n",
      " '2021-01-01 11:11:11:1111 - něco se děje,',\n",
      " '2021-01-01 11:12:11:1111 - nic to nebylo,',\n",
      " '2021-01-01 11:13:11:1111 - a přece něco!,',\n",
      " '2021-01-01 11:14:11:1111 - BANG BANG!,\\n']\n"
     ]
    }
   ],
   "source": [
    "# 1. úkol\n",
    "rozdeleny_zaznam = zaznam.splitlines()[1:4]\n",
    "\n",
    "# 2. úkol\n",
    "rozdeleny_zaznam.insert(0, '2021-01-01 11:10:11:1111 - BANG,\\n')\n",
    "\n",
    "# 3. úkol\n",
    "rozdeleny_zaznam.append('2021-01-01 11:14:11:1111 - BANG BANG!,\\n')\n",
    "\n",
    "from pprint import pprint\n",
    "pprint(rozdeleny_zaznam)"
   ]
  },
  {
   "cell_type": "markdown",
   "metadata": {},
   "source": [
    "<details>\n",
    "  <summary>▶️  Klikni zde pro zobrazení řešení</summary>\n",
    "   \n",
    "```python\n",
    "zaznam = \"\"\"\\\n",
    "2021-01-01 11:11:11:1111 - něco se děje,\n",
    "2021-01-01 11:12:11:1111 - nic to nebylo,\n",
    "2021-01-01 11:13:11:1111 - a přece něco!,\n",
    "\"\"\"\n",
    "zaznam_delene.insert(0, \"2021-01-01 11:10:11:1111 - BANG,\\n\")\n",
    "zaznam_delene.append(\"2021-01-01 11:14:11:1111 - BANG BANG!,\\n\")\n",
    "```\n",
    "</details>"
   ]
  },
  {
   "cell_type": "markdown",
   "metadata": {},
   "source": [
    "<img src=\"https://external-content.duckduckgo.com/iu/?u=https%3A%2F%2Ftse1.mm.bing.net%2Fth%3Fid%3DOIP.GMJvJ-GG0YS8H5JmHR3CbwHaHm%26pid%3DApi&f=1\" width=\"300\" style=\"margin-left:auto; margin-right:auto\" />\n",
    "\n",
    "## [nepovinné] Domácí úkol\n",
    "\n",
    "---\n",
    "\n",
    "Vytvoř takový podmínkový zápis, který bude reagovat na nesprávně zadaná hesla (viz. příklad níže):"
   ]
  },
  {
   "cell_type": "code",
   "execution_count": null,
   "metadata": {},
   "outputs": [],
   "source": [
    "heslo_0 = \"\"            # FAIL -> \"Vynechal jsi pole s heslem!\"\n",
    "heslo_1 = \"1panpes738\"  # FAIL -> \"Heslo nesmí začínat číselným znakem\"\n",
    "heslo_2 = \"panpessss\"   # FAIL -> \"Heslo musí obsahovat jak číselné znaky, tak písmena\"\n",
    "heslo_3 = \"123456\"      # FAIL -> \"Heslo nesmí začínat číselným znakem\"\n",
    "heslo_4 = \"aa1234\"      # FAIL -> \"Heslo musí být alespoň 8 znaků dlouhé\"\n",
    "heslo_5 = \"p@npes7778\"  # FAIL -> \"Heslo nesmí obsahovat '@'\"\n",
    "heslo_6 = \"panpes7778\"  # PASS -> \"Heslo je v pořádku\""
   ]
  },
  {
   "cell_type": "code",
   "execution_count": null,
   "metadata": {},
   "outputs": [],
   "source": [
    "heslo = heslo_6"
   ]
  },
  {
   "cell_type": "markdown",
   "metadata": {},
   "source": [
    "<details>\n",
    "  <summary>▶️  Klikni zde pro zobrazení řešení</summary>\n",
    "   \n",
    "```python\n",
    "heslo_0 = \"\"            # FAIL -> \"Vynechal jsi pole s heslem!\"\n",
    "heslo_1 = \"1panpes738\"  # FAIL -> \"Heslo nesmí začínat číselným znakem\"\n",
    "heslo_2 = \"panpessss\"   # FAIL -> \"Heslo musí obsahovat jak číselné znaky, tak písmena\"\n",
    "heslo_3 = \"12345678\"    # FAIL -> \"Heslo nesmí začínat číselným znakem\"\n",
    "heslo_4 = \"aa1234\"      # FAIL -> \"Heslo musí být alespoň 8 znaků dlouhé\"\n",
    "heslo_5 = \"p@npes7778\"  # FAIL -> \"Heslo nesmí obsahovat '@'\"\n",
    "heslo_6 = \"panpes7778\"  # PASS -> \"Heslo je v pořádku\"\n",
    "\n",
    "heslo = heslo_3\n",
    "\n",
    "if not heslo:\n",
    "    print(\"Vynechal jsi pole s heslem!\")\n",
    "elif heslo[0].isdigit() and not heslo.isnumeric():\n",
    "    print(\"Heslo nesmí začínat číselným znakem\")\n",
    "elif len(heslo) < 8:\n",
    "    print(\"Heslo musí být alespoň 8 znaků dlouhé\")\n",
    "elif heslo.find(\"@\") != -1:\n",
    "    print('Heslo nesmí obsahovat \\\"@\\\"')\n",
    "elif heslo.isnumeric() or heslo.isalpha():\n",
    "    print(\"Heslo musí obsahovat jak číselné znaky, tak písmena\")\n",
    "else:\n",
    "    print(\"Heslo je v pořádku\")\n",
    "```\n",
    "</details>"
   ]
  },
  {
   "cell_type": "markdown",
   "metadata": {},
   "source": [
    "➡️ ➡️ **Formulář pro Tvoje hodnocení** [**druhé lekce**](https://forms.gle/tid9yFSwSeVPWBJV8) ⬅️ ⬅️"
   ]
  },
  {
   "cell_type": "markdown",
   "metadata": {},
   "source": [
    "---"
   ]
  }
 ],
 "metadata": {
  "kernelspec": {
   "display_name": "Python 3 (ipykernel)",
   "language": "python",
   "name": "python3"
  },
  "language_info": {
   "codemirror_mode": {
    "name": "ipython",
    "version": 3
   },
   "file_extension": ".py",
   "mimetype": "text/x-python",
   "name": "python",
   "nbconvert_exporter": "python",
   "pygments_lexer": "ipython3",
   "version": "3.8.10"
  }
 },
 "nbformat": 4,
 "nbformat_minor": 4
}
