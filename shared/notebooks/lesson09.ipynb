{
 "cells": [
  {
   "cell_type": "markdown",
   "metadata": {},
   "source": [
    "# Python akademie 2025\n",
    "\n",
    "---\n",
    "\n",
    "<br>\n",
    "\n",
    "## Obsah lekce #09\n",
    "---\n",
    "\n",
    "\n",
    "1. [Úvod do IO](#Úvod-do-IO),\n",
    "2. [Spojení se souborem pomocí Pythonu](#Spojení-se-souborem-pomocí-Pythonu),\n",
    "3. [Textové soubory](#Textové-soubory),\n",
    "4. [Zápis s kontextovým manažerem `with`](#Zápis-s-kontextovým-manažerem),\n",
    "5. [Formátování řetězců (~string formatting)](#Formátování-řetězců-(~string-formatting)).\n",
    "\n",
    "\n",
    "---"
   ]
  },
  {
   "cell_type": "markdown",
   "metadata": {},
   "source": [
    "<br>\n",
    "\n",
    "<img src=\"https://external-content.duckduckgo.com/iu/?u=https%3A%2F%2Ftse4.mm.bing.net%2Fth%3Fid%3DOIP.BPYuvKj05Xo_oF_oXiL1yAHaHa%26pid%3DApi&f=1\" width=\"200\" style=\"margin-left:auto; margin-right:auto\">"
   ]
  },
  {
   "cell_type": "markdown",
   "metadata": {},
   "source": [
    "## Úvod do IO\n",
    "\n",
    "---\n",
    "\n",
    "Nyní pracuješ pouze s objekty **Pythonu vlastními** nebo **s jeho knihovnami**.\n",
    "\n",
    "Všechny tyto objekty si *vytváříš* a *zpracováváš* **v paměti RAM** (*random access memory*).\n",
    "\n",
    "<br>\n",
    "\n",
    "*Paměť RAM* je **velmi rychlá**, ale také nestálá – jakmile **vypneš počítač** nebo přijde výpadek proudu, data v ní zmizí (není elektřina, ztratíš data).\n",
    "\n",
    "Takový **disk počítače** je o dost **pomalejší** než paměť *RAM*, ale umožňuje ti uchovávat tebou získaná, zpracovaná data.\n",
    "\n",
    "<br>\n",
    "\n",
    "V reálných programech potřebuješ často ukládat výsledky své práce:\n",
    "- například uživatelská nastavení,\n",
    "- záznamy z formulářů,\n",
    "- analyzovaná data.\n",
    "\n",
    "Aby bylo možné s těmito daty pracovat **i po vypnutí programu**, je potřeba je uložit někam mimo RAM – nejčastěji na disk, do souboru nebo databáze.\n",
    "\n",
    "<br>\n",
    "\n",
    "Proto je dobré osvojit si pravidla a postupy v Pythonu, jak vytvořit **persistentní data**.\n",
    "\n",
    "<br>"
   ]
  },
  {
   "cell_type": "markdown",
   "metadata": {},
   "source": [
    "<br>\n",
    "\n",
    "<img src=\"https://external-content.duckduckgo.com/iu/?u=https%3A%2F%2Ftse1.mm.bing.net%2Fth%3Fid%3DOIP.h0qswb-mu-Ay17g7L_gwYwHaHa%26pid%3DApi&f=1&ipt=88ac91ad4993d84f5f1996a1644d85f41dead53dc1526c82b95099dfc7e5a6b1&ipo=images\" width=\"200\" style=\"margin-left:auto; margin-right:auto\">"
   ]
  },
  {
   "cell_type": "markdown",
   "metadata": {},
   "source": [
    "## Spojení se souborem pomocí Pythonu\n",
    "\n",
    "---\n",
    "\n",
    "Klasickým způsobem, jak vytvořit (nebo upravit) soubor, je uložit do něj data – tedy bajty – které se zapíšou za hlavičku **obsahující název** a další základní informace o souboru.\n",
    "\n",
    "<br>\n",
    "\n",
    "Než ale začneš se souborem v Pythonu pracovat, potřebuješ si vytvořit *speciální objekt*, který bude tento soubor reprezentovat – tedy sloužit jako prostředník mezi tvým programem a souborem uloženým na disku."
   ]
  },
  {
   "cell_type": "markdown",
   "metadata": {},
   "source": [
    "```python\n",
    "# pomocný objekt\n",
    "muj_soubor = open(jmeno_souboru, pravidla)\n",
    "\n",
    "# ... libovolná ohlášení\n",
    "\n",
    "# uzavření spojení se souborem\n",
    "muj_soubor.close()\n",
    "```"
   ]
  },
  {
   "cell_type": "markdown",
   "metadata": {},
   "source": [
    "### Souhrn pro práci se souborem\n",
    "\n",
    "---"
   ]
  },
  {
   "cell_type": "markdown",
   "metadata": {},
   "source": [
    "1. `muj_soubor`, je **Pythonovský objekt** odkazující na **soubor**,\n",
    "2. `open()`, *zabudovaná funkce*, která **vytváří spojení** (*stream*) mezi objektem a souborem,\n",
    "3. `jmeno_souboru`, jméno souboru (*relativní* cesta/*absolutní* cesta),\n",
    "4. `pravidla`, výběr argumentů upřesňujících, **jak soubor otevřít**,\n",
    "5. `muj_soubor.close()`, způsob, kterým **ukončíš spojení** mezi objektem a souborem."
   ]
  },
  {
   "cell_type": "markdown",
   "metadata": {},
   "source": [
    "<br>\n",
    "\n",
    "<img src=\"https://external-content.duckduckgo.com/iu/?u=https%3A%2F%2Ftse2.mm.bing.net%2Fth%3Fid%3DOIP.JhMJc09m94e9V3oKtb_n3AHaHa%26pid%3DApi&f=1\" width=\"150\" style=\"margin-left:auto; margin-right:auto\">"
   ]
  },
  {
   "cell_type": "markdown",
   "metadata": {},
   "source": [
    "## Textové soubory\n",
    "\n",
    "---\n",
    "\n",
    "Nejlepším souborem na začátek bude prostý **textový soubor**.\n",
    "\n",
    "Textovým souborem rozuměj jakýkoliv soubor, který má příponu `.txt`."
   ]
  },
  {
   "cell_type": "code",
   "execution_count": 2,
   "metadata": {},
   "outputs": [],
   "source": [
    "# import this"
   ]
  },
  {
   "cell_type": "markdown",
   "metadata": {},
   "source": [
    "#### 👀 Demo: Ukázka textového souboru\n",
    "`../data/python_zen.txt`"
   ]
  },
  {
   "cell_type": "markdown",
   "metadata": {},
   "source": [
    "<br>\n",
    "\n",
    "### Úvod k souborům\n",
    "\n",
    "---\n",
    "\n",
    "Základními procesy pro práci se soubory obecně jsou:\n",
    "1. **Čtení** souborů,\n",
    "2. **Zápis** do souborů."
   ]
  },
  {
   "cell_type": "markdown",
   "metadata": {},
   "source": [
    "### Čtení souborů\n",
    "\n",
    "---\n",
    "\n",
    "Otevřít a přečíst *textový soubor* pomocí *editorů* jistě ovládáš.\n",
    "\n",
    "Teď se podívej, jak můžeš naučit otevírání a čtení souborů také **interpreta Pythonu**:"
   ]
  },
  {
   "cell_type": "code",
   "execution_count": 3,
   "metadata": {},
   "outputs": [
    {
     "ename": "SyntaxError",
     "evalue": "invalid syntax (150801912.py, line 1)",
     "output_type": "error",
     "traceback": [
      "\u001b[0;36m  Cell \u001b[0;32mIn[3], line 1\u001b[0;36m\u001b[0m\n\u001b[0;31m    muj_nacteny_txt_soubor = open(../data/python_zen.txt)\u001b[0m\n\u001b[0m                                  ^\u001b[0m\n\u001b[0;31mSyntaxError\u001b[0m\u001b[0;31m:\u001b[0m invalid syntax\n"
     ]
    }
   ],
   "source": [
    "# muj_nacteny_txt_soubor = open(../data/python_zen.txt)"
   ]
  },
  {
   "cell_type": "markdown",
   "metadata": {},
   "source": [
    "<br>\n",
    "\n",
    "Jména souborů je nutné zapisovat jako `str` datový typ:"
   ]
  },
  {
   "cell_type": "code",
   "execution_count": 4,
   "metadata": {},
   "outputs": [],
   "source": [
    "muj_nacteny_txt_soubor = open('../data/python_zen.txt')"
   ]
  },
  {
   "cell_type": "markdown",
   "metadata": {},
   "source": [
    "Také je potřeba **POZORNĚ kontrolovat zadanou cestu** k souboru:"
   ]
  },
  {
   "cell_type": "code",
   "execution_count": 7,
   "metadata": {},
   "outputs": [],
   "source": [
    "# muj_nacteny_txt_soubor = open('python_zen.txt')"
   ]
  },
  {
   "cell_type": "markdown",
   "metadata": {},
   "source": [
    "<br>\n",
    "\n",
    "Dávej pozor, jakým způsobem **jméno souboru** používáš.\n",
    "\n",
    "Python potřebuje pracovat s takovým datovým typem, který dobře zná."
   ]
  },
  {
   "cell_type": "code",
   "execution_count": 6,
   "metadata": {},
   "outputs": [
    {
     "name": "stdout",
     "output_type": "stream",
     "text": [
      "<_io.TextIOWrapper name='../data/python_zen.txt' mode='r' encoding='UTF-8'>\n"
     ]
    }
   ],
   "source": [
    "print(muj_nacteny_txt_soubor)"
   ]
  },
  {
   "cell_type": "markdown",
   "metadata": {},
   "source": [
    "Další kolizí může být **umístění** souboru."
   ]
  },
  {
   "cell_type": "code",
   "execution_count": null,
   "metadata": {},
   "outputs": [],
   "source": [
    "# muj_nacteny_txt_soubor = open('../onsite/python_zen.txt')"
   ]
  },
  {
   "cell_type": "markdown",
   "metadata": {},
   "source": [
    "<br>\n",
    "\n",
    "❗️*Interpret* standardně pracuje **v aktuálním umístění**.❗️\n",
    "\n",
    "<br>\n",
    "\n",
    "Takže buď soubor přesuneš, nebo na něj odkážeš pomocí:\n",
    "1. **Relativní cesty** (tedy vzhledem k aktuálnímu umístění),\n",
    "2. **absolutní cesty** (celá cesta od *roota* nebo *jména disku*)."
   ]
  },
  {
   "cell_type": "markdown",
   "metadata": {},
   "source": [
    "<br>\n",
    "\n",
    "#### Relativní cesta\n",
    "\n",
    "---\n",
    "\n",
    "\n",
    "- `python_zen.txt`, v aktuální složce,\n",
    "- `../data/python_zen.txt`, v rodičovské složce\n",
    "- `../onsite/python_zen.txt`, v dceřinné složce 'shared', v dceřinné složce 'onsite'\n",
    "\n",
    "\n",
    "#### Absolutní cesta, Windows\n",
    "\n",
    "---\n",
    "\n",
    "`C:\\users\\admin\\docs\\python_zen.txt`\n",
    "\n",
    "\n",
    "#### Absolutní cesta, unix\n",
    "\n",
    "---\n",
    "\n",
    "`/home/user/project/shared/onsite/python_zen.txt`"
   ]
  },
  {
   "cell_type": "code",
   "execution_count": 8,
   "metadata": {},
   "outputs": [],
   "source": [
    "cesta_k_souboru = '/home/matous/projects/python-academy-2024/shared/data/python_zen.txt'"
   ]
  },
  {
   "cell_type": "code",
   "execution_count": 9,
   "metadata": {},
   "outputs": [],
   "source": [
    "muj_nacteny_txt_soubor_abs = open(cesta_k_souboru)"
   ]
  },
  {
   "cell_type": "code",
   "execution_count": 10,
   "metadata": {},
   "outputs": [
    {
     "name": "stdout",
     "output_type": "stream",
     "text": [
      "<_io.TextIOWrapper name='/home/matous/projects/python-academy-2024/shared/data/python_zen.txt' mode='r' encoding='UTF-8'>\n"
     ]
    }
   ],
   "source": [
    "print(muj_nacteny_txt_soubor_abs)"
   ]
  },
  {
   "cell_type": "markdown",
   "metadata": {},
   "source": [
    "<br>\n",
    "\n",
    "Můžeš si ověřit, jakou znakovou sadu defaultně tvůj operační systém používá:"
   ]
  },
  {
   "cell_type": "code",
   "execution_count": 11,
   "metadata": {},
   "outputs": [],
   "source": [
    "import sys"
   ]
  },
  {
   "cell_type": "code",
   "execution_count": 12,
   "metadata": {},
   "outputs": [
    {
     "data": {
      "text/plain": [
       "'utf-8'"
      ]
     },
     "execution_count": 12,
     "metadata": {},
     "output_type": "execute_result"
    }
   ],
   "source": [
    "sys.getdefaultencoding()  # cp1252"
   ]
  },
  {
   "cell_type": "markdown",
   "metadata": {},
   "source": [
    "<br>\n",
    "\n",
    "Metody **pro čtění obsahu** *TextIOWrapper* objektu:\n",
    "\n",
    "1. `read` - přečte celý soubor jako jeden string,\n",
    "2. `readline` - přečte pouze první řádek jako string,\n",
    "3. `readlines` - přečte celý soubor jako list (co řádek, to údaj)\n",
    "\n",
    "<br>"
   ]
  },
  {
   "cell_type": "code",
   "execution_count": 13,
   "metadata": {},
   "outputs": [],
   "source": [
    "obsah_txt = muj_nacteny_txt_soubor.read()  # <str>.isaplha()"
   ]
  },
  {
   "cell_type": "code",
   "execution_count": 14,
   "metadata": {},
   "outputs": [
    {
     "name": "stdout",
     "output_type": "stream",
     "text": [
      "The Zen of Python, by Tim Peters\n",
      "\n",
      "Beautiful is better than ugly.\n",
      "Explicit is better than implicit.\n",
      "Simple is better than complex.\n",
      "Complex is better than complicated.\n",
      "Flat is better than nested.\n",
      "Sparse is better than dense.\n",
      "Readability counts.\n",
      "Special cases aren't special enough to break the rules.\n",
      "Although practicality beats purity.\n",
      "Errors should never pass silently.\n",
      "Unless explicitly silenced.\n",
      "In the face of ambiguity, refuse the temptation to guess.\n",
      "There should be one-- and preferably only one --obvious way to do it.\n",
      "Although that way may not be obvious at first unless you're Dutch.\n",
      "Now is better than never.\n",
      "Although never is often better than *right* now.\n",
      "If the implementation is hard to explain, it's a bad idea.\n",
      "If the implementation is easy to explain, it may be a good idea.\n",
      "Namespaces are one honking great idea -- let's do more of those!\n"
     ]
    }
   ],
   "source": [
    "print(obsah_txt)"
   ]
  },
  {
   "cell_type": "code",
   "execution_count": 15,
   "metadata": {},
   "outputs": [
    {
     "name": "stdout",
     "output_type": "stream",
     "text": [
      "<class 'str'>\n"
     ]
    }
   ],
   "source": [
    "print(type(obsah_txt))"
   ]
  },
  {
   "cell_type": "code",
   "execution_count": 16,
   "metadata": {},
   "outputs": [
    {
     "name": "stdout",
     "output_type": "stream",
     "text": [
      "The Zen of Python, b\n"
     ]
    }
   ],
   "source": [
    "print(obsah_txt[:20])"
   ]
  },
  {
   "cell_type": "markdown",
   "metadata": {},
   "source": [
    "<br>\n",
    "\n",
    "Pokud mám textový soubor o více řádcích a chci je zpracovat zvlášť, použiju metodu `readlines()`:"
   ]
  },
  {
   "cell_type": "code",
   "execution_count": 21,
   "metadata": {},
   "outputs": [
    {
     "data": {
      "text/plain": [
       "0"
      ]
     },
     "execution_count": 21,
     "metadata": {},
     "output_type": "execute_result"
    }
   ],
   "source": [
    "muj_nacteny_txt_soubor.seek(0, 0)"
   ]
  },
  {
   "cell_type": "code",
   "execution_count": 22,
   "metadata": {},
   "outputs": [
    {
     "data": {
      "text/plain": [
       "0"
      ]
     },
     "execution_count": 22,
     "metadata": {},
     "output_type": "execute_result"
    }
   ],
   "source": [
    "muj_nacteny_txt_soubor.tell()"
   ]
  },
  {
   "cell_type": "code",
   "execution_count": 23,
   "metadata": {},
   "outputs": [],
   "source": [
    "obsah_txt_list = muj_nacteny_txt_soubor.readlines()"
   ]
  },
  {
   "cell_type": "code",
   "execution_count": 24,
   "metadata": {},
   "outputs": [
    {
     "name": "stdout",
     "output_type": "stream",
     "text": [
      "['The Zen of Python, by Tim Peters\\n', '\\n', 'Beautiful is better than ugly.\\n', 'Explicit is better than implicit.\\n', 'Simple is better than complex.\\n', 'Complex is better than complicated.\\n', 'Flat is better than nested.\\n', 'Sparse is better than dense.\\n', 'Readability counts.\\n', \"Special cases aren't special enough to break the rules.\\n\", 'Although practicality beats purity.\\n', 'Errors should never pass silently.\\n', 'Unless explicitly silenced.\\n', 'In the face of ambiguity, refuse the temptation to guess.\\n', 'There should be one-- and preferably only one --obvious way to do it.\\n', \"Although that way may not be obvious at first unless you're Dutch.\\n\", 'Now is better than never.\\n', 'Although never is often better than *right* now.\\n', \"If the implementation is hard to explain, it's a bad idea.\\n\", 'If the implementation is easy to explain, it may be a good idea.\\n', \"Namespaces are one honking great idea -- let's do more of those!\"]\n"
     ]
    }
   ],
   "source": [
    "print(obsah_txt_list)"
   ]
  },
  {
   "cell_type": "markdown",
   "metadata": {},
   "source": [
    "<br>\n",
    "\n",
    "<img src=\"https://imgs.search.brave.com/ule8iECsz2-SLcZBDJBPOFGXhHQgBXh-ggwzrYTgn4M/rs:fit:500:0:1:0/g:ce/aHR0cHM6Ly9zdGF0/aWMudmVjdGVlenku/Y29tL3N5c3RlbS9y/ZXNvdXJjZXMvdGh1/bWJuYWlscy8wNDcv/ODkyLzc2OS9zbWFs/bC9jdXJzb3JzLWlj/b25zLWNsaWNrLXNl/dC1jdXJzb3JzLWlj/b24tY2xpY2stY2xp/Y2tpbmctY3Vyc29y/LXBvaW50aW5nLWhh/bmQtY2xpY2staWNv/bi1pbGx1c3RyYXRp/b24tdmVjdG9yLmpw/Zw\" width=\"150\" style=\"margin-left:auto; margin-right:auto\">\n",
    "\n",
    "\n",
    "\n",
    "Pokud čteš jednotlivé znaky, **pomyslný kurzor** je postupně prochází.\n",
    "\n",
    "Jakmile s ním dojdeš nakonec, **musíš jej ručně vrátit na začátek**, pokud chceš obsah souboru znovu načíst:"
   ]
  },
  {
   "cell_type": "markdown",
   "metadata": {},
   "source": [
    "#### Nastaví kurzor na začátek .txt souboru\n",
    "\n",
    "---"
   ]
  },
  {
   "cell_type": "code",
   "execution_count": 25,
   "metadata": {},
   "outputs": [
    {
     "data": {
      "text/plain": [
       "0"
      ]
     },
     "execution_count": 25,
     "metadata": {},
     "output_type": "execute_result"
    }
   ],
   "source": [
    "muj_nacteny_txt_soubor.seek(0)     "
   ]
  },
  {
   "cell_type": "markdown",
   "metadata": {},
   "source": [
    "<br>\n",
    "\n",
    "#### Nastaví kurzor na konec .txt souboru\n",
    "\n",
    "---"
   ]
  },
  {
   "cell_type": "code",
   "execution_count": 27,
   "metadata": {},
   "outputs": [],
   "source": [
    "obsah_txt_list = muj_nacteny_txt_soubor.readlines()"
   ]
  },
  {
   "cell_type": "code",
   "execution_count": 28,
   "metadata": {},
   "outputs": [
    {
     "name": "stdout",
     "output_type": "stream",
     "text": [
      "['The Zen of Python, by Tim Peters\\n', '\\n', 'Beautiful is better than ugly.\\n', 'Explicit is better than implicit.\\n', 'Simple is better than complex.\\n', 'Complex is better than complicated.\\n', 'Flat is better than nested.\\n', 'Sparse is better than dense.\\n', 'Readability counts.\\n', \"Special cases aren't special enough to break the rules.\\n\", 'Although practicality beats purity.\\n', 'Errors should never pass silently.\\n', 'Unless explicitly silenced.\\n', 'In the face of ambiguity, refuse the temptation to guess.\\n', 'There should be one-- and preferably only one --obvious way to do it.\\n', \"Although that way may not be obvious at first unless you're Dutch.\\n\", 'Now is better than never.\\n', 'Although never is often better than *right* now.\\n', \"If the implementation is hard to explain, it's a bad idea.\\n\", 'If the implementation is easy to explain, it may be a good idea.\\n', \"Namespaces are one honking great idea -- let's do more of those!\"]\n"
     ]
    }
   ],
   "source": [
    "print(obsah_txt_list)"
   ]
  },
  {
   "cell_type": "code",
   "execution_count": 29,
   "metadata": {},
   "outputs": [],
   "source": [
    "obsah_txt_list_bez_seek = muj_nacteny_txt_soubor.readlines()"
   ]
  },
  {
   "cell_type": "code",
   "execution_count": 30,
   "metadata": {},
   "outputs": [
    {
     "name": "stdout",
     "output_type": "stream",
     "text": [
      "[]\n"
     ]
    }
   ],
   "source": [
    "print(obsah_txt_list_bez_seek)"
   ]
  },
  {
   "cell_type": "markdown",
   "metadata": {},
   "source": [
    "Jakmile tvoje práce s textovými souborem skončí, nezapomeň **soubor zavřít**."
   ]
  },
  {
   "cell_type": "code",
   "execution_count": 31,
   "metadata": {},
   "outputs": [
    {
     "data": {
      "text/plain": [
       "False"
      ]
     },
     "execution_count": 31,
     "metadata": {},
     "output_type": "execute_result"
    }
   ],
   "source": [
    "muj_nacteny_txt_soubor.closed"
   ]
  },
  {
   "cell_type": "markdown",
   "metadata": {},
   "source": [
    "<br>\n",
    "\n",
    "Pokud si potřebuješ jen ověřit, jestli je spojení se souborem ukončené, použij metodu `closed`:"
   ]
  },
  {
   "cell_type": "code",
   "execution_count": 32,
   "metadata": {},
   "outputs": [],
   "source": [
    "muj_nacteny_txt_soubor.close()"
   ]
  },
  {
   "cell_type": "markdown",
   "metadata": {},
   "source": [
    "<br>\n",
    "\n",
    "#### Jak poznám, že je spojení s TXT souborem ukončené?\n",
    "\n",
    "---"
   ]
  },
  {
   "cell_type": "code",
   "execution_count": 33,
   "metadata": {},
   "outputs": [
    {
     "data": {
      "text/plain": [
       "True"
      ]
     },
     "execution_count": 33,
     "metadata": {},
     "output_type": "execute_result"
    }
   ],
   "source": [
    "muj_nacteny_txt_soubor.closed"
   ]
  },
  {
   "cell_type": "markdown",
   "metadata": {},
   "source": [
    "### Souhrn načítání TXT souboru\n",
    "\n",
    "---"
   ]
  },
  {
   "cell_type": "code",
   "execution_count": 34,
   "metadata": {},
   "outputs": [],
   "source": [
    "muj_nacteny_txt_soubor = open('../data/python_zen.txt',\n",
    "                              mode='r',\n",
    "                              encoding='UTF-8')\n",
    "\n",
    "obsah_txt = muj_nacteny_txt_soubor.readlines()\n",
    "\n",
    "muj_nacteny_txt_soubor.close()"
   ]
  },
  {
   "cell_type": "code",
   "execution_count": 35,
   "metadata": {},
   "outputs": [
    {
     "data": {
      "text/plain": [
       "['The Zen of Python, by Tim Peters\\n',\n",
       " '\\n',\n",
       " 'Beautiful is better than ugly.\\n',\n",
       " 'Explicit is better than implicit.\\n']"
      ]
     },
     "execution_count": 35,
     "metadata": {},
     "output_type": "execute_result"
    }
   ],
   "source": [
    "obsah_txt[:4]"
   ]
  },
  {
   "cell_type": "markdown",
   "metadata": {},
   "source": [
    "<br>\n",
    "\n",
    "#### Jak poznám, že soubor existuje?\n",
    "\n",
    "---"
   ]
  },
  {
   "cell_type": "code",
   "execution_count": 36,
   "metadata": {},
   "outputs": [],
   "source": [
    "import os  # pathlib"
   ]
  },
  {
   "cell_type": "code",
   "execution_count": 38,
   "metadata": {},
   "outputs": [
    {
     "data": {
      "text/plain": [
       "'/home/matous/projects/python-academy-2024/shared/notebooks'"
      ]
     },
     "execution_count": 38,
     "metadata": {},
     "output_type": "execute_result"
    }
   ],
   "source": [
    "os.getcwd()"
   ]
  },
  {
   "cell_type": "code",
   "execution_count": 37,
   "metadata": {},
   "outputs": [
    {
     "data": {
      "text/plain": [
       "False"
      ]
     },
     "execution_count": 37,
     "metadata": {},
     "output_type": "execute_result"
    }
   ],
   "source": [
    "os.path.exists('python_zen.txt')"
   ]
  },
  {
   "cell_type": "code",
   "execution_count": 39,
   "metadata": {},
   "outputs": [
    {
     "data": {
      "text/plain": [
       "True"
      ]
     },
     "execution_count": 39,
     "metadata": {},
     "output_type": "execute_result"
    }
   ],
   "source": [
    "os.path.exists('../data/python_zen.txt')"
   ]
  },
  {
   "cell_type": "code",
   "execution_count": 49,
   "metadata": {},
   "outputs": [
    {
     "name": "stdout",
     "output_type": "stream",
     "text": [
      "Soubor neexistuje\n"
     ]
    }
   ],
   "source": [
    "jmeno_souboru = 'python_zen.txt'\n",
    "\n",
    "if os.path.exists(jmeno_souboru):\n",
    "    obsah_txt_souboru = open(jmeno_souboru)\n",
    "else:\n",
    "    print('Soubor neexistuje')"
   ]
  },
  {
   "cell_type": "code",
   "execution_count": 50,
   "metadata": {},
   "outputs": [
    {
     "ename": "AttributeError",
     "evalue": "'NoneType' object has no attribute 'closed'",
     "output_type": "error",
     "traceback": [
      "\u001b[0;31m---------------------------------------------------------------------------\u001b[0m",
      "\u001b[0;31mAttributeError\u001b[0m                            Traceback (most recent call last)",
      "Cell \u001b[0;32mIn[50], line 1\u001b[0m\n\u001b[0;32m----> 1\u001b[0m \u001b[43mobsah_txt_souboru\u001b[49m\u001b[38;5;241;43m.\u001b[39;49m\u001b[43mclosed\u001b[49m  \u001b[38;5;66;03m# AttributeError\u001b[39;00m\n",
      "\u001b[0;31mAttributeError\u001b[0m: 'NoneType' object has no attribute 'closed'"
     ]
    }
   ],
   "source": [
    "obsah_txt_souboru.closed  # AttributeError"
   ]
  },
  {
   "cell_type": "markdown",
   "metadata": {},
   "source": [
    "<br>\n",
    "\n",
    "### Zápis do souborů\n",
    "\n",
    "---\n",
    "\n",
    "Pokud všem žádný textový soubor nemáš, nebo jej chceš naopak **vytvořit**, musíš jej prvně **zapsat**:"
   ]
  },
  {
   "cell_type": "code",
   "execution_count": 51,
   "metadata": {},
   "outputs": [],
   "source": [
    "prvni_radek = \"Toto je můj nový soubor^.^\""
   ]
  },
  {
   "cell_type": "markdown",
   "metadata": {},
   "source": [
    "<br>\n",
    "\n",
    "*Proměnná* `prvni_radek` je aktuálně k dispozici pouze jako nějaký objekt Pythonu.\n",
    "\n",
    "Opět je potřeba nejprve spojit **objekt v Pythonu** se skutečným souborem na disku."
   ]
  },
  {
   "cell_type": "code",
   "execution_count": 52,
   "metadata": {},
   "outputs": [],
   "source": [
    "muj_druhy_txt_soubor = open(\"vystup.txt\",\n",
    "                            mode='w',\n",
    "                            encoding='UTF-8')"
   ]
  },
  {
   "cell_type": "markdown",
   "metadata": {},
   "source": [
    "<br>\n",
    "\n",
    "Soubor si následně můžeš otevřít, ale zjistíš, že je **v tento moment prázdný**.\n",
    "\n",
    "Funkce `open` pouze vytvoří (*~iniciuje*) nový objekt `muj_druhy_txt_soubor`.\n",
    "\n",
    "Příslušný text teprve musíme zapsat, pomocí vhodné *funkce* `write`:"
   ]
  },
  {
   "cell_type": "code",
   "execution_count": 53,
   "metadata": {},
   "outputs": [
    {
     "name": "stdout",
     "output_type": "stream",
     "text": [
      "Toto je můj nový soubor^.^\n"
     ]
    }
   ],
   "source": [
    "print(prvni_radek)"
   ]
  },
  {
   "cell_type": "code",
   "execution_count": 54,
   "metadata": {},
   "outputs": [
    {
     "data": {
      "text/plain": [
       "26"
      ]
     },
     "execution_count": 54,
     "metadata": {},
     "output_type": "execute_result"
    }
   ],
   "source": [
    "muj_druhy_txt_soubor.write(prvni_radek)"
   ]
  },
  {
   "cell_type": "code",
   "execution_count": 55,
   "metadata": {},
   "outputs": [
    {
     "name": "stdout",
     "output_type": "stream",
     "text": [
      "26\n"
     ]
    }
   ],
   "source": [
    "print(len(prvni_radek))"
   ]
  },
  {
   "cell_type": "markdown",
   "metadata": {},
   "source": [
    "<br>\n",
    "\n",
    "Spojení se souborem je **pořád aktivní** ověříš pomocí atributu `closed`:"
   ]
  },
  {
   "cell_type": "code",
   "execution_count": 56,
   "metadata": {},
   "outputs": [
    {
     "data": {
      "text/plain": [
       "False"
      ]
     },
     "execution_count": 56,
     "metadata": {},
     "output_type": "execute_result"
    }
   ],
   "source": [
    "muj_druhy_txt_soubor.closed"
   ]
  },
  {
   "cell_type": "code",
   "execution_count": 57,
   "metadata": {},
   "outputs": [],
   "source": [
    "muj_druhy_txt_soubor.close()"
   ]
  },
  {
   "cell_type": "code",
   "execution_count": 58,
   "metadata": {},
   "outputs": [
    {
     "data": {
      "text/plain": [
       "True"
      ]
     },
     "execution_count": 58,
     "metadata": {},
     "output_type": "execute_result"
    }
   ],
   "source": [
    "muj_druhy_txt_soubor.closed"
   ]
  },
  {
   "cell_type": "markdown",
   "metadata": {},
   "source": [
    "Teprve nyní je soubor uzavřený a můžeme zkontrolovat jeho obsah.\n",
    "\n",
    "<br>\n",
    "\n",
    "#### Můžu ve stejném režimu zapisovat do existujícího souboru?\n",
    "\n",
    "---"
   ]
  },
  {
   "cell_type": "code",
   "execution_count": 59,
   "metadata": {},
   "outputs": [],
   "source": [
    "druhy_radek = \"Očekávám text na druhém řádku!\""
   ]
  },
  {
   "cell_type": "code",
   "execution_count": 60,
   "metadata": {},
   "outputs": [],
   "source": [
    "muj_druhy_txt_soubor = open(\"vystup.txt\", mode='w', encoding='UTF-8')"
   ]
  },
  {
   "cell_type": "code",
   "execution_count": 61,
   "metadata": {},
   "outputs": [
    {
     "data": {
      "text/plain": [
       "30"
      ]
     },
     "execution_count": 61,
     "metadata": {},
     "output_type": "execute_result"
    }
   ],
   "source": [
    "muj_druhy_txt_soubor.write(druhy_radek)"
   ]
  },
  {
   "cell_type": "code",
   "execution_count": 62,
   "metadata": {},
   "outputs": [],
   "source": [
    "muj_druhy_txt_soubor.close()"
   ]
  },
  {
   "cell_type": "markdown",
   "metadata": {},
   "source": [
    "Teprve po ukončení *streamu* (nebo také zápisu) objektu, můžeš soubor `vystup.txt` prozkoumat.\n",
    "\n",
    "<br>\n",
    "\n",
    "Nicméně nám text určený pro druhý řádek **přepsal původní první řádek**."
   ]
  },
  {
   "cell_type": "markdown",
   "metadata": {},
   "source": [
    "<br>\n",
    "\n",
    "Zkusíme zapsat více hodnot současně:"
   ]
  },
  {
   "cell_type": "code",
   "execution_count": 63,
   "metadata": {},
   "outputs": [],
   "source": [
    "muj_druhy_txt_soubor = open(\"vystup.txt\", mode='w', encoding='UTF-8')"
   ]
  },
  {
   "cell_type": "markdown",
   "metadata": {},
   "source": [
    "<br>\n",
    "\n",
    "Doplním znak pro `\\n`, ať rozdělíme jednotlivé řádky:"
   ]
  },
  {
   "cell_type": "code",
   "execution_count": 64,
   "metadata": {},
   "outputs": [],
   "source": [
    "muj_druhy_txt_soubor.writelines((prvni_radek, '\\n', druhy_radek))\n",
    "muj_druhy_txt_soubor.close()"
   ]
  },
  {
   "cell_type": "markdown",
   "metadata": {},
   "source": [
    "<br>\n",
    "\n",
    "Můžu zápis na víc řádků provést pomocí funkce `writelines`.\n",
    "\n",
    "Analogicky můžeš použít i variantu s `.write()`. Ta vyžaduje opakovaný zápis:\n",
    "```python\n",
    "muj_druhy_txt_soubor.write(prvni_radek + '\\n')\n",
    "muj_druhy_txt_soubor.write(druhy_radek)\n",
    "```"
   ]
  },
  {
   "cell_type": "markdown",
   "metadata": {},
   "source": [
    "<br>\n",
    "\n",
    "### 🧠 CVIČENÍ 🧠, Vyzkoušej si práci s *textovým souborem*:"
   ]
  },
  {
   "cell_type": "markdown",
   "metadata": {},
   "source": [
    "1. Funkce `zapis_zpravu_do_txt_souboru` přijímá dva parametry `zprava` a `jmeno_souboru`,\n",
    "2. Funkce otevře nový soubor, zapíše zprávu a spojení se souborem ukončí,\n",
    "3. Vyzkoušej funkci spustit pro dva různé textové soubory.\n",
    "\n",
    "```python\n",
    "zapis_zpravu_do_txt_souboru(\n",
    "    zprava=\"Ahojte, toto je testovací zpráva!\",\n",
    "    jmeno_souboru='test_soubor.txt'\n",
    ")\n",
    "```"
   ]
  },
  {
   "cell_type": "code",
   "execution_count": null,
   "metadata": {},
   "outputs": [],
   "source": []
  },
  {
   "cell_type": "code",
   "execution_count": null,
   "metadata": {},
   "outputs": [],
   "source": []
  },
  {
   "cell_type": "markdown",
   "metadata": {},
   "source": [
    "<details>\n",
    "  <summary>▶️ Klikni zde pro zobrazení řešení</summary>\n",
    "   \n",
    "```python\n",
    "def zapis_zpravu_do_txt_souboru(zprava: str, jmeno_souboru: str) -> None:\n",
    "    muj_soubor = open(jmeno_souboru, mode='w')\n",
    "    muj_soubor.write(zprava)\n",
    "    muj_soubor.close()\n",
    "\n",
    "zapis_zpravu_do_txt_souboru(\"Ahojte, toto je testovací zpráva!\", 'test_soubor.txt')\n",
    "```\n",
    "</details>"
   ]
  },
  {
   "cell_type": "markdown",
   "metadata": {},
   "source": [
    "<br>\n",
    "\n",
    "## Opakovaný zápis do souboru\n",
    "\n",
    "---\n",
    "\n",
    "Máš situaci, kdy tebou vytvořený soubor existuje a ty jej chceš znovu otevřít a rozšířit:"
   ]
  },
  {
   "cell_type": "code",
   "execution_count": 65,
   "metadata": {},
   "outputs": [],
   "source": [
    "dalsi_radek = \"\\nRád čtu a hraji na klavír\""
   ]
  },
  {
   "cell_type": "markdown",
   "metadata": {},
   "source": [
    "<br>\n",
    "\n",
    "Opět potřebuješ inicializovat **pomocný objekt**, jako v předchozích scénářích:"
   ]
  },
  {
   "cell_type": "code",
   "execution_count": 66,
   "metadata": {},
   "outputs": [],
   "source": [
    "muj_stavajici_soubor = open(\"vystup.txt\", mode=\"a\", encoding='UTF-8')"
   ]
  },
  {
   "cell_type": "code",
   "execution_count": 67,
   "metadata": {},
   "outputs": [
    {
     "data": {
      "text/plain": [
       "26"
      ]
     },
     "execution_count": 67,
     "metadata": {},
     "output_type": "execute_result"
    }
   ],
   "source": [
    "muj_stavajici_soubor.write(dalsi_radek)"
   ]
  },
  {
   "cell_type": "code",
   "execution_count": 68,
   "metadata": {},
   "outputs": [],
   "source": [
    "muj_stavajici_soubor.close()"
   ]
  },
  {
   "cell_type": "markdown",
   "metadata": {},
   "source": [
    "Pokud opětovně načteš **stejný soubor** v režimu `w`, přesuneš \"zapisovač\" (*představ si jej jako blikající kurzor v editoru*) opět **na začátek souboru**.\n",
    "\n",
    "*Interpret* zapisuje od místa, kde se zapisovač nachází, takže dojde **k přepsání původního obsahu**.\n",
    "\n",
    "<br>\n",
    "\n",
    "Pokud chceš automaticky zapisovat **od konce souboru**, otevři soubor s argumentem `mode=\"a\"`, tedy v režimu `append`."
   ]
  },
  {
   "cell_type": "markdown",
   "metadata": {},
   "source": [
    "### Jak pracovat se souborem, když potřebuji `w` i `r`?\n",
    "\n",
    "---"
   ]
  },
  {
   "cell_type": "markdown",
   "metadata": {},
   "source": [
    "<br>\n",
    "\n",
    "Pokud budeš někdy pracovat se stejným souborem tak, že jej budeš současně:\n",
    "1. **číst** soubor,\n",
    "2. **zapisovat** do něj.\n",
    "    \n",
    "Vyzkoušej režim `r+`."
   ]
  },
  {
   "cell_type": "code",
   "execution_count": 69,
   "metadata": {},
   "outputs": [],
   "source": [
    "muj_soubor = open(\"vystup.txt\", mode=\"r+\", encoding='UTF-8')"
   ]
  },
  {
   "cell_type": "code",
   "execution_count": 70,
   "metadata": {},
   "outputs": [],
   "source": [
    "obsah_pred_zapisem = muj_soubor.readlines()"
   ]
  },
  {
   "cell_type": "code",
   "execution_count": 71,
   "metadata": {},
   "outputs": [
    {
     "data": {
      "text/plain": [
       "['Toto je můj nový soubor^.^\\n',\n",
       " 'Očekávám text na druhém řádku!\\n',\n",
       " 'Rád čtu a hraji na klavír']"
      ]
     },
     "execution_count": 71,
     "metadata": {},
     "output_type": "execute_result"
    }
   ],
   "source": [
    "obsah_pred_zapisem"
   ]
  },
  {
   "cell_type": "markdown",
   "metadata": {},
   "source": [
    "#### Vypiš, kde se pomyslný kurzor nachází\n",
    "\n",
    "---"
   ]
  },
  {
   "cell_type": "code",
   "execution_count": 72,
   "metadata": {},
   "outputs": [
    {
     "data": {
      "text/plain": [
       "94"
      ]
     },
     "execution_count": 72,
     "metadata": {},
     "output_type": "execute_result"
    }
   ],
   "source": [
    "muj_soubor.tell()"
   ]
  },
  {
   "cell_type": "code",
   "execution_count": 73,
   "metadata": {},
   "outputs": [],
   "source": [
    "znovu_ctu_obsah = muj_soubor.readlines()"
   ]
  },
  {
   "cell_type": "code",
   "execution_count": 74,
   "metadata": {},
   "outputs": [
    {
     "name": "stdout",
     "output_type": "stream",
     "text": [
      "[]\n"
     ]
    }
   ],
   "source": [
    "print(znovu_ctu_obsah)"
   ]
  },
  {
   "cell_type": "markdown",
   "metadata": {},
   "source": [
    "#### Přesuň kurzor nakonec souboru\n",
    "\n",
    "---"
   ]
  },
  {
   "cell_type": "code",
   "execution_count": 77,
   "metadata": {},
   "outputs": [
    {
     "data": {
      "text/plain": [
       "0"
      ]
     },
     "execution_count": 77,
     "metadata": {},
     "output_type": "execute_result"
    }
   ],
   "source": [
    "muj_soubor.seek(0)"
   ]
  },
  {
   "cell_type": "code",
   "execution_count": 78,
   "metadata": {},
   "outputs": [
    {
     "data": {
      "text/plain": [
       "0"
      ]
     },
     "execution_count": 78,
     "metadata": {},
     "output_type": "execute_result"
    }
   ],
   "source": [
    "muj_soubor.tell()"
   ]
  },
  {
   "cell_type": "markdown",
   "metadata": {},
   "source": [
    "**Detailně rozebráno**\n",
    "Funkce `seek` má **dva argumenty**:\n",
    "- `offset` (číslo) – o kolik bajtů se máš posunout.\n",
    "- `whence` (z angličtiny „odkud“) – odkud se má posun počítat.\n",
    "\n",
    "| Hodnota whence | Význam | \n",
    "| :-: | :-: |\n",
    "| 0\t| Od začátku souboru |\n",
    "|1 |\tOd aktuální pozice |\n",
    "| 2| \tOd konce souboru| "
   ]
  },
  {
   "cell_type": "markdown",
   "metadata": {},
   "source": [
    "<br>\n",
    "\n",
    "Ověřil jsem, že pomyslný kurzor je na konci TXT souboru.\n",
    "\n",
    "Proto můžu bez obav zapsat další hodnoty."
   ]
  },
  {
   "cell_type": "code",
   "execution_count": 79,
   "metadata": {},
   "outputs": [
    {
     "data": {
      "text/plain": [
       "0"
      ]
     },
     "execution_count": 79,
     "metadata": {},
     "output_type": "execute_result"
    }
   ],
   "source": [
    "muj_soubor.tell()"
   ]
  },
  {
   "cell_type": "code",
   "execution_count": 80,
   "metadata": {},
   "outputs": [
    {
     "data": {
      "text/plain": [
       "94"
      ]
     },
     "execution_count": 80,
     "metadata": {},
     "output_type": "execute_result"
    }
   ],
   "source": [
    "muj_soubor.seek(0, 2)"
   ]
  },
  {
   "cell_type": "code",
   "execution_count": 81,
   "metadata": {},
   "outputs": [
    {
     "data": {
      "text/plain": [
       "23"
      ]
     },
     "execution_count": 81,
     "metadata": {},
     "output_type": "execute_result"
    }
   ],
   "source": [
    "muj_soubor.write('\\nA ještě poslední řádek')"
   ]
  },
  {
   "cell_type": "code",
   "execution_count": 82,
   "metadata": {},
   "outputs": [],
   "source": [
    "muj_soubor.close()"
   ]
  },
  {
   "cell_type": "markdown",
   "metadata": {},
   "source": [
    "<br>\n",
    "\n",
    "<img src=\"https://external-content.duckduckgo.com/iu/?u=https%3A%2F%2Ftse1.mm.bing.net%2Fth%3Fid%3DOIP.eUy0yqtKrsDHeiUI1dWKggHaHa%26pid%3DApi&f=1&ipt=69ae33045a754823160a963754bc498c4c560ed92d3f57186fdc778816155ef9&ipo=images\" width=\"200\" style=\"margin-left:auto; margin-right:auto\">"
   ]
  },
  {
   "cell_type": "markdown",
   "metadata": {},
   "source": [
    "## Zápis s kontextovým manažerem `with`\n",
    "\n",
    "---\n",
    "\n",
    "Zápis můžeš doplnit/rozšířit tzv. *kontextovým manažerem*.\n",
    "\n",
    "```python\n",
    "muj_soubor = open(\"vystup.txt\", mode=\"r\")  # open\n",
    "print(muj_soubor.readlines())              # process\n",
    "muj_soubor.close()                         # close\n",
    "```"
   ]
  },
  {
   "cell_type": "markdown",
   "metadata": {},
   "source": [
    "<br>\n",
    "\n",
    "Opakování a hlídání 3 základních kroků se může zdát svazující.\n",
    "\n",
    "V Pythonu existuje klíčový výraz `with`:"
   ]
  },
  {
   "cell_type": "code",
   "execution_count": 83,
   "metadata": {},
   "outputs": [
    {
     "name": "stdout",
     "output_type": "stream",
     "text": [
      "['Toto je můj nový soubor^.^\\n', 'Očekávám text na druhém řádku!\\n', 'Rád čtu a hraji na klavír\\n', 'A ještě poslední řádek']\n"
     ]
    }
   ],
   "source": [
    "with open(\"vystup.txt\", mode=\"r\") as muj_soubor:  # open\n",
    "    print(muj_soubor.readlines())                 # process + close"
   ]
  },
  {
   "cell_type": "markdown",
   "metadata": {},
   "source": [
    "Benefity pro práci s `with`:\n",
    "- metoda `__exit__` automaticky ukončí spojení,\n",
    "- navzdory chybě ukončí stream."
   ]
  },
  {
   "cell_type": "code",
   "execution_count": 84,
   "metadata": {},
   "outputs": [
    {
     "data": {
      "text/plain": [
       "True"
      ]
     },
     "execution_count": 84,
     "metadata": {},
     "output_type": "execute_result"
    }
   ],
   "source": [
    "muj_soubor.closed"
   ]
  },
  {
   "cell_type": "markdown",
   "metadata": {},
   "source": [
    "Použití *aliasu* `as` je typické pro:\n",
    "- upravení ohlášení importování `import ... from`,\n",
    "- kontextového manažeru `with`,\n",
    "- error handling `except`."
   ]
  },
  {
   "cell_type": "code",
   "execution_count": 87,
   "metadata": {},
   "outputs": [],
   "source": [
    "import math"
   ]
  },
  {
   "cell_type": "code",
   "execution_count": 88,
   "metadata": {},
   "outputs": [],
   "source": [
    "vysledek = math.sqrt(25)"
   ]
  },
  {
   "cell_type": "code",
   "execution_count": 85,
   "metadata": {},
   "outputs": [],
   "source": [
    "import math as ma"
   ]
  },
  {
   "cell_type": "code",
   "execution_count": 86,
   "metadata": {},
   "outputs": [],
   "source": [
    "vysledek = ma.sqrt(25)"
   ]
  },
  {
   "cell_type": "markdown",
   "metadata": {},
   "source": [
    "<br>\n",
    "\n",
    "### 🧠 CVIČENÍ 2 🧠, práce s textovými souborem:\n",
    "---"
   ]
  },
  {
   "cell_type": "markdown",
   "metadata": {},
   "source": [
    "- Definuj funkci `precti_logy`, která splňuje:\n",
    "    - parametr: `soubor` (string),\n",
    "    - vrací: seznam záznamů z logovacího souboru,\n",
    "    - popis: Tato funkce přečte obsah logovacích souboru. Kde každý řádek bude oddělený údaj sekvence.\n",
    "\n",
    "- definuj funkci `vyber_pouze_typ`, která splňuje:\n",
    "    - parametr: `obsah_souboru` (list),\n",
    "    - vrací: tuple,\n",
    "    - popis: Tato funkce ze zadaného seznamu logů rozdělí každý řádek a uloží pouze typ logovací zprávy (`INFO`, `WARN`, ...). Výsledný údaj vrať jako `tuple`."
   ]
  },
  {
   "cell_type": "code",
   "execution_count": null,
   "metadata": {},
   "outputs": [],
   "source": [
    "zaznamy = \"\"\"\\\n",
    "INFO 2023-07-26 10:30:22 Aplikace úspěšně spuštěna\n",
    "INFO 2023-07-26 10:31:12 Uživatel přihlášen\n",
    "WARN 2023-07-26 10:35:05 Nedostatek místa na disku\n",
    "INFO 2023-07-26 10:36:17 Data úspěšně uložena\n",
    "ERROR 2023-07-26 10:40:44 Připojení k databázi selhalo\n",
    "WARN 2023-07-26 10:45:30 Možná chyba v konfiguraci\n",
    "ERROR 2023-07-26 10:50:01 Nelze odeslat e-mail\n",
    "INFO 2023-07-26 10:55:12 Aplikace úspěšně ukončena\n",
    "\"\"\""
   ]
  },
  {
   "cell_type": "markdown",
   "metadata": {},
   "source": [
    "<details>\n",
    "    <summary>▶️ Řešení</summary>\n",
    "    \n",
    "```python\n",
    "def precti_logy(soubor: str) -> list:\n",
    "    muj_soubor = open(soubor, mode='w')\n",
    "    obsah_souboru = muj_soubor.readlines()\n",
    "    return obsah_souboru\n",
    "    \n",
    "\n",
    "def vyber_pouze_typ(obsah_souboru: list) -> tuple:\n",
    "    return tuple(\n",
    "        [log.split()[0] for log in obsah_souboru if len(log) > 3]\n",
    "    )\n",
    "```\n",
    "</details>"
   ]
  },
  {
   "cell_type": "markdown",
   "metadata": {},
   "source": [
    "<br>\n",
    "\n",
    "<img src=\"https://external-content.duckduckgo.com/iu/?u=https%3A%2F%2Ftse1.mm.bing.net%2Fth%3Fid%3DOIP.eIepNW0QqoKS0nHKxdHb_gHaHa%26pid%3DApi&f=1&ipt=f8fbd56c24a7f9c26b35553a95d220e93ce3bdce6bce019cdf455c712cd8e1b5&ipo=images\" width=\"150\" style=\"margin-left:auto; margin-right:auto\">"
   ]
  },
  {
   "cell_type": "markdown",
   "metadata": {},
   "source": [
    "## Formátování řetězců (~string formatting)\n",
    "\n",
    "---\n",
    "\n",
    "Jde o způsob, jakým efektivně zapisovat klasický string ve spojením se jmény proměnných, doplňujícím upravováním a dalšími variantami.\n",
    "\n",
    "<br>"
   ]
  },
  {
   "cell_type": "markdown",
   "metadata": {},
   "source": [
    "### Formátování řetězců\n",
    "\n",
    "---\n",
    "\n",
    "Povíme si více o těchto třech způsobech:\n",
    "1. **Formátovací výraz** (`%`-formatting)\n",
    "2. **Formátovací metoda** (`str.format()`)\n",
    "3. **Formátovaný string** (`f\"\"`)\n",
    "\n",
    "<br>"
   ]
  },
  {
   "cell_type": "markdown",
   "metadata": {},
   "source": [
    "### Formátovací výraz\n",
    "\n",
    "---\n",
    "\n",
    "Je to prapůvodní způsob formátování stringu v Pythonu už od uplného začátku:"
   ]
  },
  {
   "cell_type": "code",
   "execution_count": 89,
   "metadata": {},
   "outputs": [],
   "source": [
    "jmeno = \"Lukas\"\n",
    "vek = 27"
   ]
  },
  {
   "cell_type": "code",
   "execution_count": 90,
   "metadata": {},
   "outputs": [
    {
     "name": "stdout",
     "output_type": "stream",
     "text": [
      "Ahoj, jmenuji se Lukas a je mi 27 let\n"
     ]
    }
   ],
   "source": [
    "print(\"Ahoj, jmenuji se %s a je mi %d let\" % (jmeno, vek))"
   ]
  },
  {
   "cell_type": "markdown",
   "metadata": {},
   "source": [
    "<br>\n",
    "\n",
    "**Pozor!** dnes se již oficiálně nedoporučuje, jelikož často selhává, nesprávně zobrazuje tuple nebo slovníky. Vypisování není příliš praktické.\n",
    "\n",
    "<br>\n",
    "\n",
    "### Formátovací metoda\n",
    "\n",
    "---\n",
    "\n",
    "Od verze Pythonu 2.6 máme k dispozici další způsob pro formátování:"
   ]
  },
  {
   "cell_type": "code",
   "execution_count": 91,
   "metadata": {},
   "outputs": [
    {
     "name": "stdout",
     "output_type": "stream",
     "text": [
      "Ahoj, jmenuji se Eliška a je mi 26 let\n"
     ]
    }
   ],
   "source": [
    "jmeno = \"Eliška\"\n",
    "vek = 26\n",
    "print(\"Ahoj, jmenuji se {} a je mi {} let\".format(jmeno, vek))"
   ]
  },
  {
   "cell_type": "code",
   "execution_count": 92,
   "metadata": {},
   "outputs": [
    {
     "name": "stdout",
     "output_type": "stream",
     "text": [
      "Ahoj, jmenuji se 26 a je mi Eliška let\n"
     ]
    }
   ],
   "source": [
    "jmeno = \"Eliška\"\n",
    "vek = 26\n",
    "print(\"Ahoj, jmenuji se {} a je mi {} let\".format(vek, jmeno))"
   ]
  },
  {
   "cell_type": "code",
   "execution_count": 93,
   "metadata": {},
   "outputs": [
    {
     "name": "stdout",
     "output_type": "stream",
     "text": [
      "Ahoj, jmenuji se Eliška a je mi 26 let\n"
     ]
    }
   ],
   "source": [
    "jmeno = \"Eliška\"\n",
    "vek = 26\n",
    "print(\"Ahoj, jmenuji se {1} a je mi {0} let\".format(vek, jmeno))"
   ]
  },
  {
   "cell_type": "markdown",
   "metadata": {},
   "source": [
    "<br>\n",
    "\n",
    "**Pozor!** použití je pořád poměrně upovídaní např. při zápisu více proměnných. Má rozhodně široké možnosti formátování, ale vždy prakticky použitelné.\n",
    "\n",
    "<br>\n",
    "\n",
    "### 🔝 Formátovaný string (f-string)\n",
    "\n",
    "---\n",
    "\n",
    "Od verze Pythonu 3.6 máme k dispozici ještě třetí metodu pro formátování stringů."
   ]
  },
  {
   "cell_type": "code",
   "execution_count": 94,
   "metadata": {},
   "outputs": [
    {
     "name": "stdout",
     "output_type": "stream",
     "text": [
      "Ahoj, jmenuji se Lucie a je mi 28 let\n"
     ]
    }
   ],
   "source": [
    "jmeno = \"Lucie\"\n",
    "vek = 28\n",
    "print(f\"Ahoj, jmenuji se {jmeno} a je mi {vek} let\")"
   ]
  },
  {
   "cell_type": "markdown",
   "metadata": {},
   "source": [
    "<br>\n",
    "\n",
    "Syntaxe je stručná přesto čitelná. Zvládá různé platné operace v Pythonu včetně volání funkcí. Opatrně při důsledném zapisování uvozovek."
   ]
  },
  {
   "cell_type": "code",
   "execution_count": 95,
   "metadata": {},
   "outputs": [
    {
     "name": "stdout",
     "output_type": "stream",
     "text": [
      "|  Lucie   |    28    |\n"
     ]
    }
   ],
   "source": [
    "print(f\"|{jmeno:^10}|{vek:^10}|\")"
   ]
  },
  {
   "cell_type": "markdown",
   "metadata": {},
   "source": [
    "<br>\n",
    "\n",
    "Vhodná také pro **zaokrouhlování desetinných čísel** a převádění číselných hodnot na procenta:"
   ]
  },
  {
   "cell_type": "code",
   "execution_count": 96,
   "metadata": {},
   "outputs": [],
   "source": [
    "value = 11.1234"
   ]
  },
  {
   "cell_type": "code",
   "execution_count": 97,
   "metadata": {},
   "outputs": [
    {
     "name": "stdout",
     "output_type": "stream",
     "text": [
      "value: 11.123\n"
     ]
    }
   ],
   "source": [
    "print(f\"value: {value:.3f}\")"
   ]
  },
  {
   "cell_type": "code",
   "execution_count": 98,
   "metadata": {},
   "outputs": [],
   "source": [
    "data = {'name': 'Matouš'}"
   ]
  },
  {
   "cell_type": "code",
   "execution_count": 101,
   "metadata": {},
   "outputs": [
    {
     "ename": "SyntaxError",
     "evalue": "invalid syntax (3370336449.py, line 1)",
     "output_type": "error",
     "traceback": [
      "\u001b[0;36m  Cell \u001b[0;32mIn[101], line 1\u001b[0;36m\u001b[0m\n\u001b[0;31m    print(f\"Ahoj, já jsem {data[\"name\"]}\")\u001b[0m\n\u001b[0m                                 ^\u001b[0m\n\u001b[0;31mSyntaxError\u001b[0m\u001b[0;31m:\u001b[0m invalid syntax\n"
     ]
    }
   ],
   "source": [
    "print(f\"Ahoj, já jsem {data[\"name\"]}\")"
   ]
  },
  {
   "cell_type": "markdown",
   "metadata": {},
   "source": [
    "<br>\n",
    "\n",
    "Ačkoliv novější verze **Pythonu 3.12+** podporují zaměňování typů uvozovek, v rámci zpětné kompatibility se staršími verzemi je to spíš na škodu."
   ]
  },
  {
   "cell_type": "markdown",
   "metadata": {},
   "source": [
    "[Formulář po deváté lekci](https://forms.gle/Py5UjJ8573DLLdCr8)"
   ]
  },
  {
   "cell_type": "markdown",
   "metadata": {},
   "source": [
    "---"
   ]
  }
 ],
 "metadata": {
  "kernelspec": {
   "display_name": "Python 3 (ipykernel)",
   "language": "python",
   "name": "python3"
  },
  "language_info": {
   "codemirror_mode": {
    "name": "ipython",
    "version": 3
   },
   "file_extension": ".py",
   "mimetype": "text/x-python",
   "name": "python",
   "nbconvert_exporter": "python",
   "pygments_lexer": "ipython3",
   "version": "3.8.10"
  }
 },
 "nbformat": 4,
 "nbformat_minor": 4
}
