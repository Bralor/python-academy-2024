{
 "cells": [
  {
   "cell_type": "markdown",
   "metadata": {},
   "source": [
    "# Python akademie\n",
    "\n",
    "---\n",
    "\n",
    "<br>\n",
    "\n",
    "## Obsah lekce\n",
    "---\n",
    "\n",
    "\n",
    "1. [Úvod do IO](#Úvod-do-IO),\n",
    "2. [Spojení se souborem pomocí Pythonu](#Spojení-se-souborem-pomocí-Pythonu),\n",
    "3. [Textové soubory](#Textové-soubory),\n",
    "4. [Zápis s kontextovým manažerem](#Zápis-s-kontextovým-manažerem),\n",
    "5. [Formátování řetězců (~string formatting)](#Formátování-řetězců-(~string-formatting)).\n",
    "\n",
    "\n",
    "---"
   ]
  },
  {
   "cell_type": "markdown",
   "metadata": {},
   "source": [
    "<br>\n",
    "\n",
    "<img src=\"https://external-content.duckduckgo.com/iu/?u=https%3A%2F%2Ftse4.mm.bing.net%2Fth%3Fid%3DOIP.BPYuvKj05Xo_oF_oXiL1yAHaHa%26pid%3DApi&f=1\" width=\"250\" style=\"margin-left:auto; margin-right:auto\">"
   ]
  },
  {
   "cell_type": "markdown",
   "metadata": {},
   "source": [
    "## Úvod do IO\n",
    "\n",
    "---\n",
    "\n",
    "Nyní pracuješ pouze s objekty **Pythonu vlastními** nebo **s jeho knihovnami**.\n",
    "\n",
    "Všechny tyto *objekty* jsi vytvoříš a zpracováváš **v rámci paměti RAM** (*random access memory*).\n",
    "\n",
    "<br>\n",
    "\n",
    "*Paměť RAM* je **velmi rychlá**, ale současně náročná a vyžaduje **neustálý zdroj** (není elektřina, ztratíš data).\n",
    "\n",
    "Takový **disk počítače** je o dost **pomalejší** než paměť *RAM*, ale umožňuje ti uchovávat tebou získaná, zpracovaná data.\n",
    "\n",
    "<br>\n",
    "\n",
    "Proto je dobré osvojit si pravidla a postupy v Pythonu, jak vytvořit **persistentní data**.\n",
    "\n",
    "<br>"
   ]
  },
  {
   "cell_type": "markdown",
   "metadata": {},
   "source": [
    "<br>\n",
    "\n",
    "<img src=\"https://external-content.duckduckgo.com/iu/?u=https%3A%2F%2Ftse1.mm.bing.net%2Fth%3Fid%3DOIP.h0qswb-mu-Ay17g7L_gwYwHaHa%26pid%3DApi&f=1&ipt=88ac91ad4993d84f5f1996a1644d85f41dead53dc1526c82b95099dfc7e5a6b1&ipo=images\" width=\"200\" style=\"margin-left:auto; margin-right:auto\">"
   ]
  },
  {
   "cell_type": "code",
   "execution_count": null,
   "metadata": {},
   "outputs": [],
   "source": [
    "# .xlsx, ... --> konvertovat .csv"
   ]
  },
  {
   "cell_type": "code",
   "execution_count": null,
   "metadata": {},
   "outputs": [],
   "source": [
    "# .csv"
   ]
  },
  {
   "cell_type": "markdown",
   "metadata": {},
   "source": [
    "### Spojení se souborem pomocí Pythonu\n",
    "\n",
    "---\n",
    "\n",
    "Klasickou cestou, jak vytvořit obyčejný soubor je poskládat údaje (bajty) za hlavičkou, tedy **jménem souboru**.\n",
    "\n",
    "<br>\n",
    "\n",
    "Než ale začneš se souborem pracovat, potřebuješ si v Pythonu vytvořit *pomocný objekt*, který jej bude **zastupovat** (nebo se na něj odkazovat):"
   ]
  },
  {
   "cell_type": "markdown",
   "metadata": {},
   "source": [
    "```python\n",
    "muj_soubor = open(jmeno_souboru, pravidla)  # pomocný objekt\n",
    "\n",
    "# ... libovolná ohlášení\n",
    "\n",
    "muj_soubor.close()\n",
    "```"
   ]
  },
  {
   "cell_type": "markdown",
   "metadata": {},
   "source": [
    "1. `muj_soubor`, je **Pythonovský objekt** odkazující na **soubor**,\n",
    "2. `open()`, *zabudovaná funkce*, která **vytváří spojení** (*stream*) mezi objektem a souborem,\n",
    "3. `jmeno_souboru`, jméno souboru (*relativní* cesta/*absolutní* cesta),\n",
    "4. `pravidla`, výběr argumentů upřesňujících, **jak soubor otevřít**,\n",
    "5. `muj_soubor.close`, způsob, kterým **ukončíš spojení** mezi objektem a souborem."
   ]
  },
  {
   "cell_type": "markdown",
   "metadata": {},
   "source": [
    "<br>\n",
    "\n",
    "<img src=\"https://external-content.duckduckgo.com/iu/?u=https%3A%2F%2Ftse2.mm.bing.net%2Fth%3Fid%3DOIP.JhMJc09m94e9V3oKtb_n3AHaHa%26pid%3DApi&f=1\" width=\"200\" style=\"margin-left:auto; margin-right:auto\">"
   ]
  },
  {
   "cell_type": "markdown",
   "metadata": {},
   "source": [
    "## Textové soubory\n",
    "\n",
    "---\n",
    "\n",
    "Nejlepším souborem na začátek bude prostý **textový soubor**.\n",
    "\n",
    "Textovým souborem rozuměj jakýkoliv soubor, který má příponu `.txt`.\n",
    "\n",
    "#### Demo: Ukázka textového souboru"
   ]
  },
  {
   "cell_type": "markdown",
   "metadata": {},
   "source": [
    "<br>\n",
    "\n",
    "### Úvod k souborům\n",
    "\n",
    "---\n",
    "\n",
    "Základními procesy pro práci se soubory obecně jsou:\n",
    "1. **Čtení** souborů,\n",
    "2. **Zápis** do souborů."
   ]
  },
  {
   "cell_type": "markdown",
   "metadata": {},
   "source": [
    "### Čtení souborů\n",
    "\n",
    "---\n",
    "\n",
    "Otevřít a přečíst *textový soubor* pomocí *editorů* jistě ovládáš.\n",
    "\n",
    "Teď se podívej, jak můžeš naučit otevírání a čtení souborů také **interpreta Pythonu**:"
   ]
  },
  {
   "cell_type": "code",
   "execution_count": 3,
   "metadata": {},
   "outputs": [
    {
     "ename": "NameError",
     "evalue": "name 'demo' is not defined",
     "output_type": "error",
     "traceback": [
      "\u001b[0;31m---------------------------------------------------------------------------\u001b[0m",
      "\u001b[0;31mNameError\u001b[0m                                 Traceback (most recent call last)",
      "Cell \u001b[0;32mIn[3], line 1\u001b[0m\n\u001b[0;32m----> 1\u001b[0m muj_nacteny_txt_soubor \u001b[38;5;241m=\u001b[39m \u001b[38;5;28mopen\u001b[39m(\u001b[43mdemo\u001b[49m\u001b[38;5;241m.\u001b[39mtxt)\n",
      "\u001b[0;31mNameError\u001b[0m: name 'demo' is not defined"
     ]
    }
   ],
   "source": [
    "muj_nacteny_txt_soubor = open(demo.txt)"
   ]
  },
  {
   "cell_type": "code",
   "execution_count": 4,
   "metadata": {},
   "outputs": [
    {
     "ename": "FileNotFoundError",
     "evalue": "[Errno 2] No such file or directory: 'demo.txt'",
     "output_type": "error",
     "traceback": [
      "\u001b[0;31m---------------------------------------------------------------------------\u001b[0m",
      "\u001b[0;31mFileNotFoundError\u001b[0m                         Traceback (most recent call last)",
      "Cell \u001b[0;32mIn[4], line 1\u001b[0m\n\u001b[0;32m----> 1\u001b[0m muj_nacteny_txt_soubor \u001b[38;5;241m=\u001b[39m \u001b[38;5;28;43mopen\u001b[39;49m\u001b[43m(\u001b[49m\u001b[38;5;124;43m'\u001b[39;49m\u001b[38;5;124;43mdemo.txt\u001b[39;49m\u001b[38;5;124;43m'\u001b[39;49m\u001b[43m)\u001b[49m\n",
      "File \u001b[0;32m~/projects/python-academy-2024/dev/lib/python3.8/site-packages/IPython/core/interactiveshell.py:284\u001b[0m, in \u001b[0;36m_modified_open\u001b[0;34m(file, *args, **kwargs)\u001b[0m\n\u001b[1;32m    277\u001b[0m \u001b[38;5;28;01mif\u001b[39;00m file \u001b[38;5;129;01min\u001b[39;00m {\u001b[38;5;241m0\u001b[39m, \u001b[38;5;241m1\u001b[39m, \u001b[38;5;241m2\u001b[39m}:\n\u001b[1;32m    278\u001b[0m     \u001b[38;5;28;01mraise\u001b[39;00m \u001b[38;5;167;01mValueError\u001b[39;00m(\n\u001b[1;32m    279\u001b[0m         \u001b[38;5;124mf\u001b[39m\u001b[38;5;124m\"\u001b[39m\u001b[38;5;124mIPython won\u001b[39m\u001b[38;5;124m'\u001b[39m\u001b[38;5;124mt let you open fd=\u001b[39m\u001b[38;5;132;01m{\u001b[39;00mfile\u001b[38;5;132;01m}\u001b[39;00m\u001b[38;5;124m by default \u001b[39m\u001b[38;5;124m\"\u001b[39m\n\u001b[1;32m    280\u001b[0m         \u001b[38;5;124m\"\u001b[39m\u001b[38;5;124mas it is likely to crash IPython. If you know what you are doing, \u001b[39m\u001b[38;5;124m\"\u001b[39m\n\u001b[1;32m    281\u001b[0m         \u001b[38;5;124m\"\u001b[39m\u001b[38;5;124myou can use builtins\u001b[39m\u001b[38;5;124m'\u001b[39m\u001b[38;5;124m open.\u001b[39m\u001b[38;5;124m\"\u001b[39m\n\u001b[1;32m    282\u001b[0m     )\n\u001b[0;32m--> 284\u001b[0m \u001b[38;5;28;01mreturn\u001b[39;00m \u001b[43mio_open\u001b[49m\u001b[43m(\u001b[49m\u001b[43mfile\u001b[49m\u001b[43m,\u001b[49m\u001b[43m \u001b[49m\u001b[38;5;241;43m*\u001b[39;49m\u001b[43margs\u001b[49m\u001b[43m,\u001b[49m\u001b[43m \u001b[49m\u001b[38;5;241;43m*\u001b[39;49m\u001b[38;5;241;43m*\u001b[39;49m\u001b[43mkwargs\u001b[49m\u001b[43m)\u001b[49m\n",
      "\u001b[0;31mFileNotFoundError\u001b[0m: [Errno 2] No such file or directory: 'demo.txt'"
     ]
    }
   ],
   "source": [
    "muj_nacteny_txt_soubor = open('demo.txt')"
   ]
  },
  {
   "cell_type": "code",
   "execution_count": 6,
   "metadata": {},
   "outputs": [
    {
     "name": "stdout",
     "output_type": "stream",
     "text": [
      "lesson01.ipynb\tlesson04.ipynb\tlesson08.ipynb\t      __pycache__\n",
      "lesson02.ipynb\tlesson05.ipynb\tlesson09.ipynb\n",
      "lesson03.ipynb\tlesson07.ipynb\tmuj_prvni_soubor.txt\n"
     ]
    }
   ],
   "source": [
    "!ls"
   ]
  },
  {
   "cell_type": "code",
   "execution_count": 7,
   "metadata": {},
   "outputs": [],
   "source": [
    "muj_nacteny_txt_soubor = open('muj_prvni_soubor.txt',\n",
    "                              mode='r',\n",
    "                              encoding='UTF-8')"
   ]
  },
  {
   "cell_type": "markdown",
   "metadata": {},
   "source": [
    "<br>\n",
    "\n",
    "Dávej pozor, jakým způsobem **jméno souboru** používáš. Python potřebuje pracovat s takovým datovým typem, který dobře zná."
   ]
  },
  {
   "cell_type": "code",
   "execution_count": 8,
   "metadata": {},
   "outputs": [
    {
     "name": "stdout",
     "output_type": "stream",
     "text": [
      "<_io.TextIOWrapper name='muj_prvni_soubor.txt' mode='r' encoding='UTF-8'>\n"
     ]
    }
   ],
   "source": [
    "print(muj_nacteny_txt_soubor)"
   ]
  },
  {
   "cell_type": "markdown",
   "metadata": {},
   "source": [
    "Další kolizí může být **umístění** souboru.\n",
    "\n",
    "<br>\n",
    "\n",
    "*Interpret* pracuje **v aktuálním umístění**.\n",
    "\n",
    "Takže buď soubor přesuneš, nebo na něj odkážeš pomocí:\n",
    "1. **Relativní cesty** (tedy vzhledem k aktuálnímu umístění),\n",
    "2. **absolutní cesty** (celá cesta od *roota* nebo *jména disku*)."
   ]
  },
  {
   "cell_type": "markdown",
   "metadata": {},
   "source": [
    "<br>\n",
    "\n",
    "#### Relativní cesta\n",
    "```\n",
    "\"muj_textovy_soubor.txt\"                # v aktuální složce\n",
    "\"../muj_textovy_soubor.txt\"             # v rodičovské složce\n",
    "\"../shared/onsite/muj_textovy_soubor.txt\"  # v dceřinné složce 'shared', v dceřinné složce 'onsite'\n",
    "```\n",
    "\n",
    "#### Absolutní cesta, Windows\n",
    "```\n",
    "\"C:\\users\\admin\\docs\\muj_textovy_soubor.txt\"\n",
    "```\n",
    "\n",
    "#### Absolutní cesta, unix\n",
    "```\n",
    "\"/home/user/project/shared/onsite/muj_textovy_soubor.txt\"\n",
    "```"
   ]
  },
  {
   "cell_type": "code",
   "execution_count": 9,
   "metadata": {},
   "outputs": [
    {
     "name": "stdout",
     "output_type": "stream",
     "text": [
      "<_io.TextIOWrapper name='muj_prvni_soubor.txt' mode='r' encoding='UTF-8'>\n"
     ]
    }
   ],
   "source": [
    "print(muj_nacteny_txt_soubor)"
   ]
  },
  {
   "cell_type": "code",
   "execution_count": 11,
   "metadata": {},
   "outputs": [
    {
     "name": "stdout",
     "output_type": "stream",
     "text": [
      "<class '_io.TextIOWrapper'>\n"
     ]
    }
   ],
   "source": [
    "print(type(muj_nacteny_txt_soubor))"
   ]
  },
  {
   "cell_type": "markdown",
   "metadata": {},
   "source": [
    "<br>\n",
    "\n",
    "Metody **pro čtění obsahu** *TextIOWrapper* objektu:\n",
    "\n",
    "1. `read` - přečte celý soubor jako jeden string,\n",
    "2. `readline` - přečte pouze první řádek jako string,\n",
    "3. `readlines` - přečte celý soubor jako list (co řádek, to údaj)\n",
    "\n",
    "<br>"
   ]
  },
  {
   "cell_type": "code",
   "execution_count": 14,
   "metadata": {},
   "outputs": [],
   "source": [
    "obsah_txt = muj_nacteny_txt_soubor.read()"
   ]
  },
  {
   "cell_type": "code",
   "execution_count": 16,
   "metadata": {},
   "outputs": [
    {
     "name": "stdout",
     "output_type": "stream",
     "text": [
      "Toto je můj krátký textový soubor. Matouš.\n",
      "<class 'str'>\n"
     ]
    }
   ],
   "source": [
    "print(obsah_txt,\n",
    "      type(obsah_txt),\n",
    "      sep='\\n')"
   ]
  },
  {
   "cell_type": "code",
   "execution_count": 17,
   "metadata": {},
   "outputs": [
    {
     "name": "stdout",
     "output_type": "stream",
     "text": [
      "['Toto', 'je', 'můj', 'krátký', 'textový', 'soubor.', 'Matouš.']\n"
     ]
    }
   ],
   "source": [
    "print(obsah_txt.split())"
   ]
  },
  {
   "cell_type": "code",
   "execution_count": 18,
   "metadata": {},
   "outputs": [],
   "source": [
    "obsah_txt_list = muj_nacteny_txt_soubor.readlines()"
   ]
  },
  {
   "cell_type": "code",
   "execution_count": 19,
   "metadata": {},
   "outputs": [
    {
     "name": "stdout",
     "output_type": "stream",
     "text": [
      "[]\n"
     ]
    }
   ],
   "source": [
    "print(obsah_txt_list)"
   ]
  },
  {
   "cell_type": "markdown",
   "metadata": {},
   "source": [
    "<br>\n",
    "\n",
    "Pokud čteš jednotlivé znaky, **pomyslný kurzor** je postupně prochází.\n",
    "\n",
    "Jakmile s ním dojdeš nakonec, **musíš jej ručně vrátit na začátek**, pokud chceš obsah souboru znovu načíst:"
   ]
  },
  {
   "cell_type": "code",
   "execution_count": 20,
   "metadata": {},
   "outputs": [
    {
     "data": {
      "text/plain": [
       "0"
      ]
     },
     "execution_count": 20,
     "metadata": {},
     "output_type": "execute_result"
    }
   ],
   "source": [
    "muj_nacteny_txt_soubor.seek(0)     # Nastaví kurzor na začátek .txt souboru"
   ]
  },
  {
   "cell_type": "code",
   "execution_count": null,
   "metadata": {},
   "outputs": [],
   "source": [
    "muj_txt_soubor.seek(0, 1)  # Nastaví kurzor na konec .txt souboru"
   ]
  },
  {
   "cell_type": "code",
   "execution_count": 21,
   "metadata": {},
   "outputs": [],
   "source": [
    "obsah_txt_list = muj_nacteny_txt_soubor.readlines()"
   ]
  },
  {
   "cell_type": "code",
   "execution_count": 22,
   "metadata": {},
   "outputs": [
    {
     "name": "stdout",
     "output_type": "stream",
     "text": [
      "['Toto je můj krátký textový soubor. Matouš.']\n"
     ]
    }
   ],
   "source": [
    "print(obsah_txt_list)"
   ]
  },
  {
   "cell_type": "code",
   "execution_count": 23,
   "metadata": {},
   "outputs": [
    {
     "name": "stdout",
     "output_type": "stream",
     "text": [
      "<class 'list'>\n"
     ]
    }
   ],
   "source": [
    "print(type(obsah_txt_list))"
   ]
  },
  {
   "cell_type": "markdown",
   "metadata": {},
   "source": [
    "Jakmile tvoje práce s textovými souborem skončí, nezapomeň soubor zavřít."
   ]
  },
  {
   "cell_type": "markdown",
   "metadata": {},
   "source": [
    "<br>\n",
    "\n",
    "Pokud si potřebuješ jen ověřit, jestli je spojení se souborem ukončené, použij metodu `closed`:"
   ]
  },
  {
   "cell_type": "code",
   "execution_count": 24,
   "metadata": {},
   "outputs": [
    {
     "data": {
      "text/plain": [
       "False"
      ]
     },
     "execution_count": 24,
     "metadata": {},
     "output_type": "execute_result"
    }
   ],
   "source": [
    "muj_nacteny_txt_soubor.closed  # is_close --> bool"
   ]
  },
  {
   "cell_type": "code",
   "execution_count": 25,
   "metadata": {},
   "outputs": [],
   "source": [
    "muj_nacteny_txt_soubor.close()"
   ]
  },
  {
   "cell_type": "code",
   "execution_count": 26,
   "metadata": {},
   "outputs": [
    {
     "data": {
      "text/plain": [
       "True"
      ]
     },
     "execution_count": 26,
     "metadata": {},
     "output_type": "execute_result"
    }
   ],
   "source": [
    "muj_nacteny_txt_soubor.closed  # --> bool"
   ]
  },
  {
   "cell_type": "markdown",
   "metadata": {},
   "source": [
    "#### Recap\n",
    "\n",
    "---"
   ]
  },
  {
   "cell_type": "code",
   "execution_count": null,
   "metadata": {},
   "outputs": [],
   "source": [
    "muj_nacteny_txt_soubor = open(\n",
    "    'muj_prvni_soubor.txt', mode='r'\n",
    ")\n",
    "\n",
    "obsah_txt = muj_nacteny_txt_soubor.readlines()\n",
    "\n",
    "muj_nacteny_txt_soubor.close()"
   ]
  },
  {
   "cell_type": "code",
   "execution_count": 27,
   "metadata": {},
   "outputs": [],
   "source": [
    "def precti_txt_soubor(jmeno_souboru: str,\n",
    "                      mod: str = 'r') -> list:\n",
    "    muj_nacteny_txt_soubor = open(jmeno_souboru,\n",
    "                                  mode=mod)\n",
    "\n",
    "    obsah_txt = muj_nacteny_txt_soubor.readlines()\n",
    "    \n",
    "    muj_nacteny_txt_soubor.close()\n",
    "    \n",
    "    return obsah_txt"
   ]
  },
  {
   "cell_type": "code",
   "execution_count": 32,
   "metadata": {},
   "outputs": [
    {
     "name": "stdout",
     "output_type": "stream",
     "text": [
      "recur.py  uloha_1.py  uloha_2.py\n"
     ]
    }
   ],
   "source": [
    "!ls ../onsite"
   ]
  },
  {
   "cell_type": "code",
   "execution_count": 37,
   "metadata": {},
   "outputs": [],
   "source": [
    "obsah_txt_souboru = precti_txt_soubor(\n",
    "    jmeno_souboru='muj_prvni_soubor.txt'\n",
    ")"
   ]
  },
  {
   "cell_type": "code",
   "execution_count": 38,
   "metadata": {},
   "outputs": [
    {
     "name": "stdout",
     "output_type": "stream",
     "text": [
      "[]\n"
     ]
    }
   ],
   "source": [
    "print(obsah_txt_souboru)"
   ]
  },
  {
   "cell_type": "markdown",
   "metadata": {},
   "source": [
    "<br>\n",
    "\n",
    "### Zápis do souborů\n",
    "\n",
    "---\n",
    "\n",
    "Pokud všem žádný textový soubor nemáš, nebo jej chceš naopak **vytvořit**, musíš jej prvně **zapsat**:"
   ]
  },
  {
   "cell_type": "code",
   "execution_count": 39,
   "metadata": {},
   "outputs": [],
   "source": [
    "muj_string = \"Toto je můj nový soubor^.^\""
   ]
  },
  {
   "cell_type": "markdown",
   "metadata": {},
   "source": [
    "<br>\n",
    "\n",
    "*String* `muj_txt` máš aktuálně k dispozici pouze jako nějaký objekt Pythonu.\n",
    "\n",
    "Opět je potřeba nejprve spojit **objekt v Pythonu** se skutečným souborem na disku."
   ]
  },
  {
   "cell_type": "code",
   "execution_count": 40,
   "metadata": {},
   "outputs": [],
   "source": [
    "muj_druhy_txt_soubor = open(\n",
    "    \"../muj_zapsany.txt\",\n",
    "    mode='w'\n",
    ")"
   ]
  },
  {
   "cell_type": "markdown",
   "metadata": {},
   "source": [
    "<br>\n",
    "\n",
    "Soubor si následně můžeš otevřít, ale zjistíš, že je **v tento moment prázdný**.\n",
    "\n",
    "Funkce `open` pouze vytvoří (*~iniciuje*) nový objekt `muj_druhy_txt_soubor`.\n",
    "\n",
    "Příslušný text teprve musíme zapsat, pomocí vhodné *funkce* `write`:"
   ]
  },
  {
   "cell_type": "code",
   "execution_count": 41,
   "metadata": {},
   "outputs": [
    {
     "name": "stdout",
     "output_type": "stream",
     "text": [
      "Toto je můj nový soubor^.^\n"
     ]
    }
   ],
   "source": [
    "print(muj_string)"
   ]
  },
  {
   "cell_type": "code",
   "execution_count": 42,
   "metadata": {},
   "outputs": [
    {
     "data": {
      "text/plain": [
       "26"
      ]
     },
     "execution_count": 42,
     "metadata": {},
     "output_type": "execute_result"
    }
   ],
   "source": [
    "muj_druhy_txt_soubor.write(muj_string)"
   ]
  },
  {
   "cell_type": "markdown",
   "metadata": {},
   "source": [
    "<br>\n",
    "\n",
    "Spojení se souborem je **pořád aktivní**."
   ]
  },
  {
   "cell_type": "code",
   "execution_count": 44,
   "metadata": {},
   "outputs": [
    {
     "data": {
      "text/plain": [
       "False"
      ]
     },
     "execution_count": 44,
     "metadata": {},
     "output_type": "execute_result"
    }
   ],
   "source": [
    "muj_druhy_txt_soubor.closed"
   ]
  },
  {
   "cell_type": "code",
   "execution_count": 45,
   "metadata": {},
   "outputs": [],
   "source": [
    "muj_druhy_txt_soubor.close()"
   ]
  },
  {
   "cell_type": "code",
   "execution_count": 46,
   "metadata": {},
   "outputs": [
    {
     "data": {
      "text/plain": [
       "True"
      ]
     },
     "execution_count": 46,
     "metadata": {},
     "output_type": "execute_result"
    }
   ],
   "source": [
    "muj_druhy_txt_soubor.closed"
   ]
  },
  {
   "cell_type": "markdown",
   "metadata": {},
   "source": [
    "<br>\n",
    "\n",
    "Teprve nyní je soubor uzavřený a můžeme zkontrolovat jeho obsah."
   ]
  },
  {
   "cell_type": "code",
   "execution_count": 48,
   "metadata": {},
   "outputs": [],
   "source": [
    "muj_druhy_string = \"Očekávám text na druhém řádku!\""
   ]
  },
  {
   "cell_type": "code",
   "execution_count": 47,
   "metadata": {},
   "outputs": [],
   "source": [
    "muj_existujici_txt = open(\n",
    "    \"../muj_zapsany.txt\",\n",
    "    mode=\"w\"\n",
    ")"
   ]
  },
  {
   "cell_type": "code",
   "execution_count": 49,
   "metadata": {},
   "outputs": [
    {
     "data": {
      "text/plain": [
       "30"
      ]
     },
     "execution_count": 49,
     "metadata": {},
     "output_type": "execute_result"
    }
   ],
   "source": [
    "muj_existujici_txt.write(muj_druhy_string)"
   ]
  },
  {
   "cell_type": "code",
   "execution_count": 50,
   "metadata": {},
   "outputs": [],
   "source": [
    "muj_existujici_txt.close()"
   ]
  },
  {
   "cell_type": "markdown",
   "metadata": {},
   "source": [
    "Teprve po ukončení *streamu* (nebo také zápisu) objektu, můžeš soubor `muj_novy_soubor.txt` prozkoumat."
   ]
  },
  {
   "cell_type": "code",
   "execution_count": 54,
   "metadata": {},
   "outputs": [],
   "source": [
    "muj_existujici_txt = open(\n",
    "    \"../muj_zapsany.txt\",\n",
    "    mode=\"w\"\n",
    ")"
   ]
  },
  {
   "cell_type": "code",
   "execution_count": 51,
   "metadata": {},
   "outputs": [
    {
     "data": {
      "text/plain": [
       "'Toto je můj nový soubor^.^'"
      ]
     },
     "execution_count": 51,
     "metadata": {},
     "output_type": "execute_result"
    }
   ],
   "source": [
    "muj_string  # \\n"
   ]
  },
  {
   "cell_type": "code",
   "execution_count": 52,
   "metadata": {},
   "outputs": [
    {
     "data": {
      "text/plain": [
       "'Očekávám text na druhém řádku!'"
      ]
     },
     "execution_count": 52,
     "metadata": {},
     "output_type": "execute_result"
    }
   ],
   "source": [
    "muj_druhy_string"
   ]
  },
  {
   "cell_type": "code",
   "execution_count": 55,
   "metadata": {},
   "outputs": [
    {
     "data": {
      "text/plain": [
       "30"
      ]
     },
     "execution_count": 55,
     "metadata": {},
     "output_type": "execute_result"
    }
   ],
   "source": [
    "muj_existujici_txt.write(muj_string)\n",
    "muj_existujici_txt.write(muj_druhy_string)"
   ]
  },
  {
   "cell_type": "code",
   "execution_count": 56,
   "metadata": {},
   "outputs": [],
   "source": [
    "muj_existujici_txt.close()"
   ]
  },
  {
   "cell_type": "code",
   "execution_count": 60,
   "metadata": {},
   "outputs": [],
   "source": [
    "muj_existujici_txt_list = open(\n",
    "    \"../muj_zapsany.txt\",\n",
    "    mode=\"w\"\n",
    ")"
   ]
  },
  {
   "cell_type": "code",
   "execution_count": 61,
   "metadata": {},
   "outputs": [],
   "source": [
    "# Zapíšu několik řádků současně, pomocí sekvence\n",
    "muj_existujici_txt_list.writelines((muj_string, f'\\n{muj_druhy_string}'))"
   ]
  },
  {
   "cell_type": "code",
   "execution_count": null,
   "metadata": {},
   "outputs": [],
   "source": [
    "# TOTO NE!\n",
    "# for line in (muj_string, f'\\n{muj_druhy_string}'):\n",
    "#     muj_existujici_txt_list.write(line)"
   ]
  },
  {
   "cell_type": "code",
   "execution_count": 62,
   "metadata": {},
   "outputs": [],
   "source": [
    "muj_existujici_txt_list.close()"
   ]
  },
  {
   "cell_type": "markdown",
   "metadata": {},
   "source": [
    "<br>\n",
    "\n",
    "### 🧠 CVIČENÍ 🧠, Vyzkoušej si práci s *textovým souborem*:"
   ]
  },
  {
   "cell_type": "markdown",
   "metadata": {},
   "source": [
    "1. Funkce `zapis_zpravu_do_txt_souboru` přijímá dva parametry `zprava` a `jmeno_souboru`,\n",
    "2. Funkce otevře nový soubor, zapíše zprávu a spojení se souborem ukončí,\n",
    "3. Vyzkoušej funkci spustit pro dva různé textové soubory."
   ]
  },
  {
   "cell_type": "code",
   "execution_count": 63,
   "metadata": {},
   "outputs": [],
   "source": [
    "def zapis_zpravu_do_txt_souboru(zprava: str,\n",
    "                                jmeno_souboru: str\n",
    "                               ):\n",
    "    # Vytvoříme spojení s daným argumentem a souborem ..\n",
    "    muj_txt_soubor = open(jmeno_souboru,\n",
    "                          mode='w',\n",
    "                          encoding='UTF-8')\n",
    "\n",
    "    # zapíšeme zprávu do souboru ..\n",
    "    muj_txt_soubor.write(zprava)\n",
    "\n",
    "    # uzavřeme spojení se souborem.\n",
    "    muj_txt_soubor.close()"
   ]
  },
  {
   "cell_type": "code",
   "execution_count": 64,
   "metadata": {},
   "outputs": [],
   "source": [
    "zapis_zpravu_do_txt_souboru(\n",
    "    zprava=\"Ahojte, toto je testovací zpráva!\",\n",
    "    jmeno_souboru='test_soubor.txt'\n",
    ")"
   ]
  },
  {
   "cell_type": "markdown",
   "metadata": {},
   "source": [
    "<details>\n",
    "  <summary>▶️ Klikni zde pro zobrazení řešení</summary>\n",
    "   \n",
    "```python\n",
    "def zapis_zpravu_do_txt_souboru(zprava: str, jmeno_souboru: str) -> None:\n",
    "    muj_soubor = open(jmeno_souboru, mode='w')\n",
    "    muj_soubor.write(zprava)\n",
    "    muj_soubor.close()\n",
    "\n",
    "zapis_zpravu_do_txt_souboru(\"Ahojte, toto je testovací zpráva!\", 'test_soubor.txt')\n",
    "```\n",
    "</details>"
   ]
  },
  {
   "cell_type": "markdown",
   "metadata": {},
   "source": [
    "<br>\n",
    "\n",
    "### Opakovaný zápis do souboru\n",
    "\n",
    "---\n",
    "\n",
    "Máš situaci, kdy tebou vytvořený soubor existuje a ty jej chceš znovu otevřít a rozšířit:"
   ]
  },
  {
   "cell_type": "code",
   "execution_count": 65,
   "metadata": {},
   "outputs": [],
   "source": [
    "dalsi_string = \"\\nRád čtu a hraji na klavír\""
   ]
  },
  {
   "cell_type": "markdown",
   "metadata": {},
   "source": [
    "<br>\n",
    "\n",
    "Opět potřebuješ inicializovat **pomocný objekt**, jako v předchozích scénářích:"
   ]
  },
  {
   "cell_type": "code",
   "execution_count": 69,
   "metadata": {},
   "outputs": [],
   "source": [
    "muj_stavajici_soubor = open(\n",
    "    \"../muj_zapsany.txt\",\n",
    "    mode=\"w\"\n",
    ")"
   ]
  },
  {
   "cell_type": "code",
   "execution_count": 71,
   "metadata": {},
   "outputs": [
    {
     "data": {
      "text/plain": [
       "26"
      ]
     },
     "execution_count": 71,
     "metadata": {},
     "output_type": "execute_result"
    }
   ],
   "source": [
    "muj_stavajici_soubor.write(dalsi_string)"
   ]
  },
  {
   "cell_type": "code",
   "execution_count": 72,
   "metadata": {},
   "outputs": [],
   "source": [
    "muj_stavajici_soubor.close()"
   ]
  },
  {
   "cell_type": "markdown",
   "metadata": {},
   "source": [
    "Když zkontroluješ, jak vypadá **nově přidaný text**, bude vypadat zmateně.\n",
    "\n",
    "<br>\n",
    "\n",
    "Pokud opětovně načteš **stejný soubor** v režimu `w`, přesuneš \"zapisovač\" (*představ si jej jako blikající kurzor v editoru*) opět **na začátek souboru**.\n",
    "\n",
    "*Interpret* zapisuje od místa, kde se zapisovač nachází, takže dojde **k přepsání původního obsahu**.\n",
    "\n",
    "<br>\n",
    "\n",
    "Pokud chceš automaticky zapisovat **od konce souboru**, otevři soubor s argumentem `mode=\"a\"`, tedy v režimu `append`."
   ]
  },
  {
   "cell_type": "code",
   "execution_count": 82,
   "metadata": {},
   "outputs": [],
   "source": [
    "prvni_radek = \"Ahoj, ja jsem Matouš (:\""
   ]
  },
  {
   "cell_type": "code",
   "execution_count": 83,
   "metadata": {},
   "outputs": [],
   "source": [
    "druhy_radek = \"\\nToto je druhý řádek!\""
   ]
  },
  {
   "cell_type": "code",
   "execution_count": 84,
   "metadata": {},
   "outputs": [],
   "source": [
    "treti_radek = \"\\nRád čtu, hraji na klavír\""
   ]
  },
  {
   "cell_type": "markdown",
   "metadata": {},
   "source": [
    "<br>\n",
    "\n",
    "V kombinaci s novým režimem **append**:"
   ]
  },
  {
   "cell_type": "code",
   "execution_count": 76,
   "metadata": {},
   "outputs": [],
   "source": [
    "muj_soubor = open(\"../muj_zapsany.txt\", mode=\"a\")"
   ]
  },
  {
   "cell_type": "code",
   "execution_count": 77,
   "metadata": {},
   "outputs": [
    {
     "data": {
      "text/plain": [
       "23"
      ]
     },
     "execution_count": 77,
     "metadata": {},
     "output_type": "execute_result"
    }
   ],
   "source": [
    "muj_soubor.write(prvni_radek)"
   ]
  },
  {
   "cell_type": "code",
   "execution_count": 78,
   "metadata": {},
   "outputs": [],
   "source": [
    "muj_soubor.close()"
   ]
  },
  {
   "cell_type": "code",
   "execution_count": 85,
   "metadata": {},
   "outputs": [],
   "source": [
    "muj_soubor = open(\"../muj_zapsany.txt\", mode=\"a\")"
   ]
  },
  {
   "cell_type": "code",
   "execution_count": 86,
   "metadata": {},
   "outputs": [
    {
     "data": {
      "text/plain": [
       "21"
      ]
     },
     "execution_count": 86,
     "metadata": {},
     "output_type": "execute_result"
    }
   ],
   "source": [
    "muj_soubor.write(druhy_radek)"
   ]
  },
  {
   "cell_type": "code",
   "execution_count": 87,
   "metadata": {},
   "outputs": [],
   "source": [
    "muj_soubor.close()"
   ]
  },
  {
   "cell_type": "code",
   "execution_count": 88,
   "metadata": {},
   "outputs": [],
   "source": [
    "muj_soubor = open(\"../muj_zapsany.txt\", mode=\"r+\")"
   ]
  },
  {
   "cell_type": "code",
   "execution_count": 89,
   "metadata": {},
   "outputs": [
    {
     "data": {
      "text/plain": [
       "25"
      ]
     },
     "execution_count": 89,
     "metadata": {},
     "output_type": "execute_result"
    }
   ],
   "source": [
    "muj_soubor.write(treti_radek)"
   ]
  },
  {
   "cell_type": "code",
   "execution_count": 90,
   "metadata": {},
   "outputs": [],
   "source": [
    "muj_soubor.close()"
   ]
  },
  {
   "cell_type": "markdown",
   "metadata": {},
   "source": [
    "<br>\n",
    "\n",
    "Pokud budeš někdy pracovat se stejným souborem tak, že jej budeš současně:\n",
    "1. **číst** soubor,\n",
    "2. **zapisovat** do něj.\n",
    "    \n",
    "Vyzkoušej režim `r+`."
   ]
  },
  {
   "cell_type": "code",
   "execution_count": 91,
   "metadata": {},
   "outputs": [],
   "source": [
    "muj_soubor = open(\"../muj_zapsany.txt\", mode=\"r+\")"
   ]
  },
  {
   "cell_type": "code",
   "execution_count": 92,
   "metadata": {},
   "outputs": [],
   "source": [
    "obsah_pred_zapisem = muj_soubor.readlines()"
   ]
  },
  {
   "cell_type": "code",
   "execution_count": 93,
   "metadata": {},
   "outputs": [
    {
     "name": "stdout",
     "output_type": "stream",
     "text": [
      "['Ahoj, ja jsem Matouš (:\\n', 'Toto je druhý řádek!\\n', 'Rád čtu, hraji na klavír']\n"
     ]
    }
   ],
   "source": [
    "print(obsah_pred_zapisem)"
   ]
  },
  {
   "cell_type": "code",
   "execution_count": 95,
   "metadata": {},
   "outputs": [
    {
     "data": {
      "text/plain": [
       "76"
      ]
     },
     "execution_count": 95,
     "metadata": {},
     "output_type": "execute_result"
    }
   ],
   "source": [
    "muj_soubor.tell()"
   ]
  },
  {
   "cell_type": "code",
   "execution_count": 96,
   "metadata": {},
   "outputs": [
    {
     "data": {
      "text/plain": [
       "23"
      ]
     },
     "execution_count": 96,
     "metadata": {},
     "output_type": "execute_result"
    }
   ],
   "source": [
    "muj_soubor.write('\\nA ještě poslední řádek')"
   ]
  },
  {
   "cell_type": "code",
   "execution_count": 97,
   "metadata": {},
   "outputs": [],
   "source": [
    "muj_soubor.close()"
   ]
  },
  {
   "cell_type": "markdown",
   "metadata": {},
   "source": [
    "<br>\n",
    "\n",
    "<img src=\"https://external-content.duckduckgo.com/iu/?u=https%3A%2F%2Ftse1.mm.bing.net%2Fth%3Fid%3DOIP.eUy0yqtKrsDHeiUI1dWKggHaHa%26pid%3DApi&f=1&ipt=69ae33045a754823160a963754bc498c4c560ed92d3f57186fdc778816155ef9&ipo=images\" width=\"200\" style=\"margin-left:auto; margin-right:auto\">"
   ]
  },
  {
   "cell_type": "markdown",
   "metadata": {},
   "source": [
    "### Zápis s kontextovým manažerem\n",
    "\n",
    "Zápis můžeš doplnit/rozšířit tzv. *kontextovým manažerem*."
   ]
  },
  {
   "cell_type": "code",
   "execution_count": null,
   "metadata": {},
   "outputs": [],
   "source": [
    "muj_soubor = open(\"demo.txt\", mode=\"r\")  # open\n",
    "print(muj_soubor.readlines())            # process\n",
    "\n",
    "# Nastane chyba! IndexError --> Vadí!\n",
    "\n",
    "muj_soubor.close()                       # close"
   ]
  },
  {
   "cell_type": "markdown",
   "metadata": {},
   "source": [
    "<br>\n",
    "\n",
    "Opakování a hlídání 3 základních kroků se může zdát svazující.\n",
    "\n",
    "V Pythonu existuje klíčový výraz `with`:"
   ]
  },
  {
   "cell_type": "code",
   "execution_count": 1,
   "metadata": {},
   "outputs": [
    {
     "name": "stdout",
     "output_type": "stream",
     "text": [
      "['První řádek, desátá lekce,\\n', 'druhý řádek, desátá lekce.']\n",
      "\n"
     ]
    }
   ],
   "source": [
    "with open(\"demo.txt\", mode=\"r\") as muj_soubor:  # open\n",
    "    print(muj_soubor.readlines())               # process + close\n",
    "\n",
    "    # Nastane chyba! IndexError --> Nevadí \"with\" ukončí spojení\n",
    "\n",
    "print()"
   ]
  },
  {
   "cell_type": "code",
   "execution_count": 2,
   "metadata": {},
   "outputs": [
    {
     "data": {
      "text/plain": [
       "True"
      ]
     },
     "execution_count": 2,
     "metadata": {},
     "output_type": "execute_result"
    }
   ],
   "source": [
    "muj_soubor.closed"
   ]
  },
  {
   "cell_type": "markdown",
   "metadata": {},
   "source": [
    "<br>\n",
    "\n",
    "### 🧠 CVIČENÍ 2 🧠, práce s textovými souborem:\n",
    "---"
   ]
  },
  {
   "cell_type": "markdown",
   "metadata": {},
   "source": [
    "- Definuj funkci `precti_logy`, která splňuje:\n",
    "    - parametr: `soubor` (string),\n",
    "    - vrací: seznam záznamů z logovacího souboru,\n",
    "    - popis: Tato funkce přečte obsah logovacích souboru. Kde každý řádek bude oddělený údaj sekvence.\n",
    "\n",
    "- definuj funkci `vyber_pouze_typ`, která splňuje:\n",
    "    - parametr: `obsah_souboru` (list),\n",
    "    - vrací: tuple,\n",
    "    - popis: Tato funkce ze zadaného seznamu logů rozdělí každý řádek a uloží pouze typ logovací zprávy (`INFO`, `WARN`, ...). Výsledný údaj vrať jako `tuple`."
   ]
  },
  {
   "cell_type": "code",
   "execution_count": 15,
   "metadata": {},
   "outputs": [],
   "source": [
    "zaznamy = \"\"\"\\\n",
    "INFO 2023-07-26 10:30:22 Aplikace úspěšně spuštěna\n",
    "INFO 2023-07-26 10:31:12 Uživatel přihlášen\n",
    "WARN 2023-07-26 10:35:05 Nedostatek místa na disku\n",
    "INFO 2023-07-26 10:36:17 Data úspěšně uložena\n",
    "ERROR 2023-07-26 10:40:44 Připojení k databázi selhalo\n",
    "WARN 2023-07-26 10:45:30 Možná chyba v konfiguraci\n",
    "ERROR 2023-07-26 10:50:01 Nelze odeslat e-mail\n",
    "INFO 2023-07-26 10:55:12 Aplikace úspěšně ukončena\n",
    "\"\"\""
   ]
  },
  {
   "cell_type": "code",
   "execution_count": 29,
   "metadata": {},
   "outputs": [],
   "source": [
    "from typing import List, Optional, Tuple\n",
    "\n",
    "\n",
    "def precti_logy(jmeno_souboru: str) -> Optional[List[str]]:\n",
    "    if not jmeno_souboru:      # Guard clause\n",
    "        return None\n",
    "\n",
    "    with open(jmeno_souboru, mode='r', encoding='UTF-8') as txt_soubor:\n",
    "        return txt_soubor.readlines()\n",
    "\n",
    "\n",
    "def vyber_pouze_typy(obsah_txt: List[str]) -> Tuple[str]:\n",
    "    vysledne_typy = list()\n",
    "    \n",
    "    for zaznam in obsah_txt: \n",
    "        vysledne_typy.append(zaznam.split(maxsplit=1)[0])\n",
    "\n",
    "    return tuple(vysledne_typy)"
   ]
  },
  {
   "cell_type": "code",
   "execution_count": 27,
   "metadata": {},
   "outputs": [],
   "source": [
    "obsah_txt = precti_logy(jmeno_souboru='ukazka_1.txt')"
   ]
  },
  {
   "cell_type": "code",
   "execution_count": 28,
   "metadata": {},
   "outputs": [
    {
     "data": {
      "text/plain": [
       "['INFO 2023-07-26 10:30:22 Aplikace úspěšně spuštěna\\n',\n",
       " 'INFO 2023-07-26 10:31:12 Uživatel přihlášen\\n',\n",
       " 'WARN 2023-07-26 10:35:05 Nedostatek místa na disku\\n',\n",
       " 'INFO 2023-07-26 10:36:17 Data úspěšně uložena\\n',\n",
       " 'ERROR 2023-07-26 10:40:44 Připojení k databázi selhalo\\n',\n",
       " 'WARN 2023-07-26 10:45:30 Možná chyba v konfiguraci\\n',\n",
       " 'ERROR 2023-07-26 10:50:01 Nelze odeslat e-mail\\n',\n",
       " 'INFO 2023-07-26 10:55:12 Aplikace úspěšně ukončena']"
      ]
     },
     "execution_count": 28,
     "metadata": {},
     "output_type": "execute_result"
    }
   ],
   "source": [
    "obsah_txt"
   ]
  },
  {
   "cell_type": "code",
   "execution_count": 30,
   "metadata": {},
   "outputs": [],
   "source": [
    "typy_zprav = vyber_pouze_typy(obsah_txt=obsah_txt)"
   ]
  },
  {
   "cell_type": "code",
   "execution_count": 32,
   "metadata": {},
   "outputs": [
    {
     "data": {
      "text/plain": [
       "frozenset({'ERROR', 'INFO', 'WARN'})"
      ]
     },
     "execution_count": 32,
     "metadata": {},
     "output_type": "execute_result"
    }
   ],
   "source": [
    "frozenset(typy_zprav)"
   ]
  },
  {
   "cell_type": "markdown",
   "metadata": {},
   "source": [
    "<details>\n",
    "    <summary>▶️ Řešení</summary>\n",
    "    \n",
    "```python\n",
    "def precti_logy(soubor: str) -> list:\n",
    "    muj_soubor = open(soubor, mode='w')\n",
    "    obsah_souboru = muj_soubor.readlines()\n",
    "    return obsah_souboru\n",
    "    \n",
    "\n",
    "def vyber_pouze_typ(obsah_souboru: list) -> tuple:\n",
    "    return tuple(\n",
    "        [log.split()[0] for log in obsah_souboru if len(log) > 3]\n",
    "    )\n",
    "```\n",
    "</details>"
   ]
  },
  {
   "cell_type": "markdown",
   "metadata": {},
   "source": [
    "<br>\n",
    "\n",
    "<img src=\"https://external-content.duckduckgo.com/iu/?u=https%3A%2F%2Ftse1.mm.bing.net%2Fth%3Fid%3DOIP.eIepNW0QqoKS0nHKxdHb_gHaHa%26pid%3DApi&f=1&ipt=f8fbd56c24a7f9c26b35553a95d220e93ce3bdce6bce019cdf455c712cd8e1b5&ipo=images\" width=\"200\" style=\"margin-left:auto; margin-right:auto\">"
   ]
  },
  {
   "cell_type": "markdown",
   "metadata": {},
   "source": [
    "## Formátování řetězců (~string formatting)\n",
    "\n",
    "---\n",
    "\n",
    "Jde o způsob, jakým efektivně zapisovat klasický string ve spojením se jmény proměnných, doplňujícím upravováním a dalšími variantami.\n",
    "\n",
    "<br>"
   ]
  },
  {
   "cell_type": "markdown",
   "metadata": {},
   "source": [
    "### Formátování řetězců\n",
    "\n",
    "---\n",
    "\n",
    "Povíme si více o těchto třech způsobech:\n",
    "1. **Formátovací výraz** (`%`-formatting)\n",
    "2. **Formátovací metoda** (`str.format()`)\n",
    "3. **Formátovaný string** (`f\"\"`)\n",
    "\n",
    "<br>"
   ]
  },
  {
   "cell_type": "markdown",
   "metadata": {},
   "source": [
    "### Formátovací výraz\n",
    "\n",
    "---\n",
    "\n",
    "Je to prapůvodní způsob formátování stringu v Pythonu už od uplného začátku:"
   ]
  },
  {
   "cell_type": "code",
   "execution_count": 3,
   "metadata": {},
   "outputs": [
    {
     "data": {
      "text/plain": [
       "'Ahoj, jmenuji se Lukas a je mi 27 let'"
      ]
     },
     "execution_count": 3,
     "metadata": {},
     "output_type": "execute_result"
    }
   ],
   "source": [
    "JMENO = \"Lukas\"\n",
    "VEK = 27\n",
    "\"Ahoj, jmenuji se %s a je mi %d let\" % (JMENO, VEK)"
   ]
  },
  {
   "cell_type": "markdown",
   "metadata": {},
   "source": [
    "<br>\n",
    "\n",
    "**Pozor!** dnes se již oficiálně nedoporučuje, jelikož často selhává, nesprávně zobrazuje tuple nebo slovníky. Vypisování není příliš praktické.\n",
    "\n",
    "<br>\n",
    "\n",
    "### Formátovací metoda\n",
    "\n",
    "---\n",
    "\n",
    "Od verze Pythonu 2.6 máme k dispozici další způsob pro formátování:"
   ]
  },
  {
   "cell_type": "code",
   "execution_count": 4,
   "metadata": {},
   "outputs": [
    {
     "data": {
      "text/plain": [
       "'Ahoj, jmenuji se Eliška a je mi 26 let'"
      ]
     },
     "execution_count": 4,
     "metadata": {},
     "output_type": "execute_result"
    }
   ],
   "source": [
    "JMENO = \"Eliška\"\n",
    "VEK = 26\n",
    "\"Ahoj, jmenuji se {} a je mi {} let\".format(JMENO, VEK)"
   ]
  },
  {
   "cell_type": "code",
   "execution_count": 5,
   "metadata": {},
   "outputs": [
    {
     "data": {
      "text/plain": [
       "'Ahoj, jmenuji se 26 a je mi Eliška let'"
      ]
     },
     "execution_count": 5,
     "metadata": {},
     "output_type": "execute_result"
    }
   ],
   "source": [
    "JMENO = \"Eliška\"\n",
    "VEK = 26\n",
    "\"Ahoj, jmenuji se {} a je mi {} let\".format(VEK, JMENO)"
   ]
  },
  {
   "cell_type": "code",
   "execution_count": 6,
   "metadata": {},
   "outputs": [
    {
     "data": {
      "text/plain": [
       "'Ahoj, jmenuji se Eliška a je mi 26 let'"
      ]
     },
     "execution_count": 6,
     "metadata": {},
     "output_type": "execute_result"
    }
   ],
   "source": [
    "JMENO = \"Eliška\"\n",
    "VEK = 26\n",
    "\"Ahoj, jmenuji se {1} a je mi {0} let\".format(VEK, JMENO)"
   ]
  },
  {
   "cell_type": "markdown",
   "metadata": {},
   "source": [
    "<br>\n",
    "\n",
    "**Pozor!** použití je pořád poměrně upovídaní např. při zápisu více proměnných. Má rozhodně široké možnosti formátování, ale vždy prakticky použitelné.\n",
    "\n",
    "<br>\n",
    "\n",
    "### 🔝 Formátovaný string (f-string)\n",
    "\n",
    "---\n",
    "\n",
    "Od verze Pythonu 3.6 máme k dispozici ještě třetí metodu pro formátování stringů."
   ]
  },
  {
   "cell_type": "code",
   "execution_count": 7,
   "metadata": {},
   "outputs": [
    {
     "data": {
      "text/plain": [
       "'Ahoj, jmenuji se Lucie a je mi 28 let'"
      ]
     },
     "execution_count": 7,
     "metadata": {},
     "output_type": "execute_result"
    }
   ],
   "source": [
    "JMENO = \"Lucie\"\n",
    "VEK = 28\n",
    "f\"Ahoj, jmenuji se {JMENO} a je mi {VEK} let\""
   ]
  },
  {
   "cell_type": "markdown",
   "metadata": {},
   "source": [
    "<br>\n",
    "\n",
    "Syntaxe je stručná přesto čitelná. Zvládá různé platné operace v Pythonu včetně volání funkcí. Opatrně při důsledném zapisování uvozovek."
   ]
  },
  {
   "cell_type": "code",
   "execution_count": 10,
   "metadata": {},
   "outputs": [
    {
     "data": {
      "text/plain": [
       "'|  Lucie   |    28    |'"
      ]
     },
     "execution_count": 10,
     "metadata": {},
     "output_type": "execute_result"
    }
   ],
   "source": [
    "f\"|{JMENO:^10}|{VEK:^10}|\""
   ]
  },
  {
   "cell_type": "markdown",
   "metadata": {},
   "source": [
    "<br>\n",
    "\n",
    "Vhodná také pro zaokrouhlování desetinných čísel a převádění číselných hodnot na procenta:"
   ]
  },
  {
   "cell_type": "code",
   "execution_count": 11,
   "metadata": {},
   "outputs": [
    {
     "name": "stdout",
     "output_type": "stream",
     "text": [
      "value: 11.12\n"
     ]
    }
   ],
   "source": [
    "value = 11.1234\n",
    "print(f\"value: {value:.2f}\")"
   ]
  },
  {
   "cell_type": "code",
   "execution_count": 14,
   "metadata": {},
   "outputs": [
    {
     "ename": "SyntaxError",
     "evalue": "invalid syntax (2349941925.py, line 2)",
     "output_type": "error",
     "traceback": [
      "\u001b[0;36m  Cell \u001b[0;32mIn[14], line 2\u001b[0;36m\u001b[0m\n\u001b[0;31m    print(f\"Ahoj, já jsem {data[\"name\"]}\")\u001b[0m\n\u001b[0m                                 ^\u001b[0m\n\u001b[0;31mSyntaxError\u001b[0m\u001b[0;31m:\u001b[0m invalid syntax\n"
     ]
    }
   ],
   "source": [
    "data = {'name': 'Matouš'}\n",
    "print(f\"Ahoj, já jsem {data[\"name\"]}\")"
   ]
  },
  {
   "cell_type": "markdown",
   "metadata": {},
   "source": [
    "[Formulář po deváté lekci](https://forms.gle/Py5UjJ8573DLLdCr8)"
   ]
  },
  {
   "cell_type": "markdown",
   "metadata": {},
   "source": [
    "---"
   ]
  },
  {
   "cell_type": "markdown",
   "metadata": {},
   "source": [
    "\n",
    "<img src=\"https://external-content.duckduckgo.com/iu/?u=https%3A%2F%2Ftse1.mm.bing.net%2Fth%3Fid%3DOIP.GMJvJ-GG0YS8H5JmHR3CbwHaHm%26pid%3DApi&f=1\" width=\"200\" style=\"margin-left:auto; margin-right:auto\" />\n",
    "\n",
    "\n",
    "## Domácí úkol\n",
    "\n",
    "---"
   ]
  },
  {
   "cell_type": "markdown",
   "metadata": {},
   "source": [
    "Napiš *skript*, který:\n",
    "\n",
    "1. Načte soubor typu `JSON`,\n",
    "2. rozdělí obsah **podle klíčů**,\n",
    "3. zapíšeš rozdělená data do sloupečků **v CSV souboru**.\n",
    "\n",
    "Vstupní **JSON** soubor:\n",
    "    "
   ]
  },
  {
   "cell_type": "markdown",
   "metadata": {},
   "source": [
    "```\n",
    "    {\n",
    "        \"id\": 1,\n",
    "        \"first_name\": \"Dorri\",\n",
    "        \"last_name\": \"Di Bernardo\",\n",
    "        \"email\": \"ddibernardo0@nba.com\",\n",
    "        \"gender\": \"Female\",\n",
    "        \"ip_address\": \"158.223.131.8\"\n",
    "    },\n",
    "    {\n",
    "        \"id\": 2,\n",
    "        \"first_name\": \"Nisse\",\n",
    "        \"last_name\": \"Noye\",\n",
    "        \"email\": \"nnoye1@theatlantic.com\",\n",
    "        \"gender\": \"Female\",\n",
    "        \"ip_address\": \"252.57.218.72\"\n",
    "    },\n",
    "    ...\n",
    "```"
   ]
  },
  {
   "cell_type": "markdown",
   "metadata": {},
   "source": [
    "Výstupní **CSV**:\n",
    "```\n",
    "[\"id\", \"first_name\", \"last_name\", \"email\", \"gender\", \"ip_address\"],\n",
    "[\"1\", \"Dorri\", \"Di Bernardo\", \"ddibernardo0@nba.com\", \"Female\", \"158.223.131.8\"],\n",
    "[\"2\", \"Nisse\", \"Noye\", \"nnoye1@theatlantic.com\", \"Female\", \"252.57.218.72\"],\n",
    "...\n",
    "```"
   ]
  },
  {
   "cell_type": "code",
   "execution_count": null,
   "metadata": {},
   "outputs": [],
   "source": []
  },
  {
   "cell_type": "markdown",
   "metadata": {},
   "source": [
    "---"
   ]
  }
 ],
 "metadata": {
  "kernelspec": {
   "display_name": "Python 3 (ipykernel)",
   "language": "python",
   "name": "python3"
  },
  "language_info": {
   "codemirror_mode": {
    "name": "ipython",
    "version": 3
   },
   "file_extension": ".py",
   "mimetype": "text/x-python",
   "name": "python",
   "nbconvert_exporter": "python",
   "pygments_lexer": "ipython3",
   "version": "3.8.10"
  }
 },
 "nbformat": 4,
 "nbformat_minor": 4
}
