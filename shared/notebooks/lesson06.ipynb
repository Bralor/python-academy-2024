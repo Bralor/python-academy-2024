{
 "cells": [
  {
   "cell_type": "markdown",
   "metadata": {},
   "source": [
    "# Python akademie\n",
    "\n",
    "---\n",
    "\n",
    "<br>"
   ]
  },
  {
   "cell_type": "markdown",
   "metadata": {},
   "source": [
    "## Obsah lekce\n",
    "\n",
    "---"
   ]
  },
  {
   "cell_type": "markdown",
   "metadata": {},
   "source": [
    "1. [Obecně ke knihovnám](#Obecně-ke-knihovnám),\n",
    "2. [ohlášení knihoven](#Obecně-ke-knihovnám),\n",
    "3. [moduly](#Moduly),\n",
    "4. [balíčky](#Balíčky),\n",
    "5. [knihovny třetích stran](#Knihovny-třetích-stran).\n",
    "<br>\n",
    "\n",
    "---"
   ]
  },
  {
   "cell_type": "markdown",
   "metadata": {},
   "source": [
    "<img src=\"https://external-content.duckduckgo.com/iu/?u=https%3A%2F%2Ftse3.mm.bing.net%2Fth%3Fid%3DOIP.lcaRsa47BhZ7k0yfLdB6AgHaHa%26pid%3DApi&f=1\" width=\"200\" style=\"margin-left:auto; margin-right:auto\" >"
   ]
  },
  {
   "cell_type": "markdown",
   "metadata": {},
   "source": [
    "## Obecně ke knihovnám\n",
    "\n",
    "---"
   ]
  },
  {
   "cell_type": "markdown",
   "metadata": {},
   "source": [
    "<br>\n",
    "\n",
    "### Co je to knihovna?\n",
    "\n",
    "---\n",
    "\n",
    "Knihovny v Pythonu jsou prakticky soubory s příponou `.py`.\n",
    "\n",
    "\n",
    "<img src=\"https://external-content.duckduckgo.com/iu/?u=https%3A%2F%2Ftse1.mm.bing.net%2Fth%3Fid%3DOIP.353pM1jJdG9e1a3tIlIbjwHaHa%26pid%3DApi&f=1&ipt=2a6ce2dfa6dd729e25be4d186ce0d0fefce73272938c52b7a2bff4ed74c5b16a&ipo=images\" width=\"100\" style=\"margin-left:auto; margin-right:auto\" >"
   ]
  },
  {
   "cell_type": "markdown",
   "metadata": {},
   "source": [
    "<br>\n",
    "\n",
    "### Jak vypadá knihovna?\n",
    "\n",
    "---\n",
    "\n",
    "Obsahují v sobě kód, který ty můžeš **rovnou použít** a nemusíš ho přepisovat od začátku.\n",
    "\n",
    "Autor knihovny si dal práci, že napsal funkce, proměnné, podmínkové zápisy a smyčky tak, že ty už je psát nemusíš.\n",
    "\n",
    "<br>\n",
    "\n",
    "#### Knihovna `random.py`\n",
    "\n",
    "---"
   ]
  },
  {
   "cell_type": "code",
   "execution_count": 1,
   "metadata": {},
   "outputs": [],
   "source": [
    "import random"
   ]
  },
  {
   "cell_type": "markdown",
   "metadata": {},
   "source": [
    "#### **Demo:** Ukázka knihovny `random`  👀"
   ]
  },
  {
   "cell_type": "markdown",
   "metadata": {},
   "source": [
    "<br>\n",
    "\n",
    "### Jak knihovny obecně rozdělit?\n",
    "\n",
    "---\n",
    "\n",
    "Podle struktury knihovny:\n",
    "1. **Moduly**, tedy samotný soubor s příponou **.py**,\n",
    "2. **balíčky**, celý adresář, který může obsahovat několik modulů."
   ]
  },
  {
   "cell_type": "markdown",
   "metadata": {},
   "source": [
    "<br>\n",
    "\n",
    "### Proč používat knihovny?\n",
    "\n",
    "---\n",
    "\n",
    "Pro tebe je to velká výhoda, protože si tento kód jednoduše nahraješ a můžeš se víc soustředit na to, co ty potřebuješ."
   ]
  },
  {
   "cell_type": "markdown",
   "metadata": {},
   "source": [
    "<br>\n",
    "\n",
    "### Praktická ukázky některých knihoven"
   ]
  },
  {
   "cell_type": "markdown",
   "metadata": {},
   "source": [
    "Ověř **operační systém** pomocí Pythonu:"
   ]
  },
  {
   "cell_type": "code",
   "execution_count": 4,
   "metadata": {},
   "outputs": [],
   "source": [
    "import sys"
   ]
  },
  {
   "cell_type": "code",
   "execution_count": 5,
   "metadata": {},
   "outputs": [
    {
     "name": "stdout",
     "output_type": "stream",
     "text": [
      "Spouštím cmd pro unix-based systémy..\n"
     ]
    }
   ],
   "source": [
    "if sys.platform == \"windows\":\n",
    "    print(\"Spouštím cmd pro Win..\")\n",
    "else:\n",
    "    print(\"Spouštím cmd pro unix-based systémy..\")"
   ]
  },
  {
   "cell_type": "code",
   "execution_count": 6,
   "metadata": {},
   "outputs": [
    {
     "name": "stdout",
     "output_type": "stream",
     "text": [
      "linux\n"
     ]
    }
   ],
   "source": [
    "print(sys.platform)"
   ]
  },
  {
   "cell_type": "markdown",
   "metadata": {},
   "source": [
    "<br>\n",
    "\n",
    "Operace **se soubory, cestami** v rámci tvého OS:"
   ]
  },
  {
   "cell_type": "code",
   "execution_count": 7,
   "metadata": {},
   "outputs": [],
   "source": [
    "import os            # Obdoba: pathlib"
   ]
  },
  {
   "cell_type": "code",
   "execution_count": 8,
   "metadata": {},
   "outputs": [
    {
     "name": "stdout",
     "output_type": "stream",
     "text": [
      "/home/matous/projects/python-academy-2024/shared/notebooks\n"
     ]
    }
   ],
   "source": [
    "print(os.getcwd())   # Aktuální umístení"
   ]
  },
  {
   "cell_type": "code",
   "execution_count": 9,
   "metadata": {},
   "outputs": [
    {
     "name": "stdout",
     "output_type": "stream",
     "text": [
      "['lesson04.ipynb', 'lesson01.ipynb', '.ipynb_checkpoints', 'lesson07.ipynb', 'lesson05.ipynb', 'lesson11.ipynb', 'lesson06.ipynb', 'lesson02.ipynb', 'lesson08.ipynb', 'lesson03.ipynb', 'lesson10.ipynb', 'lesson12.ipynb', 'lesson09.ipynb']\n"
     ]
    }
   ],
   "source": [
    "print(os.listdir())  # Dostupné soubory"
   ]
  },
  {
   "cell_type": "markdown",
   "metadata": {},
   "source": [
    "<br>\n",
    "\n",
    "Spočítej **3 nejčastější znaky** v zadaném `str`:"
   ]
  },
  {
   "cell_type": "code",
   "execution_count": 10,
   "metadata": {},
   "outputs": [],
   "source": [
    "from collections import Counter  # Počítání výskytů"
   ]
  },
  {
   "cell_type": "code",
   "execution_count": 11,
   "metadata": {},
   "outputs": [
    {
     "name": "stdout",
     "output_type": "stream",
     "text": [
      "[('a', 5), ('b', 4), ('c', 3)]\n"
     ]
    }
   ],
   "source": [
    "pocitadlo = Counter(\"abcdeabcdabcaba\")\n",
    "print(pocitadlo.most_common(3))"
   ]
  },
  {
   "cell_type": "markdown",
   "metadata": {},
   "source": [
    "<br>\n",
    "\n",
    "## Ohlášení knihoven\n",
    "\n",
    "---\n",
    "\n",
    "Jak můžeš knihovny **používat**?\n",
    "\n",
    "*Použít* knihovnu znamená **nahrát ji**."
   ]
  },
  {
   "cell_type": "code",
   "execution_count": 12,
   "metadata": {},
   "outputs": [
    {
     "ename": "NameError",
     "evalue": "name 'collections' is not defined",
     "output_type": "error",
     "traceback": [
      "\u001b[0;31m---------------------------------------------------------------------------\u001b[0m",
      "\u001b[0;31mNameError\u001b[0m                                 Traceback (most recent call last)",
      "Cell \u001b[0;32mIn[12], line 1\u001b[0m\n\u001b[0;32m----> 1\u001b[0m \u001b[38;5;28mprint\u001b[39m(\u001b[43mcollections\u001b[49m\u001b[38;5;241m.\u001b[39mnamedtuple)  \u001b[38;5;66;03m# bez ohlášení knihovny\u001b[39;00m\n",
      "\u001b[0;31mNameError\u001b[0m: name 'collections' is not defined"
     ]
    }
   ],
   "source": [
    "print(collections.namedtuple)  # Bez ohlášení knihovny"
   ]
  },
  {
   "cell_type": "code",
   "execution_count": 14,
   "metadata": {},
   "outputs": [],
   "source": [
    "from collections import namedtuple"
   ]
  },
  {
   "cell_type": "code",
   "execution_count": 15,
   "metadata": {},
   "outputs": [
    {
     "name": "stdout",
     "output_type": "stream",
     "text": [
      "<function namedtuple at 0x7fc6025f5f70>\n"
     ]
    }
   ],
   "source": [
    "print(namedtuple)  # s ohlášením knihovny"
   ]
  },
  {
   "cell_type": "markdown",
   "metadata": {},
   "source": [
    "Samotný způsob nahrátí (nebo také ohlášení) o nahrávání může mít několik podob:\n",
    "1. `import <knihovna>`,\n",
    "2. `from <knihovna> import *`,\n",
    "3. `from <knihovna> import <objekt>`,\n",
    "4. `from <knihovna> import <objekt> as <alias>`,\n",
    "5. `import <knihovna> as <alias>`.\n",
    "\n",
    "<br>"
   ]
  },
  {
   "cell_type": "markdown",
   "metadata": {},
   "source": [
    "### Nahrávání s `import`\n",
    "\n",
    "----\n",
    "    \n",
    "Nejjednodušší a nejpoužívanější ohlášení pomocí klíčové výrazu `import`:"
   ]
  },
  {
   "cell_type": "code",
   "execution_count": 16,
   "metadata": {},
   "outputs": [],
   "source": [
    "import math"
   ]
  },
  {
   "cell_type": "markdown",
   "metadata": {},
   "source": [
    "...dále je potřeba pracovat **se skutečnými knihovnami**:"
   ]
  },
  {
   "cell_type": "code",
   "execution_count": 17,
   "metadata": {},
   "outputs": [
    {
     "name": "stdout",
     "output_type": "stream",
     "text": [
      "3.141592653589793\n"
     ]
    }
   ],
   "source": [
    "print(math.pi)"
   ]
  },
  {
   "cell_type": "code",
   "execution_count": 18,
   "metadata": {},
   "outputs": [
    {
     "name": "stdout",
     "output_type": "stream",
     "text": [
      "2.718281828459045\n"
     ]
    }
   ],
   "source": [
    "print(math.e)"
   ]
  },
  {
   "cell_type": "code",
   "execution_count": 19,
   "metadata": {},
   "outputs": [
    {
     "ename": "NameError",
     "evalue": "name 'pi' is not defined",
     "output_type": "error",
     "traceback": [
      "\u001b[0;31m---------------------------------------------------------------------------\u001b[0m",
      "\u001b[0;31mNameError\u001b[0m                                 Traceback (most recent call last)",
      "Cell \u001b[0;32mIn[19], line 1\u001b[0m\n\u001b[0;32m----> 1\u001b[0m \u001b[38;5;28mprint\u001b[39m(\u001b[43mpi\u001b[49m)\n",
      "\u001b[0;31mNameError\u001b[0m: name 'pi' is not defined"
     ]
    }
   ],
   "source": [
    "print(pi)"
   ]
  },
  {
   "cell_type": "code",
   "execution_count": 20,
   "metadata": {},
   "outputs": [],
   "source": [
    "pii = math.pi"
   ]
  },
  {
   "cell_type": "code",
   "execution_count": 21,
   "metadata": {},
   "outputs": [
    {
     "name": "stdout",
     "output_type": "stream",
     "text": [
      "3.141592653589793\n"
     ]
    }
   ],
   "source": [
    "print(pii)"
   ]
  },
  {
   "cell_type": "markdown",
   "metadata": {},
   "source": [
    "Nejprve nahraješ knihovnu `math`, případně **jméno souboru** bez přípony.\n",
    "\n",
    "Následně použiješ potřebný objekt (v ukázce konstantu `pi`).\n",
    "\n",
    "<br>\n",
    "\n",
    "Podobně můžeš později pracovat se svými soubory `.py`:\n",
    "```python\n",
    "# pomocny_modul_1.py\n",
    "import pomocny_modul_1\n",
    "\n",
    "print(pomocny_modul_1.moje_promenna)\n",
    "```"
   ]
  },
  {
   "cell_type": "markdown",
   "metadata": {},
   "source": [
    "Ohlášení `import <knihovna>` je příhodné, pokud potřebuješ z jedné knihovny **použít více objektů** a současně mít pěkně přehled, ke které knihovně tyto objekty patří.\n",
    "\n",
    "<br>"
   ]
  },
  {
   "cell_type": "markdown",
   "metadata": {},
   "source": [
    "### Nahrávání s `from` a hvězdičkou\n",
    "\n",
    "----\n",
    "\n",
    "Tento způsob nahrávání **není moc častý**.\n",
    "\n",
    "Použiješ jej zejména při práci s *interaktivním interpretem* a jednodušších zápisech či kratších ukázkách."
   ]
  },
  {
   "cell_type": "code",
   "execution_count": 23,
   "metadata": {
    "scrolled": true
   },
   "outputs": [],
   "source": [
    "from sys import *\n",
    "from math import *"
   ]
  },
  {
   "cell_type": "code",
   "execution_count": 24,
   "metadata": {
    "scrolled": true
   },
   "outputs": [
    {
     "name": "stdout",
     "output_type": "stream",
     "text": [
      "2.718281828459045\n",
      "3.8.10 (default, Mar 25 2024, 10:42:49) \n",
      "[GCC 9.4.0]\n"
     ]
    }
   ],
   "source": [
    "print(\n",
    "    e,            # odkud pochází proměnná 'e'? sys/math?\n",
    "    version,      # ... a odkud 'version'?\n",
    "    sep=\"\\n\"\n",
    ")"
   ]
  },
  {
   "cell_type": "markdown",
   "metadata": {},
   "source": [
    "##### Rekapitulace\n",
    "\n",
    "Obecně se **tato varianta nahrávání nedoporučuje**, zejména kvůli svojí špatné přehlednosti a zanesení aktuálního prostředí spoustou nevyužitých objektů."
   ]
  },
  {
   "cell_type": "markdown",
   "metadata": {},
   "source": [
    "<br>\n",
    "\n",
    "### Nahrávání s `from` bez hvězdičky\n",
    "\n",
    "----"
   ]
  },
  {
   "cell_type": "markdown",
   "metadata": {},
   "source": [
    "Důvod, proč jej není vhodné používat je proto, že uživatel **nepotřebuje uvádět jména objektů** (nevidíš jakou proměnnou nahrál).\n",
    "\n",
    "Pokud potřebuješ použít třeba **jen jednu proměnnou** nebo objekt obecně, určitě oceníš právě toto ohlášení. "
   ]
  },
  {
   "cell_type": "code",
   "execution_count": null,
   "metadata": {},
   "outputs": [],
   "source": [
    "from math import e, pi"
   ]
  },
  {
   "cell_type": "code",
   "execution_count": null,
   "metadata": {},
   "outputs": [
    {
     "name": "stdout",
     "output_type": "stream",
     "text": [
      "2.718281828459045\n"
     ]
    }
   ],
   "source": [
    "print(e)   # math.e"
   ]
  },
  {
   "cell_type": "code",
   "execution_count": 26,
   "metadata": {},
   "outputs": [
    {
     "name": "stdout",
     "output_type": "stream",
     "text": [
      "3.141592653589793\n"
     ]
    }
   ],
   "source": [
    "print(pi)  # math.pi"
   ]
  },
  {
   "cell_type": "markdown",
   "metadata": {},
   "source": [
    "Oproti variantě s hvězdičkou je rozdíl, že tento způsob napíšeš, pokud potřebuješ jen velmi málo konkrétních objektů.\n",
    "\n",
    "Současně musíš uvádět, jaký objekt, **odkud nahráváš**.\n",
    "\n",
    "Při tomto ohlašování vypadá zápis následovně:\n",
    "\n",
    "1. `from`, tedy klíčový výraz,\n",
    "2. `math`, jméno knihovny,\n",
    "3. `import`, klíčový výraz,\n",
    "4. `e`, jméno proměnné, funkce, aj."
   ]
  },
  {
   "cell_type": "markdown",
   "metadata": {},
   "source": [
    "##### Rekapitulace\n",
    "\n",
    "Jde o způsobem, kdy potřebuješ třeba **jen jedinný objekt z knihovny**, a ten si explicitně ohlášením nahraješ."
   ]
  },
  {
   "cell_type": "markdown",
   "metadata": {},
   "source": [
    "<br>\n",
    "\n",
    "### Nahrávání s `from` bez hvězdičky a s aliasem\n",
    "\n",
    "----\n",
    "\n",
    "Pokud je **jméno nahrávaného objektu** příliš dlouhé (např. `EXTRA_DLOUHE_JMENO_KONSTANTY`), případně náročné pro zápis, potom může být přepisování takového jména nepohodlné.\n",
    "\n",
    "Pokud na takový objekt narazíš, můžeš vyzkoušet **alias**, který definuješ pomocí klíčového slova `as`:\n",
    "```python\n",
    "from <knihovna> import <EXTRA_DLOUHE_JMENO_KONSTANTY> as <alias>\n",
    "\n",
    "print(<alias>)\n",
    "```"
   ]
  },
  {
   "cell_type": "markdown",
   "metadata": {},
   "source": [
    "Alias pro kostantu `pi` není zrovna šikovný, ale jde hlavně o ukázku zápisu a použití:"
   ]
  },
  {
   "cell_type": "code",
   "execution_count": null,
   "metadata": {},
   "outputs": [],
   "source": [
    "from string import punctuation"
   ]
  },
  {
   "cell_type": "code",
   "execution_count": null,
   "metadata": {},
   "outputs": [
    {
     "name": "stdout",
     "output_type": "stream",
     "text": [
      "!\"#$%&'()*+,-./:;<=>?@[\\]^_`{|}~\n"
     ]
    }
   ],
   "source": [
    "print(punctuation)"
   ]
  },
  {
   "cell_type": "code",
   "execution_count": 28,
   "metadata": {},
   "outputs": [
    {
     "name": "stdout",
     "output_type": "stream",
     "text": [
      "!\"#$%&'()*+,-./:;<=>?@[\\]^_`{|}~\n"
     ]
    }
   ],
   "source": [
    "from string import punctuation as p  # obdoba: p = punctuation\n",
    "\n",
    "print(p)"
   ]
  },
  {
   "cell_type": "code",
   "execution_count": 32,
   "metadata": {},
   "outputs": [
    {
     "name": "stdout",
     "output_type": "stream",
     "text": [
      ".,;\n",
      "!\"#$%&'()*+,-./:;<=>?@[\\]^_`{|}~\n"
     ]
    }
   ],
   "source": [
    "from string import punctuation as p\n",
    "punctuation = '.,;'\n",
    "print(punctuation)\n",
    "print(p)"
   ]
  },
  {
   "cell_type": "markdown",
   "metadata": {},
   "source": [
    "Samozřejmě u jména proměnné jako `pi` není potřeba zapisovat *alias* (jméno je stručné a jasné samo o sobě).\n",
    "\n",
    "S aliasy ale opět pozor. Pokud se jich v jednom souboru objeví víc (3+), potom se opět čtení zápisu stává **méně přehledný**.\n",
    "\n",
    "1. Nejprve uvidíš *alias* (v ukázce `p`),\n",
    "2. po té potřebuješ najít proměnnou (v ukázce `pi`), kterou **alias přebírá**,\n",
    "3. nakonec dohledat knihovnu (.. `math`), ze které pochází."
   ]
  },
  {
   "cell_type": "markdown",
   "metadata": {},
   "source": [
    "##### Rekapitulace\n",
    "\n",
    "*Alias* je výhodný, pokud potkáš v knihovně objekt s dlouhým jménem."
   ]
  },
  {
   "cell_type": "markdown",
   "metadata": {},
   "source": [
    "<br>\n",
    "\n",
    "### Nahrávání s `import` a s aliasem\n",
    "\n",
    "----\n",
    "\n",
    "Stejně tak je možné použít alias pro delší jméno knihovny (např. EXTRA_DLOUHE_JMENO_KNIHOVNY).\n",
    "\n",
    "Teoreticky potom nastává tato situace:\n",
    "```python\n",
    "import <EXTRA_DLOUHE_JMENO_KNIHOVNY>\n",
    "\n",
    "print(<EXTRA_DLOUHE_JMENO_KNIHOVNY>.objekt)\n",
    "```\n",
    "\n",
    "\n",
    "*Alias* pro knihovnu `configparser`:"
   ]
  },
  {
   "cell_type": "code",
   "execution_count": null,
   "metadata": {},
   "outputs": [],
   "source": [
    "import configparser as cp  # obdoba: cp = configparser\n",
    "\n",
    "print(cp)"
   ]
  },
  {
   "cell_type": "markdown",
   "metadata": {},
   "source": [
    "Pokud je jméno knihovny (třeba `math`) **dostatečně stručné a jasné**, nemusíš *alias* používat."
   ]
  },
  {
   "cell_type": "markdown",
   "metadata": {},
   "source": [
    "##### Rekapitulace\n",
    "\n",
    "*Alias* je výhodný, pokud potkáš knihovnu s dlouhým jménem."
   ]
  },
  {
   "cell_type": "markdown",
   "metadata": {},
   "source": [
    "### Souhrn\n",
    "\n",
    "---\n",
    "* `import <knihovna>`, běžné obecné ohlášení,\n",
    "* `from <knihovna> import *`, pouze pro debugování, zkoušení,\n",
    "* `from <knihovna> import <objekt>`, pokud potřebuji jen několik málo vybraných objektů, kratší zápis,\n",
    "* `from <knihovna> import <objekt> as <alias>`, pokud potřebuji alias pro objekty\n",
    "* `import <knihovna> as <alias>`."
   ]
  },
  {
   "cell_type": "markdown",
   "metadata": {},
   "source": [
    "<br>\n",
    "\n",
    "### 🧠 CVIČENÍ 🧠, Vyzkoušej si práci s *importováním* knihoven:"
   ]
  },
  {
   "cell_type": "markdown",
   "metadata": {},
   "source": [
    "1. Nahraj knihovnu `math`,\n",
    "2. pro zadaný tuple `polomery`, vypočítej plochu kruhů (prozkoumej objekty v knihovně `math`, kde potřebuješ dohledat mocniny a konstantu pí),\n",
    "3. vypočítané plochy potom ukládej do proměnné `plochy`."
   ]
  },
  {
   "cell_type": "code",
   "execution_count": 33,
   "metadata": {},
   "outputs": [],
   "source": [
    "import math\n",
    "\n",
    "polomery = (1, 2, 3, 4, 5)"
   ]
  },
  {
   "cell_type": "code",
   "execution_count": null,
   "metadata": {},
   "outputs": [],
   "source": []
  },
  {
   "cell_type": "markdown",
   "metadata": {},
   "source": [
    "<details>\n",
    "  <summary>▶️  Klikni zde pro zobrazení řešení</summary>\n",
    "   \n",
    "```python\n",
    "import math\n",
    "\n",
    "polomery = [1, 2, 3, 4, 5]\n",
    "plochy = list()\n",
    "\n",
    "for polomer in polomery:\n",
    "    plochy.append(math.pow(polomer, 2) * math.pi)\n",
    "else:\n",
    "    print(plochy)\n",
    "```\n",
    "</details>"
   ]
  },
  {
   "cell_type": "markdown",
   "metadata": {},
   "source": [
    "<img src=\"https://external-content.duckduckgo.com/iu/?u=https%3A%2F%2Ftse2.mm.bing.net%2Fth%3Fid%3DOIP.cjfmUt8xYHoEdmQWxT1fBgHaHa%26pid%3DApi&f=1\" width=\"300\" style=\"margin-left:auto; margin-right:auto\">\n",
    "\n",
    "\n",
    "## Moduly\n",
    "\n",
    "---\n",
    "\n",
    "Modulem je tedy jakýkoliv soubor s příponou `.py`, který napíšeš ty, nebo jiní programátoři.\n",
    "\n",
    "\n",
    "Ty **nejčastější moduly** jsou již součástí instalace Pythonu, takže už v tento moment máš u sebe **nainstalovanou paletu těch nejpoužívanějších** (*zabudovaných* nebo také *built-in*) modulů.\n",
    "\n",
    "<br>"
   ]
  },
  {
   "cell_type": "code",
   "execution_count": 34,
   "metadata": {},
   "outputs": [],
   "source": [
    "import os      # modul pro práci s operačním systémem"
   ]
  },
  {
   "cell_type": "code",
   "execution_count": 35,
   "metadata": {},
   "outputs": [],
   "source": [
    "import sys     # modul pro přístup k některým systémovým proměnným"
   ]
  },
  {
   "cell_type": "code",
   "execution_count": 36,
   "metadata": {},
   "outputs": [],
   "source": [
    "import random  # modul pro práci s pseudo-náhodnými procesy"
   ]
  },
  {
   "cell_type": "markdown",
   "metadata": {},
   "source": [
    "Pomocí built-in funkce `dir` si můžeš ověřit, že po importování máš v aktuálním pracovním rámci nahráné moduly k dispozici (`True`), zatím co fiktivní muj_modul ne (`False`)."
   ]
  },
  {
   "cell_type": "code",
   "execution_count": null,
   "metadata": {},
   "outputs": [],
   "source": [
    "print(\n",
    "    \"os\" in dir() \\\n",
    "    and \"sys\" in dir() \\\n",
    "    and \"random\" in dir()\n",
    ")"
   ]
  },
  {
   "cell_type": "markdown",
   "metadata": {},
   "source": [
    "Pokud si vybereš **jméno modulu**, který **není součástí zabudovaných modulů** [pro tvoji verzi Pythonu](https://docs.python.org/3/library/index.html), dostaneš výjimku:"
   ]
  },
  {
   "cell_type": "code",
   "execution_count": 42,
   "metadata": {},
   "outputs": [
    {
     "name": "stdout",
     "output_type": "stream",
     "text": [
      "Writing matousuv_modul.py\n"
     ]
    }
   ],
   "source": [
    "%%file matousuv_modul.py\n",
    "\"\"\"Toto je můj vlastní modul, Matouš.\"\"\""
   ]
  },
  {
   "cell_type": "code",
   "execution_count": 43,
   "metadata": {},
   "outputs": [],
   "source": [
    "import matousuv_modul"
   ]
  },
  {
   "cell_type": "code",
   "execution_count": 44,
   "metadata": {},
   "outputs": [
    {
     "ename": "ModuleNotFoundError",
     "evalue": "No module named 'daviduv_modul'",
     "output_type": "error",
     "traceback": [
      "\u001b[0;31m---------------------------------------------------------------------------\u001b[0m",
      "\u001b[0;31mModuleNotFoundError\u001b[0m                       Traceback (most recent call last)",
      "Cell \u001b[0;32mIn[44], line 1\u001b[0m\n\u001b[0;32m----> 1\u001b[0m \u001b[38;5;28;01mimport\u001b[39;00m \u001b[38;5;21;01mdaviduv_modul\u001b[39;00m\n",
      "\u001b[0;31mModuleNotFoundError\u001b[0m: No module named 'daviduv_modul'"
     ]
    }
   ],
   "source": [
    "import daviduv_modul"
   ]
  },
  {
   "cell_type": "code",
   "execution_count": 45,
   "metadata": {},
   "outputs": [
    {
     "name": "stdout",
     "output_type": "stream",
     "text": [
      "Help on module matousuv_modul:\n",
      "\n",
      "NAME\n",
      "    matousuv_modul - Toto je můj vlastní modul, Matouš.\n",
      "\n",
      "FILE\n",
      "    /home/matous/projects/python-academy-2024/shared/notebooks/matousuv_modul.py\n",
      "\n",
      "\n",
      "None\n"
     ]
    }
   ],
   "source": [
    "print(help(matousuv_modul))"
   ]
  },
  {
   "cell_type": "markdown",
   "metadata": {},
   "source": [
    "<br>\n",
    "\n",
    "### Vlastní modul\n",
    "\n",
    "---\n",
    "\n",
    "V úvodu stojí, že si modul můžeš napsat **přímo ty**.\n",
    "\n",
    "Můžeš si vytvořit např. modul, který obsahuje `dict` s největšími městy v *České republice*. Ten si uložíš k sobě do složky pod jménem `mesta_cr.py`:"
   ]
  },
  {
   "cell_type": "code",
   "execution_count": null,
   "metadata": {},
   "outputs": [],
   "source": [
    "%%file mesta_cr.py\n",
    "# soubor mesta_cr.py\n",
    "vsechny_mesta = {\n",
    "    \"Praha\": 1_335_084,\n",
    "    \"Brno\": 382_405,\n",
    "    \"Ostrava\": 284_982,\n",
    "    \"Plzeň\": 175_219,\n",
    "    \"Liberec\": 104_261,\n",
    "    \"Olomouc\": 100_514,\n",
    "    \"České Budějovice\": 94_229,\n",
    "    \"Hradec Králové\": 92_683,\n",
    "    \"Ústí nad Labem\": 91_982,\n",
    "    \"Pardubice\": 91_755,\n",
    "}"
   ]
  },
  {
   "cell_type": "markdown",
   "metadata": {},
   "source": [
    "Následné si vytvoříš **druhý soubor** (ve stejném adresáři) `nad_100_k.py`, který bude obsahovat:"
   ]
  },
  {
   "cell_type": "code",
   "execution_count": null,
   "metadata": {},
   "outputs": [],
   "source": [
    "# soubor nad_100_k.py\n",
    "from mesta_cr import vsechny_mesta\n",
    "\n",
    "for mesto, obyvatele in vsechny_mesta.items():\n",
    "    if obyvatele > 100_000:\n",
    "        print(mesto)"
   ]
  },
  {
   "cell_type": "markdown",
   "metadata": {},
   "source": [
    "<br>\n",
    "\n",
    "### Nápověda `help`\n",
    "\n",
    "----\n",
    "\n",
    "Často se dostaneš do situace, kdy si **nebudeš vědět rady**.\n",
    "\n",
    "Nezapamatuješ si jméno *metody* v *knihovně*, jméno *proměnné*, atd.\n",
    "\n",
    "Můžeš samozřejmě navštívit různé dokumentace, knihy nebo články. Ale pokud potřebuješ okamžité offline řešení vyzkoušej funkci `help()`."
   ]
  },
  {
   "cell_type": "code",
   "execution_count": 46,
   "metadata": {},
   "outputs": [],
   "source": [
    "import random"
   ]
  },
  {
   "cell_type": "code",
   "execution_count": 54,
   "metadata": {},
   "outputs": [
    {
     "name": "stdout",
     "output_type": "stream",
     "text": [
      "['betavariate', 'choice', 'choices', 'expovariate', 'gammavariate', 'gauss', 'getrandbits', 'getstate', 'lognormvariate', 'normalvariate', 'paretovariate', 'randint', 'random', 'randrange', 'sample', 'seed', 'setstate', 'shuffle', 'triangular', 'uniform', 'vonmisesvariate', 'weibullvariate']\n"
     ]
    }
   ],
   "source": [
    "print(dir(random)[39:])"
   ]
  },
  {
   "cell_type": "code",
   "execution_count": 55,
   "metadata": {},
   "outputs": [
    {
     "name": "stdout",
     "output_type": "stream",
     "text": [
      "Help on method randint in module random:\n",
      "\n",
      "randint(a, b) method of random.Random instance\n",
      "    Return random integer in range [a, b], including both end points.\n",
      "\n",
      "None\n"
     ]
    }
   ],
   "source": [
    "print(help(random.randint))"
   ]
  },
  {
   "cell_type": "code",
   "execution_count": 60,
   "metadata": {},
   "outputs": [
    {
     "name": "stdout",
     "output_type": "stream",
     "text": [
      "5\n"
     ]
    }
   ],
   "source": [
    "print(random.randint(1, 5))"
   ]
  },
  {
   "cell_type": "markdown",
   "metadata": {},
   "source": [
    "<br>\n",
    "\n",
    "### Funkce `dir`\n",
    "\n",
    "----\n",
    "\n",
    "Pokud potřebuješ podrobný výpis, je lepší použít funkci `help`.\n",
    "\n",
    "Pokud ti stačí jen seznam všech dostupných metod, vyzkoušej metodu `dir`."
   ]
  },
  {
   "cell_type": "code",
   "execution_count": null,
   "metadata": {},
   "outputs": [],
   "source": [
    "print(dir(random))"
   ]
  },
  {
   "cell_type": "code",
   "execution_count": null,
   "metadata": {},
   "outputs": [],
   "source": [
    "random.choices?"
   ]
  },
  {
   "cell_type": "markdown",
   "metadata": {},
   "source": [
    "<br>\n",
    "\n",
    "### 🧠 CVIČENÍ 🧠, Vyzkoušej si práci s *moduly*:"
   ]
  },
  {
   "cell_type": "markdown",
   "metadata": {},
   "source": [
    "1. Načti požadovanou délku hesla do proměnné `delka_hesla`,\n",
    "2. nachystej váhu jednotlivých složek jako `pocet_pismen`, `pocet_cislic` a `pocet_znaku`, (poměrově, kdy 1 je celek),\n",
    "3. načti všechny možné stringové znaky do `dovolena_pismena`, `dovolene_cislice`, `dovolene_spec` (knihovna `string`),\n",
    "4. náhodný výběr znaků všech skupin znaků z předchozího bodu do `vsechny_vybrane_znaky` (pro váhu parametr `k`),\n",
    "5. přeházej pořadí znaků v `vsechny_vybrane_znaky` a uloz do `password`\n",
    "6. naformátuj výstup jako: `Vygenerované heslo: <PASSWORD>`"
   ]
  },
  {
   "cell_type": "code",
   "execution_count": null,
   "metadata": {},
   "outputs": [],
   "source": [
    "import string\n",
    "import random"
   ]
  },
  {
   "cell_type": "code",
   "execution_count": null,
   "metadata": {},
   "outputs": [],
   "source": []
  },
  {
   "cell_type": "markdown",
   "metadata": {},
   "source": [
    "<details>\n",
    "  <summary>▶️  Klikni zde pro zobrazení řešení</summary>\n",
    "   \n",
    "```python\n",
    "import string\n",
    "import random\n",
    "\n",
    "delka_hesla = int(input(\"Zadej požadovanou délku hesla: \"))\n",
    "\n",
    "pocet_pismen = int(delka_hesla * 0.4)\n",
    "pocet_cislic = int(delka_hesla * 0.3)\n",
    "pocet_znaku = delka_hesla - pocet_pismen - pocet_cislic\n",
    "\n",
    "dovolena_pismena = string.ascii_letters\n",
    "dovolene_cislice = string.digits\n",
    "dovolene_spec = string.punctuation\n",
    "\n",
    "vsechny_vybrane_znaky = (random.choices(dovolena_pismena, k=pocet_pismen)\n",
    "                  + random.choices(dovolene_cislice, k=pocet_cislic)\n",
    "                  + random.choices(dovolene_spec, k=pocet_znaku))\n",
    "\n",
    "random.shuffle(vsechny_vybrane_znaky)\n",
    "password = ''.join(vsechny_vybrane_znaky)\n",
    "\n",
    "print(\"Vygenerované heslo:\", password)\n",
    "```\n",
    "</details>"
   ]
  },
  {
   "cell_type": "markdown",
   "metadata": {},
   "source": [
    "<img src=\"https://external-content.duckduckgo.com/iu/?u=https%3A%2F%2Ftse1.mm.bing.net%2Fth%3Fid%3DOIP.Rq-hToMXLKlFsOOyPp_85QHaHa%26pid%3DApi&f=1\" width=\"200\" style=\"margin-left:auto; margin-right:auto\">"
   ]
  },
  {
   "cell_type": "markdown",
   "metadata": {},
   "source": [
    "## Balíčky\n",
    "\n",
    "---"
   ]
  },
  {
   "cell_type": "markdown",
   "metadata": {},
   "source": [
    "Pokud je **modul** samotný soubor s příponou **.py**, potom je **balík** v podstatě *sbírka několika modulů* (tedy souborů **.py**).\n",
    "\n",
    "\n",
    "Prohlédni si třeba obsah adresář (tedy balíček) `json`:\n",
    "```\n",
    "json/\n",
    "├── __init__.py\n",
    "├── __pycache__\n",
    "├── decoder.py\n",
    "├── encoder.py\n",
    "├── scanner.py\n",
    "└── tool.py\n",
    "```"
   ]
  },
  {
   "cell_type": "markdown",
   "metadata": {},
   "source": [
    "Kromě **modulů** (soubory s příponou **.py**) obsahují balíčky tyto **speciální soubory**:\n",
    "1. `__init__.py`,\n",
    "2. `__pycache__`.\n",
    "\n",
    "\n",
    "Proč je tedy dobré mít jak **moduly**, tak **balíčky**? Někdy je totiž příkazů, objektů a podmínek je v jednom souboru tolik, že by se stal jeden soubor nepřehledný, špatně pochopitelný.\n",
    "\n",
    "Proto se programátoři snaží tyto objekty (proměnné, smyčky, podmínky), které **k sobě logicky patří**, **rozdělit na víc modulů** a sdružit do jednoho balíčku."
   ]
  },
  {
   "cell_type": "markdown",
   "metadata": {},
   "source": [
    "<br>\n",
    "\n",
    "### \\_\\_init\\_\\_.py\n",
    "\n",
    "----\n",
    "\n",
    "Pokud nahlédneš do struktury balíčků, určitě si všimneš souboru `__init__.py`.\n",
    "\n",
    "Jeho účel je v podstatě indexovat adresář balíčku a pomoci *interpreta* najít konkrétní modul.\n",
    "\n",
    "Pokud v adresáři soubor `__init__.py` chybí, interpret jej nebude prohledávat.\n",
    "\n",
    "<br>"
   ]
  },
  {
   "cell_type": "code",
   "execution_count": 61,
   "metadata": {},
   "outputs": [],
   "source": [
    "import json"
   ]
  },
  {
   "cell_type": "code",
   "execution_count": 62,
   "metadata": {},
   "outputs": [
    {
     "name": "stdout",
     "output_type": "stream",
     "text": [
      "2.0.9\n"
     ]
    }
   ],
   "source": [
    "print(json.__version__)"
   ]
  },
  {
   "cell_type": "markdown",
   "metadata": {},
   "source": [
    "<br>\n",
    "\n",
    "### \\_\\_pycache\\_\\_\n",
    "\n",
    "----\n",
    "\n",
    "Pokud spustíš libovolný soubor s příponou **.py**, potom jej *interpret* začne postupně *kompilovat* na *bytecode*.\n",
    "\n",
    "Z tohoto kroku vznikají soubory **.pyc**.\n",
    "\n",
    "Ty dále pomáhají (v případě, že nechybí) přeskočit krok *kompilace* příště a spouštět tvůj soubor rychleji.\n",
    "\n",
    "Pokud náhodou složka `__pycache__` v adresáři balíčku chybí, *interpret* si ji vytvoří na příště při prvním spuštění."
   ]
  },
  {
   "cell_type": "markdown",
   "metadata": {},
   "source": [
    "<br>\n",
    "\n",
    "### Vlastní balíček\n",
    "\n",
    "---"
   ]
  },
  {
   "cell_type": "markdown",
   "metadata": {},
   "source": [
    "Stejně jako u *modulu*, můžeš samozřejmě vytvořit **vlastní balíček**.\n",
    "\n",
    "\n",
    "Pro ilustraci se podívej na tento balíček:\n",
    "```\n",
    "matousuv_balik/\n",
    "├── __init__.py\n",
    "├── __pycache__\n",
    "├── adresy.py\n",
    "└── jmena.py\n",
    "```"
   ]
  },
  {
   "cell_type": "markdown",
   "metadata": {},
   "source": [
    "1. Pro vytvoření takového *klasického* balíčku tedy neprve vytvoríš složku `muj_balicek`,\n",
    "2. přesuneš se dovnitř adresáře `muj_balicek` a v něm vytvoříš prázdný soubor `__init__.py`,\n",
    "3. dále vytvoříš soubor `adresy.py`,\n",
    "```python\n",
    "# adresy.py\n",
    "zamestnanci = {\n",
    "    11: {\"obec\": \"praha\", \"ulice\": \"milesovska\", \"c.p.\": \"11a\"},\n",
    "    12: {\"obec\": \"brno\", \"ulice\": \"podebradova\", \"c.p.\": \"123\"},\n",
    "    13: {\"obec\": \"olomouc\", \"ulice\": \"krizikova\", \"c.p.\": \"2a\"},\n",
    "    14: {\"obec\": \"plzen\", \"ulice\": \"stribneho\", \"c.p.\": \"301\"},\n",
    "}\n",
    "```"
   ]
  },
  {
   "cell_type": "markdown",
   "metadata": {},
   "source": [
    "4. nakonec vytvoříš soubor `jmena.py`,\n",
    "```python\n",
    "# jmena.py\n",
    "jmena = {\n",
    "    11: {\"jmeno\": \"Petr\", \"prijmeni\": \"Svetr\"},\n",
    "    12: {\"jmeno\": \"Matous\", \"ulice\": \"Svatous\"},\n",
    "    13: {\"jmeno\": \"Lukas\", \"ulice\": \"Gulas\"},\n",
    "    14: {\"jmeno\": \"Martin\", \"ulice\": \"Tecka\"},\n",
    "}\n",
    "```"
   ]
  },
  {
   "cell_type": "markdown",
   "metadata": {},
   "source": [
    "5. složku `__pycache__` tvořit nemusíš. Interpret si ji nachystá sám, až budeš potřebovat balíček spustit.\n",
    "\n",
    "Nyní si vytvoř nový modul `spojena_data.py`:\n",
    "```python\n",
    "# soubor spojena_data.py\n",
    "from muj_balicek.adresy import zamestnanci\n",
    "from muj_balicek.jmena import jmena\n",
    "\n",
    "print(bydliste[11], zamestnanci[11])\n",
    "```"
   ]
  },
  {
   "cell_type": "markdown",
   "metadata": {},
   "source": [
    "<img src=\"https://twixes.gallerycdn.vsassets.io/extensions/twixes/pypi-assistant/1.0.3/1589834023190/Microsoft.VisualStudio.Services.Icons.Default\" width=\"200\" style=\"margin-left:auto; margin-right:auto\">\n",
    "\n",
    "## Knihovny třetích stran\n",
    "\n",
    "---\n",
    "\n",
    "Podle **původu knihovny** můžeme říct, že máme **dva typy** knihoven:\n",
    "\n",
    "1. **Standardní knihovny** (tedy dostupné ihned po instalaci),\n",
    "2. **knihovny třetích stran** (je nutné je doinstalovat)."
   ]
  },
  {
   "cell_type": "code",
   "execution_count": 63,
   "metadata": {},
   "outputs": [],
   "source": [
    "import uuid\n",
    "import random\n",
    "import typing"
   ]
  },
  {
   "cell_type": "code",
   "execution_count": 65,
   "metadata": {},
   "outputs": [
    {
     "ename": "ModuleNotFoundError",
     "evalue": "No module named 'flask'",
     "output_type": "error",
     "traceback": [
      "\u001b[0;31m---------------------------------------------------------------------------\u001b[0m",
      "\u001b[0;31mModuleNotFoundError\u001b[0m                       Traceback (most recent call last)",
      "Cell \u001b[0;32mIn[65], line 1\u001b[0m\n\u001b[0;32m----> 1\u001b[0m \u001b[38;5;28;01mimport\u001b[39;00m \u001b[38;5;21;01mflask\u001b[39;00m\n",
      "\u001b[0;31mModuleNotFoundError\u001b[0m: No module named 'flask'"
     ]
    }
   ],
   "source": [
    "import flask"
   ]
  },
  {
   "cell_type": "markdown",
   "metadata": {},
   "source": [
    "Předtím než budeš moct tyto knihovny používat, je musíš vyhledat, stáhnout a nainstalovat.\n",
    "\n",
    "Většinu dostupných knihoven najdeš na [pypi.org](https://pypi.org/)\n",
    "\n",
    "Tady si knihovnu najdeš, pročteš a následně stáhneš (*ukázka terminal + PyCharm*)."
   ]
  },
  {
   "cell_type": "markdown",
   "metadata": {},
   "source": [
    "### Virtuální prostředí\n",
    "\n",
    "---\n",
    "\n",
    "Jakmile začneš s Python pracovat na více projektech, je dobré **oddělit jednotlivá prostředí**:\n",
    "```\n",
    "/projekty\n",
    "   ├─projekt01/  # knihovnu 1.1\n",
    "   ├─projekt02/  # knihovnu 1.2\n",
    "   ├─projekt03/\n",
    "   ├─pracovni/\n",
    "   └─pokus/\n",
    "```\n",
    "\n",
    "Každý projekt (složka v ukázce výše) může totiž pracovat **s různými knihovnami** (a různými verzemi).\n",
    "\n",
    "\n",
    "Různé knihovny znamenají různé související knihovny (a různé verze), drobné úpravy syntaxí, jména metoda a funkcí (příp. proměnných).\n",
    "\n",
    "\n",
    "Dobrým zvykem bývá **oddělit knihovny pro různé projekty**. Tedy neinstalovat knihovny globálně pro celý tvůj počítač,ale ke konkrétním projektům (pomocí *virtuálních prostředí*).\n",
    "\n",
    "<br>\n",
    "\n",
    "\n",
    "<img src=\"https://external-content.duckduckgo.com/iu/?u=https%3A%2F%2Ftse1.mm.bing.net%2Fth%3Fid%3DOIP.rkP6qcdgLXFW14tTAIcBewHaHa%26pid%3DApi&f=1&ipt=2e056bff7e07855bd40696229c6e1e570eae2d4f91c4c2155f97668b2d6a8311&ipo=images\" width=\"200\" style=\"margin-left:auto; margin-right:auto\">"
   ]
  },
  {
   "cell_type": "markdown",
   "metadata": {},
   "source": [
    "#### Příkazový řádek\n",
    "\n",
    "----\n",
    "\n",
    "1. **Vytvoříš** virtualní pracovní prostředí pomocí následující příkazu:\n",
    "```\n",
    "python3 -m venv <jmeno_prostredi>\n",
    "```"
   ]
  },
  {
   "cell_type": "markdown",
   "metadata": {},
   "source": [
    "2. **Aktivujeme** virtualní pracovní prostředí pomocí jeho jména. Po aktivaci dostaneme na začátku dotazovacího řádku závorku se jménem prostředí (př. `(env)`):\n",
    "```\n",
    "source <jmeno_prostredi>/bin/activate  # aktivace Linux\n",
    ".\\venv\\Scripts\\activate.bat            # Windows CMD\n",
    ".\\venv\\Scripts\\activate.ps1            # Windows PowerShell\n",
    "deactivate                             # ukončení\n",
    "```"
   ]
  },
  {
   "cell_type": "markdown",
   "metadata": {},
   "source": [
    "3. **Ověříme dostupnost správce** balíčků (conda, pipenv, poetry, pip je defaultně nainstalovaný ze druhé lekce):\n",
    "```\n",
    "pip --version\n",
    "```"
   ]
  },
  {
   "cell_type": "markdown",
   "metadata": {},
   "source": [
    "4. Pokud máme, **instalujeme balíčky**:\n",
    "```\n",
    "pip install <jmeno_balicku>         # instalace\n",
    "pip uninstall <jmeno_balicku>       # odstranění\n",
    "pip --help                          # nápověda\n",
    "```"
   ]
  },
  {
   "cell_type": "markdown",
   "metadata": {},
   "source": [
    "5. **Vytvoříme soubor** se souvisejícími knihovnami pro další uživatele `requirements.txt`. Ten obsahuje jména a verze knihoven, aby je mohli snadno nainstalovat i jiní uživatelé:\n",
    "```\n",
    "pip freeze > requirements.txt  # přesměruji výstup z příkazu do souboru\n",
    "```"
   ]
  },
  {
   "cell_type": "markdown",
   "metadata": {},
   "source": [
    "6. ... soubor `requirements.txt` lze potom naopak nainstalovat **do nového virtuálního prostředí**:\n",
    "```\n",
    "pip install -r requirements.txt\n",
    "```\n",
    "\n",
    "Jak udržovat balíčky aktuální + kontrola:\n",
    "```\n",
    "pip list --outdated                          # zobrazím výpis všech neaktuálních knihoven\n",
    "pip install --upgrade <jmeno_knihovny>       # upgradování\n",
    "pip install <jmeno_knihovny>==<cislo_verze>  # alternativní řešení\n",
    "```"
   ]
  },
  {
   "cell_type": "markdown",
   "metadata": {},
   "source": [
    "<img src=\"https://external-content.duckduckgo.com/iu/?u=https%3A%2F%2Ftse1.mm.bing.net%2Fth%3Fid%3DOIP.p4NKEAqAdgFX_u8PwtI_nwHaHa%26pid%3DApi&f=1\" width=\"200\" style=\"margin-left:auto; margin-right:auto\">\n",
    "\n",
    "\n",
    "\n",
    "#### PyCharm\n",
    "\n",
    "---\n",
    "\n",
    "1. Vytvoř si **nový adresář** (prázdný),\n",
    "2. otevři jej pomocí **PyCharm** (optiona Open...),\n",
    "3. vlož **nový modul** (klidně prázdný),\n",
    "4. přejdi do **settings** (ctrl+alt+s),\n",
    "5. *project interpreter*, *nastavení* ⚙, *vytvořit nové prostředí*,\n",
    "6. **přidat nové knihovny** (ikonka plus),\n",
    "7. *tools*, *sync Python requirements* (txt soubor s knihovnami a verzemi)."
   ]
  },
  {
   "cell_type": "markdown",
   "metadata": {},
   "source": [
    "<br>\n",
    "\n",
    "➡️ ➡️ **Formulář pro Tvoje hodnocení** [**šesté lekce**](https://forms.gle/8HFnNH4nymJb8nKc9) ⬅️ ⬅️\n",
    "\n",
    "<br>"
   ]
  },
  {
   "cell_type": "markdown",
   "metadata": {},
   "source": [
    "<br>\n",
    "\n",
    "## Domácí úkol\n",
    "\n",
    "---\n",
    "<img src=\"https://external-content.duckduckgo.com/iu/?u=https%3A%2F%2Ftse1.mm.bing.net%2Fth%3Fid%3DOIP.O9EkosTHP3lmEAvzA3D-2QHaHa%26pid%3DApi&f=1\" width=\"200\" style=\"margin-left:auto; margin-right:auto\" />\n"
   ]
  },
  {
   "cell_type": "markdown",
   "metadata": {},
   "source": [
    "Nageneruj data **pro zaměstnance** a jejich **oddělení**. Data budou mít následující strukturu:"
   ]
  },
  {
   "cell_type": "code",
   "execution_count": null,
   "metadata": {},
   "outputs": [],
   "source": [
    "# Ukázka pouze pro dva zaměstnance\n",
    "zamestnanci = {\n",
    "    \"zamestnanec_id\": (1, 2),  \n",
    "    \"jmeno\": (\"Petr\", \"Matous\"),\n",
    "    \"prijmeni\": (\"Svetr\", \"Holinka\"),\n",
    "    \"telefon\": (\"+420 777 666 555\", \"+420 776 665 554\"),\n",
    "    \"email\": (\"p.svetr@firma.cz\", \"m.holinka@firma.cz\"),\n",
    "    \"vytvoreno\": ('31/01/1996', '09/09/2000')\n",
    "}"
   ]
  },
  {
   "cell_type": "markdown",
   "metadata": {},
   "source": [
    "Jak údaje získat:\n",
    "\n",
    "#### Zaměstnanecké ID\n",
    "\n",
    "---\n",
    "\n",
    "Do klíče `\"zamestnanec_id\"` vlož `tuple` s celými čísly jednotlivých zaměstnanců. Tedy první zaměstnanec dostane **1** a poslední **107**.\n",
    "\n",
    "\n",
    "*NÁPOVĚDA*, čísla zadej pomocí `range`."
   ]
  },
  {
   "cell_type": "markdown",
   "metadata": {},
   "source": [
    "#### Jméno zaměstnance\n",
    "\n",
    "---\n",
    "\n",
    "Do klíče `\"jmeno\"` vlož `tuple` s jednotlivými jmény, které naparsuješ (získáš) ze zadané proměnné `zamestnanci_raw`."
   ]
  },
  {
   "cell_type": "markdown",
   "metadata": {},
   "source": [
    "#### Příjmení zaměstnance\n",
    "\n",
    "---\n",
    "\n",
    "Do klíče `\"prijmeni\"` vlož `tuple` s jednotlivými příjmeními, které naparsuješ (získáš) ze zadané proměnné `zamestnanci_raw`."
   ]
  },
  {
   "cell_type": "markdown",
   "metadata": {},
   "source": [
    "#### Telefon zaměstnance\n",
    "\n",
    "---\n",
    "\n",
    "Do klíče `\"telefon\"` vlož `tuple` se stringy, které obsahují telefonní čísla.\n",
    "\n",
    "Tato čísla vytvoříš jako devět náhodných čísel, která připojíš ke stringu `\"+420\"`. Výsledek tedy bude vypadat jako `\"+420\"` a správně naformátované hodnoty `\"123345343\"`. Výsledek: `\"+420 123 345 343\"`.\n",
    "\n",
    "*NÁPOVĚDA*, čísla náhodně vyber z knihovny `random`."
   ]
  },
  {
   "cell_type": "markdown",
   "metadata": {},
   "source": [
    "#### Email zaměstnance\n",
    "\n",
    "---\n",
    "\n",
    "Do klíče `\"email\"` vlož `tuple` se stringy obsahující emailové adresy zaměstnanců.\n",
    "\n",
    "Tento email nachystej pomocí:\n",
    "1. Prvního písmena ze jména zaměstnance (malé písmeno),\n",
    "2. tečky,\n",
    "3. celého příjmení zapsaného malými písmeny,\n",
    "4. @firma.cz.\n",
    "\n",
    "Všechny údaje musí být bez diakritiky.\n",
    "\n",
    "Ukázka:\n",
    "```python\n",
    "jmeno = \"Kryštof\"\n",
    "prijmeni = \"Slunečný\"\n",
    "\n",
    "email = \"k.slunecny@firma.cz\"\n",
    "```\n",
    "\n",
    "\n",
    "*NÁPOVĚDA*, knihovna `unidecode`."
   ]
  },
  {
   "cell_type": "markdown",
   "metadata": {},
   "source": [
    "#### Datum nástupu zaměstnance\n",
    "\n",
    "---\n",
    "\n",
    "Do klíče `\"vytvoreno\"` vlož `tuple` se stringy obsahující náhodné datumy mezi daty **1.1.1990** a **1.1.2020**.\n",
    "\n",
    "Datumy nemusí být unikátní, ale musí být ve formátu `\"dd/mm/rrrr\"`\n",
    "\n",
    "*NÁPOVĚDA*, knihovna `time`.\n",
    "\n",
    "<br>"
   ]
  },
  {
   "cell_type": "code",
   "execution_count": null,
   "metadata": {
    "scrolled": true
   },
   "outputs": [],
   "source": [
    "zamestnanci_raw = \"\"\"\n",
    "Helena Vybíralová\n",
    "Wendy Štrumlová\n",
    "Marie Vybíralová\n",
    "Stanislav Bechyňka\n",
    "Zdeňka Urbánková\n",
    "Lukáš Riečan\n",
    "Veronika Koudelová\n",
    "Františka Vorlová\n",
    "Ilie Seleš\n",
    "Martin Železný\n",
    "Petra Niklesová\n",
    "Bohumil Skok\n",
    "Jakub Šmíd\n",
    "Jarmila Procházková\n",
    "Dagmar Hlavatá\n",
    "Jiří Nguyen Thanh\n",
    "Marie Franková\n",
    "Dana Ulrichová\n",
    "Jana Hranická\n",
    "Hana Budošová\n",
    "Ivan Široký\n",
    "Květoslava Jiráčková\n",
    "Pavel Przywara\n",
    "Josef Umlauf\n",
    "Tomáš Granzer\n",
    "Miroslav Kuba\n",
    "Miloslava Adámková\n",
    "Marie Karlíková\n",
    "Jaroslav Hronský\n",
    "Vlasta Karlíková\n",
    "Andrea Žatková\n",
    "Zuzana Lokočová\n",
    "Ondřej Ptáček\n",
    "Zdeněk Najman\n",
    "Tereza Šebešová\n",
    "Antonie Skokánková\n",
    "Jan Lion\n",
    "Václav Vecko\n",
    "František Vajgl\n",
    "Adéla Kavková\n",
    "Amália Vacková\n",
    "Anna Pažická\n",
    "Ivo Pustějovský\n",
    "Antonín Pavela\n",
    "Jitka Adamová\n",
    "Libuše Hamroziová\n",
    "Drahomíra Balzerová\n",
    "Marek Suchánek\n",
    "Petr Vavrinec\n",
    "Jonáš Stuchlý\n",
    "Jaromír Pecen\n",
    "Markéta Kyliánková\n",
    "Marina Pečenková\n",
    "Ivana Perdochová\n",
    "Michaela Drápalová\n",
    "Michael Mentlík\n",
    "Rudolf Špičák\n",
    "Žaneta Holá\n",
    "Blanka Lišková\n",
    "Eva Svatoňová\n",
    "Rostislav Hoang\n",
    "Martina Kalivodová\n",
    "Milan Hruška\n",
    "Zdenka Marková\n",
    "Lenka Schambergerová\n",
    "Růžena Martinů\n",
    "Věra Řezanková\n",
    "Marie Pečenková\n",
    "Miloš Váchal\n",
    "Jaroslava Hrubá\n",
    "Petr Pecen\n",
    "Pavla Konvicová\n",
    "Lucie Marešová\n",
    "Květuše Zdráhalová\n",
    "Vlastimila Svatošová\n",
    "Zora Michalčíková\n",
    "Daniel Švejnoha\n",
    "Klára Brunclíková\n",
    "Vladimír Bauer\n",
    "Michal Slaný\n",
    "Jiřina Novosadová\n",
    "Karel Sršeň\n",
    "Stanislava Lakosilová\n",
    "Filip Černý\n",
    "Alena Kubiková\n",
    "Sára Kotrlová\n",
    "Alois Rejlek\n",
    "Božena Novotná\n",
    "Maryana Nováková\n",
    "Kateřina Máslová\n",
    "Ladislav Dvořák\n",
    "Radek Varga\n",
    "Petr Dvořák\n",
    "Ludmila Jaklová\n",
    "Renáta Foubíková\n",
    "Nikola Lehká\n",
    "Dominika Riegerová\n",
    "Patrik Polák\n",
    "Soňa Štrbová\n",
    "David Matoušek\n",
    "Liubov Hollíková\n",
    "Monika Poláková\n",
    "Marie Jaklová\n",
    "Aleš Svoboda\n",
    "Roman Kolínský\n",
    "Karolína Košiková\n",
    "\"\"\""
   ]
  },
  {
   "cell_type": "markdown",
   "metadata": {},
   "source": [
    "---"
   ]
  }
 ],
 "metadata": {
  "kernelspec": {
   "display_name": "Python 3 (ipykernel)",
   "language": "python",
   "name": "python3"
  },
  "language_info": {
   "codemirror_mode": {
    "name": "ipython",
    "version": 3
   },
   "file_extension": ".py",
   "mimetype": "text/x-python",
   "name": "python",
   "nbconvert_exporter": "python",
   "pygments_lexer": "ipython3",
   "version": "3.8.10"
  }
 },
 "nbformat": 4,
 "nbformat_minor": 4
}
