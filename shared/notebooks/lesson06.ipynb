{
 "cells": [
  {
   "cell_type": "markdown",
   "metadata": {},
   "source": [
    "# Python akademie\n",
    "\n",
    "<br>\n",
    "\n",
    "## Obsah lekce\n",
    "\n",
    "---"
   ]
  },
  {
   "cell_type": "markdown",
   "metadata": {},
   "source": []
  },
  {
   "cell_type": "markdown",
   "metadata": {},
   "source": [
    "1. [Obecně ke knihovnám](#Obecně-ke-knihovnám),\n",
    "2. [ohlášení knihoven](#Obecně-ke-knihovnám),\n",
    "3. [moduly](#Moduly),\n",
    "4. [balíčky](#Balíčky),\n",
    "5. [knihovny třetích stran](#Knihovny-třetích-stran),\n",
    "5. [domácí úkol]().\n",
    "\n",
    "<br>\n",
    "\n",
    "---"
   ]
  },
  {
   "cell_type": "markdown",
   "metadata": {},
   "source": [
    "<img src=\"https://external-content.duckduckgo.com/iu/?u=https%3A%2F%2Ftse3.mm.bing.net%2Fth%3Fid%3DOIP.lcaRsa47BhZ7k0yfLdB6AgHaHa%26pid%3DApi&f=1\" width=\"300\" style=\"margin-left:auto; margin-right:auto\" >"
   ]
  },
  {
   "cell_type": "markdown",
   "metadata": {},
   "source": [
    "## Obecně ke knihovnám"
   ]
  },
  {
   "cell_type": "markdown",
   "metadata": {},
   "source": [
    "<br>\n",
    "\n",
    "### Co je to knihovna\n",
    "\n",
    "---\n",
    "\n",
    "Knihovny v Pythonu jsou prakticky soubory s příponou `.py`."
   ]
  },
  {
   "cell_type": "markdown",
   "metadata": {},
   "source": [
    "<br>\n",
    "\n",
    "### Jak vypadá knihovna\n",
    "\n",
    "---\n",
    "\n",
    "Obsahují v sobě kód, který ty můžeš **rovnou použít** a nemusíš ho přepisovat od začátku.\n",
    "\n",
    "Autor knihovny si dal práci, že napsal funkce, proměnné, podmínkové zápisy a smyčky tak, že ty už je psát nemusíš.\n",
    "\n",
    "<br>\n",
    "\n",
    "#### Knihovna `random.py`"
   ]
  },
  {
   "cell_type": "code",
   "execution_count": null,
   "metadata": {},
   "outputs": [],
   "source": [
    "import random"
   ]
  },
  {
   "cell_type": "code",
   "execution_count": null,
   "metadata": {},
   "outputs": [],
   "source": [
    "help(random)"
   ]
  },
  {
   "cell_type": "markdown",
   "metadata": {},
   "source": [
    "#### **Demo:** Ukázka knihovny `random`"
   ]
  },
  {
   "cell_type": "markdown",
   "metadata": {},
   "source": [
    "<br>\n",
    "\n",
    "### Obecné dělení\n",
    "\n",
    "---\n",
    "\n",
    "Podle struktury knihovny:\n",
    "1. **Moduly**, tedy samotný soubor s příponou **.py**,\n",
    "2. **balíčky**, celý adresář, který může obsahovat několik modulů."
   ]
  },
  {
   "cell_type": "markdown",
   "metadata": {},
   "source": [
    "<br>\n",
    "\n",
    "### Proč psát/používat knihovny\n",
    "\n",
    "---\n",
    "\n",
    "Pro tebe je to velká výhoda, protože si tento kód jednoduše nahraješ a můžeš se víc soustředit na to, co ty potřebuješ."
   ]
  },
  {
   "cell_type": "markdown",
   "metadata": {},
   "source": [
    "<br>\n",
    "\n",
    "### Praktická ukázky některých knihoven"
   ]
  },
  {
   "cell_type": "markdown",
   "metadata": {},
   "source": [
    "Ověř **operační systém** pomocí Pythonu:"
   ]
  },
  {
   "cell_type": "code",
   "execution_count": null,
   "metadata": {},
   "outputs": [],
   "source": [
    "import sys"
   ]
  },
  {
   "cell_type": "code",
   "execution_count": null,
   "metadata": {},
   "outputs": [],
   "source": [
    "if sys.platform == \"windows\":\n",
    "    print(\"Spouštím cmd pro Win..\")\n",
    "else:\n",
    "    print(\"Spouštím cmd pro unix-based systémy..\")"
   ]
  },
  {
   "cell_type": "code",
   "execution_count": null,
   "metadata": {},
   "outputs": [],
   "source": [
    "import sys"
   ]
  },
  {
   "cell_type": "code",
   "execution_count": null,
   "metadata": {},
   "outputs": [],
   "source": [
    "print(sys.platform)"
   ]
  },
  {
   "cell_type": "markdown",
   "metadata": {},
   "source": [
    "<br>\n",
    "\n",
    "Operace **se soubory, cestami** v rámci tvého OS:"
   ]
  },
  {
   "cell_type": "code",
   "execution_count": null,
   "metadata": {},
   "outputs": [],
   "source": [
    "import os  # Obdoba: pathlib"
   ]
  },
  {
   "cell_type": "code",
   "execution_count": null,
   "metadata": {},
   "outputs": [],
   "source": [
    "print(os.getcwd())   # aktuální umístení"
   ]
  },
  {
   "cell_type": "code",
   "execution_count": null,
   "metadata": {},
   "outputs": [],
   "source": [
    "print(os.listdir())  # dostupné soubory"
   ]
  },
  {
   "cell_type": "markdown",
   "metadata": {},
   "source": [
    "<br>\n",
    "\n",
    "Spočítej **3 nejčastější znaky** v zadaném `str`:"
   ]
  },
  {
   "cell_type": "code",
   "execution_count": null,
   "metadata": {},
   "outputs": [],
   "source": [
    "# počítání výskytů\n",
    "from collections import Counter"
   ]
  },
  {
   "cell_type": "code",
   "execution_count": null,
   "metadata": {},
   "outputs": [],
   "source": [
    "pocitadlo = Counter(\"abcdeabcdabcaba\")\n",
    "print(pocitadlo.most_common(3))"
   ]
  },
  {
   "cell_type": "markdown",
   "metadata": {},
   "source": [
    "<br>\n",
    "\n",
    "## Ohlášení knihoven\n",
    "\n",
    "---\n",
    "\n",
    "Jak můžeš knihovny **používat**?\n",
    "\n",
    "*Použít* knihovnu znamená **nahrát ji**."
   ]
  },
  {
   "cell_type": "code",
   "execution_count": null,
   "metadata": {},
   "outputs": [],
   "source": [
    "print(os.listdir())  # bez ohlášení knihovny"
   ]
  },
  {
   "cell_type": "code",
   "execution_count": null,
   "metadata": {},
   "outputs": [],
   "source": [
    "import os"
   ]
  },
  {
   "cell_type": "code",
   "execution_count": null,
   "metadata": {},
   "outputs": [],
   "source": [
    "print(os.listdir())  # s ohlášením knihovny"
   ]
  },
  {
   "cell_type": "markdown",
   "metadata": {},
   "source": [
    "Samotný způsob nahrátí (nebo také ohlášení) o nahrávání může mít několik podob:\n",
    "1. `import <knihovna>`,\n",
    "2. `from <knihovna> import *`,\n",
    "3. `from <knihovna> import <objekt>`,\n",
    "4. `from <knihovna> import <objekt> as <alias>`,\n",
    "5. `import <knihovna> as <alias>`.\n",
    "\n",
    "<br>"
   ]
  },
  {
   "cell_type": "markdown",
   "metadata": {},
   "source": [
    "### Nahrávání s `import`\n",
    "\n",
    "----\n",
    "    \n",
    "Nejjednodušší a nejpoužívanější ohlášení pomocí klíčové výrazu `import`:"
   ]
  },
  {
   "cell_type": "code",
   "execution_count": null,
   "metadata": {},
   "outputs": [],
   "source": [
    "import math"
   ]
  },
  {
   "cell_type": "markdown",
   "metadata": {},
   "source": [
    "...dále je potřeba pracovat **se skutečnými knihovnami**:"
   ]
  },
  {
   "cell_type": "code",
   "execution_count": null,
   "metadata": {},
   "outputs": [],
   "source": [
    "print(math.pi)"
   ]
  },
  {
   "cell_type": "code",
   "execution_count": null,
   "metadata": {},
   "outputs": [],
   "source": [
    "print(pi)"
   ]
  },
  {
   "cell_type": "markdown",
   "metadata": {},
   "source": [
    "Nejprve nahraješ knihovnu `math`, případně **jméno souboru** bez přípony.\n",
    "\n",
    "Následně použiješ potřebný objekt (v ukázce konstantu `pi`).\n",
    "\n",
    "<br>\n",
    "\n",
    "Podobně můžeš později pracovat se svými soubory `.py`:\n",
    "```python\n",
    "# pomocny_modul_1.py\n",
    "import pomocny_modul_1\n",
    "\n",
    "print(pomocny_modul_1.moje_promenna)\n",
    "```"
   ]
  },
  {
   "cell_type": "markdown",
   "metadata": {},
   "source": [
    "Ohlášení `import <knihovna>` je příhodné, pokud potřebuješ z jedné knihovny **použít více objektů** a současně mít pěkně přehled, ke které knihovně tyto objekty patří.\n",
    "\n",
    "<br>"
   ]
  },
  {
   "cell_type": "markdown",
   "metadata": {},
   "source": [
    "### Nahrávání s `from` a hvězdičkou\n",
    "\n",
    "----\n",
    "\n",
    "Tento způsob nahrávání **není moc častý**.\n",
    "\n",
    "Použiješ jej zejména při práci s interaktivním interpretem a jednodušších zápisech či kratších ukázkách."
   ]
  },
  {
   "cell_type": "code",
   "execution_count": null,
   "metadata": {
    "scrolled": true
   },
   "outputs": [],
   "source": [
    "from sys import *\n",
    "from math import *\n",
    "\n",
    "print(\n",
    "    e,            # odkud pochází proměnná 'e'? sys/math?\n",
    "    version,      # ... a odkud 'version'?\n",
    "    sep=\"\\n\"\n",
    ")"
   ]
  },
  {
   "cell_type": "markdown",
   "metadata": {},
   "source": [
    "##### Rekapitulace\n",
    "\n",
    "Obecně se **tato varianta nahrávání nedoporučuje**, zejména kvůli svojí špatné přehlednosti a zanesení aktuálního prostředí spoustou nevyužitých objektů."
   ]
  },
  {
   "cell_type": "markdown",
   "metadata": {},
   "source": [
    "<br>\n",
    "\n",
    "### Nahrávání s `from` bez hvězdičky\n",
    "\n",
    "----"
   ]
  },
  {
   "cell_type": "markdown",
   "metadata": {},
   "source": [
    "Důvod, proč jej není vhodné používat je proto, že uživatel **nepotřebuje uvádět jména objektů** (nevidíš jakou proměnnou nahrál).\n",
    "\n",
    "Pokud potřebuješ použít třeba **jen jednu proměnnou** nebo objekt obecně, určitě oceníš právě toto ohlášení. "
   ]
  },
  {
   "cell_type": "code",
   "execution_count": null,
   "metadata": {},
   "outputs": [],
   "source": [
    "from math import e, pi\n",
    "\n",
    "print(e)   # math.e"
   ]
  },
  {
   "cell_type": "code",
   "execution_count": null,
   "metadata": {},
   "outputs": [],
   "source": [
    "print(pi)  # math.pi"
   ]
  },
  {
   "cell_type": "markdown",
   "metadata": {},
   "source": [
    "Oproti variantě s hvězdičkou je rozdíl, že tento způsob napíšeš, pokud potřebuješ jen velmi málo konkrétních objektů (max. 3).\n",
    "\n",
    "Současně musíš uvádět, jaký objekt, **odkud nahráváš**.\n",
    "\n",
    "Při tomto ohlašování vypadá zápis následovně:\n",
    "\n",
    "1. `from`, tedy klíčový výraz,\n",
    "2. `math`, jméno knihovny,\n",
    "3. `import`, klíčový výraz,\n",
    "4. `e`, jméno proměnné, funkce, aj."
   ]
  },
  {
   "cell_type": "markdown",
   "metadata": {},
   "source": [
    "##### Rekapitulace\n",
    "\n",
    "Jde o způsobem, kdy potřebuješ třeba **jen jedinný objekt z knihovny**, a ten si explicitně ohlášením nahraješ."
   ]
  },
  {
   "cell_type": "markdown",
   "metadata": {},
   "source": [
    "<br>\n",
    "\n",
    "### Nahrávání s `from` bez hvězdičky a s aliasem\n",
    "\n",
    "----\n",
    "\n",
    "Pokud je **jméno nahrávaného objektu** příliš dlouhé (např. `EXTRA_DLOUHE_JMENO_KONSTANTY`), případně náročné pro zápis, potom může být přepisování takového jména nepohodlné.\n",
    "\n",
    "Pokud na takový objekt narazíš, můžeš vyzkoušet **alias**, který definuješ pomocí klíčového slova `as`:\n",
    "```python\n",
    "from <knihovna> import <EXTRA_DLOUHE_JMENO_KONSTANTY> as <alias>\n",
    "\n",
    "print(<alias>)\n",
    "```"
   ]
  },
  {
   "cell_type": "markdown",
   "metadata": {},
   "source": [
    "Alias pro kostantu `pi` není zrovna šikovný, ale jde hlavně o ukázku zápisu a použití:"
   ]
  },
  {
   "cell_type": "code",
   "execution_count": null,
   "metadata": {},
   "outputs": [],
   "source": [
    "from string import punctuation\n",
    "\n",
    "print(punctuation)"
   ]
  },
  {
   "cell_type": "code",
   "execution_count": null,
   "metadata": {},
   "outputs": [],
   "source": [
    "from string import punctuation as p  # obdoba: p = punctuation\n",
    "\n",
    "print(p)"
   ]
  },
  {
   "cell_type": "markdown",
   "metadata": {},
   "source": [
    "Samozřejmě u jména proměnné jako `pi` není potřeba zapisovat *alias* (jméno je stručné a jasné samo o sobě).\n",
    "\n",
    "S aliasy ale opět pozor. Pokud se jich v jednom souboru objeví víc (3+), potom se opět čtení zápisu stává **méně přehledný**.\n",
    "\n",
    "1. Nejprve uvidíš *alias* (v ukázce `p`),\n",
    "2. po té potřebuješ najít proměnnou (v ukázce `pi`), kterou **alias přebírá**,\n",
    "3. nakonec dohledat knihovnu (.. `math`), ze které pochází."
   ]
  },
  {
   "cell_type": "markdown",
   "metadata": {},
   "source": [
    "##### Rekapitulace\n",
    "\n",
    "*Alias* je výhodný, pokud potkáš v knihovně objekt s dlouhým jménem."
   ]
  },
  {
   "cell_type": "markdown",
   "metadata": {},
   "source": [
    "<br>\n",
    "\n",
    "### Nahrávání s `import` a s aliasem\n",
    "\n",
    "----\n",
    "\n",
    "Stejně tak je možné použít alias pro delší jméno knihovny (např. EXTRA_DLOUHE_JMENO_KNIHOVNY).\n",
    "\n",
    "Teoreticky potom nastává tato situace:\n",
    "```python\n",
    "import <EXTRA_DLOUHE_JMENO_KNIHOVNY>\n",
    "\n",
    "print(<EXTRA_DLOUHE_JMENO_KNIHOVNY>.objekt)\n",
    "```\n",
    "\n",
    "\n",
    "*Alias* pro knihovnu `configparser`:"
   ]
  },
  {
   "cell_type": "code",
   "execution_count": null,
   "metadata": {},
   "outputs": [],
   "source": [
    "import configparser as cp  # obdoba: cp = configparser\n",
    "\n",
    "print(cp)"
   ]
  },
  {
   "cell_type": "markdown",
   "metadata": {},
   "source": [
    "Pokud je jméno knihovny (třeba `math`) **dostatečně stručné a jasné**, nemusíš *alias* používat."
   ]
  },
  {
   "cell_type": "markdown",
   "metadata": {},
   "source": [
    "##### Rekapitulace\n",
    "\n",
    "*Alias* je výhodný, pokud potkáš knihovnu s dlouhým jménem."
   ]
  },
  {
   "cell_type": "markdown",
   "metadata": {},
   "source": [
    "### Souhrn\n",
    "\n",
    "---\n",
    "* `import <knihovna>`, běžné obecné ohlášení,\n",
    "* `from <knihovna> import *`, pouze pro debugování, zkoušení,\n",
    "* `from <knihovna> import <objekt>`, pokud potřebuji jen několik málo vybraných objektů, kratší zápis,\n",
    "* `from <knihovna> import <objekt> as <alias>`, pokud potřebuji alias pro objekty\n",
    "* `import <knihovna> as <alias>`."
   ]
  },
  {
   "cell_type": "markdown",
   "metadata": {},
   "source": [
    "<br>\n",
    "\n",
    "### 🧠 CVIČENÍ 🧠, Vyzkoušej si práci s *importováním* knihoven:"
   ]
  },
  {
   "cell_type": "markdown",
   "metadata": {},
   "source": [
    "7 min\n",
    "1. Nahraj knihovnu `math`,\n",
    "2. pro zadaný tuple `polomery`, vypočítej plochu kruhů (prozkoumej objekty v knihovně `math`, kde potřebuješ dohledat mocniny a konstantu pí),\n",
    "3. vypočítané plochy potom ukládej do proměnné `plochy`."
   ]
  },
  {
   "cell_type": "code",
   "execution_count": null,
   "metadata": {},
   "outputs": [],
   "source": [
    "import math\n",
    "\n",
    "polomery = (1, 2, 3, 4, 5)"
   ]
  },
  {
   "cell_type": "markdown",
   "metadata": {},
   "source": [
    "<details>\n",
    "  <summary>▶️  Klikni zde pro zobrazení řešení</summary>\n",
    "   \n",
    "```python\n",
    "import math\n",
    "\n",
    "polomery = [1, 2, 3, 4, 5]\n",
    "plochy = list()\n",
    "\n",
    "for polomer in polomery:\n",
    "    plochy.append(math.pow(polomer, 2) * math.pi)\n",
    "else:\n",
    "    print(plochy)\n",
    "```\n",
    "</details>"
   ]
  },
  {
   "cell_type": "markdown",
   "metadata": {},
   "source": [
    "<img src=\"https://external-content.duckduckgo.com/iu/?u=https%3A%2F%2Ftse2.mm.bing.net%2Fth%3Fid%3DOIP.cjfmUt8xYHoEdmQWxT1fBgHaHa%26pid%3DApi&f=1\" width=\"300\" style=\"margin-left:auto; margin-right:auto\">\n",
    "\n",
    "\n",
    "## Moduly\n",
    "\n",
    "---\n",
    "\n",
    "Modulem je tedy jakýkoliv soubor s příponou `.py`, který napíšeš ty, nebo jiní programátoři.\n",
    "\n",
    "\n",
    "Ty **nejčastější moduly** jsou již součástí instalace Pythonu, takže už v tento moment máš u sebe **nainstalovanou paletu těch nejpoužívanějších** (*zabudovaných* nebo také *built-in*) modulů.\n",
    "\n",
    "<br>"
   ]
  },
  {
   "cell_type": "code",
   "execution_count": null,
   "metadata": {},
   "outputs": [],
   "source": [
    "import os      # modul pro práci s operačním systémem"
   ]
  },
  {
   "cell_type": "code",
   "execution_count": null,
   "metadata": {},
   "outputs": [],
   "source": [
    "import sys     # modul pro přístup k některým systémovým proměnným"
   ]
  },
  {
   "cell_type": "code",
   "execution_count": null,
   "metadata": {},
   "outputs": [],
   "source": [
    "import random  # modul pro práci s pseudo-náhodnými procesy"
   ]
  },
  {
   "cell_type": "markdown",
   "metadata": {},
   "source": [
    "Pomocí built-in funkce `dir` si můžeš ověřit, že po importování máš v aktuálním pracovním rámci nahráné moduly k dispozici (`True`), zatím co fiktivní muj_modul ne (`False`)."
   ]
  },
  {
   "cell_type": "code",
   "execution_count": null,
   "metadata": {},
   "outputs": [],
   "source": [
    "print(\n",
    "    \"os\" in dir() \\\n",
    "    and \"sys\" in dir() \\\n",
    "    and \"random\" in dir()\n",
    ")"
   ]
  },
  {
   "cell_type": "markdown",
   "metadata": {},
   "source": [
    "Pokud si vybereš **jméno modulu**, který **není součástí zabudovaných modulů** [pro tvoji verzi Pythonu](https://docs.python.org/3/library/index.html), dostaneš výjimku:"
   ]
  },
  {
   "cell_type": "code",
   "execution_count": null,
   "metadata": {},
   "outputs": [],
   "source": [
    "%%file muj_modul.py\n",
    "\"\"\"Toto je můj vlastní modul, Matouš.\"\"\""
   ]
  },
  {
   "cell_type": "code",
   "execution_count": null,
   "metadata": {},
   "outputs": [],
   "source": [
    "import muj_modul"
   ]
  },
  {
   "cell_type": "code",
   "execution_count": null,
   "metadata": {},
   "outputs": [],
   "source": [
    "help(muj_modul)"
   ]
  },
  {
   "cell_type": "markdown",
   "metadata": {},
   "source": [
    "<br>\n",
    "\n",
    "### Vlastní modul\n",
    "\n",
    "---\n",
    "\n",
    "V úvodu stojí, že si modul můžeš napsat **přímo ty**.\n",
    "\n",
    "Můžeš si vytvořit např. modul, který obsahuje `dict` s největšími městy v *České republice*. Ten si uložíš k sobě do složky pod jménem `mesta_cr.py`:"
   ]
  },
  {
   "cell_type": "code",
   "execution_count": null,
   "metadata": {},
   "outputs": [],
   "source": [
    "%%file mesta_cr.py\n",
    "# soubor mesta_cr.py\n",
    "vsechny_mesta = {\n",
    "    \"Praha\": 1_335_084,\n",
    "    \"Brno\": 382_405,\n",
    "    \"Ostrava\": 284_982,\n",
    "    \"Plzeň\": 175_219,\n",
    "    \"Liberec\": 104_261,\n",
    "    \"Olomouc\": 100_514,\n",
    "    \"České Budějovice\": 94_229,\n",
    "    \"Hradec Králové\": 92_683,\n",
    "    \"Ústí nad Labem\": 91_982,\n",
    "    \"Pardubice\": 91_755,\n",
    "\n",
    "}"
   ]
  },
  {
   "cell_type": "markdown",
   "metadata": {},
   "source": [
    "Následné si vytvoříš **druhý soubor** (ve stejném adresáři) `nad_100_k.py`, který bude obsahovat:"
   ]
  },
  {
   "cell_type": "code",
   "execution_count": null,
   "metadata": {},
   "outputs": [],
   "source": [
    "# soubor nad_100_k.py\n",
    "from mesta_cr import vsechny_mesta\n",
    "\n",
    "for mesto, obyvatele in vsechny_mesta.items():\n",
    "    if obyvatele > 100_000:\n",
    "        print(mesto)"
   ]
  },
  {
   "cell_type": "markdown",
   "metadata": {},
   "source": [
    "<br>\n",
    "\n",
    "### Nápověda `help`\n",
    "\n",
    "----\n",
    "\n",
    "Často se dostaneš do situace, kdy si **nebudeš vědět rady**.\n",
    "\n",
    "Nezapamatuješ si jméno *metody* v *knihovně*, jméno *proměnné*, atd.\n",
    "\n",
    "Můžeš samozřejmě navštívit různé dokumentace, knihy nebo články. Ale pokud potřebuješ okamžité offline řešení vyzkoušej funkci `help()`."
   ]
  },
  {
   "cell_type": "code",
   "execution_count": null,
   "metadata": {},
   "outputs": [],
   "source": [
    "import random"
   ]
  },
  {
   "cell_type": "code",
   "execution_count": null,
   "metadata": {},
   "outputs": [],
   "source": [
    "help(random)"
   ]
  },
  {
   "cell_type": "code",
   "execution_count": null,
   "metadata": {},
   "outputs": [],
   "source": [
    "help(random.randrange)"
   ]
  },
  {
   "cell_type": "markdown",
   "metadata": {},
   "source": [
    "<br>\n",
    "\n",
    "### Funkce `dir`\n",
    "\n",
    "----\n",
    "\n",
    "Pokud potřebuješ podrobný výpis, je lepší použít funkci `help`.\n",
    "\n",
    "Pokud ti stačí jen seznam všech dostupných metod, vyzkoušej metodu `dir`."
   ]
  },
  {
   "cell_type": "code",
   "execution_count": null,
   "metadata": {},
   "outputs": [],
   "source": [
    "print(dir(random))"
   ]
  },
  {
   "cell_type": "code",
   "execution_count": null,
   "metadata": {},
   "outputs": [],
   "source": [
    "random.choices?"
   ]
  },
  {
   "cell_type": "markdown",
   "metadata": {},
   "source": [
    "<br>\n",
    "\n",
    "### 🧠 CVIČENÍ 🧠, Vyzkoušej si práci s *moduly*:"
   ]
  },
  {
   "cell_type": "markdown",
   "metadata": {},
   "source": [
    "1. Nahraj z knihovny `random` objekt pro výběr 10 náhodných čísel z intervalu **0-1000**,\n",
    "2. nahraj z knihovny `statistics` objekt pro výpočet průměrné hodnoty z *iterovalného* objektu pod alias `mean`,\n",
    "3. do proměnné `nahodna_cisla` ulož **10 náhodných celých čísel**,\n",
    "4. do proměnné `prumer` ulož průměrnou hodnotu,\n",
    "5. výsledek na závěr vypiš ve formátu:`Průměr náhodných čísel je:  <prumer>`."
   ]
  },
  {
   "cell_type": "code",
   "execution_count": null,
   "metadata": {},
   "outputs": [],
   "source": [
    "from statistics import mean\n",
    "from random import choices"
   ]
  },
  {
   "cell_type": "code",
   "execution_count": null,
   "metadata": {},
   "outputs": [],
   "source": []
  },
  {
   "cell_type": "markdown",
   "metadata": {},
   "source": [
    "<details>\n",
    "  <summary>▶️  Klikni zde pro zobrazení řešení</summary>\n",
    "   \n",
    "```python\n",
    "from random import choices\n",
    "from statistics import mean\n",
    "\n",
    "nahodna_cisla = choices(range(0, 1001), k=10)\n",
    "prumer = mean(nahodna_cisla)\n",
    "print(\"Průměr náhodných čísel je:\", prumer, sep='')\n",
    "```\n",
    "</details>"
   ]
  },
  {
   "cell_type": "markdown",
   "metadata": {},
   "source": [
    "<img src=\"https://external-content.duckduckgo.com/iu/?u=https%3A%2F%2Ftse1.mm.bing.net%2Fth%3Fid%3DOIP.Rq-hToMXLKlFsOOyPp_85QHaHa%26pid%3DApi&f=1\" width=\"300\" style=\"margin-left:auto; margin-right:auto\">"
   ]
  },
  {
   "cell_type": "markdown",
   "metadata": {},
   "source": [
    "## Balíčky\n",
    "\n",
    "---"
   ]
  },
  {
   "cell_type": "markdown",
   "metadata": {},
   "source": [
    "Pokud je **modul** samotný soubor s příponou **.py**, potom je **balík** v podstatě *sbírka několika modulů* (tedy souborů **.py**).\n",
    "\n",
    "\n",
    "Prohlédni si třeba obsah adresář (tedy balíček) `json`:\n",
    "```\n",
    "json/\n",
    "├── __init__.py\n",
    "├── __pycache__\n",
    "├── decoder.py\n",
    "├── encoder.py\n",
    "├── scanner.py\n",
    "└── tool.py\n",
    "```"
   ]
  },
  {
   "cell_type": "markdown",
   "metadata": {},
   "source": [
    "Kromě **modulů** (soubory s příponou **.py**) obsahují balíčky tyto **speciální soubory**:\n",
    "1. `__init__.py`,\n",
    "2. `__pycache__`.\n",
    "\n",
    "\n",
    "Proč je tedy dobré mít jak **moduly**, tak **balíčky**? Někdy je totiž příkazů, objektů a podmínek je v jednom souboru tolik, že by se stal jeden soubor nepřehledný, špatně pochopitelný.\n",
    "\n",
    "Proto se programátoři snaží tyto objekty (proměnné, smyčky, podmínky), které **k sobě logicky patří**, **rozdělit na víc modulů** a sdružit do jednoho balíčku."
   ]
  },
  {
   "cell_type": "markdown",
   "metadata": {},
   "source": [
    "<br>\n",
    "\n",
    "### \\_\\_init\\_\\_.py\n",
    "\n",
    "----\n",
    "\n",
    "Pokud nahlédneš do struktury balíčků, určitě si všimneš souboru `__init__.py`.\n",
    "\n",
    "Jeho účel je v podstatě indexovat adresář balíčku a pomoci *interpreta* najít konkrétní modul.\n",
    "\n",
    "Pokud v adresáři soubor `__init__.py` chybí, interpret jej nebude prohledávat.\n",
    "\n",
    "<br>"
   ]
  },
  {
   "cell_type": "markdown",
   "metadata": {},
   "source": [
    "<br>\n",
    "\n",
    "### \\_\\_pycache\\_\\_\n",
    "\n",
    "----\n",
    "\n",
    "Pokud spustíš libovolný soubor s příponou **.py**, potom jej *interpret* začne postupně *kompilovat* na *bytecode*.\n",
    "\n",
    "Z tohoto kroku vznikají soubory **.pyc**.\n",
    "\n",
    "Ty dále pomáhají (v případě, že nechybí) přeskočit krok *kompilace* příště a spouštět tvůj soubor rychleji.\n",
    "\n",
    "Pokud náhodou složka `__pycache__` v adresáři balíčku chybí, *interpret* si ji vytvoří na příště při prvním spuštění."
   ]
  },
  {
   "cell_type": "markdown",
   "metadata": {},
   "source": [
    "<br>\n",
    "\n",
    "### Vlastní balíček\n",
    "\n",
    "---"
   ]
  },
  {
   "cell_type": "markdown",
   "metadata": {},
   "source": [
    "Stejně jako u *modulu*, můžeš samozřejmě vytvořit **vlastní balíček**.\n",
    "\n",
    "\n",
    "Pro ilustraci se podívej na tento balíček:\n",
    "```\n",
    "muj_balicek/\n",
    "├── __init__.py\n",
    "├── __pycache__\n",
    "├── adresy.py\n",
    "└── jmena.py\n",
    "```"
   ]
  },
  {
   "cell_type": "markdown",
   "metadata": {},
   "source": [
    "1. Pro vytvoření takového *klasického* balíčku tedy neprve vytvoríš složku `muj_balicek`,\n",
    "2. přesuneš se dovnitř adresáře `muj_balicek` a v něm vytvoříš prázdný soubor `__init__.py`,\n",
    "3. dále vytvoříš soubor `adresy.py`,\n",
    "```python\n",
    "# adresy.py\n",
    "zamestnanci = {\n",
    "    11: {\"obec\": \"praha\", \"ulice\": \"milesovska\", \"c.p.\": \"11a\"},\n",
    "    12: {\"obec\": \"brno\", \"ulice\": \"podebradova\", \"c.p.\": \"123\"},\n",
    "    13: {\"obec\": \"olomouc\", \"ulice\": \"krizikova\", \"c.p.\": \"2a\"},\n",
    "    14: {\"obec\": \"plzen\", \"ulice\": \"stribneho\", \"c.p.\": \"301\"},\n",
    "}\n",
    "```"
   ]
  },
  {
   "cell_type": "markdown",
   "metadata": {},
   "source": [
    "4. nakonec vytvoříš soubor `jmena.py`,\n",
    "```python\n",
    "# jmena.py\n",
    "jmena = {\n",
    "    11: {\"jmeno\": \"Petr\", \"prijmeni\": \"Svetr\"},\n",
    "    12: {\"jmeno\": \"Matous\", \"ulice\": \"Svatous\"},\n",
    "    13: {\"jmeno\": \"Lukas\", \"ulice\": \"Gulas\"},\n",
    "    14: {\"jmeno\": \"Martin\", \"ulice\": \"Tecka\"},\n",
    "}\n",
    "```"
   ]
  },
  {
   "cell_type": "markdown",
   "metadata": {},
   "source": [
    "5. složku `__pycache__` tvořit nemusíš. Interpret si ji nachystá sám, až budeš potřebovat balíček spustit.\n",
    "\n",
    "Nyní si vytvoř nový modul `spojena_data.py`:\n",
    "```python\n",
    "# soubor spojena_data.py\n",
    "from muj_balicek.adresy import zamestnanci\n",
    "from muj_balicek.jmena import jmena\n",
    "\n",
    "print(bydliste[11], zamestnanci[11])\n",
    "```"
   ]
  },
  {
   "cell_type": "markdown",
   "metadata": {},
   "source": [
    "<img src=\"https://twixes.gallerycdn.vsassets.io/extensions/twixes/pypi-assistant/1.0.3/1589834023190/Microsoft.VisualStudio.Services.Icons.Default\" width=\"300\" style=\"margin-left:auto; margin-right:auto\">\n",
    "\n",
    "## Knihovny třetích stran\n",
    "\n",
    "---\n",
    "\n",
    "Podle **původu knihovny** můžeme říct, že máme **dva typy** knihoven:\n",
    "\n",
    "1. **Standardní knihovny** (tedy dostupné ihned po instalaci),\n",
    "2. **knihovny třetích stran** (je nutné je doinstalovat)."
   ]
  },
  {
   "cell_type": "code",
   "execution_count": null,
   "metadata": {},
   "outputs": [],
   "source": [
    "import uuid\n",
    "import random\n",
    "import typing"
   ]
  },
  {
   "cell_type": "code",
   "execution_count": null,
   "metadata": {},
   "outputs": [],
   "source": [
    "import requests"
   ]
  },
  {
   "cell_type": "markdown",
   "metadata": {},
   "source": [
    "Předtím než budeš moct tyto knihovny používat, je musíš vyhledat, stáhnout a nainstalovat.\n",
    "\n",
    "Většinu dostupných knihoven najdeš na [pypi.org](https://pypi.org/)\n",
    "\n",
    "Tady si knihovnu najdeš, pročteš a následně stáhneš (*ukázka terminal + PyCharm*)."
   ]
  },
  {
   "cell_type": "markdown",
   "metadata": {},
   "source": [
    "### Virtuální prostředí\n",
    "\n",
    "---\n",
    "\n",
    "Jakmile začneš s Python pracovat na více projektech, je dobré **oddělit jednotlivá prostředí**:\n",
    "```\n",
    "/projekty\n",
    "   ├─projekt01/  # knihovnu 1.1\n",
    "   ├─projekt02/  # knihovnu 1.2\n",
    "   ├─projekt03/\n",
    "   ├─pracovni/\n",
    "   └─pokus/\n",
    "```\n",
    "\n",
    "Každý projekt (složka v ukázce výše) může totiž pracovat **s různými knihovnami** (a různými verzemi).\n",
    "\n",
    "\n",
    "Různé knihovny znamenají různé související knihovny (a různé verze), drobné úpravy syntaxí, jména metoda a funkcí (příp. proměnných).\n",
    "\n",
    "\n",
    "Dobrým zvykem bývá **oddělit knihovny pro různé projekty**. Tedy neinstalovat knihovny globálně pro celý tvůj počítač,ale ke konkrétním projektům (pomocí *virtuálních prostředí*).\n",
    "\n",
    "<br>\n",
    "\n",
    "\n",
    "<img src=\"https://external-content.duckduckgo.com/iu/?u=https%3A%2F%2Ftse1.mm.bing.net%2Fth%3Fid%3DOIP.rkP6qcdgLXFW14tTAIcBewHaHa%26pid%3DApi&f=1&ipt=2e056bff7e07855bd40696229c6e1e570eae2d4f91c4c2155f97668b2d6a8311&ipo=images\" width=\"300\" style=\"margin-left:auto; margin-right:auto\">"
   ]
  },
  {
   "cell_type": "markdown",
   "metadata": {},
   "source": [
    "#### Příkazový řádek\n",
    "\n",
    "----\n",
    "\n",
    "1. **Vytvoříš** virtualní pracovní prostředí pomocí následující příkazu:\n",
    "```\n",
    "python3 -m venv <jmeno_prostredi>\n",
    "```"
   ]
  },
  {
   "cell_type": "markdown",
   "metadata": {},
   "source": [
    "2. **Aktivujeme** virtualní pracovní prostředí pomocí jeho jména. Po aktivaci dostaneme na začátku dotazovacího řádku závorku se jménem prostředí (př. `(env)`):\n",
    "```\n",
    "source <jmeno_prostredi>/bin/activate  # aktivace\n",
    "deactivate                             # ukončení\n",
    "```"
   ]
  },
  {
   "cell_type": "markdown",
   "metadata": {},
   "source": [
    "3. **Ověříme dostupnost správce** balíčků (conda, pipenv, poetry, pip je defaultně nainstalovaný ze druhé lekce):\n",
    "```\n",
    "pip --version\n",
    "```"
   ]
  },
  {
   "cell_type": "markdown",
   "metadata": {},
   "source": [
    "4. Pokud máme, **instalujeme balíčky**:\n",
    "```\n",
    "pip install <jmeno_balicku>         # instalace\n",
    "pip uninstall <jmeno_balicku>       # odstranění\n",
    "pip --help                          # nápověda\n",
    "```"
   ]
  },
  {
   "cell_type": "markdown",
   "metadata": {},
   "source": [
    "5. **Vytvoříme soubor** se souvisejícími knihovnami pro další uživatele `requirements.txt`. Ten obsahuje jména a verze knihoven, aby je mohli snadno nainstalovat i jiní uživatelé:\n",
    "```\n",
    "pip freeze > requirements.txt  # přesměruji výstup z příkazu do souboru\n",
    "```"
   ]
  },
  {
   "cell_type": "markdown",
   "metadata": {},
   "source": [
    "6. ... soubor `requirements.txt` lze potom naopak nainstalovat **do nového virtuálního prostředí**:\n",
    "```\n",
    "pip install -r requirements.txt\n",
    "```\n",
    "\n",
    "Jak udržovat balíčky aktuální + kontrola:\n",
    "```\n",
    "pip list --outdated                          # zobrazím výpis všech neaktuálních knihoven\n",
    "pip install --upgrade <jmeno_knihovny>       # upgradování\n",
    "pip install <jmeno_knihovny>==<cislo_verze>  # alternativní řešení\n",
    "```"
   ]
  },
  {
   "cell_type": "markdown",
   "metadata": {},
   "source": [
    "<img src=\"https://external-content.duckduckgo.com/iu/?u=https%3A%2F%2Ftse1.mm.bing.net%2Fth%3Fid%3DOIP.p4NKEAqAdgFX_u8PwtI_nwHaHa%26pid%3DApi&f=1\" width=\"200\" style=\"margin-left:auto; margin-right:auto\">\n",
    "\n",
    "\n",
    "\n",
    "#### PyCharm\n",
    "\n",
    "---\n",
    "\n",
    "1. Vytvoř si **nový adresář** (prázdný),\n",
    "2. otevři jej pomocí **PyCharm** (optiona Open...),\n",
    "3. vlož **nový modul** (klidně prázdný),\n",
    "4. přejdi do **settings** (ctrl+alt+s),\n",
    "5. *project interpreter*, *nastavení* ⚙, *vytvořit nové prostředí*,\n",
    "6. **přidat nové knihovny** (ikonka plus),\n",
    "7. *tools*, *sync Python requirements* (txt soubor s knihovnami a verzemi)."
   ]
  },
  {
   "cell_type": "markdown",
   "metadata": {},
   "source": [
    "<br>\n",
    "\n",
    "➡️ ➡️ **Formulář pro Tvoje hodnocení** [**šesté lekce**](https://forms.gle/eLLSnJSvYA5p4AbM6) ⬅️ ⬅️\n",
    "\n",
    "<br>"
   ]
  },
  {
   "cell_type": "markdown",
   "metadata": {},
   "source": [
    "<br>\n",
    "\n",
    "## Domácí úkol\n",
    "\n",
    "---\n",
    "<img src=\"https://external-content.duckduckgo.com/iu/?u=https%3A%2F%2Ftse1.mm.bing.net%2Fth%3Fid%3DOIP.O9EkosTHP3lmEAvzA3D-2QHaHa%26pid%3DApi&f=1\" width=\"400\" style=\"margin-left:auto; margin-right:auto\" />\n"
   ]
  },
  {
   "cell_type": "markdown",
   "metadata": {},
   "source": [
    "Nageneruj data **pro zaměstnance** a jejich **oddělení**. Data budou mít následující strukturu:"
   ]
  },
  {
   "cell_type": "code",
   "execution_count": null,
   "metadata": {},
   "outputs": [],
   "source": [
    "# Ukázka pouze pro dva zaměstnance\n",
    "zamestnanci = {\n",
    "    \"zamestnanec_id\": (1, 2),  \n",
    "    \"jmeno\": (\"Petr\", \"Matous\"),\n",
    "    \"prijmeni\": (\"Svetr\", \"Holinka\"),\n",
    "    \"telefon\": (\"+420 777 666 555\", \"+420 776 665 554\"),\n",
    "    \"email\": (\"p.svetr@firma.cz\", \"m.holinka@firma.cz\"),\n",
    "    \"vytvoreno\": ('31/01/1996', '09/09/2000')\n",
    "}"
   ]
  },
  {
   "cell_type": "markdown",
   "metadata": {},
   "source": [
    "Jak údaje získat:\n",
    "\n",
    "#### Zaměstnanecké ID\n",
    "\n",
    "---\n",
    "\n",
    "Do klíče `\"zamestnanec_id\"` vlož `tuple` s celými čísly jednotlivých zaměstnanců. Tedy první zaměstnanec dostane **1** a poslední **107**.\n",
    "\n",
    "\n",
    "*NÁPOVĚDA*, čísla zadej pomocí `range`."
   ]
  },
  {
   "cell_type": "markdown",
   "metadata": {},
   "source": [
    "#### Jméno zaměstnance\n",
    "\n",
    "---\n",
    "\n",
    "Do klíče `\"jmeno\"` vlož `tuple` s jednotlivými jmény, které naparsuješ (získáš) ze zadané proměnné `zamestnanci_raw`."
   ]
  },
  {
   "cell_type": "markdown",
   "metadata": {},
   "source": [
    "#### Příjmení zaměstnance\n",
    "\n",
    "---\n",
    "\n",
    "Do klíče `\"prijmeni\"` vlož `tuple` s jednotlivými příjmeními, které naparsuješ (získáš) ze zadané proměnné `zamestnanci_raw`."
   ]
  },
  {
   "cell_type": "markdown",
   "metadata": {},
   "source": [
    "#### Telefon zaměstnance\n",
    "\n",
    "---\n",
    "\n",
    "Do klíče `\"telefon\"` vlož `tuple` se stringy, které obsahují telefonní čísla.\n",
    "\n",
    "Tato čísla vytvoříš jako devět náhodných čísel, která připojíš ke stringu `\"+420\"`. Výsledek tedy bude vypadat jako `\"+420\"` a správně naformátované hodnoty `\"123345343\"`. Výsledek: `\"+420 123 345 343\"`.\n",
    "\n",
    "*NÁPOVĚDA*, čísla náhodně vyber z knihovny `random`."
   ]
  },
  {
   "cell_type": "markdown",
   "metadata": {},
   "source": [
    "#### Email zaměstnance\n",
    "\n",
    "---\n",
    "\n",
    "Do klíče `\"email\"` vlož `tuple` se stringy obsahující emailové adresy zaměstnanců.\n",
    "\n",
    "Tento email nachystej pomocí:\n",
    "1. Prvního písmena ze jména zaměstnance (malé písmeno),\n",
    "2. tečky,\n",
    "3. celého příjmení zapsaného malými písmeny,\n",
    "4. @firma.cz.\n",
    "\n",
    "Všechny údaje musí být bez diakritiky.\n",
    "\n",
    "Ukázka:\n",
    "```python\n",
    "jmeno = \"Kryštof\"\n",
    "prijmeni = \"Slunečný\"\n",
    "\n",
    "email = \"k.slunecny@firma.cz\"\n",
    "```\n",
    "\n",
    "\n",
    "*NÁPOVĚDA*, knihovna `unidecode`."
   ]
  },
  {
   "cell_type": "markdown",
   "metadata": {},
   "source": [
    "#### Datum nástupu zaměstnance\n",
    "\n",
    "---\n",
    "\n",
    "Do klíče `\"vytvoreno\"` vlož `tuple` se stringy obsahující náhodné datumy mezi daty **1.1.1990** a **1.1.2020**.\n",
    "\n",
    "Datumy nemusí být unikátní, ale musí být ve formátu `\"dd/mm/rrrr\"`\n",
    "\n",
    "*NÁPOVĚDA*, knihovna `time`.\n",
    "\n",
    "<br>"
   ]
  },
  {
   "cell_type": "code",
   "execution_count": null,
   "metadata": {
    "scrolled": true
   },
   "outputs": [],
   "source": [
    "zamestnanci_raw = \"\"\"\n",
    "Helena Vybíralová\n",
    "Wendy Štrumlová\n",
    "Marie Vybíralová\n",
    "Stanislav Bechyňka\n",
    "Zdeňka Urbánková\n",
    "Lukáš Riečan\n",
    "Veronika Koudelová\n",
    "Františka Vorlová\n",
    "Ilie Seleš\n",
    "Martin Železný\n",
    "Petra Niklesová\n",
    "Bohumil Skok\n",
    "Jakub Šmíd\n",
    "Jarmila Procházková\n",
    "Dagmar Hlavatá\n",
    "Jiří Nguyen Thanh\n",
    "Marie Franková\n",
    "Dana Ulrichová\n",
    "Jana Hranická\n",
    "Hana Budošová\n",
    "Ivan Široký\n",
    "Květoslava Jiráčková\n",
    "Pavel Przywara\n",
    "Josef Umlauf\n",
    "Tomáš Granzer\n",
    "Miroslav Kuba\n",
    "Miloslava Adámková\n",
    "Marie Karlíková\n",
    "Jaroslav Hronský\n",
    "Vlasta Karlíková\n",
    "Andrea Žatková\n",
    "Zuzana Lokočová\n",
    "Ondřej Ptáček\n",
    "Zdeněk Najman\n",
    "Tereza Šebešová\n",
    "Antonie Skokánková\n",
    "Jan Lion\n",
    "Václav Vecko\n",
    "František Vajgl\n",
    "Adéla Kavková\n",
    "Amália Vacková\n",
    "Anna Pažická\n",
    "Ivo Pustějovský\n",
    "Antonín Pavela\n",
    "Jitka Adamová\n",
    "Libuše Hamroziová\n",
    "Drahomíra Balzerová\n",
    "Marek Suchánek\n",
    "Petr Vavrinec\n",
    "Jonáš Stuchlý\n",
    "Jaromír Pecen\n",
    "Markéta Kyliánková\n",
    "Marina Pečenková\n",
    "Ivana Perdochová\n",
    "Michaela Drápalová\n",
    "Michael Mentlík\n",
    "Rudolf Špičák\n",
    "Žaneta Holá\n",
    "Blanka Lišková\n",
    "Eva Svatoňová\n",
    "Rostislav Hoang\n",
    "Martina Kalivodová\n",
    "Milan Hruška\n",
    "Zdenka Marková\n",
    "Lenka Schambergerová\n",
    "Růžena Martinů\n",
    "Věra Řezanková\n",
    "Marie Pečenková\n",
    "Miloš Váchal\n",
    "Jaroslava Hrubá\n",
    "Petr Pecen\n",
    "Pavla Konvicová\n",
    "Lucie Marešová\n",
    "Květuše Zdráhalová\n",
    "Vlastimila Svatošová\n",
    "Zora Michalčíková\n",
    "Daniel Švejnoha\n",
    "Klára Brunclíková\n",
    "Vladimír Bauer\n",
    "Michal Slaný\n",
    "Jiřina Novosadová\n",
    "Karel Sršeň\n",
    "Stanislava Lakosilová\n",
    "Filip Černý\n",
    "Alena Kubiková\n",
    "Sára Kotrlová\n",
    "Alois Rejlek\n",
    "Božena Novotná\n",
    "Maryana Nováková\n",
    "Kateřina Máslová\n",
    "Ladislav Dvořák\n",
    "Radek Varga\n",
    "Petr Dvořák\n",
    "Ludmila Jaklová\n",
    "Renáta Foubíková\n",
    "Nikola Lehká\n",
    "Dominika Riegerová\n",
    "Patrik Polák\n",
    "Soňa Štrbová\n",
    "David Matoušek\n",
    "Liubov Hollíková\n",
    "Monika Poláková\n",
    "Marie Jaklová\n",
    "Aleš Svoboda\n",
    "Roman Kolínský\n",
    "Karolína Košiková\n",
    "\"\"\""
   ]
  },
  {
   "cell_type": "markdown",
   "metadata": {},
   "source": [
    "---"
   ]
  }
 ],
 "metadata": {
  "kernelspec": {
   "display_name": "Python 3 (ipykernel)",
   "language": "python",
   "name": "python3"
  },
  "language_info": {
   "codemirror_mode": {
    "name": "ipython",
    "version": 3
   },
   "file_extension": ".py",
   "mimetype": "text/x-python",
   "name": "python",
   "nbconvert_exporter": "python",
   "pygments_lexer": "ipython3",
   "version": "3.11.7"
  }
 },
 "nbformat": 4,
 "nbformat_minor": 4
}
