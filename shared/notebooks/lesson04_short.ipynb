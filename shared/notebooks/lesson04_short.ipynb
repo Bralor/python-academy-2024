{
 "cells": [
  {
   "cell_type": "markdown",
   "metadata": {},
   "source": [
    "# Python akademie\n",
    "\n",
    "<br>\n",
    "\n",
    "## Obsah lekce\n",
    "\n",
    "---"
   ]
  },
  {
   "cell_type": "markdown",
   "metadata": {},
   "source": [
    "1. [Iterační protokol](#Iterační-protokol),\n",
    "2. [for loop](#For-loop),\n",
    "3. [while loop](#While-loop),\n",
    "4. [range](#Datový-typ-RANGE),\n",
    "5. [enumerate](#Enumerate),\n",
    "6. [zip](#Zip),\n",
    "7. [walrus](#Walrus),\n",
    "8. [domácí úkol](#Domácí-úkol).\n",
    "---"
   ]
  },
  {
   "cell_type": "markdown",
   "metadata": {},
   "source": [
    "<br>\n",
    "\n",
    "<img src=\"https://external-content.duckduckgo.com/iu/?u=https%3A%2F%2Ftse1.mm.bing.net%2Fth%3Fid%3DOIP.yg9qTK4GbobmIc9KTC39pQHaFy%26pid%3DApi&f=1\" width=\"300\" style=\"margin-left:auto; margin-right:auto\" />"
   ]
  },
  {
   "cell_type": "markdown",
   "metadata": {},
   "source": [
    "## Iterační protokol a.k.a. cyklus\n",
    "\n",
    "---"
   ]
  },
  {
   "cell_type": "markdown",
   "metadata": {},
   "source": [
    "V některých situacích se můžeš setkat s **opakujícím se zápisem**:\n",
    "```python\n",
    "\n",
    "# Máš set..\n",
    "domena = set()\n",
    "\n",
    "# .. chceš procházet stringy s emaily..\n",
    "email_1 = \"m.vybiralova@firma.cz\"\n",
    "email_2 = \"m.vybiralova@email.cz\"\n",
    "email_3 = \"m.vybiralova@dobradomena.cz\"\n",
    "email_4 = \"marie@vybiralova.cz\"\n",
    "email_5 = \"marie.vybiralova@gmail.com\"\n",
    "\n",
    "# ..a do původního setu ukládat pouze jména domén.\n",
    "domena = set(\n",
    "    (\n",
    "        email_1.split(\"@\")[1].split(\".\")[0],\n",
    "        email_2.split(\"@\")[1].split(\".\")[0],\n",
    "        email_3.split(\"@\")[1].split(\".\")[0],\n",
    "        email_4.split(\"@\")[1].split(\".\")[0],\n",
    "        email_5.split(\"@\")[1].split(\".\")[0]\n",
    "    )\n",
    ")\n",
    "```"
   ]
  },
  {
   "cell_type": "markdown",
   "metadata": {},
   "source": [
    "Ten nutně nemusí znamenat **chybný** nebo **nelogický zápis**, ale pokud chceš provádět podobný postup 10x, 100x, 1000x, už může být nereálný na zapsání.\n",
    "```python\n",
    "emaily = list()\n",
    "\n",
    "# pro každý email v listu emailu\n",
    "# .. vyber email,\n",
    "# .. označ pouze doménu,\n",
    "# .. ulož ji do setu.\n",
    "\n",
    "```"
   ]
  },
  {
   "cell_type": "markdown",
   "metadata": {},
   "source": [
    "<br>\n",
    "\n",
    "Pro periodické opakování ohlášení existují tzv. *iterační protokoly* (příp.  označovány jako smyčky, cykly, loopy).\n",
    "\n",
    "Ty umožní zápis **zkrátit, automatizovat** a **současně udělat přehlednější**.\n",
    "\n",
    "<br>\n",
    "\n",
    "V rámci Pythonu se budeme bavit o **dvou základních typech smyček**:\n",
    "1. smyčka `for`,\n",
    "2. smyčka `while`,\n",
    "3. (generátor).\n",
    "\n",
    "\n",
    "<br>"
   ]
  },
  {
   "cell_type": "markdown",
   "metadata": {},
   "source": [
    "<img src=\"https://external-content.duckduckgo.com/iu/?u=https%3A%2F%2Ftse2.mm.bing.net%2Fth%3Fid%3DOIP.XOkl2fR4SKcajGnAi6KoZQHaDt%26pid%3DApi&f=1\" width=\"400\" style=\"margin-left:auto; margin-right:auto\" />"
   ]
  },
  {
   "cell_type": "markdown",
   "metadata": {},
   "source": [
    "## For loop\n",
    "\n",
    "---\n",
    "\n",
    "*For cyklus* je v jednoduchosti proces, který ti umožní projít tebou zadaný objekt **od prvního údaje** až **do posledního**."
   ]
  },
  {
   "cell_type": "markdown",
   "metadata": {},
   "source": [
    "<br>\n",
    "\n",
    "### Obecně\n",
    "\n",
    "---"
   ]
  },
  {
   "cell_type": "code",
   "execution_count": 2,
   "metadata": {},
   "outputs": [
    {
     "name": "stdout",
     "output_type": "stream",
     "text": [
      "A\n",
      "B\n",
      "C\n"
     ]
    }
   ],
   "source": [
    "for pismeno in ['a', 'b', 'c']:\n",
    "    print(pismeno.upper())"
   ]
  },
  {
   "cell_type": "code",
   "execution_count": 7,
   "metadata": {},
   "outputs": [
    {
     "name": "stdout",
     "output_type": "stream",
     "text": [
      "a\n",
      "b\n"
     ]
    }
   ],
   "source": [
    "print('a')\n",
    "print('b')"
   ]
  },
  {
   "cell_type": "markdown",
   "metadata": {},
   "source": [
    "1. `for` je **klíčkový výraz** v zahlaví (zápisu) cyklu,\n",
    "2. `pismeno` je **proměnná vytvořená v cyklu**,jejíž obsah se v každém kroku cyklu přepíše,\n",
    "3. `in` **klíčový výraz** ukazující zdroj objektů pro dočasnou proměnnou,\n",
    "4. `\"Matous\"` je tzv. *iterovatelný objekt*, tedy proměnná, kterou můžeme procházet (třeba `str`, `list`, `set`, `dict`),\n",
    "5. `:` řádek s předpisem musí být **zakončený dvojtečkou**,\n",
    "6. `print(pismeno)` následují **odsazené instrukce**, které se budou opakovat v každém kroku.\n",
    "\n",
    "<br>\n",
    "\n",
    "Obecný cyklus *for* se dá různě upravovat.\n",
    "\n",
    "Jednou z možností a častých kombinací je doplnit cyklus **podmínkovým zápisem**.\n",
    "\n",
    "<br>"
   ]
  },
  {
   "cell_type": "markdown",
   "metadata": {},
   "source": [
    "### S proměnnou a podmínkou\n",
    "\n",
    "---\n",
    "Cyklus lze kombinovat s objekty, které jsou ti již dobře známé. Tedy *proměnné* a *podmínkové zápisy*:"
   ]
  },
  {
   "cell_type": "code",
   "execution_count": 8,
   "metadata": {},
   "outputs": [],
   "source": [
    "pismena = [\"a\", \"b\", \"c\", \"d\", \"e\", \"f\", \"g\", \"h\", \"i\"]"
   ]
  },
  {
   "cell_type": "code",
   "execution_count": 23,
   "metadata": {},
   "outputs": [
    {
     "name": "stdout",
     "output_type": "stream",
     "text": [
      "Nemam 'g', ale 1\n",
      "Nemam 'g', ale 2\n",
      "Nemam 'g', ale 3\n",
      "Nemam 'g', ale 4\n",
      "Nemam 'g', ale 5\n",
      "Nemam 'g', ale 6\n"
     ]
    }
   ],
   "source": [
    "for pismeno in str(123_456):\n",
    "    if pismeno == \"g\":  # \"a\" --> False\n",
    "        print(\"*Mam hodnotu ->*\", pismeno)\n",
    "    else:\n",
    "        print(\"Nemam 'g', ale\", pismeno)"
   ]
  },
  {
   "cell_type": "code",
   "execution_count": 22,
   "metadata": {},
   "outputs": [
    {
     "data": {
      "text/plain": [
       "'123456'"
      ]
     },
     "execution_count": 22,
     "metadata": {},
     "output_type": "execute_result"
    }
   ],
   "source": [
    "str(123_456)"
   ]
  },
  {
   "cell_type": "markdown",
   "metadata": {},
   "source": [
    "<br>\n",
    "\n",
    "### 🧠 CVIČENÍ 🧠, Vyzkoušej si práci s `for` smyčkou a podmínkovým zápisem:"
   ]
  },
  {
   "cell_type": "markdown",
   "metadata": {},
   "source": [
    "1. Procházej hodnoty pro zadaný `tuple` se jménem `cisla`,\n",
    "2. .. pokud je hodnota **dělitelná třemi**, vypiš `\"Fizz\"`,\n",
    "3. .. pokud je hodnota **dělitelná pěti**, vypiš `\"Buzz\"`,\n",
    "4. .. pokud je hodnota **dělitelná třemi a současně pěti**, vypiš `\"FizzBuzz\"`,\n",
    "5. .. pokud nebude platit ani jedna z předchozích podmínek, vypiš hodnotu samotnou."
   ]
  },
  {
   "cell_type": "code",
   "execution_count": 26,
   "metadata": {},
   "outputs": [
    {
     "name": "stdout",
     "output_type": "stream",
     "text": [
      "1\n",
      "2\n",
      "Fizz\n",
      "4\n",
      "Buzz\n",
      "Fizz\n",
      "7\n",
      "8\n",
      "Fizz\n",
      "Buzz\n",
      "11\n",
      "Fizz\n",
      "13\n",
      "14\n",
      "FizzBuzz\n",
      "Tady bude další zápis\n"
     ]
    }
   ],
   "source": [
    "cisla = (1, 2, 3, 4, 5, 6, 7, 8, 9, 10, 11, 12, 13, 14, 15)\n",
    "\n",
    "for cele_cislo in cisla:\n",
    "    if cele_cislo % 3 == 0 and cele_cislo % 5 == 0:\n",
    "        print('FizzBuzz')\n",
    "    elif cele_cislo % 3 == 0:\n",
    "        print('Fizz')\n",
    "    elif cele_cislo % 5 == 0:\n",
    "        print('Buzz')\n",
    "    else:\n",
    "        print(cele_cislo)\n",
    "\n",
    "print('Tady bude další zápis')"
   ]
  },
  {
   "cell_type": "code",
   "execution_count": 27,
   "metadata": {},
   "outputs": [
    {
     "name": "stdout",
     "output_type": "stream",
     "text": [
      "15\n"
     ]
    }
   ],
   "source": [
    "print(cele_cislo)"
   ]
  },
  {
   "cell_type": "markdown",
   "metadata": {},
   "source": [
    "<details>\n",
    "  <summary>▶️  Klikni zde pro zobrazení řešení</summary>\n",
    "   \n",
    "```python\n",
    "cisla = (1, 2, 3, 4, 5, 6, 7, 8, 9, 10, 11, 12, 13, 14, 15)\n",
    "\n",
    "for cislo in cisla:\n",
    "    if cislo % 3 == 0 and cislo % 5 == 0:\n",
    "        print(\"FizzBuzz\")\n",
    "    elif cislo % 3 == 0:\n",
    "        print(\"Fizz\")\n",
    "    elif cislo % 5 == 0:\n",
    "        print(\"Buzz\")\n",
    "    else:\n",
    "        print(cislo)\n",
    "```\n",
    "</details>"
   ]
  },
  {
   "cell_type": "markdown",
   "metadata": {},
   "source": [
    "<br>\n",
    "\n",
    "### For/else\n",
    "\n",
    "---\n",
    "\n",
    "Jde o **speciální syntaxi**, kde na ohlášení smyčky doplníš větev `else`, která má svoje využití:"
   ]
  },
  {
   "cell_type": "code",
   "execution_count": null,
   "metadata": {},
   "outputs": [],
   "source": [
    "pismena = [\"a\", \"b\", \"c\", \"d\", \"e\", \"f\", \"g\", \"h\", \"i\"]"
   ]
  },
  {
   "cell_type": "code",
   "execution_count": 28,
   "metadata": {},
   "outputs": [
    {
     "name": "stdout",
     "output_type": "stream",
     "text": [
      "Nemam 'x', ale a\n",
      "Nemam 'x', ale b\n",
      "Nemam 'x', ale c\n",
      "Nemam 'x', ale d\n",
      "Nemam 'x', ale e\n",
      "Nemam 'x', ale f\n",
      "Nemam 'x', ale g\n",
      "Nemam 'x', ale h\n",
      "Nemam 'x', ale i\n",
      "-----------------------------\n",
      "Hledane pismeno neni v listu!\n",
      "-----------------------------\n"
     ]
    }
   ],
   "source": [
    "for pismeno in pismena:\n",
    "    if pismeno == \"x\":\n",
    "        print(\"*Mam hodnotu ->*\", pismeno)\n",
    "    else:\n",
    "        print(\"Nemam 'x', ale\", pismeno)\n",
    "\n",
    "else:  # je možné napsat klasickou větev s \"if\"\n",
    "    print(\"-\" * 29, \"Hledane pismeno neni v listu!\", \"-\" * 29, sep=\"\\n\")"
   ]
  },
  {
   "cell_type": "code",
   "execution_count": 29,
   "metadata": {},
   "outputs": [
    {
     "name": "stdout",
     "output_type": "stream",
     "text": [
      "Nemam 'x', ale a\n",
      "Nemam 'x', ale b\n",
      "Nemam 'x', ale c\n",
      "Nemam 'x', ale d\n",
      "Nemam 'x', ale e\n",
      "Nemam 'x', ale f\n",
      "Nemam 'x', ale g\n",
      "Nemam 'x', ale h\n",
      "Nemam 'x', ale i\n",
      "-----------------------------\n",
      "Hledane pismeno neni v listu!\n",
      "-----------------------------\n"
     ]
    }
   ],
   "source": [
    "for pismeno in pismena:\n",
    "    if pismeno == \"x\":\n",
    "        print(\"*Mam hodnotu ->*\", pismeno)\n",
    "    else:\n",
    "        print(\"Nemam 'x', ale\", pismeno)\n",
    "\n",
    "print(\"-\" * 29, \"Hledane pismeno neni v listu!\", \"-\" * 29, sep=\"\\n\")"
   ]
  },
  {
   "cell_type": "markdown",
   "metadata": {},
   "source": [
    "*poznámka*. Pomocný `else` se přidává k cyklu `for`, pokud chceme nějaký proces provést **až po úspěšném skončení celého cyklu**.\n",
    "\n",
    "<br>\n",
    "\n",
    "### For loop s doplňujícím ohlášením\n",
    "\n",
    "---\n",
    "\n",
    "Cykly můžeš doplnit **ohlášeními**, obzvlášť pokud potřebujeme **přeskočit**/**pokračovat** v  průběhu cyklu.\n",
    "\n",
    "<br>\n",
    "\n",
    "| Ohlášení | Použití |\n",
    "|:-:|:-|\n",
    "|`break` | **přeskočí** zbytek smyčky (vč. else větve) a pokračuje kódem pod ní |\n",
    "|`continue` | \t**vrací se** k definici smyčky |\n",
    "|`pass` | \ttzv. *placeholder*, zabrání potenciální výjimce |\n",
    "\n",
    "<br>\n",
    "\n",
    "### Ohlášení BREAK"
   ]
  },
  {
   "cell_type": "markdown",
   "metadata": {},
   "source": [
    "#### Obyčejný for loop\n",
    "\n",
    "---"
   ]
  },
  {
   "cell_type": "code",
   "execution_count": 30,
   "metadata": {},
   "outputs": [
    {
     "name": "stdout",
     "output_type": "stream",
     "text": [
      "M\n",
      "a\n",
      "t\n",
      "o\n",
      "u\n",
      "s\n"
     ]
    }
   ],
   "source": [
    "for pismeno in \"Matous\":\n",
    "    print(pismeno)"
   ]
  },
  {
   "cell_type": "markdown",
   "metadata": {},
   "source": [
    "<br>\n",
    "\n",
    "#### For loop a ohlášení break\n",
    "\n",
    "---"
   ]
  },
  {
   "cell_type": "code",
   "execution_count": 31,
   "metadata": {},
   "outputs": [
    {
     "name": "stdout",
     "output_type": "stream",
     "text": [
      "M\n"
     ]
    }
   ],
   "source": [
    "for pismeno in \"Matous\":\n",
    "    print(pismeno)\n",
    "    break"
   ]
  },
  {
   "cell_type": "markdown",
   "metadata": {},
   "source": [
    "<br>\n",
    "\n",
    "#### For/else bez ohlášení break\n",
    "\n",
    "---"
   ]
  },
  {
   "cell_type": "code",
   "execution_count": 32,
   "metadata": {},
   "outputs": [
    {
     "name": "stdout",
     "output_type": "stream",
     "text": [
      "M\n",
      "a\n",
      "t\n",
      "o\n",
      "u\n",
      "s\n",
      "-----------------------------\n",
      "Konec smycky!\n",
      "-----------------------------\n"
     ]
    }
   ],
   "source": [
    "for pismeno in \"Matous\":\n",
    "    print(pismeno)\n",
    "else:\n",
    "    print(\"-\" * 29, \"Konec smycky!\", \"-\" * 29, sep=\"\\n\")"
   ]
  },
  {
   "cell_type": "markdown",
   "metadata": {},
   "source": [
    "<br>\n",
    "\n",
    "#### For/else s ohlášením break\n",
    "\n",
    "---"
   ]
  },
  {
   "cell_type": "code",
   "execution_count": 33,
   "metadata": {},
   "outputs": [
    {
     "name": "stdout",
     "output_type": "stream",
     "text": [
      "M\n"
     ]
    }
   ],
   "source": [
    "for pismeno in \"Matous\":\n",
    "    print(pismeno)\n",
    "    break\n",
    "else:\n",
    "    print(\"-\" * 29, \"Konec smycky!\", \"-\" * 29, sep=\"\\n\")"
   ]
  },
  {
   "cell_type": "markdown",
   "metadata": {},
   "source": [
    "<br>\n",
    "\n",
    "#### For loop s ohlášením break bez else\n",
    "\n",
    "---"
   ]
  },
  {
   "cell_type": "code",
   "execution_count": 34,
   "metadata": {},
   "outputs": [
    {
     "name": "stdout",
     "output_type": "stream",
     "text": [
      "M\n",
      "-----------------------------\n",
      "Konec smycky!\n",
      "-----------------------------\n"
     ]
    }
   ],
   "source": [
    "for pismeno in \"Matous\":\n",
    "    print(pismeno)\n",
    "    break\n",
    "\n",
    "print(\"-\" * 29, \"Konec smycky!\", \"-\" * 29, sep=\"\\n\")"
   ]
  },
  {
   "cell_type": "markdown",
   "metadata": {},
   "source": [
    "<br>\n",
    "\n",
    "#### For/else s ohlášením break a doplňujícím ohlášením pod cyklem\n",
    "\n",
    "---"
   ]
  },
  {
   "cell_type": "code",
   "execution_count": 38,
   "metadata": {},
   "outputs": [],
   "source": [
    "jmena = [\"matous\", \"lukas\", \"cyril\"]"
   ]
  },
  {
   "cell_type": "code",
   "execution_count": 40,
   "metadata": {},
   "outputs": [
    {
     "name": "stdout",
     "output_type": "stream",
     "text": [
      "Nemam jmeno, ale matous\n",
      "Mam hodnotu -> lukas\n",
      "Pokracuji s interpretaci naseho zapisu ^.^\n"
     ]
    }
   ],
   "source": [
    "poradove_cislo = 0\n",
    "\n",
    "for krestni_jmeno in jmena:\n",
    "    if poradove_cislo == 2:\n",
    "        break\n",
    "\n",
    "    if krestni_jmeno == \"lukas\":\n",
    "        print(\"Mam hodnotu ->\", krestni_jmeno)\n",
    "    else:\n",
    "        print(\"Nemam jmeno, ale\", krestni_jmeno)\n",
    "\n",
    "    poradove_cislo = poradove_cislo + 1\n",
    "\n",
    "print(\"Pokracuji s interpretaci naseho zapisu ^.^\")"
   ]
  },
  {
   "cell_type": "markdown",
   "metadata": {},
   "source": [
    "<br>\n",
    "\n",
    "### Ohlášení CONTINUE\n",
    "\n",
    "---"
   ]
  },
  {
   "cell_type": "markdown",
   "metadata": {},
   "source": [
    "#### Obyčejný for loop\n",
    "\n",
    "---"
   ]
  },
  {
   "cell_type": "code",
   "execution_count": 41,
   "metadata": {},
   "outputs": [
    {
     "name": "stdout",
     "output_type": "stream",
     "text": [
      "M\n",
      "a\n",
      "t\n",
      "o\n",
      "u\n",
      "s\n"
     ]
    }
   ],
   "source": [
    "for pismeno in \"Matous\":\n",
    "    print(pismeno)"
   ]
  },
  {
   "cell_type": "markdown",
   "metadata": {},
   "source": [
    "<br>\n",
    "\n",
    "#### For loop a ohlášení continue\n",
    "\n",
    "---"
   ]
  },
  {
   "cell_type": "code",
   "execution_count": 42,
   "metadata": {},
   "outputs": [
    {
     "name": "stdout",
     "output_type": "stream",
     "text": [
      "M\n",
      "a\n",
      "t\n",
      "o\n",
      "u\n",
      "s\n"
     ]
    }
   ],
   "source": [
    "for pismeno in \"Matous\":\n",
    "    print(pismeno)\n",
    "    continue"
   ]
  },
  {
   "cell_type": "markdown",
   "metadata": {},
   "source": [
    "<br>\n",
    "\n",
    "#### For/else a ohlášení continue\n",
    "\n",
    "---"
   ]
  },
  {
   "cell_type": "code",
   "execution_count": 43,
   "metadata": {},
   "outputs": [
    {
     "name": "stdout",
     "output_type": "stream",
     "text": [
      "M\n",
      "a\n",
      "t\n",
      "o\n",
      "u\n",
      "s\n",
      "-----------------------------\n",
      "Konec smycky!\n",
      "-----------------------------\n"
     ]
    }
   ],
   "source": [
    "for pismeno in \"Matous\":\n",
    "    print(pismeno)\n",
    "    continue\n",
    "\n",
    "else:\n",
    "    print(\"-\" * 29, \"Konec smycky!\", \"-\" * 29, sep=\"\\n\")"
   ]
  },
  {
   "cell_type": "markdown",
   "metadata": {},
   "source": [
    "<br>\n",
    "\n",
    "#### For loop, podmínka a ohlášení continue\n",
    "\n",
    "---"
   ]
  },
  {
   "cell_type": "code",
   "execution_count": 44,
   "metadata": {},
   "outputs": [],
   "source": [
    "pismena = [\"a\", \"b\", \"c\", \"d\", \"e\", \"f\", \"g\", \"h\"]"
   ]
  },
  {
   "cell_type": "code",
   "execution_count": 45,
   "metadata": {
    "scrolled": true
   },
   "outputs": [
    {
     "name": "stdout",
     "output_type": "stream",
     "text": [
      "Hodnota je dulezita: e\n",
      "Hodnota je dulezita: f\n",
      "Hodnota je dulezita: g\n",
      "Hodnota je dulezita: h\n"
     ]
    }
   ],
   "source": [
    "for fotka in fotky:\n",
    "    if pismeno in {'podpis_technika', 'podpis_zakaznika'}:\n",
    "        continue\n",
    "\n",
    "    print(\"Vytvor odkaz, uploaduj verejny obrazek.\")"
   ]
  },
  {
   "cell_type": "code",
   "execution_count": null,
   "metadata": {},
   "outputs": [],
   "source": [
    "'obrazek', 'poznamky', 'podpis_technika', 'podpis_zakaznika'"
   ]
  },
  {
   "cell_type": "markdown",
   "metadata": {},
   "source": [
    "<br>\n",
    "\n",
    "### Ohlášení PASS\n",
    "\n",
    "---\n",
    "\n",
    "Doplňující ohlášení, které slouží jako `placeholder` pro zápis, který ještě není kompletní a současně nezpůsobí výjimku."
   ]
  },
  {
   "cell_type": "markdown",
   "metadata": {},
   "source": [
    "<br>\n",
    "\n",
    "#### For loop, bez ohlášení pass\n",
    "\n",
    "---"
   ]
  },
  {
   "cell_type": "code",
   "execution_count": 46,
   "metadata": {},
   "outputs": [
    {
     "ename": "SyntaxError",
     "evalue": "unexpected EOF while parsing (2571020138.py, line 2)",
     "output_type": "error",
     "traceback": [
      "\u001b[0;36m  Cell \u001b[0;32mIn[46], line 2\u001b[0;36m\u001b[0m\n\u001b[0;31m    # budu iterovat skrze promennou: str\u001b[0m\n\u001b[0m                                        ^\u001b[0m\n\u001b[0;31mSyntaxError\u001b[0m\u001b[0;31m:\u001b[0m unexpected EOF while parsing\n"
     ]
    }
   ],
   "source": [
    "for pismeno in \"Matous\":\n",
    "    # budu iterovat skrze promennou: str"
   ]
  },
  {
   "cell_type": "markdown",
   "metadata": {},
   "source": [
    "<br>\n",
    "\n",
    "#### For loop, s ohlášením pass\n",
    "\n",
    "---"
   ]
  },
  {
   "cell_type": "code",
   "execution_count": 47,
   "metadata": {},
   "outputs": [],
   "source": [
    "for pismeno in \"Matous\":\n",
    "    # budu iterovat skrze promennou: str\n",
    "    pass"
   ]
  },
  {
   "cell_type": "code",
   "execution_count": 50,
   "metadata": {},
   "outputs": [],
   "source": [
    "if True:\n",
    "    pass"
   ]
  },
  {
   "cell_type": "markdown",
   "metadata": {},
   "source": [
    "<br>\n",
    "\n",
    "\n",
    "#### For loop, doplněná budoucí ohlášení\n",
    "\n",
    "---"
   ]
  },
  {
   "cell_type": "code",
   "execution_count": 52,
   "metadata": {},
   "outputs": [
    {
     "name": "stdout",
     "output_type": "stream",
     "text": [
      "M\n",
      "a\n",
      "t\n",
      "o\n",
      "u\n",
      "s\n"
     ]
    }
   ],
   "source": [
    "for pismeno in \"Matous\":\n",
    "    print(pismeno)\n",
    "    # pass"
   ]
  },
  {
   "cell_type": "markdown",
   "metadata": {},
   "source": [
    "<br>\n",
    "\n",
    "### 🧠 CVIČENÍ 🧠, Vyzkoušej si práci s nestovanou smyčkou:"
   ]
  },
  {
   "cell_type": "markdown",
   "metadata": {},
   "source": [
    "1. Procházej hodnoty pro zadaný dvoudimenzionální `list` se jménem `obsah`,\n",
    "2. .. nejprve procházej **samotné řádky**,\n",
    "3. .. následně procházej **buňku po buňce**."
   ]
  },
  {
   "cell_type": "code",
   "execution_count": 2,
   "metadata": {},
   "outputs": [],
   "source": [
    "obsah = [['jmeno;prijmeni;email;projekt'],\n",
    "         ['Matous;Holinka;m.holinka@firma.cz;hr'],\n",
    "         ['Petr;Svetr;p.svetr@firma.cz;devops']]"
   ]
  },
  {
   "cell_type": "code",
   "execution_count": 19,
   "metadata": {},
   "outputs": [
    {
     "name": "stdout",
     "output_type": "stream",
     "text": [
      "jmeno\n",
      "prijmeni\n",
      "email\n",
      "projekt\n",
      "Matous\n",
      "Holinka\n",
      "m.holinka@firma.cz\n",
      "hr\n",
      "Petr\n",
      "Svetr\n",
      "p.svetr@firma.cz\n",
      "devops\n"
     ]
    }
   ],
   "source": [
    "for spojeny_radek in obsah:\n",
    "    rozdeleny_radek = spojeny_radek[0].split(';')\n",
    "    \n",
    "    for hodnota_bunky in rozdeleny_radek:\n",
    "        print(hodnota_bunky)"
   ]
  },
  {
   "cell_type": "markdown",
   "metadata": {},
   "source": [
    "<details>\n",
    "  <summary>▶️  Klikni zde pro zobrazení řešení</summary>\n",
    "   \n",
    "```python\n",
    "obsah = [\n",
    "    ['jmeno;prijmeni;email;projekt'],\n",
    "    ['Matous;Holinka;m.holinka@firma.cz;hr'],\n",
    "    ['Petr;Svetr;p.svetr@firma.cz;devops']\n",
    "]\n",
    "\n",
    "for radek in obsah:\n",
    "    print(radek)\n",
    "\n",
    "    for bunka in radek[0].split(\";\"):\n",
    "        print(bunka)\n",
    "```\n",
    "</details>"
   ]
  },
  {
   "cell_type": "markdown",
   "metadata": {},
   "source": [
    "<br>\n",
    "\n",
    "<img src=\"https://external-content.duckduckgo.com/iu/?u=https%3A%2F%2Ftse2.mm.bing.net%2Fth%3Fid%3DOIP.Oir5eME7J-RWJpxHkJjr-QHaGe%26pid%3DApi&f=1\" width=\"300\" style=\"margin-left:auto; margin-right:auto\" />\n",
    "\n",
    "\n",
    "\n",
    "## While loop\n",
    "---\n",
    "\n",
    "Někdy ale není nutné *iterovat* přes **celý objekt**, jak tomu bylo u smyčky `for`.\n",
    "\n",
    "Naopak, budeš potřebovat provádět proces *iterování* tak dlouho, *dokud* to bude nutné.\n",
    "\n",
    "Za takovým účelem můžeš využít druhý typ smyček, `while`.\n",
    "<br>\n",
    "\n",
    "### Jak obecně smyčka WHILE vypadá?\n",
    "\n",
    "---"
   ]
  },
  {
   "cell_type": "code",
   "execution_count": 1,
   "metadata": {},
   "outputs": [
    {
     "name": "stdout",
     "output_type": "stream",
     "text": [
      "0 , 0 < 5 pokracujeme!\n",
      "1 , 1 < 5 pokracujeme!\n",
      "2 , 2 < 5 pokracujeme!\n",
      "3 , 3 < 5 pokracujeme!\n",
      "4 , 4 < 5 pokracujeme!\n"
     ]
    }
   ],
   "source": [
    "index = 0\n",
    "\n",
    "while index < 5:\n",
    "    print(index, \",\", index, \"< 5\", \"pokracujeme!\")\n",
    "    index = index + 1"
   ]
  },
  {
   "cell_type": "code",
   "execution_count": 57,
   "metadata": {},
   "outputs": [
    {
     "name": "stdout",
     "output_type": "stream",
     "text": [
      "a\n",
      "b\n",
      "c\n"
     ]
    }
   ],
   "source": [
    "print('a', 'b', 'c', sep='\\n')"
   ]
  },
  {
   "cell_type": "markdown",
   "metadata": {},
   "source": [
    "1. `while` je **klíčkový výraz** v záhlaví (zápisu) cyklu,\n",
    "2. `index < 5` je **podmínka**. Pokud je vyhodnocená jako `True`, proveď odsazené ohlášení,\n",
    "3. `index < 5` pokud `False`, pokračuj **s neodsazeným zápisem** pod smyčkou,\n",
    "4. `:` řádek s předpisem musí být **zakončený dvojtečkou**,\n",
    "5. `print(...)`, následují **odsazené ohlášení**, které se budou opakovat v každém kroku,\n",
    "6. `print(index, \", \" ... ` pokračuje neodsazený zápis, pod smyčkou."
   ]
  },
  {
   "cell_type": "markdown",
   "metadata": {},
   "source": [
    "<br>\n",
    "\n",
    "### 🧠 CVIČENÍ 🧠, Vyzkoušej si práci s `while` smyčkou:"
   ]
  },
  {
   "cell_type": "markdown",
   "metadata": {},
   "source": [
    "1. Vytvoř prázdný nakupní košík `kosik` typu `list`,\n",
    "2. definuj smyčku WHILE, která bude *iterovat*, dokud **nemá `kosik` 3** hodnoty,\n",
    "3. nejprve vlož zboží do proměnné `produkt`,\n",
    "4. vypiš oddělovač `\"---\"`,\n",
    "5. jakmile podmínka v předpisu nebude pravdivá, vypiš obsah proměnné `kosik`."
   ]
  },
  {
   "cell_type": "code",
   "execution_count": 37,
   "metadata": {},
   "outputs": [
    {
     "name": "stdin",
     "output_type": "stream",
     "text": [
      "Vlož zboží: a\n"
     ]
    },
    {
     "name": "stdout",
     "output_type": "stream",
     "text": [
      "---\n"
     ]
    },
    {
     "name": "stdin",
     "output_type": "stream",
     "text": [
      "Vlož zboží: b\n"
     ]
    },
    {
     "name": "stdout",
     "output_type": "stream",
     "text": [
      "---\n"
     ]
    },
    {
     "name": "stdin",
     "output_type": "stream",
     "text": [
      "Vlož zboží: c\n"
     ]
    },
    {
     "name": "stdout",
     "output_type": "stream",
     "text": [
      "---\n",
      "['a', 'b', 'c']\n"
     ]
    }
   ],
   "source": [
    "kosik = list()\n",
    "\n",
    "while len(kosik) < 3:\n",
    "    produkt = input('Vlož zboží:')\n",
    "    kosik.append(produkt)\n",
    "    print('---')\n",
    "\n",
    "print(kosik)"
   ]
  },
  {
   "cell_type": "markdown",
   "metadata": {},
   "source": [
    "<details>\n",
    "  <summary>▶️  Klikni zde pro zobrazení řešení</summary>\n",
    "   \n",
    "```python\n",
    "kosik = list()\n",
    "\n",
    "while len(kosik) < 3:\n",
    "    produkt = input(\"Zadej typ zboží:\")\n",
    "    kosik.append(produkt)\n",
    "    print(\"---\")\n",
    "\n",
    "print(kosik)\n",
    "```\n",
    "</details>"
   ]
  },
  {
   "cell_type": "markdown",
   "metadata": {},
   "source": [
    "<br>\n",
    "\n",
    "### While s doplňující podmínkou\n",
    "\n",
    "---\n",
    "\n",
    "Cyklus `while` samotný podmínku obsahuje. Určitě je ale možnost, tento podmínkový strom ještě rozšířit."
   ]
  },
  {
   "cell_type": "code",
   "execution_count": 38,
   "metadata": {},
   "outputs": [
    {
     "name": "stdout",
     "output_type": "stream",
     "text": [
      "10\n",
      "11\n",
      "12\n",
      "13\n",
      "14\n",
      "15\n",
      "16\n",
      "17\n",
      "18\n",
      "19\n"
     ]
    }
   ],
   "source": [
    "index = 0\n",
    "\n",
    "while index < 20:\n",
    "    if len(str(index)) != 2:\n",
    "        index = index + 1\n",
    "        continue\n",
    "\n",
    "    print(index)\n",
    "    index = index + 1"
   ]
  },
  {
   "cell_type": "markdown",
   "metadata": {},
   "source": [
    "Takové rozšíření může být obzvlášť přínosné, pokud podmínka v předpise nejde formulovat:"
   ]
  },
  {
   "cell_type": "code",
   "execution_count": 40,
   "metadata": {},
   "outputs": [],
   "source": [
    "index = 0\n",
    "\n",
    "while index < 20 and len(str(index)) != 2:\n",
    "    print(index)\n",
    "    index = index + 1"
   ]
  },
  {
   "cell_type": "markdown",
   "metadata": {},
   "source": [
    "<br>\n",
    "\n",
    "### While/else\n",
    "\n",
    "---\n",
    "\n",
    "Cyklus `while` lze rozšířit o podmínkovou větev `else`(podobně jako *for loop*).\n",
    "\n",
    "K ní se *interpret* dostane, pokud je podmínka v předpisu vyhodnocená jako `False`.\n",
    "\n",
    "Současně nesmí narazit na ohlášení `break`:"
   ]
  },
  {
   "cell_type": "code",
   "execution_count": null,
   "metadata": {},
   "outputs": [],
   "source": [
    "index = 0\n",
    "\n",
    "while index < 20:\n",
    "    if len(str(index)) != 2:  # pokud není číselná hodnota ze dvou znaků\n",
    "        index = index + 1\n",
    "        continue\n",
    "\n",
    "    print(index)\n",
    "    index = index + 1\n",
    "\n",
    "else:\n",
    "    print(\"-\" * 23, \"Podminka -> False\".center(23), \"-\" * 23, sep=\"\\n\")\n",
    "\n",
    "print(\">Pokracuji pod smyckou<\")"
   ]
  },
  {
   "cell_type": "markdown",
   "metadata": {},
   "source": [
    "Pokud doplníš ohlášení `break`, *interpret* přeskočí nejenom zbytek smyčky *while* ale také větev `else`:"
   ]
  },
  {
   "cell_type": "code",
   "execution_count": null,
   "metadata": {},
   "outputs": [],
   "source": [
    "index = 0\n",
    "\n",
    "while index < 20:\n",
    "    if len(str(index)) != 2:  # pokud není číselná hodnota ze dvou znaků\n",
    "        index = index + 1\n",
    "        break\n",
    "\n",
    "    print(index)\n",
    "    index = index + 1\n",
    "    \n",
    "else:\n",
    "    print(\"-\" * 23, \"Podminka -> False\".center(23), \"-\" * 23, sep=\"\\n\")\n",
    "\n",
    "print(\">Pokracuji pod smyckou<\")"
   ]
  },
  {
   "cell_type": "markdown",
   "metadata": {},
   "source": [
    "<img src=\"https://external-content.duckduckgo.com/iu/?u=https%3A%2F%2Ftse1.mm.bing.net%2Fth%3Fid%3DOIP.Mq5UWTetElegP54AipJwxwAAAA%26pid%3DApi&f=1&ipt=d9ac04bc74246bbd95df83420771cf32edadc4aa0cde264c6c4a192b11c9c723&ipo=images\" width=\"200\" style=\"margin-left:auto; margin-right:auto\" />\n",
    "\n",
    "## Nekonečný while loop\n",
    "\n",
    "---"
   ]
  },
  {
   "cell_type": "markdown",
   "metadata": {},
   "source": [
    "Jednou z aplikací smyčky `while` je zápis tzv. *nekonečného cyklu*.\n",
    "\n",
    "Obecně můžeme říct, že v případě **nekonečných smyček** mluvíme o dvou typech:\n",
    "1. **Neřízené** nekonečné smyčky,\n",
    "2. **řízené** nekonečné smyčky.\n",
    "\n",
    "<br>\n",
    "\n",
    "#### Neřízené nekonečné smyčky\n",
    "\n",
    "---\n",
    "\n",
    "Ty mohou nastat v důsledku špatného zápisu `while` cyklu.\n",
    "```python\n",
    "index = 1\n",
    "\n",
    "while index < 20:\n",
    "    print(index)\n",
    "```"
   ]
  },
  {
   "cell_type": "markdown",
   "metadata": {},
   "source": [
    "*poznámka*. výše ukázaná varianta představuje tzv. *nežádoucí nekonečnou smyčku*, kde vznikla chyba **v odsazené části zápisu**.\n",
    "```python\n",
    "index = 1\n",
    "\n",
    "while index > 0:\n",
    "    print(index)\n",
    "    index = index + 1\n",
    "```"
   ]
  },
  {
   "cell_type": "markdown",
   "metadata": {},
   "source": [
    "*poznámka*. výše ukázaná varianta představuje tzv. *nežádoucí nekonečnou smyčku*, kde vznikla chyba **ve špatně zapsané podmínce**.\n",
    "\n",
    "<br>\n",
    "\n",
    "#### Řízené nekonečné smyčky\n",
    "\n",
    "---\n",
    "\n",
    "Nekonečný cyklus s `while` je ale možné formulovat jako *řádnou/žádoucí nekonečnou smyčku*:"
   ]
  },
  {
   "cell_type": "markdown",
   "metadata": {},
   "source": [
    "<br>\n",
    "\n",
    "### 🧠 CVIČENÍ 🧠, Vyzkoušej si práci s `řízenou nekonečnou while` smyčkou:\n",
    "\n",
    "---"
   ]
  },
  {
   "cell_type": "markdown",
   "metadata": {},
   "source": [
    "1. Vytvoř prázdný nakupní košík `kosik` typu `list`,\n",
    "2. definuj smyčku WHILE, která bude *iterovat*, dokud uživatel nezadá slovo `quit`,\n",
    "3. nejprve vlož zboží do proměnné `produkt`,\n",
    "4. vypiš přidaný `produkt`,\n",
    "5. vypiš oddělovač `\"---\"`,\n",
    "6. jakmile uživatel zadá slovo **quit**, vypiš obsah proměnné `kosik`."
   ]
  },
  {
   "cell_type": "code",
   "execution_count": 41,
   "metadata": {},
   "outputs": [
    {
     "name": "stdin",
     "output_type": "stream",
     "text": [
      "Zadej typ zboží [nebo 'konec' pro ukončení]:  mleko\n"
     ]
    },
    {
     "name": "stdout",
     "output_type": "stream",
     "text": [
      "---\n"
     ]
    },
    {
     "name": "stdin",
     "output_type": "stream",
     "text": [
      "Zadej typ zboží [nebo 'konec' pro ukončení]:  mleko\n"
     ]
    },
    {
     "name": "stdout",
     "output_type": "stream",
     "text": [
      "---\n"
     ]
    },
    {
     "name": "stdin",
     "output_type": "stream",
     "text": [
      "Zadej typ zboží [nebo 'konec' pro ukončení]:  pomeranc\n"
     ]
    },
    {
     "name": "stdout",
     "output_type": "stream",
     "text": [
      "---\n"
     ]
    },
    {
     "name": "stdin",
     "output_type": "stream",
     "text": [
      "Zadej typ zboží [nebo 'konec' pro ukončení]:  a\n"
     ]
    },
    {
     "name": "stdout",
     "output_type": "stream",
     "text": [
      "---\n"
     ]
    },
    {
     "name": "stdin",
     "output_type": "stream",
     "text": [
      "Zadej typ zboží [nebo 'konec' pro ukončení]:  b\n"
     ]
    },
    {
     "name": "stdout",
     "output_type": "stream",
     "text": [
      "---\n"
     ]
    },
    {
     "name": "stdin",
     "output_type": "stream",
     "text": [
      "Zadej typ zboží [nebo 'konec' pro ukončení]:  c\n"
     ]
    },
    {
     "name": "stdout",
     "output_type": "stream",
     "text": [
      "---\n"
     ]
    },
    {
     "name": "stdin",
     "output_type": "stream",
     "text": [
      "Zadej typ zboží [nebo 'konec' pro ukončení]:  konec\n"
     ]
    },
    {
     "name": "stdout",
     "output_type": "stream",
     "text": [
      "['mleko', 'mleko', 'pomeranc', 'a', 'b', 'c']\n"
     ]
    }
   ],
   "source": [
    "kosik = list()\n",
    "\n",
    "while True:\n",
    "    produkt = input(\"Zadej typ zboží [nebo 'konec' pro ukončení]: \")\n",
    "    \n",
    "    if produkt == \"konec\":\n",
    "        break\n",
    "\n",
    "    kosik.append(produkt)\n",
    "    print(\"---\")\n",
    "\n",
    "print(kosik)"
   ]
  },
  {
   "cell_type": "markdown",
   "metadata": {},
   "source": [
    "<details>\n",
    "  <summary>▶️  Klikni zde pro zobrazení řešení</summary>\n",
    "   \n",
    "```python\n",
    "kosik = list()\n",
    "\n",
    "while True:\n",
    "    produkt = input(\"Zadej typ zboží [nebo 'hotovo' pro ukončení]: \")\n",
    "    if produkt == \"hotovo\":\n",
    "        break\n",
    "    kosik.append(produkt)\n",
    "    print(produkt)\n",
    "    print(\"---\")\n",
    "\n",
    "print(kosik)\n",
    "```\n",
    "</details>"
   ]
  },
  {
   "cell_type": "markdown",
   "metadata": {},
   "source": [
    "<br>\n",
    "\n",
    "## Souhrn FOR vs. WHILE\n",
    "\n",
    "---"
   ]
  },
  {
   "cell_type": "markdown",
   "metadata": {},
   "source": [
    "Smyčku s `while` použiješ pokud:\n",
    "* nevíš přesný počet opakování, který chceš provést,\n",
    "* budeš tedy smyčku chtít opakovat, dokud je splněna určitá podmínka.\n",
    "\n",
    "<br>"
   ]
  },
  {
   "cell_type": "markdown",
   "metadata": {},
   "source": [
    "Smyčku s `for` použiješ pokud:\n",
    "* máš kolekci prvků a chceš provádět určité akce pro každý prvek v kolekci,\n",
    "* znáš počet opakování (velikost kolekce), kterými chceš projít."
   ]
  },
  {
   "cell_type": "markdown",
   "metadata": {},
   "source": [
    "<br>\n",
    "\n",
    "\n",
    "<img src=\"https://external-content.duckduckgo.com/iu/?u=https%3A%2F%2Ftse3.mm.bing.net%2Fth%3Fid%3DOIP.fNwmtWM7vEaO1gxjCKwMOwHaHa%26pid%3DApi&f=1\" width=\"300\" style=\"margin-left:auto; margin-right:auto\" />\n",
    "\n",
    "## Datový typ RANGE\n",
    "\n",
    "---\n",
    "\n",
    "\n",
    "Jde o *built-in* funkci, která nám vytvoří datový typ `range`. Tento typ v podstatě odpovídá tomu, co si představíme pod slovem **interval** nebo **rozsah**:"
   ]
  },
  {
   "cell_type": "code",
   "execution_count": null,
   "metadata": {},
   "outputs": [],
   "source": [
    "print(range(11))"
   ]
  },
  {
   "cell_type": "code",
   "execution_count": null,
   "metadata": {},
   "outputs": [],
   "source": [
    "print(type(range(11)))"
   ]
  },
  {
   "cell_type": "code",
   "execution_count": null,
   "metadata": {},
   "outputs": [],
   "source": [
    "for cislo in range(0, 6):\n",
    "    print(cislo)"
   ]
  },
  {
   "cell_type": "markdown",
   "metadata": {},
   "source": [
    "### Vytvoření RANGE\n",
    "\n",
    "---\n",
    "\n",
    "| Počet argumentů |\tVýznam |\n",
    "|:-:|:-|\n",
    "| **1** | \tHodnota stop. Začíná defaultně od 0 (končí o jednu hodnotu dříve než stop)\n",
    "| **2** | \tHodnoty start a stop |\n",
    "| **3** | \tHodnoty start, stop a step (tedy krok) |"
   ]
  },
  {
   "cell_type": "code",
   "execution_count": null,
   "metadata": {},
   "outputs": [],
   "source": [
    "print(range(11))  # 0, 10"
   ]
  },
  {
   "cell_type": "code",
   "execution_count": null,
   "metadata": {},
   "outputs": [],
   "source": [
    "print(tuple(range(11)))"
   ]
  },
  {
   "cell_type": "code",
   "execution_count": null,
   "metadata": {},
   "outputs": [],
   "source": [
    "print(tuple(range(11)))"
   ]
  },
  {
   "cell_type": "code",
   "execution_count": null,
   "metadata": {},
   "outputs": [],
   "source": [
    "print(tuple(range(5, 11)))"
   ]
  },
  {
   "cell_type": "code",
   "execution_count": null,
   "metadata": {},
   "outputs": [],
   "source": [
    "print(tuple(range(0, 11, 2)))"
   ]
  },
  {
   "cell_type": "code",
   "execution_count": null,
   "metadata": {},
   "outputs": [],
   "source": [
    "print(tuple(range(0, 10, -1)))"
   ]
  },
  {
   "cell_type": "code",
   "execution_count": null,
   "metadata": {},
   "outputs": [],
   "source": [
    "print(tuple(range(10.0, 0, -1)))"
   ]
  },
  {
   "cell_type": "markdown",
   "metadata": {},
   "source": [
    "*poznámka*. datový typ `range` pracuje pouze **s celými čísly**."
   ]
  },
  {
   "cell_type": "code",
   "execution_count": null,
   "metadata": {},
   "outputs": [],
   "source": [
    "for cislo in range(1, 11):\n",
    "    print(\"www.oukro.cz/aukce&page=\", cislo, sep=\"\")"
   ]
  },
  {
   "cell_type": "code",
   "execution_count": null,
   "metadata": {},
   "outputs": [],
   "source": [
    "import time\n",
    "\n",
    "for _ in range(6):\n",
    "    print(f\"Kontroluji obsah souboru..\")\n",
    "\n",
    "    time.sleep(1)"
   ]
  },
  {
   "cell_type": "markdown",
   "metadata": {},
   "source": [
    "<br>\n",
    "\n",
    "<img src=\"https://external-content.duckduckgo.com/iu/?u=https%3A%2F%2Ftse1.mm.bing.net%2Fth%3Fid%3DOIP.xszhziZWTRmKLG00uoNozAHaHM%26pid%3DApi&f=1\" width=\"200\" style=\"margin-left:auto; margin-right:auto\" />\n",
    "\n",
    "\n",
    "## Enumerate\n",
    "\n",
    "---\n",
    "\n",
    "Jde opět o  **built-in funkci** a současně datový typ, která nám **vytvoří číslování** pro zadaný *iterovatelný* objekt."
   ]
  },
  {
   "cell_type": "code",
   "execution_count": null,
   "metadata": {},
   "outputs": [],
   "source": [
    "print([\"Python\", \"Java\", \"JavaScript\", \"C\", \"Rust\"])"
   ]
  },
  {
   "cell_type": "code",
   "execution_count": null,
   "metadata": {},
   "outputs": [],
   "source": [
    "print(enumerate([\"Python\", \"Java\", \"JavaScript\", \"C\", \"Rust\"]))"
   ]
  },
  {
   "cell_type": "code",
   "execution_count": null,
   "metadata": {},
   "outputs": [],
   "source": [
    "print(tuple(enumerate([\"Python\", \"Java\", \"JavaScript\", \"C\", \"Rust\"])))"
   ]
  },
  {
   "cell_type": "code",
   "execution_count": null,
   "metadata": {},
   "outputs": [],
   "source": [
    "print(type(enumerate([\"Python\", \"Java\", \"JavaScript\", \"C\", \"Rust\"])))"
   ]
  },
  {
   "cell_type": "markdown",
   "metadata": {},
   "source": [
    "### For loop s enumerate\n",
    "\n",
    "---"
   ]
  },
  {
   "cell_type": "code",
   "execution_count": null,
   "metadata": {},
   "outputs": [],
   "source": [
    "for jazyk in [\"Python\", \"Java\", \"JavaScript\", \"C\", \"Rust\"]:\n",
    "    print(jazyk)"
   ]
  },
  {
   "cell_type": "code",
   "execution_count": null,
   "metadata": {},
   "outputs": [],
   "source": [
    "for jazyk in enumerate([\"Python\", \"Java\", \"JavaScript\", \"C\", \"Rust\"]):\n",
    "    print(jazyk)"
   ]
  },
  {
   "cell_type": "code",
   "execution_count": null,
   "metadata": {},
   "outputs": [],
   "source": [
    "for jazyk in enumerate([\"Python\", \"Java\", \"JavaScript\", \"C\", \"Rust\"]):\n",
    "    print(jazyk[1])"
   ]
  },
  {
   "cell_type": "code",
   "execution_count": null,
   "metadata": {},
   "outputs": [],
   "source": [
    "for x, y in enumerate([[\"Python\", \"Java\"], [\"JavaScript\", \"C\", \"Rust\"]]):\n",
    "    if x >= 2:\n",
    "        print(y)"
   ]
  },
  {
   "cell_type": "code",
   "execution_count": null,
   "metadata": {},
   "outputs": [],
   "source": [
    "for index, jazyk in enumerate([\"Python\", \"Java\", \"JavaScript\", \"C\", \"Rust\"]):\n",
    "    if index >= 2:\n",
    "        print(jazyk)"
   ]
  },
  {
   "cell_type": "markdown",
   "metadata": {},
   "source": [
    "<br>\n",
    "\n",
    "\n",
    "<img src=\"https://external-content.duckduckgo.com/iu/?u=https%3A%2F%2Ftse1.mm.bing.net%2Fth%3Fid%3DOIP.CyCPAsiknznQ9BhxVDeJDwHaHa%26pid%3DApi&f=1&ipt=8b1f18ea0b82f715fe275a2a5a36f9bd0daa1c4ba524938d11c22d28b54f0df0&ipo=images\" width=\"300\" style=\"margin-left:auto; margin-right:auto\" />\n",
    "\n",
    "## Zip\n",
    "\n",
    "---"
   ]
  },
  {
   "cell_type": "markdown",
   "metadata": {},
   "source": [
    "Tato funkce ti umožní *iterovat* skrze několik *iterovatelných objektů* **současně**:"
   ]
  },
  {
   "cell_type": "code",
   "execution_count": null,
   "metadata": {},
   "outputs": [],
   "source": [
    "jmena    = (\"Petr\", \"Marek\", \"David\", \"Adam\")\n",
    "prijmeni = (\"Svetr\", \"Pavel\", \"Dvořák\")"
   ]
  },
  {
   "cell_type": "markdown",
   "metadata": {},
   "source": [
    "<br>\n",
    "\n",
    "Funkce *zip* vrací *tuple*, který obsahuje hodnoty **o stejném indexu** z obou (nebo více) objektů."
   ]
  },
  {
   "cell_type": "code",
   "execution_count": null,
   "metadata": {},
   "outputs": [],
   "source": [
    "print(zip(jmena, prijmeni))        # lazy evaluation: tuple, list"
   ]
  },
  {
   "cell_type": "code",
   "execution_count": null,
   "metadata": {},
   "outputs": [],
   "source": [
    "print(jmena, prijmeni, sep='\\n')"
   ]
  },
  {
   "cell_type": "code",
   "execution_count": null,
   "metadata": {},
   "outputs": [],
   "source": [
    "print(list(zip(jmena, prijmeni)))"
   ]
  },
  {
   "cell_type": "code",
   "execution_count": null,
   "metadata": {},
   "outputs": [],
   "source": [
    "for jmeno, prijmeni in zip(jmena, prijmeni):\n",
    "    print(jmeno, prijmeni.upper())"
   ]
  },
  {
   "cell_type": "markdown",
   "metadata": {},
   "source": [
    "<br>\n",
    "\n",
    "Pokud se hodnoty z jednoho z *iterovatelných* objektů vyčerpají, **přeskočí** zbytek hodnot:"
   ]
  },
  {
   "cell_type": "code",
   "execution_count": null,
   "metadata": {},
   "outputs": [],
   "source": [
    "for jmeno, prijmeni, vek in zip((\"Petr\", \"Marek\"), (\"Svetr\", \"Pavel\", \"Dvořák\"), (22, 32, 42)):  # 2 jména, 3 příjmení\n",
    "    print(jmeno, prijmeni, vek)"
   ]
  },
  {
   "cell_type": "markdown",
   "metadata": {},
   "source": [
    "<br>\n",
    "\n",
    "<img src=\"https://external-content.duckduckgo.com/iu/?u=https%3A%2F%2Ftse1.mm.bing.net%2Fth%3Fid%3DOIP.cVA9L9pQIxnaw3ZcJNfX4AHaHa%26pid%3DApi&f=1&ipt=aa6f3ca45d6f089bbc9efa7e9f0d2ed975138de31e29f5349d422076346bef7a&ipo=images\" width=\"300\" style=\"margin-left:auto; margin-right:auto\" />"
   ]
  },
  {
   "cell_type": "markdown",
   "metadata": {},
   "source": [
    "## Walrus\n",
    "\n",
    "---"
   ]
  },
  {
   "cell_type": "markdown",
   "metadata": {},
   "source": [
    "Jde o zápis, který ti umožní **dva procesy**, při použití **jednoho operátoru**:\n",
    "1. nejprve **hodnotu přiřadí** proměnné,\n",
    "2. přímo ji použije."
   ]
  },
  {
   "cell_type": "markdown",
   "metadata": {},
   "source": [
    "*Přiřazovací operátor* nebo jinak *walrus operátor* je formulace, která je v Pythonu poměrně nová (3.8+).\n",
    "\n",
    "<br>\n",
    "\n",
    "<img src=\"https://external-content.duckduckgo.com/iu/?u=https%3A%2F%2Ftse3.mm.bing.net%2Fth%3Fid%3DOIP.r9w05wm2Q3aDz0JQhKzdFQHaLH%26pid%3DApi&f=1&ipt=27bc4198fbf119d0e8a1f5612726a1ed133716846e38221ff883dd7e3ded06dd&ipo=images\" width=\"200\" style=\"margin-left:auto; margin-right:auto\" />"
   ]
  },
  {
   "cell_type": "markdown",
   "metadata": {},
   "source": [
    "<br>\n",
    "\n",
    "### Vytvoření hodnoty a uložení\n",
    "\n",
    "---"
   ]
  },
  {
   "cell_type": "code",
   "execution_count": null,
   "metadata": {},
   "outputs": [],
   "source": [
    "jmeno = \"Matous\"\n",
    "print(jmeno)"
   ]
  },
  {
   "cell_type": "code",
   "execution_count": null,
   "metadata": {},
   "outputs": [],
   "source": [
    "print(jmeno := \"Matous\")"
   ]
  },
  {
   "cell_type": "markdown",
   "metadata": {},
   "source": [
    "V předchozí ukázce jde čistě **o vysvětlivku**.\n",
    "\n",
    "**Proměnné** jinak nadále a přehledně zapis po jedné a pod sebe. :)\n",
    "\n",
    "Praktické ukázky skutečného využití najdeš níže."
   ]
  },
  {
   "cell_type": "markdown",
   "metadata": {},
   "source": [
    "<br>\n",
    "\n",
    "### Kombinace s podmínkou\n",
    "\n",
    "---"
   ]
  },
  {
   "cell_type": "code",
   "execution_count": null,
   "metadata": {},
   "outputs": [],
   "source": [
    "jmeno = input(\"Zapiš jméno: \".upper())\n",
    "\n",
    "if jmeno == \"Matouš\":\n",
    "    print(\"Toto je \", jmeno, sep=\"\")\n",
    "else:\n",
    "    print(\"Tak \", jmeno, \", toho neznám.\", sep=\"\")"
   ]
  },
  {
   "cell_type": "markdown",
   "metadata": {},
   "source": [
    "Obzvlášť v kombinaci se **zabudovanými funkce** a *uživatelskými funkcemi* je nápomocný.\n",
    "\n",
    "Zásadní je **doplnění kulatých závorek**, kterými *interpretu* zdůrazníš pořadí:"
   ]
  },
  {
   "cell_type": "code",
   "execution_count": null,
   "metadata": {},
   "outputs": [],
   "source": [
    "TEXT = \"Zapiš jméno: \".upper()\n",
    "\n",
    "if (jmeno := input(TEXT)) == \"Matouš\":\n",
    "    print(\"Toto je \", jmeno, sep=\"\")\n",
    "else:\n",
    "    print(\"Tak \", jmeno, \", toho neznám.\", sep=\"\")"
   ]
  },
  {
   "cell_type": "markdown",
   "metadata": {},
   "source": [
    "Pokud zapomeneš kulaté závorky, ohlášení **nemusí logicky pracovat**:"
   ]
  },
  {
   "cell_type": "code",
   "execution_count": null,
   "metadata": {},
   "outputs": [],
   "source": [
    "TEXT = \"Zapiš jméno: \".upper()\n",
    "\n",
    "if jmeno := input(TEXT) == \"Matouš\":\n",
    "    print(\"Toto je \", jmeno, sep=\"\")\n",
    "else:\n",
    "    print(\"Tak \", jmeno, \", toho neznám.\", sep=\"\")"
   ]
  },
  {
   "cell_type": "markdown",
   "metadata": {},
   "source": [
    "Copak se stane:\n",
    "1. *Interpret* nejprve uloží vstup do funkce `input()`,\n",
    "2. následně vloženou hodnotu porovná,\n",
    "3. výsledek (`True`/ `False`) uloží do proměnné `jmeno`."
   ]
  },
  {
   "cell_type": "markdown",
   "metadata": {},
   "source": [
    "<br>\n",
    "\n",
    "### Kombinace s cyklem while\n",
    "\n",
    "---"
   ]
  },
  {
   "cell_type": "code",
   "execution_count": null,
   "metadata": {},
   "outputs": [],
   "source": [
    "TEXT = \"Zapiš libovolný text [nebo 'q' pro ukončení]: \"\n",
    "\n",
    "while (vstup := input(TEXT)) != \"q\":\n",
    "    print(vstup)\n",
    "else:\n",
    "    print(vstup, \"Konec smyčky!\", sep=\"\\n\")"
   ]
  },
  {
   "cell_type": "markdown",
   "metadata": {},
   "source": [
    "Analogicky můžeš opsat celý postup také **bez přiřazovacího operátoru**:"
   ]
  },
  {
   "cell_type": "code",
   "execution_count": null,
   "metadata": {},
   "outputs": [],
   "source": [
    "vstup = \"\"\n",
    "TEXT = \"Zapiš libovolný text [nebo 'q' pro ukončení]: \"\n",
    "\n",
    "while vstup != \"q\":\n",
    "    vstup = input(TEXT)\n",
    "    print(vstup)\n",
    "\n",
    "else:\n",
    "    print(\"Konec smyčky!\")"
   ]
  },
  {
   "cell_type": "markdown",
   "metadata": {},
   "source": [
    "<br>\n",
    "\n",
    "### 🧠 CVIČENÍ 🧠, Vyzkoušej si práci s `walrus` operátorem v kombinaci s `while` smyčkou:"
   ]
  },
  {
   "cell_type": "markdown",
   "metadata": {},
   "source": [
    "1. Vem kód z předchozího cvičení,\n",
    "2. nahraď standardní přiřazení proměnné `produkt` přiřazením s použítím **walrus** operátoru,\n",
    "3. opět vypiš obsah proměnné `kosik`."
   ]
  },
  {
   "cell_type": "markdown",
   "metadata": {},
   "source": [
    "<details>\n",
    "  <summary>▶️  Klikni zde pro zobrazení řešení</summary>\n",
    "   \n",
    "```python\n",
    "kosik = list()\n",
    "TEXT = \"Zadej typ zboží [nebo 'hotovo' pro ukončení]: \"\n",
    "\n",
    "while (produkt := input(TEXT)) != \"hotovo\":\n",
    "    kosik.append(produkt)\n",
    "    print(produkt)\n",
    "    print(\"---\")\n",
    "\n",
    "print(kosik)\n",
    "```\n",
    "</details>"
   ]
  },
  {
   "cell_type": "markdown",
   "metadata": {},
   "source": [
    "Pokud ti tedy dovede operátor `:=` šikovně pomoct, **určitě jej využij**.\n",
    "    \n",
    "Není nutné jej **zneužívat** v situacích, kdy je zápis málo čitelný, nebo špatně pochopitelný.\n",
    "\n",
    "Opatrně na **verze**.\n",
    "\n",
    "Pokud vyvíjíš na jiném prostředí, než produkčním, můžeš zjistit, že **má starší verzi Pythonu** a *walrus* nemusí podporovat."
   ]
  },
  {
   "cell_type": "markdown",
   "metadata": {},
   "source": [
    "<br>\n",
    "\n",
    "<img src=\"https://external-content.duckduckgo.com/iu/?u=https%3A%2F%2Ftse1.mm.bing.net%2Fth%3Fid%3DOIP.yn3NMy-f9-hqQwXqFJ2AtwHaDt%26pid%3DApi&f=1&ipt=21b8ba84b48b23ddb2e3e0629a3748562777e0fbfa04fa9346da57b607ca5c08&ipo=images\" width=\"300\" style=\"margin-left:auto; margin-right:auto\" />\n",
    "\n",
    "\n",
    "\n",
    "## Souhrn úvodu smyček\n",
    "\n",
    "---"
   ]
  },
  {
   "cell_type": "markdown",
   "metadata": {},
   "source": [
    "Nyní máš za sebou stručný úvod do problematiky **iterátorů**. Jaké pojmy jsou tedy zásadní."
   ]
  },
  {
   "cell_type": "markdown",
   "metadata": {},
   "source": [
    "### Iterable\n",
    "Anglické ozn., které představuje **takový objekt**, který umí vytvořit *iterátor* (pomůcka zab. funkce `iter()`)."
   ]
  },
  {
   "cell_type": "markdown",
   "metadata": {},
   "source": [
    "### Iterator\n",
    "Anglické ozn., které představuje tzv. **iterátor**. Tedy objekt, který dovede podávat jednotlivé hodnoty (pomocí funkce `next()`)."
   ]
  },
  {
   "cell_type": "markdown",
   "metadata": {},
   "source": [
    "### Iteration\n",
    "Anglické ozn., které představuje proces **iterace**. Což je proces, který postupně prochází hodnoty. Krok za krokem."
   ]
  },
  {
   "cell_type": "markdown",
   "metadata": {},
   "source": [
    "### For vs. while smyčka\n",
    "\n",
    "Kdy máš vybrat co, lze popsat jako:\n",
    "1. Pokud potřebuješ *iterovat* (~procházet) hodnotu od začátku do konce (tedy přes všechny hodnoty), použij `for`,\n",
    "2. pokud potřebuješ *iterovat*, dokud platí nějaké kritérium, použij `while`."
   ]
  },
  {
   "cell_type": "markdown",
   "metadata": {},
   "source": [
    "---"
   ]
  },
  {
   "cell_type": "markdown",
   "metadata": {},
   "source": [
    "<br>\n",
    "\n",
    "<img src=\"https://external-content.duckduckgo.com/iu/?u=https%3A%2F%2Ftse1.mm.bing.net%2Fth%3Fid%3DOIP.O9EkosTHP3lmEAvzA3D-2QHaHa%26pid%3DApi&f=1\" width=\"400\" style=\"margin-left:auto; margin-right:auto\" />\n",
    "\n",
    "\n",
    "\n",
    "## Domácí úkol\n",
    "\n",
    "---"
   ]
  },
  {
   "cell_type": "markdown",
   "metadata": {},
   "source": [
    "<br>\n",
    "\n",
    "### 🧠 CVIČENÍ 🧠, Vyzkoušej si práci s `for` smyčkou:\n",
    "\n",
    "Z výše zadaných jmen vytvoř slovník, kde budou klíče celá jména a hodnoty budou nestované slovníky, obsahující klíče křestní jméno, příjmení a email. Viz. ukázka:"
   ]
  },
  {
   "cell_type": "code",
   "execution_count": null,
   "metadata": {},
   "outputs": [],
   "source": [
    "zamestnanci_raw = \"\"\"\n",
    "Helena Vybíralová\n",
    "Wendy Štrumlová\n",
    "Marie Vybíralová\n",
    "Stanislav Bechyňka\n",
    "Zdeňka Urbánková\n",
    "Lukáš Riečan\n",
    "Veronika Koudelová\n",
    "Františka Vorlová\n",
    "Ilie Seleš\n",
    "Martin Železný\n",
    "Petra Niklesová\n",
    "Bohumil Skok\n",
    "Jakub Šmíd\n",
    "Jarmila Procházková\n",
    "Dagmar Hlavatá\n",
    "Jiří Nguyen Thanh\n",
    "Marie Franková\n",
    "Dana Ulrichová\n",
    "Jana Hranická\n",
    "Hana Budošová\n",
    "Ivan Široký\n",
    "Květoslava Jiráčková\n",
    "Pavel Przywara\n",
    "Josef Umlauf\n",
    "Tomáš Granzer\n",
    "Miroslav Kuba\n",
    "Miloslava Adámková\n",
    "Marie Karlíková\n",
    "Jaroslav Hronský\n",
    "Vlasta Karlíková\n",
    "Andrea Žatková\n",
    "Zuzana Lokočová\n",
    "Ondřej Ptáček\n",
    "Zdeněk Najman\n",
    "Tereza Šebešová\n",
    "Antonie Skokánková\n",
    "Jan Lion\n",
    "Václav Vecko\n",
    "František Vajgl\n",
    "Adéla Kavková\n",
    "Amália Vacková\n",
    "Anna Pažická\n",
    "Ivo Pustějovský\n",
    "Antonín Pavela\n",
    "Jitka Adamová\n",
    "Libuše Hamroziová\n",
    "Drahomíra Balzerová\n",
    "Marek Suchánek\n",
    "Petr Vavrinec\n",
    "Jonáš Stuchlý\n",
    "Jaromír Pecen\n",
    "Markéta Kyliánková\n",
    "Marina Pečenková\n",
    "Ivana Perdochová\n",
    "Michaela Drápalová\n",
    "Michael Mentlík\n",
    "Rudolf Špičák\n",
    "Žaneta Holá\n",
    "Blanka Lišková\n",
    "Eva Svatoňová\n",
    "Rostislav Hoang\n",
    "Martina Kalivodová\n",
    "Milan Hruška\n",
    "Zdenka Marková\n",
    "Lenka Schambergerová\n",
    "Růžena Martinů\n",
    "Věra Řezanková\n",
    "Marie Pečenková\n",
    "Miloš Váchal\n",
    "Jaroslava Hrubá\n",
    "Petr Pecen\n",
    "Pavla Konvicová\n",
    "Lucie Marešová\n",
    "Květuše Zdráhalová\n",
    "Vlastimila Svatošová\n",
    "Zora Michalčíková\n",
    "Daniel Švejnoha\n",
    "Klára Brunclíková\n",
    "Vladimír Bauer\n",
    "Michal Slaný\n",
    "Jiřina Novosadová\n",
    "Karel Sršeň\n",
    "Stanislava Lakosilová\n",
    "Filip Černý\n",
    "Alena Kubiková\n",
    "Sára Kotrlová\n",
    "Alois Rejlek\n",
    "Božena Novotná\n",
    "Maryana Nováková\n",
    "Kateřina Máslová\n",
    "Ladislav Dvořák\n",
    "Radek Varga\n",
    "Petr Dvořák\n",
    "Ludmila Jaklová\n",
    "Renáta Foubíková\n",
    "Nikola Lehká\n",
    "Dominika Riegerová\n",
    "Patrik Polák\n",
    "Soňa Štrbová\n",
    "David Matoušek\n",
    "Liubov Hollíková\n",
    "Monika Poláková\n",
    "Marie Jaklová\n",
    "Aleš Svoboda\n",
    "Roman Kolínský\n",
    "Karolína Košiková\n",
    "\"\"\""
   ]
  },
  {
   "cell_type": "markdown",
   "metadata": {},
   "source": [
    "```\n",
    "{'Adéla Kavková': {'email': 'a.kavková@firma.cz',\n",
    "                   'krestni_jmeno': 'Adéla',\n",
    "                   'prijmeni': 'Kavková'},\n",
    " 'Alena Kubiková': {'email': 'a.kubiková@firma.cz',\n",
    "                    'krestni_jmeno': 'Alena',\n",
    "                    'prijmeni': 'Kubiková'},\n",
    " 'Aleš Svoboda': {'email': 'a.svoboda@firma.cz',\n",
    "                  'krestni_jmeno': 'Aleš',\n",
    "                  'prijmeni': 'Svoboda'},\n",
    " ...\n",
    "}\n",
    "```"
   ]
  },
  {
   "cell_type": "code",
   "execution_count": null,
   "metadata": {},
   "outputs": [],
   "source": []
  },
  {
   "cell_type": "markdown",
   "metadata": {},
   "source": [
    "<details>\n",
    "  <summary>▶️  Klikni zde pro zobrazení řešení</summary>\n",
    "   \n",
    "```python\n",
    "zamestnanci = dict()\n",
    "\n",
    "for cele_jmeno in zamestnanci_raw.splitlines():\n",
    "    if cele_jmeno:\n",
    "        zamestnanci[cele_jmeno] = {\n",
    "            \"krestni_jmeno\": (kr_jmeno := cele_jmeno.split()[0]),\n",
    "            \"prijmeni\": (prijmeni := cele_jmeno.split()[1]),\n",
    "            \"email\": kr_jmeno.lower()[0] + \".\" + prijmeni.lower() + \"@firma.cz\",\n",
    "#             \"email\": f\"{kr_jmeno.lower()[0]}.{prijmeni.lower()}@firma.cz\"\n",
    "        }\n",
    "```\n",
    "</details>"
   ]
  },
  {
   "cell_type": "markdown",
   "metadata": {},
   "source": [
    "<br>\n",
    "\n",
    "### 🧠 CVIČENÍ 🧠, Vyzkoušej si práci s `while` smyčku:"
   ]
  },
  {
   "cell_type": "markdown",
   "metadata": {},
   "source": [
    "Tvým úkolem bude odstraňovat písmena ze zadaného seznamu pomocí funkce `input`:\n",
    "```python\n",
    "pismena = [\"a\", \"a\", \"b\", \"c\", \"d\", \"a\", \"e\", \"g\", \"m\"]\n",
    "```\n",
    "\n",
    "Jakmile budou všechna písmena odstraněná, vypíše tvůj program:\n",
    "```python\n",
    "Seznam je prázdný!\n",
    "```\n",
    "\n",
    "Pokud zapíšeš písmeno, které v zadaném seznamu není, dostaneš upozornění:\n",
    "```python\n",
    "x není součástí písmen!\n",
    "```\n",
    "\n",
    "Průběh může vypadat následovně:\n",
    "```python\n",
    "Začátek: ['a', 'a', 'b', 'c', 'd', 'a', 'e', 'g', 'm']\n",
    "ktere písmeno chceš vyhodit? a\n",
    "Zbývají písmena ['a', 'b', 'c', 'd', 'a', 'e', 'g', 'm']\n",
    "ktere písmeno chceš vyhodit? a\n",
    "Zbývají písmena ['b', 'c', 'd', 'a', 'e', 'g', 'm']\n",
    "ktere písmeno chceš vyhodit? a\n",
    "Zbývají písmena ['b', 'c', 'd', 'e', 'g', 'm']\n",
    "ktere písmeno chceš vyhodit? b\n",
    "Zbývají písmena ['c', 'd', 'e', 'g', 'm']\n",
    "ktere písmeno chceš vyhodit? c\n",
    "Zbývají písmena ['d', 'e', 'g', 'm']\n",
    "ktere písmeno chceš vyhodit? d\n",
    "Zbývají písmena ['e', 'g', 'm']\n",
    "ktere písmeno chceš vyhodit? e\n",
    "Zbývají písmena ['g', 'm']\n",
    "ktere písmeno chceš vyhodit? x\n",
    "x není součástí písmen!\n",
    "ktere písmeno chceš vyhodit? g\n",
    "Zbývají písmena ['m']\n",
    "ktere písmeno chceš vyhodit? m\n",
    "Seznam je prázdný!\n",
    "```"
   ]
  },
  {
   "cell_type": "code",
   "execution_count": null,
   "metadata": {},
   "outputs": [],
   "source": []
  },
  {
   "cell_type": "markdown",
   "metadata": {},
   "source": [
    "<details>\n",
    "  <summary>▶️  Klikni zde pro zobrazení řešení</summary>\n",
    "   \n",
    "```python\n",
    "pismena = [\"a\", \"a\", \"b\", \"c\", \"d\", \"a\", \"e\", \"g\", \"m\"]\n",
    "\n",
    "while pismena:\n",
    "    print(\", \".join(pismena))\n",
    "    \n",
    "    zadani = input(\"ktere písmeno chceš vyhodit?\")\n",
    "    \n",
    "    if zadani not in pismena:\n",
    "        print(zadani + \" není součástí písmen!\")\n",
    "    else:\n",
    "        pismena.remove(zadani)\n",
    "\n",
    "else:\n",
    "    print(\"Konec hry!\")\n",
    "```\n",
    "</details>"
   ]
  }
 ],
 "metadata": {
  "kernelspec": {
   "display_name": "Python 3 (ipykernel)",
   "language": "python",
   "name": "python3"
  },
  "language_info": {
   "codemirror_mode": {
    "name": "ipython",
    "version": 3
   },
   "file_extension": ".py",
   "mimetype": "text/x-python",
   "name": "python",
   "nbconvert_exporter": "python",
   "pygments_lexer": "ipython3",
   "version": "3.8.10"
  }
 },
 "nbformat": 4,
 "nbformat_minor": 4
}
