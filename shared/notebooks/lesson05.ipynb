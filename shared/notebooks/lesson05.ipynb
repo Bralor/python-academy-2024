{
 "cells": [
  {
   "cell_type": "markdown",
   "metadata": {},
   "source": [
    "# Python akademie\n",
    "\n",
    "---"
   ]
  },
  {
   "cell_type": "markdown",
   "metadata": {},
   "source": [
    "<br>\n",
    "\n",
    "## Obsah lekce\n",
    "\n",
    "---"
   ]
  },
  {
   "cell_type": "markdown",
   "metadata": {},
   "source": [
    "1. [Iterační protokol podruhé](#Iterační-protokol-podruhé),\n",
    "2. [while smyčka](#While-smyčka),\n",
    "3. [nekonečná smyčka](#Nekonečný-while-loop),\n",
    "4. [přiřazovací operátor](#Walrus-operátor),\n",
    "5. [zkrácené přiřazování](#Walrus-operátor),\n",
    "6. [souhrn smyček](#Souhrn-úvodu-smyček),\n",
    "7. [comprehensions](#Comprehensions),\n",
    "\n",
    "---"
   ]
  },
  {
   "cell_type": "markdown",
   "metadata": {},
   "source": [
    "<img src=\"https://external-content.duckduckgo.com/iu/?u=https%3A%2F%2Ftse1.mm.bing.net%2Fth%3Fid%3DOIP.yg9qTK4GbobmIc9KTC39pQHaFy%26pid%3DApi&f=1\" width=\"200\" style=\"margin-left:auto; margin-right:auto\"/>\n",
    "\n",
    "## Iterační protokol, podruhé\n",
    "\n",
    "---"
   ]
  },
  {
   "cell_type": "markdown",
   "metadata": {},
   "source": [
    "Pro periodické opakování ohlášení existují tzv. *iterační protokoly* (příp.  označovány jako *smyčky*, *cykly*, *loopy*).\n",
    "\n",
    "Pomocí smyčky *for* umíš zapsat takovou *iteraci*, kdy postupně projdeš **všechny hodnoty**.\n",
    "\n",
    "Co když budeš potřebovat *iterovat* bez zadané hodnoty, ale za jistých podmínek?\n",
    "\n",
    "Až bude mít `list` 3 hodnoty, dokud uživatel zadává vstupy, atd.\n",
    "\n",
    "\n",
    "<br>\n",
    "\n",
    "Potom bude potřeba, povědět si ještě o druhém typu smyček:\n",
    "1. smyčka `for`,\n",
    "2. smyčka `while`."
   ]
  },
  {
   "cell_type": "markdown",
   "metadata": {},
   "source": [
    "<br>\n",
    "\n",
    "<img src=\"https://external-content.duckduckgo.com/iu/?u=https%3A%2F%2Ftse1.mm.bing.net%2Fth%2Fid%2FOIP.0JuR0QosuhcoaxkE63Vv0QHaHa%3Fpid%3DApi&f=1&ipt=0bb5ec4af16dcd5aceb9d9685ce00ffb065ce31a7ed0217e972eda8fd5e66986&ipo=images\" width=\"250\" style=\"margin-left:auto; margin-right:auto\"/>\n",
    "\n",
    "\n",
    "\n",
    "## While smyčka\n",
    "---"
   ]
  },
  {
   "cell_type": "markdown",
   "metadata": {},
   "source": [
    "Někdy ale není nutné *iterovat* přes **celý objekt**, jak tomu bylo u smyčky `for`.\n",
    "\n",
    "Naopak, budeš potřebovat provádět proces *iterování* tak dlouho, *dokud* to bude nutné.\n",
    "\n",
    "Za takovým účelem můžeš využít druhý typ smyček, `while`.\n",
    "\n",
    "### Obecně while\n",
    "\n",
    "---"
   ]
  },
  {
   "cell_type": "code",
   "execution_count": 1,
   "metadata": {},
   "outputs": [
    {
     "name": "stdout",
     "output_type": "stream",
     "text": [
      "Ještě nemáš 6, ale 1, pokračuji..\n",
      "Ještě nemáš 6, ale 2, pokračuji..\n",
      "Ještě nemáš 6, ale 3, pokračuji..\n",
      "Ještě nemáš 6, ale 4, pokračuji..\n",
      "Ještě nemáš 6, ale 5, pokračuji..\n",
      "Hotovo, máš 6!\n"
     ]
    }
   ],
   "source": [
    "index = 1\n",
    "\n",
    "while index < 6:  # 5 < 6 --> True\n",
    "    print(\"Ještě nemáš 6, ale \", index, \", pokračuji..\", sep=\"\")\n",
    "    index = index + 1  # 6\n",
    "\n",
    "print(\"Hotovo, máš 6!\")"
   ]
  },
  {
   "cell_type": "code",
   "execution_count": 3,
   "metadata": {},
   "outputs": [
    {
     "name": "stdout",
     "output_type": "stream",
     "text": [
      "False\n"
     ]
    }
   ],
   "source": [
    "print(6 < 6)"
   ]
  },
  {
   "cell_type": "code",
   "execution_count": 4,
   "metadata": {},
   "outputs": [
    {
     "name": "stdout",
     "output_type": "stream",
     "text": [
      "6\n"
     ]
    }
   ],
   "source": [
    "print(index)"
   ]
  },
  {
   "cell_type": "markdown",
   "metadata": {},
   "source": [
    "1. `while` je **klíčkové slovo** v záhlaví,\n",
    "2. `index < 6` je **podmínka**. Pokud je vyhodnocená jako `True`, proveď *odsazené ohlášení*,\n",
    "3. `index < 6` ... `False`, ukonči smyčku a pokračuj **s neodsazeným zápisem** pod smyčkou,\n",
    "4. `:` řádek s předpisem musí být **zakončený dvojtečkou**,\n",
    "5. `print(\"Ještě nemáš...\")`, následují *odsazené ohlášení*, které se budou opakovat v každém kroku,\n",
    "6. `print(\"Hotovo, \" ... )`, pokračuje *neodsazený zápis*, pod smyčkou."
   ]
  },
  {
   "cell_type": "markdown",
   "metadata": {},
   "source": [
    "<br>\n",
    "\n",
    "#### 🧠 CVIČENÍ 🧠, vyzkoušej si práci s `while` smyčkou:\n",
    "\n",
    "---"
   ]
  },
  {
   "cell_type": "markdown",
   "metadata": {},
   "source": [
    "1. Vytvoř prázdný nakupní košík `kosik` typu `list`,\n",
    "2. definuj smyčku WHILE, která bude *iterovat*, dokud **nemá `kosik` 3** hodnoty,\n",
    "3. nejprve vlož zboží do proměnné `produkt`,\n",
    "4. vypiš oddělovač `\"---\"`,\n",
    "5. jakmile podmínka v předpisu nebude pravdivá, vypiš obsah proměnné `kosik`."
   ]
  },
  {
   "cell_type": "code",
   "execution_count": 5,
   "metadata": {},
   "outputs": [],
   "source": [
    "kosik = list()\n",
    "\n",
    "while len(kosik) < 3:\n",
    "    produkt = input('VLOZ ZBOZI DO KOSIKU:')\n",
    "    kosik.append(produkt)\n",
    "    print(\"---\")\n",
    "\n",
    "print(kosik)"
   ]
  },
  {
   "cell_type": "markdown",
   "metadata": {},
   "source": [
    "<details>\n",
    "  <summary>▶️  Klikni zde pro zobrazení řešení</summary>\n",
    "   \n",
    "```python\n",
    "kosik = list()\n",
    "\n",
    "while len(kosik) < 3:\n",
    "    produkt = input(\"Zadej typ zboží:\")\n",
    "    kosik.append(produkt)\n",
    "    print(\"---\")\n",
    "\n",
    "print(kosik)\n",
    "```\n",
    "</details>"
   ]
  },
  {
   "cell_type": "markdown",
   "metadata": {},
   "source": [
    "### While s doplňující podmínkou\n",
    "\n",
    "---\n",
    "\n",
    "Cyklus `while` samotný podmínku obsahuje. Určitě je ale možnost, tento podmínkový strom ještě rozšířit:"
   ]
  },
  {
   "cell_type": "code",
   "execution_count": 9,
   "metadata": {},
   "outputs": [
    {
     "name": "stdout",
     "output_type": "stream",
     "text": [
      "2\n"
     ]
    }
   ],
   "source": [
    "print(len(str(10)))"
   ]
  },
  {
   "cell_type": "code",
   "execution_count": 8,
   "metadata": {},
   "outputs": [
    {
     "name": "stdout",
     "output_type": "stream",
     "text": [
      "10\n",
      "11\n",
      "12\n",
      "13\n",
      "14\n",
      "15\n",
      "16\n",
      "17\n",
      "18\n",
      "19\n",
      "20\n"
     ]
    }
   ],
   "source": [
    "index = 0\n",
    "\n",
    "while index <= 20:\n",
    "    if len(str(index)) != 2:\n",
    "        index = index + 1\n",
    "    else:\n",
    "        print(index)\n",
    "        index = index + 1"
   ]
  },
  {
   "cell_type": "markdown",
   "metadata": {},
   "source": [
    "Takové rozšíření může být obzvlášť přínosné, pokud podmínku v předpise nelze jednodušše rozšířit:"
   ]
  },
  {
   "cell_type": "code",
   "execution_count": 10,
   "metadata": {},
   "outputs": [],
   "source": [
    "index = 0\n",
    "\n",
    "while index < 20 and len(str(index)) == 2:\n",
    "    print(index)\n",
    "    index = index + 1"
   ]
  },
  {
   "cell_type": "markdown",
   "metadata": {},
   "source": [
    "<br>\n",
    "\n",
    "### While/else\n",
    "\n",
    "---\n",
    "\n",
    "Cyklus `while` lze rozšířit o podmínkovou větev `else`(podobně jako *for loop*).\n",
    "\n",
    "K ní se *interpret* dostane, pokud je podmínka v předpisu vyhodnocená jako `False`.\n",
    "\n",
    "Současně nesmí narazit na ohlášení `break`:"
   ]
  },
  {
   "cell_type": "code",
   "execution_count": 11,
   "metadata": {},
   "outputs": [
    {
     "name": "stdout",
     "output_type": "stream",
     "text": [
      "10\n",
      "11\n",
      "12\n",
      "13\n",
      "14\n",
      "15\n",
      "16\n",
      "17\n",
      "18\n",
      "19\n",
      "20\n",
      "-----------------------\n",
      "   Podmínka -> False   \n",
      "-----------------------\n",
      ">Pokračuji pod smyčkou<\n"
     ]
    }
   ],
   "source": [
    "index = 0\n",
    "\n",
    "while index <= 20:\n",
    "    if len(str(index)) != 2:\n",
    "        index = index + 1\n",
    "    else:\n",
    "        print(index)\n",
    "        index = index + 1\n",
    "\n",
    "else:\n",
    "    print(\"-\" * 23, \"Podmínka -> False\".center(23), \"-\" * 23, sep=\"\\n\")\n",
    "\n",
    "print(\">Pokračuji pod smyčkou<\")"
   ]
  },
  {
   "cell_type": "markdown",
   "metadata": {},
   "source": [
    "Pokud doplníš ohlášení `break`, *interpret* přeskočí nejenom zbytek smyčky *while* ale také větev `else`:"
   ]
  },
  {
   "cell_type": "code",
   "execution_count": 12,
   "metadata": {},
   "outputs": [
    {
     "name": "stdout",
     "output_type": "stream",
     "text": [
      "10\n",
      ">Pokračuji pod smyčkou<\n"
     ]
    }
   ],
   "source": [
    "index = 0\n",
    "\n",
    "while index < 20:\n",
    "    if len(str(index)) != 2:  # pokud není číselná hodnota ze dvou znaků\n",
    "        index = index + 1\n",
    "        \n",
    "    else:\n",
    "        print(index)\n",
    "        index = 1\n",
    "        break\n",
    "    \n",
    "else:\n",
    "    print(\"-\" * 23, \"Podminka -> False\".center(23), \"-\" * 23, sep=\"\\n\")\n",
    "\n",
    "print(\">Pokračuji pod smyčkou<\")"
   ]
  },
  {
   "cell_type": "markdown",
   "metadata": {},
   "source": [
    "<img src=\"https://external-content.duckduckgo.com/iu/?u=https%3A%2F%2Ftse1.mm.bing.net%2Fth%3Fid%3DOIP.Mq5UWTetElegP54AipJwxwAAAA%26pid%3DApi&f=1&ipt=d9ac04bc74246bbd95df83420771cf32edadc4aa0cde264c6c4a192b11c9c723&ipo=images\" width=\"250\" style=\"margin-left:auto; margin-right:auto\" />\n",
    "\n",
    "## Nekonečný while loop\n",
    "\n",
    "---"
   ]
  },
  {
   "cell_type": "markdown",
   "metadata": {},
   "source": [
    "Jednou z aplikací smyčky `while` je zápis tzv. *nekonečného cyklu*.\n",
    "\n",
    "Obecně řečeno, že v případě **nekonečných smyček** můžeš potkat dva typy:\n",
    "1. **řízené** *nekonečné smyčky*,\n",
    "2. **neřízené** *nekonečné smyčky*."
   ]
  },
  {
   "cell_type": "markdown",
   "metadata": {},
   "source": [
    "### Neřízené nekonečné smyčky\n",
    "\n",
    "---\n",
    "\n",
    "Ty mohou nastat v důsledku **špatného zápisu** `while` cyklu:"
   ]
  },
  {
   "cell_type": "code",
   "execution_count": 15,
   "metadata": {},
   "outputs": [
    {
     "name": "stdout",
     "output_type": "stream",
     "text": [
      "1\n",
      "2\n",
      "3\n",
      "4\n",
      "5\n",
      "6\n"
     ]
    }
   ],
   "source": [
    "index = 1\n",
    "\n",
    "while index <= 6:\n",
    "    print(index)\n",
    "    index = index + 1\n",
    "    # neinkrementuji hodnotu v proměnné 'index'\n",
    "    # .. hodnota je v každém kroce 1 a smyčka nekončí.\n",
    "    # .. Ctrl + C -> "
   ]
  },
  {
   "cell_type": "markdown",
   "metadata": {},
   "source": [
    "#### Špatná podmínka v předpise\n",
    "\n",
    "---\n",
    "\n",
    "```python\n",
    "# TAKHLE NE!\n",
    "index = 1\n",
    "\n",
    "while index > 0:\n",
    "    print(index)\n",
    "    index = index + 1\n",
    "```\n",
    "\n",
    "Pro ukončení neřízené resp. nežádoucí nekonečné smyčky je potřeba vyvolat `KeyboardInterrupt` (kombinace kláves `Ctrl + C`)."
   ]
  },
  {
   "cell_type": "markdown",
   "metadata": {},
   "source": [
    "#### Špatná logika uvnitř smyčky\n",
    "\n",
    "---\n",
    "\n",
    "```python\n",
    "# TAKHLE NE!\n",
    "index = 1\n",
    "\n",
    "while index <= 6:\n",
    "    print(index)\n",
    "```"
   ]
  },
  {
   "cell_type": "markdown",
   "metadata": {},
   "source": [
    "<br>\n",
    "\n",
    "*poznámka*. výše ukázaná varianta představuje tzv. *nežádoucí nekonečnou smyčku*, kde vznikla chyba **v odsazené části zápisu** i při **špatném ohlášení** v zadání smyčky *while*."
   ]
  },
  {
   "cell_type": "markdown",
   "metadata": {},
   "source": [
    "<br>\n",
    "\n",
    "### Řízené nekonečné smyčky\n",
    "\n",
    "---\n",
    "\n",
    "Nekonečný cyklus s `while` je možné formulovat jako *řádnou/žádoucí nekonečnou smyčku*.\n",
    "\n",
    "\n",
    "#### Pomocí ohlášení BREAK\n",
    "\n",
    "---"
   ]
  },
  {
   "cell_type": "code",
   "execution_count": 17,
   "metadata": {
    "scrolled": true
   },
   "outputs": [
    {
     "name": "stdin",
     "output_type": "stream",
     "text": [
      "Zapiš libovolný text [nebo 'q' pro ukončení]:  ahoj\n"
     ]
    },
    {
     "name": "stdout",
     "output_type": "stream",
     "text": [
      "AHOJ\n"
     ]
    },
    {
     "name": "stdin",
     "output_type": "stream",
     "text": [
      "Zapiš libovolný text [nebo 'q' pro ukončení]:  a\n"
     ]
    },
    {
     "name": "stdout",
     "output_type": "stream",
     "text": [
      "A\n"
     ]
    },
    {
     "name": "stdin",
     "output_type": "stream",
     "text": [
      "Zapiš libovolný text [nebo 'q' pro ukončení]:  b\n"
     ]
    },
    {
     "name": "stdout",
     "output_type": "stream",
     "text": [
      "B\n"
     ]
    },
    {
     "name": "stdin",
     "output_type": "stream",
     "text": [
      "Zapiš libovolný text [nebo 'q' pro ukončení]:  c\n"
     ]
    },
    {
     "name": "stdout",
     "output_type": "stream",
     "text": [
      "C\n"
     ]
    },
    {
     "name": "stdin",
     "output_type": "stream",
     "text": [
      "Zapiš libovolný text [nebo 'q' pro ukončení]:  s\n"
     ]
    },
    {
     "name": "stdout",
     "output_type": "stream",
     "text": [
      "S\n"
     ]
    },
    {
     "name": "stdin",
     "output_type": "stream",
     "text": [
      "Zapiš libovolný text [nebo 'q' pro ukončení]:  d\n"
     ]
    },
    {
     "name": "stdout",
     "output_type": "stream",
     "text": [
      "D\n"
     ]
    },
    {
     "name": "stdin",
     "output_type": "stream",
     "text": [
      "Zapiš libovolný text [nebo 'q' pro ukončení]:  q\n"
     ]
    },
    {
     "name": "stdout",
     "output_type": "stream",
     "text": [
      "Ukončuji ukázku!\n"
     ]
    }
   ],
   "source": [
    "while True:\n",
    "    vstup = input(\"Zapiš libovolný text [nebo 'q' pro ukončení]: \")\n",
    "\n",
    "    if vstup == \"q\":\n",
    "        break\n",
    "    print(vstup.upper())\n",
    "\n",
    "print(\"Ukončuji ukázku!\")"
   ]
  },
  {
   "cell_type": "markdown",
   "metadata": {},
   "source": [
    "#### Pomocí proměnné\n",
    "\n",
    "---"
   ]
  },
  {
   "cell_type": "code",
   "execution_count": 18,
   "metadata": {
    "scrolled": true
   },
   "outputs": [
    {
     "name": "stdin",
     "output_type": "stream",
     "text": [
      "Zapiš libovolný text [nebo 'q' pro ukončení]:  a\n"
     ]
    },
    {
     "name": "stdout",
     "output_type": "stream",
     "text": [
      "A\n"
     ]
    },
    {
     "name": "stdin",
     "output_type": "stream",
     "text": [
      "Zapiš libovolný text [nebo 'q' pro ukončení]:  b\n"
     ]
    },
    {
     "name": "stdout",
     "output_type": "stream",
     "text": [
      "B\n"
     ]
    },
    {
     "name": "stdin",
     "output_type": "stream",
     "text": [
      "Zapiš libovolný text [nebo 'q' pro ukončení]:  c\n"
     ]
    },
    {
     "name": "stdout",
     "output_type": "stream",
     "text": [
      "C\n"
     ]
    },
    {
     "name": "stdin",
     "output_type": "stream",
     "text": [
      "Zapiš libovolný text [nebo 'q' pro ukončení]:  d\n"
     ]
    },
    {
     "name": "stdout",
     "output_type": "stream",
     "text": [
      "D\n"
     ]
    },
    {
     "name": "stdin",
     "output_type": "stream",
     "text": [
      "Zapiš libovolný text [nebo 'q' pro ukončení]:  q\n"
     ]
    },
    {
     "name": "stdout",
     "output_type": "stream",
     "text": [
      "Q\n",
      "Ukončuji ukázku!\n"
     ]
    }
   ],
   "source": [
    "switch = True\n",
    "\n",
    "while switch:\n",
    "    uziv_vstup = input(\"Zapiš libovolný text [nebo 'q' pro ukončení]: \")\n",
    "\n",
    "    if uziv_vstup == \"q\":\n",
    "        switch = False\n",
    "    print(uziv_vstup.capitalize())\n",
    "\n",
    "print(\"Ukončuji ukázku!\")"
   ]
  },
  {
   "cell_type": "markdown",
   "metadata": {},
   "source": [
    "<br>\n",
    "\n",
    "#### 🧠 CVIČENÍ 🧠, Vyzkoušej si práci s `řízenou nekonečnou while` smyčkou:\n",
    "\n",
    "---"
   ]
  },
  {
   "cell_type": "markdown",
   "metadata": {},
   "source": [
    "1. Vytvoř prázdný nakupní košík `kosik` typu `list`,\n",
    "2. definuj smyčku WHILE, která bude *iterovat*, dokud uživatel nezadá slovo `quit`,\n",
    "3. nejprve vlož zboží do proměnné `produkt`,\n",
    "4. vypiš přidaný `produkt`,\n",
    "5. vypiš oddělovač `\"---\"`,\n",
    "6. jakmile uživatel zadá slovo `\"quit\"`, vypiš obsah proměnné `kosik`."
   ]
  },
  {
   "cell_type": "code",
   "execution_count": null,
   "metadata": {},
   "outputs": [],
   "source": [
    "kosik = list()\n",
    "\n",
    "while True:\n",
    "    produkt = input(\"VLOZ ZBOZI (ZAPIS 'quit' PRO UKONCENI):\")\n",
    "\n",
    "    if produkt == \"quit\":\n",
    "        break\n",
    "\n",
    "    kosik.append(produkt)\n",
    "    print('---')\n",
    "\n",
    "print(kosik)"
   ]
  },
  {
   "cell_type": "markdown",
   "metadata": {},
   "source": [
    "<details>\n",
    "  <summary>▶️  Klikni zde pro zobrazení řešení</summary>\n",
    "   \n",
    "```python\n",
    "kosik = list()\n",
    "\n",
    "while True:\n",
    "    produkt = input(\"Zadej typ zboží [nebo 'hotovo' pro ukončení]: \")\n",
    "    if produkt == \"hotovo\":\n",
    "        break\n",
    "    kosik.append(produkt)\n",
    "    print(produkt)\n",
    "    print(\"---\")\n",
    "\n",
    "print(kosik)\n",
    "```\n",
    "</details>"
   ]
  },
  {
   "cell_type": "markdown",
   "metadata": {},
   "source": [
    "<br>\n",
    "\n",
    "<img src=\"https://external-content.duckduckgo.com/iu/?u=https%3A%2F%2Ftse2.mm.bing.net%2Fth%3Fid%3DOIP.ZtuU0gV1oC0QdH6B74_D9QHaHa%26pid%3DApi&f=1\" width=\"150\" style=\"margin-left:auto; margin-right:auto\" />\n",
    "\n",
    "<br>\n",
    "\n",
    "## Walrus operátor\n",
    "\n",
    "---"
   ]
  },
  {
   "cell_type": "markdown",
   "metadata": {},
   "source": [
    "Jde o zápis, který ti umožní **dva procesy**, při použití **jednoho operátoru**:\n",
    "1. nejprve **hodnotu přiřadí** proměnné,\n",
    "2. přímo ji použije."
   ]
  },
  {
   "cell_type": "markdown",
   "metadata": {},
   "source": [
    "*Přiřazovací operátor* nebo jinak *walrus operátor* je formulace, která je v Pythonu poměrně nová (3.8+).\n",
    "\n",
    "<br>\n",
    "\n",
    "<img src=\"https://external-content.duckduckgo.com/iu/?u=https%3A%2F%2Ftse3.mm.bing.net%2Fth%3Fid%3DOIP.r9w05wm2Q3aDz0JQhKzdFQHaLH%26pid%3DApi&f=1&ipt=27bc4198fbf119d0e8a1f5612726a1ed133716846e38221ff883dd7e3ded06dd&ipo=images\" width=\"200\" style=\"margin-left:auto; margin-right:auto\" />"
   ]
  },
  {
   "cell_type": "markdown",
   "metadata": {},
   "source": [
    "### Vytvoření hodnoty a uložení\n",
    "\n",
    "---"
   ]
  },
  {
   "cell_type": "code",
   "execution_count": 19,
   "metadata": {},
   "outputs": [],
   "source": [
    "jmeno = \"Matous\""
   ]
  },
  {
   "cell_type": "code",
   "execution_count": 20,
   "metadata": {},
   "outputs": [
    {
     "name": "stdout",
     "output_type": "stream",
     "text": [
      "Matous\n"
     ]
    }
   ],
   "source": [
    "print(jmeno)"
   ]
  },
  {
   "cell_type": "code",
   "execution_count": 21,
   "metadata": {},
   "outputs": [
    {
     "name": "stdout",
     "output_type": "stream",
     "text": [
      "Matous\n"
     ]
    }
   ],
   "source": [
    "print(jmeno := \"Matous\")"
   ]
  },
  {
   "cell_type": "markdown",
   "metadata": {},
   "source": [
    "V předchozí ukázce jde čistě **o vysvětlivku**.\n",
    "\n",
    "**Proměnné** jinak nadále a přehledně zapis po jedné a pod sebe. :)\n",
    "\n",
    "Praktické ukázky skutečného využití najdeš níže."
   ]
  },
  {
   "cell_type": "markdown",
   "metadata": {},
   "source": [
    "### Kombinace s podmínkou\n",
    "\n",
    "---"
   ]
  },
  {
   "cell_type": "code",
   "execution_count": 23,
   "metadata": {},
   "outputs": [
    {
     "name": "stdin",
     "output_type": "stream",
     "text": [
      "ZAPIŠ JMÉNO:  Matouš\n"
     ]
    },
    {
     "name": "stdout",
     "output_type": "stream",
     "text": [
      "Toto je Matouš\n"
     ]
    }
   ],
   "source": [
    "jmeno = input(\"Zapiš jméno: \".upper())\n",
    "\n",
    "if jmeno == \"Matouš\":\n",
    "    print(\"Toto je \", jmeno, sep=\"\")\n",
    "else:\n",
    "    print(\"Tak \", jmeno, \", toho neznám.\", sep=\"\")"
   ]
  },
  {
   "cell_type": "markdown",
   "metadata": {},
   "source": [
    "<br>\n",
    "\n",
    "Obzvlášť v kombinaci se **zabudovanými funkce** a *uživatelskými funkcemi* je nápomocný.\n",
    "\n",
    "Zásadní je **doplnění kulatých závorek**, kterými *interpretu* zdůrazníš pořadí:"
   ]
  },
  {
   "cell_type": "code",
   "execution_count": 25,
   "metadata": {},
   "outputs": [
    {
     "name": "stdin",
     "output_type": "stream",
     "text": [
      "ZAPIŠ JMÉNO:  Matouš\n"
     ]
    },
    {
     "name": "stdout",
     "output_type": "stream",
     "text": [
      "Toto je Matouš\n"
     ]
    }
   ],
   "source": [
    "TEXT = \"Zapiš jméno: \".upper()\n",
    "\n",
    "if (jmeno := input(TEXT)) == \"Matouš\":\n",
    "    print(\"Toto je \", jmeno, sep=\"\")\n",
    "else:\n",
    "    print(\"Tak \", jmeno, \", toho neznám.\", sep=\"\")"
   ]
  },
  {
   "cell_type": "markdown",
   "metadata": {},
   "source": [
    "Pokud **zapomeneš kulaté závorky**, ohlášení **nemusí logicky pracovat**:"
   ]
  },
  {
   "cell_type": "code",
   "execution_count": 27,
   "metadata": {},
   "outputs": [
    {
     "name": "stdin",
     "output_type": "stream",
     "text": [
      "ZAPIŠ JMÉNO:  Matouš\n"
     ]
    },
    {
     "name": "stdout",
     "output_type": "stream",
     "text": [
      "Toto je True\n"
     ]
    }
   ],
   "source": [
    "TEXT = \"Zapiš jméno: \".upper()\n",
    "\n",
    "if jmeno := input(TEXT) == \"Matouš\":\n",
    "    print(\"Toto je \", jmeno, sep=\"\")\n",
    "else:\n",
    "    print(\"Tak \", jmeno, \", toho neznám.\", sep=\"\")"
   ]
  },
  {
   "cell_type": "markdown",
   "metadata": {},
   "source": [
    "Copak se stane:\n",
    "1. *Interpret* nejprve uloží vstup do funkce `input()`,\n",
    "2. následně vloženou hodnotu porovná,\n",
    "3. výsledek (`True`/ `False`) uloží do proměnné `jmeno`."
   ]
  },
  {
   "cell_type": "markdown",
   "metadata": {},
   "source": [
    "### Kombinace s cyklem while\n",
    "\n",
    "---"
   ]
  },
  {
   "cell_type": "markdown",
   "metadata": {},
   "source": [
    "Analogicky můžeš opsat celý postup také **bez přiřazovacího operátoru**:"
   ]
  },
  {
   "cell_type": "code",
   "execution_count": 28,
   "metadata": {},
   "outputs": [
    {
     "name": "stdin",
     "output_type": "stream",
     "text": [
      "Zapiš libovolný text [nebo 'q' pro ukončení]:  a\n"
     ]
    },
    {
     "name": "stdout",
     "output_type": "stream",
     "text": [
      "a\n"
     ]
    },
    {
     "name": "stdin",
     "output_type": "stream",
     "text": [
      "Zapiš libovolný text [nebo 'q' pro ukončení]:  b\n"
     ]
    },
    {
     "name": "stdout",
     "output_type": "stream",
     "text": [
      "b\n"
     ]
    },
    {
     "name": "stdin",
     "output_type": "stream",
     "text": [
      "Zapiš libovolný text [nebo 'q' pro ukončení]:  c\n"
     ]
    },
    {
     "name": "stdout",
     "output_type": "stream",
     "text": [
      "c\n"
     ]
    },
    {
     "name": "stdin",
     "output_type": "stream",
     "text": [
      "Zapiš libovolný text [nebo 'q' pro ukončení]:  d\n"
     ]
    },
    {
     "name": "stdout",
     "output_type": "stream",
     "text": [
      "d\n"
     ]
    },
    {
     "name": "stdin",
     "output_type": "stream",
     "text": [
      "Zapiš libovolný text [nebo 'q' pro ukončení]:  q\n"
     ]
    },
    {
     "name": "stdout",
     "output_type": "stream",
     "text": [
      "q\n",
      "Konec smyčky!\n"
     ]
    }
   ],
   "source": [
    "vstup = \"\"\n",
    "TEXT = \"Zapiš libovolný text [nebo 'q' pro ukončení]: \"\n",
    "\n",
    "while vstup != \"q\":\n",
    "    vstup = input(TEXT)\n",
    "    print(vstup)\n",
    "else:\n",
    "    print(\"Konec smyčky!\")"
   ]
  },
  {
   "cell_type": "markdown",
   "metadata": {},
   "source": [
    "<br>\n",
    "\n",
    "..s použitím *walrus operátoru*:"
   ]
  },
  {
   "cell_type": "code",
   "execution_count": 29,
   "metadata": {},
   "outputs": [
    {
     "name": "stdin",
     "output_type": "stream",
     "text": [
      "Zapiš libovolný text [nebo 'q' pro ukončení]:  a\n"
     ]
    },
    {
     "name": "stdout",
     "output_type": "stream",
     "text": [
      "a\n"
     ]
    },
    {
     "name": "stdin",
     "output_type": "stream",
     "text": [
      "Zapiš libovolný text [nebo 'q' pro ukončení]:  b\n"
     ]
    },
    {
     "name": "stdout",
     "output_type": "stream",
     "text": [
      "b\n"
     ]
    },
    {
     "name": "stdin",
     "output_type": "stream",
     "text": [
      "Zapiš libovolný text [nebo 'q' pro ukončení]:  c\n"
     ]
    },
    {
     "name": "stdout",
     "output_type": "stream",
     "text": [
      "c\n"
     ]
    },
    {
     "name": "stdin",
     "output_type": "stream",
     "text": [
      "Zapiš libovolný text [nebo 'q' pro ukončení]:  d\n"
     ]
    },
    {
     "name": "stdout",
     "output_type": "stream",
     "text": [
      "d\n"
     ]
    },
    {
     "name": "stdin",
     "output_type": "stream",
     "text": [
      "Zapiš libovolný text [nebo 'q' pro ukončení]:  q\n"
     ]
    },
    {
     "name": "stdout",
     "output_type": "stream",
     "text": [
      "q\n",
      "Konec smyčky!\n"
     ]
    }
   ],
   "source": [
    "TEXT = \"Zapiš libovolný text [nebo 'q' pro ukončení]: \"\n",
    "\n",
    "while (vstup := input(TEXT)) != \"q\":\n",
    "    print(vstup)\n",
    "else:\n",
    "    print(vstup, \"Konec smyčky!\", sep=\"\\n\")"
   ]
  },
  {
   "cell_type": "markdown",
   "metadata": {},
   "source": [
    "<br>\n",
    "\n",
    "#### 🧠 CVIČENÍ 🧠, Vyzkoušej si práci s `walrus` operátorem v kombinaci s `while` smyčkou:\n",
    "\n",
    "---"
   ]
  },
  {
   "cell_type": "markdown",
   "metadata": {},
   "source": [
    "1. Vem kód z předchozího cvičení,\n",
    "2. nahraď standardní přiřazení proměnné `produkt` přiřazením s použítím **walrus** operátoru,\n",
    "3. opět vypiš obsah proměnné `kosik`."
   ]
  },
  {
   "cell_type": "code",
   "execution_count": null,
   "metadata": {},
   "outputs": [],
   "source": [
    "kosik = list()\n",
    "komentar = \"VLOZ ZBOZI (ZAPIS 'quit' PRO UKONCENI):\"\n",
    "\n",
    "while (produkt := input(komentar)) != \"quit\":\n",
    "    kosik.append(produkt)\n",
    "    print('---')\n",
    "\n",
    "print(kosik)"
   ]
  },
  {
   "cell_type": "markdown",
   "metadata": {},
   "source": [
    "<details>\n",
    "  <summary>▶️  Klikni zde pro zobrazení řešení</summary>\n",
    "   \n",
    "```python\n",
    "kosik = list()\n",
    "TEXT = \"Zadej typ zboží [nebo 'hotovo' pro ukončení]: \"\n",
    "\n",
    "while (produkt := input(TEXT)) != \"hotovo\":\n",
    "    kosik.append(produkt)\n",
    "    print(produkt)\n",
    "    print(\"---\")\n",
    "\n",
    "print(kosik)\n",
    "```\n",
    "</details>"
   ]
  },
  {
   "cell_type": "markdown",
   "metadata": {},
   "source": [
    "Pokud ti tedy dovede operátor `:=` šikovně pomoct, **určitě jej využij**.\n",
    "    \n",
    "Není nutné jej **zneužívat** v situacích, kdy je zápis málo čitelný, nebo špatně pochopitelný.\n",
    "\n",
    "Opatrně na **verze**.\n",
    "\n",
    "Pokud vyvíjíš na jiném prostředí, než produkčním, můžeš zjistit, že **má starší verzi Pythonu** a *walrus* nemusí podporovat."
   ]
  },
  {
   "attachments": {},
   "cell_type": "markdown",
   "metadata": {},
   "source": [
    "<br>\n",
    "\n",
    "<img src=\"https://external-content.duckduckgo.com/iu/?u=https%3A%2F%2Ftse1.mm.bing.net%2Fth%2Fid%2FOIP.1rGdSu4UVk9T6eoUzr_CKwAAAA%3Fpid%3DApi&f=1&ipt=86b7122e6aeeb51a3745e07719a2d1bc47e0fad839c830d890a83b909bc96b61&ipo=images\" width=\"150\" style=\"margin-left:auto; margin-right:auto\" />\n",
    "\n",
    "\n",
    "\n",
    "## Zkrácené přiřazování\n",
    "\n",
    "---"
   ]
  },
  {
   "cell_type": "markdown",
   "metadata": {},
   "source": [
    "Jde o **kratší způsob** pro úpravu hodnoty v existující proměnné.\n",
    "\n",
    "Efektivnější není jen způsob zápisu, ale také způsob zpracování."
   ]
  },
  {
   "cell_type": "markdown",
   "metadata": {},
   "source": [
    "Doposud znáš tento zápis:\n",
    "1. **Vytvoříš hodnotu** v proměnné `x`,\n",
    "2. **upravíš hodnoty** v proměnné `x`,\n",
    "3. **použiješ** novou hodnotu `x`."
   ]
  },
  {
   "cell_type": "code",
   "execution_count": null,
   "metadata": {},
   "outputs": [],
   "source": [
    "# index = 0\n",
    "# index = index + 1"
   ]
  },
  {
   "cell_type": "code",
   "execution_count": 30,
   "metadata": {},
   "outputs": [],
   "source": [
    "x = 2"
   ]
  },
  {
   "cell_type": "code",
   "execution_count": 31,
   "metadata": {},
   "outputs": [],
   "source": [
    "x = x + 3  # 2 + 3"
   ]
  },
  {
   "cell_type": "code",
   "execution_count": 32,
   "metadata": {},
   "outputs": [
    {
     "name": "stdout",
     "output_type": "stream",
     "text": [
      "5\n"
     ]
    }
   ],
   "source": [
    "print(x)"
   ]
  },
  {
   "cell_type": "markdown",
   "metadata": {},
   "source": [
    "### Augmented assignment\n",
    "\n",
    "---\n",
    "\n",
    "Zkrácená varianta vypadá tak, že původní proměnnou `x` nepoužiješ a aritmetický operátor přesuneš přes rovnítko:"
   ]
  },
  {
   "cell_type": "code",
   "execution_count": 33,
   "metadata": {},
   "outputs": [],
   "source": [
    "x = 2"
   ]
  },
  {
   "cell_type": "code",
   "execution_count": 34,
   "metadata": {},
   "outputs": [],
   "source": [
    "x += 3"
   ]
  },
  {
   "cell_type": "code",
   "execution_count": 35,
   "metadata": {},
   "outputs": [
    {
     "name": "stdout",
     "output_type": "stream",
     "text": [
      "5\n"
     ]
    }
   ],
   "source": [
    "print(x)"
   ]
  },
  {
   "cell_type": "markdown",
   "metadata": {},
   "source": [
    "### Rozdíl\n",
    "\n",
    "---\n",
    "\n",
    "Pro tebe, jako uživatele, je tento zápis pouze o něco kratší.\n",
    "\n",
    "Vypadá odlišně, jinak je stejně zapsaný pomocí 3 řádků.\n",
    "\n",
    "V čem je tedy lepší?\n",
    "\n",
    "<br>"
   ]
  },
  {
   "cell_type": "code",
   "execution_count": 38,
   "metadata": {},
   "outputs": [
    {
     "name": "stdout",
     "output_type": "stream",
     "text": [
      "1\n",
      "2\n",
      "3\n",
      "4\n",
      "5\n"
     ]
    }
   ],
   "source": [
    "index = 1\n",
    "\n",
    "while index < 6:\n",
    "    print(index)\n",
    "    index += 1  # index = index + 1"
   ]
  },
  {
   "cell_type": "markdown",
   "metadata": {},
   "source": [
    "Lepší je z hlediska využití paměti.\n",
    "\n",
    "##### Klasický zápis rozdělený na jednotlivé kroky:\n",
    "1. Vytvoříš **novou hodnotu** a **uložíš ji** do proměnné,\n",
    "2. **načteš** původní hodnotu,\n",
    "3. **zvětšíš ji** o hodnotu 4,\n",
    "4. **uložíš** novou hodnotu,\n",
    "5. **vypíšeš ji**."
   ]
  },
  {
   "cell_type": "code",
   "execution_count": null,
   "metadata": {},
   "outputs": [],
   "source": [
    "x = 2"
   ]
  },
  {
   "cell_type": "code",
   "execution_count": null,
   "metadata": {},
   "outputs": [],
   "source": [
    "x = x + 3"
   ]
  },
  {
   "cell_type": "code",
   "execution_count": null,
   "metadata": {},
   "outputs": [],
   "source": [
    "print(x)"
   ]
  },
  {
   "cell_type": "markdown",
   "metadata": {},
   "source": [
    "##### Ve zkráceném zápise:\n",
    "1. Vytvoříš **novou hodnotu** a **uložím ji** do proměnné,\n",
    "2. **zvětšíš existující hodnotu**,\n",
    "3. **vypíšeš ji**."
   ]
  },
  {
   "cell_type": "code",
   "execution_count": null,
   "metadata": {},
   "outputs": [],
   "source": [
    "x = 2"
   ]
  },
  {
   "cell_type": "code",
   "execution_count": null,
   "metadata": {},
   "outputs": [],
   "source": [
    "x += 2"
   ]
  },
  {
   "cell_type": "code",
   "execution_count": null,
   "metadata": {},
   "outputs": [],
   "source": [
    "print(x)"
   ]
  },
  {
   "cell_type": "markdown",
   "metadata": {},
   "source": [
    "### Některé zkrácené operátory\n",
    "\n",
    "---\n",
    "\n",
    "| Původní operátor | Zkrácená varianta |\n",
    "| :-: | :-: |\n",
    "| `+` | `+=` |\n",
    "| `-` | `-=` |\n",
    "| `*` | `*=` |\n",
    "| `/` | `/=` |\n",
    "| `**` | `**=` |"
   ]
  },
  {
   "cell_type": "markdown",
   "metadata": {},
   "source": [
    "<br>\n",
    "\n",
    "<img src=\"https://external-content.duckduckgo.com/iu/?u=https%3A%2F%2Ftse1.mm.bing.net%2Fth%3Fid%3DOIP.yn3NMy-f9-hqQwXqFJ2AtwHaDt%26pid%3DApi&f=1&ipt=21b8ba84b48b23ddb2e3e0629a3748562777e0fbfa04fa9346da57b607ca5c08&ipo=images\" width=\"300\" style=\"margin-left:auto; margin-right:auto\" />\n",
    "\n",
    "\n",
    "\n",
    "## Souhrn úvodu smyček\n",
    "\n",
    "---"
   ]
  },
  {
   "cell_type": "markdown",
   "metadata": {},
   "source": [
    "Nyní máš za sebou stručný úvod do problematiky **iterátorů**. Jaké pojmy jsou tedy zásadní."
   ]
  },
  {
   "cell_type": "markdown",
   "metadata": {},
   "source": [
    "#### Iterable\n",
    "\n",
    "---\n",
    "Anglické ozn., které představuje **takový objekt**, který umí vytvořit *iterátor* (pomůcka zab. funkce `iter()`)."
   ]
  },
  {
   "cell_type": "markdown",
   "metadata": {},
   "source": [
    "#### Iterator\n",
    "\n",
    "---\n",
    "Anglické ozn., které představuje tzv. **iterátor**. Tedy objekt, který dovede podávat jednotlivé hodnoty (pomocí funkce `next()`)."
   ]
  },
  {
   "cell_type": "markdown",
   "metadata": {},
   "source": [
    "#### Iteration\n",
    "\n",
    "---\n",
    "Anglické ozn., které představuje proces **iterace**. Což je proces, který postupně prochází hodnoty. Krok za krokem."
   ]
  },
  {
   "cell_type": "markdown",
   "metadata": {},
   "source": [
    "### FOR vs. WHILE smyčka\n",
    "\n",
    "---\n",
    "\n",
    "Kdy máš vybrat co, lze popsat jako:\n",
    "1. Pokud potřebuješ *iterovat* (~procházet) hodnotu od začátku do konce (tedy přes všechny hodnoty), použij `for`,\n",
    "2. pokud potřebuješ *iterovat*, dokud platí nějaké kritérium, použij `while`.\n",
    "\n",
    "<br>"
   ]
  },
  {
   "cell_type": "markdown",
   "metadata": {},
   "source": [
    "Smyčku s `while` použiješ pokud:\n",
    "* nevíš přesný počet opakování, který chceš provést,\n",
    "* budeš tedy smyčku chtít opakovat, dokud je splněna určitá podmínka.\n",
    "\n",
    "<br>"
   ]
  },
  {
   "cell_type": "markdown",
   "metadata": {},
   "source": [
    "Smyčku s `for` použiješ pokud:\n",
    "* máš kolekci prvků a chceš provádět určité akce pro každý prvek v kolekci,\n",
    "* znáš počet opakování (velikost kolekce), kterými chceš projít."
   ]
  },
  {
   "cell_type": "markdown",
   "metadata": {},
   "source": [
    "➡️ ➡️ **Formulář pro Tvoje hodnocení** [**čtvrté lekce**](https://forms.gle/onWSD3XiFqgP4w346) ⬅️ ⬅️"
   ]
  },
  {
   "cell_type": "markdown",
   "metadata": {},
   "source": [
    "<br>\n",
    "\n",
    "<img src=\"https://external-content.duckduckgo.com/iu/?u=https%3A%2F%2Ftse1.mm.bing.net%2Fth%3Fid%3DOIP.b7SnnLRXG2WiF98q1Dzp1gHaHN%26pid%3DApi&f=1&ipt=adbdd762327457e58a645b8fe9a7537ba63eef6ee1af682f4935eda3bbda36a7&ipo=images\" width=\"200\" style=\"margin-left:auto; margin-right:auto\" />\n",
    "\n",
    "\n",
    "\n",
    "## Comprehensions\n",
    "\n",
    "---"
   ]
  },
  {
   "cell_type": "markdown",
   "metadata": {},
   "source": [
    "Jde o proces, kdy můžeš **kratším a kompaktnějším** zápisem zkombinovat:\n",
    "1. `for` cyklus,\n",
    "2. jednodušší podmínky (!),\n",
    "3. okamžitě plnit nové hodnoty daty."
   ]
  },
  {
   "cell_type": "markdown",
   "metadata": {},
   "source": [
    "Jde prakticky **o nejpoužívanější prvek** v Pythonu vůbec, který používá naprostá většina programátorů."
   ]
  },
  {
   "cell_type": "markdown",
   "metadata": {},
   "source": [
    "### List comprehensions\n",
    "\n",
    "---\n",
    "\n",
    "Zápis klasické smyčky `for`:"
   ]
  },
  {
   "cell_type": "code",
   "execution_count": 39,
   "metadata": {},
   "outputs": [],
   "source": [
    "dvojnasobek = list()"
   ]
  },
  {
   "cell_type": "code",
   "execution_count": 40,
   "metadata": {},
   "outputs": [],
   "source": [
    "for cislo in range(6):\n",
    "    dvojnasobek.append(cislo * 2)"
   ]
  },
  {
   "cell_type": "code",
   "execution_count": 41,
   "metadata": {},
   "outputs": [
    {
     "name": "stdout",
     "output_type": "stream",
     "text": [
      "[0, 2, 4, 6, 8, 10]\n"
     ]
    }
   ],
   "source": [
    "print(dvojnasobek)"
   ]
  },
  {
   "cell_type": "markdown",
   "metadata": {},
   "source": [
    "<br>\n",
    "\n",
    "V tomto případě je možné zapsat *list comprehension*:"
   ]
  },
  {
   "cell_type": "code",
   "execution_count": 42,
   "metadata": {},
   "outputs": [],
   "source": [
    "dvojnasobek = [cislo * 2 for cislo in range(6)]"
   ]
  },
  {
   "cell_type": "code",
   "execution_count": 43,
   "metadata": {},
   "outputs": [
    {
     "name": "stdout",
     "output_type": "stream",
     "text": [
      "[0, 2, 4, 6, 8, 10]\n"
     ]
    }
   ],
   "source": [
    "print(dvojnasobek)"
   ]
  },
  {
   "cell_type": "markdown",
   "metadata": {},
   "source": [
    "<br>\n",
    "\n",
    "V kombinaci s větví `if `:"
   ]
  },
  {
   "cell_type": "code",
   "execution_count": 44,
   "metadata": {},
   "outputs": [],
   "source": [
    "data = [1, 2, 3, \"a\", 5, 6, \"@\", \"7\", 7]"
   ]
  },
  {
   "cell_type": "markdown",
   "metadata": {},
   "source": [
    "Pokud je zápis v závorce delší a **málo přehledný**:"
   ]
  },
  {
   "cell_type": "code",
   "execution_count": 45,
   "metadata": {},
   "outputs": [],
   "source": [
    "dvojnasobek = [cislo * 2\n",
    "               for cislo in data\n",
    "               if isinstance(cislo, int)]"
   ]
  },
  {
   "cell_type": "code",
   "execution_count": 46,
   "metadata": {},
   "outputs": [
    {
     "name": "stdout",
     "output_type": "stream",
     "text": [
      "[2, 4, 6, 10, 12, 14]\n"
     ]
    }
   ],
   "source": [
    "print(dvojnasobek)"
   ]
  },
  {
   "cell_type": "markdown",
   "metadata": {},
   "source": [
    "<br>\n",
    "\n",
    "Pokud změním zápis podmínky v rámci *list comprehension*:"
   ]
  },
  {
   "cell_type": "code",
   "execution_count": 47,
   "metadata": {},
   "outputs": [],
   "source": [
    "pismena = ['a', 'b', 'a', 'c', 'd', 'a']"
   ]
  },
  {
   "cell_type": "code",
   "execution_count": 54,
   "metadata": {},
   "outputs": [],
   "source": [
    "jenom_acka = [pismeno.upper()\n",
    "              for pismeno in pismena\n",
    "              if pismeno == 'a']"
   ]
  },
  {
   "cell_type": "code",
   "execution_count": 55,
   "metadata": {},
   "outputs": [
    {
     "name": "stdout",
     "output_type": "stream",
     "text": [
      "['A', 'A', 'A']\n"
     ]
    }
   ],
   "source": [
    "print(jenom_acka)"
   ]
  },
  {
   "cell_type": "code",
   "execution_count": null,
   "metadata": {},
   "outputs": [],
   "source": [
    "dvojnasobek = list()\n",
    "data = [1, 2, 3, \"a\", 5, 6, \"@\", \"7\", 7]\n",
    "\n",
    "for cislo in data:\n",
    "    if isinstance(cislo, int):\n",
    "        dvojnasobek.append(cislo * 2)"
   ]
  },
  {
   "cell_type": "markdown",
   "metadata": {},
   "source": [
    "**Obecný vzorec** tedy vypadá jako:\n",
    "```\n",
    " vysledna_promenna = [\n",
    "     <hodnota>\n",
    "     <for_smycka>\n",
    "     <podminka>\n",
    "]\n",
    "```"
   ]
  },
  {
   "cell_type": "markdown",
   "metadata": {},
   "source": [
    "### Dict comprehensions\n",
    "\n",
    "---"
   ]
  },
  {
   "cell_type": "markdown",
   "metadata": {},
   "source": [
    "*Comprehensions* můžeš skládat také **ze slovníků**:"
   ]
  },
  {
   "cell_type": "code",
   "execution_count": 56,
   "metadata": {},
   "outputs": [],
   "source": [
    "obyvatele = {\"Praha\": 1_335_084, \n",
    "             \"Brno\": 382_405, \n",
    "             \"Ostrava\": 284_982,\n",
    "             \"Plzen\": 175_219, \n",
    "             \"Liberec\": 104_261}"
   ]
  },
  {
   "cell_type": "code",
   "execution_count": 59,
   "metadata": {},
   "outputs": [],
   "source": [
    "velka_mesta = {klic.upper(): hodnota\n",
    "               for klic, hodnota in obyvatele.items()\n",
    "               if hodnota > 200_000}"
   ]
  },
  {
   "cell_type": "code",
   "execution_count": 60,
   "metadata": {},
   "outputs": [
    {
     "name": "stdout",
     "output_type": "stream",
     "text": [
      "{'PRAHA': 1335084, 'BRNO': 382405, 'OSTRAVA': 284982}\n"
     ]
    }
   ],
   "source": [
    "print(velka_mesta)"
   ]
  },
  {
   "cell_type": "code",
   "execution_count": 57,
   "metadata": {},
   "outputs": [],
   "source": [
    "velka_mesta = dict()\n",
    "\n",
    "for klic, hodnota in obyvatele.items():\n",
    "    if hodnota > 200_000:\n",
    "        velka_mesta[klic.upper()] = hodnota"
   ]
  },
  {
   "cell_type": "code",
   "execution_count": 58,
   "metadata": {},
   "outputs": [
    {
     "name": "stdout",
     "output_type": "stream",
     "text": [
      "{'PRAHA': 1335084, 'BRNO': 382405, 'OSTRAVA': 284982}\n"
     ]
    }
   ],
   "source": [
    "print(velka_mesta)"
   ]
  },
  {
   "cell_type": "markdown",
   "metadata": {},
   "source": [
    "<br>\n",
    "\n",
    "Podmínka **o dvou větvích**:"
   ]
  },
  {
   "cell_type": "code",
   "execution_count": 61,
   "metadata": {},
   "outputs": [],
   "source": [
    "lego_ceny = {\"7104: Desert Skiff\": {\"cena_$\": 6, \"rok_vydani\": \"2000\"},\n",
    "             \"7190: Millennium Falcon\": {\"cena_$\": 100, \"rok_vydani\": \"2000\"},\n",
    "             \"75044: Droid Tri-Fighter\": {\"cena_$\": 30, \"rok_vydani\": \"2015\"}}"
   ]
  },
  {
   "cell_type": "code",
   "execution_count": 62,
   "metadata": {},
   "outputs": [],
   "source": [
    "ceny_s_inflaci = {\n",
    "    jmeno: (hodnoty[\"cena_$\"] * 2.27\n",
    "            if hodnoty[\"rok_vydani\"] == \"2000\"\n",
    "            else hodnoty[\"cena_$\"] * 2.51)\n",
    "    for jmeno, hodnoty in lego_ceny.items()\n",
    "}"
   ]
  },
  {
   "cell_type": "code",
   "execution_count": 63,
   "metadata": {},
   "outputs": [
    {
     "name": "stdout",
     "output_type": "stream",
     "text": [
      "{'7104: Desert Skiff': 13.620000000000001, '7190: Millennium Falcon': 227.0, '75044: Droid Tri-Fighter': 75.3}\n"
     ]
    }
   ],
   "source": [
    "print(ceny_s_inflaci)"
   ]
  },
  {
   "cell_type": "markdown",
   "metadata": {},
   "source": [
    "<br>\n",
    "\n",
    "Dbej na čitelnost.\n",
    "\n",
    "Jakmile přestává být *comprehension* přehledná a pochopitelná, dost často je to indikátor, že chceš pracovat **s klasickou smyčkou**."
   ]
  },
  {
   "cell_type": "code",
   "execution_count": 64,
   "metadata": {},
   "outputs": [],
   "source": [
    "ceny_s_infl = dict()\n",
    "\n",
    "for jmeno, hodnoty in lego_ceny.items():\n",
    "    if hodnoty[\"rok_vydani\"] == \"2000\":\n",
    "        ceny_s_infl[jmeno] = hodnoty[\"cena_$\"] * 2.27\n",
    "    else:\n",
    "        ceny_s_infl[jmeno] = hodnoty[\"cena_$\"] * 2.51"
   ]
  },
  {
   "cell_type": "code",
   "execution_count": 65,
   "metadata": {},
   "outputs": [
    {
     "name": "stdout",
     "output_type": "stream",
     "text": [
      "{'7104: Desert Skiff': 13.620000000000001, '7190: Millennium Falcon': 227.0, '75044: Droid Tri-Fighter': 75.3}\n"
     ]
    }
   ],
   "source": [
    "print(ceny_s_infl)"
   ]
  },
  {
   "cell_type": "markdown",
   "metadata": {},
   "source": [
    "<br>\n",
    "\n",
    "### Set comprehensions\n",
    "\n",
    "---"
   ]
  },
  {
   "cell_type": "code",
   "execution_count": null,
   "metadata": {},
   "outputs": [],
   "source": [
    "ziskane_adresy = {\"me@matousholinka.com\", \"petr@svetr.com\", \"lukas@gmail.com\", \"nan_email\"}"
   ]
  },
  {
   "cell_type": "code",
   "execution_count": null,
   "metadata": {},
   "outputs": [],
   "source": [
    "domeny = {\n",
    "    adresa.split(\"@\")[1]\n",
    "    for adresa in ziskane_adresy\n",
    "    if \"@\" in adresa\n",
    "}"
   ]
  },
  {
   "cell_type": "code",
   "execution_count": null,
   "metadata": {},
   "outputs": [],
   "source": [
    "print(domeny)"
   ]
  },
  {
   "cell_type": "code",
   "execution_count": null,
   "metadata": {},
   "outputs": [],
   "source": [
    "domeny = set()\n",
    "\n",
    "for adresa in ziskane_adresy:\n",
    "    if \"@\" in adresa:\n",
    "        domeny.add(adresa.split(\"@\")[1])"
   ]
  },
  {
   "cell_type": "code",
   "execution_count": null,
   "metadata": {},
   "outputs": [],
   "source": [
    "print(domeny)"
   ]
  },
  {
   "cell_type": "markdown",
   "metadata": {},
   "source": [
    "### Nestovaná komprehence\n",
    "\n",
    "---"
   ]
  },
  {
   "cell_type": "markdown",
   "metadata": {},
   "source": [
    "Nakonec ještě ukázkat nestované *comprehensions*.\n",
    "\n",
    "Tady je potřeba si zápis prohlédnout a zamyslet se, jestli je dostatečně **pochopitelný a čitelný** (obecně).\n",
    "\n",
    "Je totiž k ničemu, pokud zapíšeš **nadupanou smyčku**, kterou budeš někomu *koktavě vysvětlovat*, nebo si o nějaký týden později neuvědomíš, co má tebou napsaná smyčka, vůbec dělat:"
   ]
  },
  {
   "cell_type": "code",
   "execution_count": null,
   "metadata": {},
   "outputs": [],
   "source": [
    "data = [\n",
    "    [\"jméno\", \"přijmení\", \"email\", \"projekt\"],\n",
    "    [\"Lucie\", \"Nováková\", \"lucie.novakova@seznam.cz\", \"projekt_a\"],\n",
    "    [\"Petr\", \"Svetr\", \"petr.svetr@gmail.com\", \"projekt_b\"]\n",
    "]"
   ]
  },
  {
   "cell_type": "code",
   "execution_count": null,
   "metadata": {},
   "outputs": [],
   "source": [
    "hledana_jmena = [\n",
    "    bunka\n",
    "    for radek in data\n",
    "    for bunka in radek\n",
    "    if \"_\" in bunka\n",
    "]"
   ]
  },
  {
   "cell_type": "code",
   "execution_count": null,
   "metadata": {},
   "outputs": [],
   "source": [
    "print(hledana_jmena)"
   ]
  },
  {
   "cell_type": "code",
   "execution_count": null,
   "metadata": {},
   "outputs": [],
   "source": [
    "hledana_jmena = list()\n",
    "\n",
    "for radek in data:\n",
    "    for bunka in radek:\n",
    "        if \"_\" in bunka:\n",
    "            hledana_jmena.append(bunka)"
   ]
  },
  {
   "cell_type": "code",
   "execution_count": null,
   "metadata": {},
   "outputs": [],
   "source": [
    "print(hledana_jmena)"
   ]
  },
  {
   "cell_type": "markdown",
   "metadata": {},
   "source": [
    "<br>\n",
    "\n",
    "<img src=\"https://external-content.duckduckgo.com/iu/?u=https%3A%2F%2Ftse1.mm.bing.net%2Fth%3Fid%3DOIP.O9EkosTHP3lmEAvzA3D-2QHaHa%26pid%3DApi&f=1\" width=\"200\" />\n",
    "\n",
    "\n",
    "\n",
    "## Domácí úkol\n",
    "\n",
    "---"
   ]
  },
  {
   "cell_type": "markdown",
   "metadata": {},
   "source": [
    "<br>\n",
    "\n",
    "##### Zadání\n",
    "\n",
    "Tvým úkolem bude odstraňovat písmena ze zadaného seznamu pomocí funkce `input`:\n",
    "```python\n",
    "pismena = [\"a\", \"a\", \"b\", \"c\", \"d\", \"a\", \"e\", \"g\", \"m\"]\n",
    "```\n",
    "\n",
    "Jakmile budou všechna písmena odstraněná, vypíše tvůj program:\n",
    "```python\n",
    "Seznam je prázdný!\n",
    "```\n",
    "\n",
    "Pokud zapíšeš písmeno, které v zadaném seznamu není, dostaneš upozornění:\n",
    "```python\n",
    "x není součástí písmen!\n",
    "```\n",
    "\n",
    "Průběh může vypadat následovně:\n",
    "```python\n",
    "Začátek: ['a', 'a', 'b', 'c', 'd', 'a', 'e', 'g', 'm']\n",
    "ktere písmeno chceš vyhodit? a\n",
    "Zbývají písmena ['a', 'b', 'c', 'd', 'a', 'e', 'g', 'm']\n",
    "ktere písmeno chceš vyhodit? a\n",
    "Zbývají písmena ['b', 'c', 'd', 'a', 'e', 'g', 'm']\n",
    "ktere písmeno chceš vyhodit? a\n",
    "Zbývají písmena ['b', 'c', 'd', 'e', 'g', 'm']\n",
    "ktere písmeno chceš vyhodit? b\n",
    "Zbývají písmena ['c', 'd', 'e', 'g', 'm']\n",
    "ktere písmeno chceš vyhodit? c\n",
    "Zbývají písmena ['d', 'e', 'g', 'm']\n",
    "ktere písmeno chceš vyhodit? d\n",
    "Zbývají písmena ['e', 'g', 'm']\n",
    "ktere písmeno chceš vyhodit? e\n",
    "Zbývají písmena ['g', 'm']\n",
    "ktere písmeno chceš vyhodit? x\n",
    "x není součástí písmen!\n",
    "ktere písmeno chceš vyhodit? g\n",
    "Zbývají písmena ['m']\n",
    "ktere písmeno chceš vyhodit? m\n",
    "Seznam je prázdný!\n",
    "```"
   ]
  },
  {
   "cell_type": "code",
   "execution_count": null,
   "metadata": {},
   "outputs": [],
   "source": [
    "help(list.remove)"
   ]
  },
  {
   "cell_type": "code",
   "execution_count": null,
   "metadata": {},
   "outputs": [],
   "source": [
    "pismena = [\"a\", \"a\", \"b\", \"c\", \"d\", \"a\", \"e\", \"g\", \"m\"]"
   ]
  },
  {
   "cell_type": "markdown",
   "metadata": {},
   "source": [
    "<details>\n",
    "  <summary>▶️  Klikni zde pro zobrazení řešení</summary>\n",
    "   \n",
    "```python\n",
    "pismena = [\"a\", \"a\", \"b\", \"c\", \"d\", \"a\", \"e\", \"g\", \"m\"]\n",
    "\n",
    "while pismena:\n",
    "    print(\", \".join(pismena))\n",
    "    \n",
    "    zadani = input(\"ktere písmeno chceš vyhodit?\")\n",
    "    \n",
    "    if zadani not in pismena:\n",
    "        print(zadani + \" není součástí písmen!\")\n",
    "    else:\n",
    "        pismena.remove(zadani)\n",
    "\n",
    "else:\n",
    "    print(\"Konec hry!\")\n",
    "```\n",
    "</details>"
   ]
  },
  {
   "cell_type": "markdown",
   "metadata": {},
   "source": [
    "---"
   ]
  }
 ],
 "metadata": {
  "kernelspec": {
   "display_name": "Python 3 (ipykernel)",
   "language": "python",
   "name": "python3"
  },
  "language_info": {
   "codemirror_mode": {
    "name": "ipython",
    "version": 3
   },
   "file_extension": ".py",
   "mimetype": "text/x-python",
   "name": "python",
   "nbconvert_exporter": "python",
   "pygments_lexer": "ipython3",
   "version": "3.8.10"
  }
 },
 "nbformat": 4,
 "nbformat_minor": 4
}
