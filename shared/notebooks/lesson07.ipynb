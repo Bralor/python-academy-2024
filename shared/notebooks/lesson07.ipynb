{
 "cells": [
  {
   "cell_type": "markdown",
   "metadata": {},
   "source": [
    "# Python akademie\n",
    "\n",
    "---"
   ]
  },
  {
   "cell_type": "markdown",
   "metadata": {},
   "source": [
    "## Obsah lekce\n",
    "---\n",
    "\n",
    "1. [Obecně k funkcím v Pythonu](#Obecně-k-funkcím-v-Pythonu),\n",
    "2. [zápis uživatelských funkcí](),\n",
    "3. [vstupy funkcí](#Vstupy-funkcí),\n",
    "4. [dokumentace funkcí](#Dokumentace-funkcí),\n",
    "5. [co je \\_\\_name\\_\\_](#Co-je-__name__),\n",
    "5. [vícenásobné přiřazování](#).\n",
    "\n",
    "---"
   ]
  },
  {
   "cell_type": "markdown",
   "metadata": {},
   "source": [
    "<br>\n",
    "\n",
    "<img src=\"https://external-content.duckduckgo.com/iu/?u=https%3A%2F%2Ftse1.mm.bing.net%2Fth%3Fid%3DOIP.50tQvVlVwtVFceew6tmZWgHaHa%26pid%3DApi&f=1&ipt=a9d603c0ed3f44eae11a95794d95f926d86054b4838f2ce663fbee5d1a8a3d42&ipo=images\" width=\"150\" style=\"margin-left:auto; margin-right:auto\"/>\n",
    "\n",
    "## Obecně k funkcím v Pythonu\n",
    "\n",
    "---"
   ]
  },
  {
   "cell_type": "markdown",
   "metadata": {},
   "source": [
    "V Pythonu už některé *funkce* znáš a umíš je používat.\n",
    "\n",
    "Třeba funkce `print` a `enumerate`:"
   ]
  },
  {
   "cell_type": "code",
   "execution_count": null,
   "metadata": {},
   "outputs": [],
   "source": [
    "print(\"Praha\", \"Brno\", \"Ostrava\")"
   ]
  },
  {
   "cell_type": "code",
   "execution_count": null,
   "metadata": {},
   "outputs": [],
   "source": [
    "print(tuple(enumerate((\"Praha\", \"Brno\", \"Ostrava\"))))"
   ]
  },
  {
   "cell_type": "markdown",
   "metadata": {},
   "source": [
    "<br>\n",
    "\n",
    "Obecné rozdělení **funkcí v Pythonu**:\n",
    "1. **Zabudované funkce**, (z angl. *built-in functions*), tedy `print`, `input`, `str`, `int`, `bool`, aj. ,\n",
    "2. **Uživatelské funkce**, (z angl. *user-defined functions*), klíčové slovo `def`.\n",
    "\n",
    "<br>\n",
    "\n",
    "Největší rozdíl mezi **zabudovanými** a **uživatelskými funkcemi** je v tom, že *zabudované funkce* stačí **spustit pomocí jejich jména**.\n",
    "\n",
    "Zatímco *uživatelskou funkci* je nejprve nutné **definovat** (vytvořit) a teprve poté **použít** (spustit)."
   ]
  },
  {
   "cell_type": "markdown",
   "metadata": {},
   "source": [
    "<br>\n",
    "\n",
    "### Zabudované funkce\n",
    "\n",
    "---\n",
    "Tyto funkce jsou velkými pomocníky, protože ti umožní zjednodušit různé procesy."
   ]
  },
  {
   "cell_type": "code",
   "execution_count": null,
   "metadata": {},
   "outputs": [],
   "source": [
    "jmena = enumerate(('Matouš', 'Lukáš'))"
   ]
  },
  {
   "cell_type": "markdown",
   "metadata": {},
   "source": [
    "Navíc můžeš jejich použití **doplnit volitelnými argumenty**.\n",
    "\n",
    "*Volitelný argument* je objekt, který můžeš (ale nemusíš) zadávat.\n",
    "\n",
    "Funkce umí pracovat bez něj, případně má dopředu nachystanou nějakou **počáteční hodnotu**."
   ]
  },
  {
   "cell_type": "code",
   "execution_count": null,
   "metadata": {},
   "outputs": [],
   "source": [
    "# Jak začít číslovat \"enumerate\" objekt od 0\n",
    "print(tuple(enumerate(('Matouš', 'Lukáš'))))"
   ]
  },
  {
   "cell_type": "code",
   "execution_count": null,
   "metadata": {},
   "outputs": [],
   "source": [
    "# print(help(enumerate))"
   ]
  },
  {
   "cell_type": "code",
   "execution_count": null,
   "metadata": {},
   "outputs": [],
   "source": [
    "# Jak začít číslovat \"enumerate\" objekt od 1\n",
    "print(tuple(enumerate(('Matouš', 'Lukáš'), start=10)))"
   ]
  },
  {
   "cell_type": "markdown",
   "metadata": {},
   "source": [
    "<br>\n",
    "\n",
    "Pokud funkci `print` napíšeš **bez argumentů**, s několika různými hodnotami za sebou, tvůj výstup se seřadí za sebe.\n",
    "\n",
    "Zobraz si nápovědu pomocí ohlášení `help(print)`:"
   ]
  },
  {
   "cell_type": "code",
   "execution_count": null,
   "metadata": {},
   "outputs": [],
   "source": [
    "print(\"Matous\", \"Marek\", \"Lukas\")"
   ]
  },
  {
   "cell_type": "code",
   "execution_count": null,
   "metadata": {},
   "outputs": [],
   "source": [
    "print(help(print))"
   ]
  },
  {
   "cell_type": "markdown",
   "metadata": {},
   "source": [
    "<br>\n",
    "\n",
    "Všimni si, že **argument** `sep` má přednastavenou defaultní hodnotu – mezeru.\n",
    "\n",
    "Proto jsou jednotlivé hodnoty řazené s mezerou za sebou.\n",
    "\n",
    "\n",
    "Tuto hodnotu můžeš přepsat podle svých potřeb. Například vypsat jednotlivé hodnoty **pod sebe** pomocí speciálního znaku `\\n`:"
   ]
  },
  {
   "cell_type": "code",
   "execution_count": null,
   "metadata": {},
   "outputs": [],
   "source": [
    "print(\"Matous\", \"Marek\", \"Lukas\", sep='\\n')"
   ]
  },
  {
   "cell_type": "markdown",
   "metadata": {},
   "source": [
    "<br>\n",
    "\n",
    "*Volitelné argumenty* můžeš používat téměř u všech **zabudovaných funkcí**.\n",
    "\n",
    "Proto pokud budeš potřebovat pracovat s **zabudovanými funkcemi** vždy zkontroluj, jestli neobsahují nějaký nepovinný argument, který ti pomůže.\n"
   ]
  },
  {
   "cell_type": "markdown",
   "metadata": {},
   "source": [
    "<br>\n",
    "\n",
    "<img src=\"https://external-content.duckduckgo.com/iu/?u=https%3A%2F%2Ftse1.mm.bing.net%2Fth%3Fid%3DOIP.SdA4GDooZXTMbDZDgDA6aQAAAA%26pid%3DApi&f=1\" width=\"150\" style=\"margin-left:auto; margin-right:auto\">\n",
    "\n",
    "## Uživatelské funkce\n",
    "\n",
    "---"
   ]
  },
  {
   "cell_type": "markdown",
   "metadata": {},
   "source": [
    "Můžeš se dostat do situace, kdy žádná z nabízených *zabudovaných funkcí* nedělá přesně to, co potřebuješ.\n",
    "\n",
    "V takovém případě potřebuješ vytvořit vlastní funkci, která ti bude umět pomoct.\n",
    "\n",
    "<br>\n",
    "\n",
    "Tvůj úkol je napsat proces, který sečte **všechny číselné hodnoty** uvnitř sekvence."
   ]
  },
  {
   "cell_type": "code",
   "execution_count": null,
   "metadata": {},
   "outputs": [],
   "source": [
    "ciselna_rada = (1, 2, 3, 4)"
   ]
  },
  {
   "cell_type": "code",
   "execution_count": null,
   "metadata": {},
   "outputs": [],
   "source": [
    "print(sum(ciselna_rada))"
   ]
  },
  {
   "cell_type": "markdown",
   "metadata": {},
   "source": [
    "Pomocí zabudované funkce `sum` to není žádný problém.\n",
    "\n",
    "<br>"
   ]
  },
  {
   "cell_type": "markdown",
   "metadata": {},
   "source": [
    "Co když sekvence obsahuje **neočekávaný datový typ**:"
   ]
  },
  {
   "cell_type": "code",
   "execution_count": null,
   "metadata": {},
   "outputs": [],
   "source": [
    "ciselna_rada = (1, 2, 3, \"pět\", 6)"
   ]
  },
  {
   "cell_type": "code",
   "execution_count": null,
   "metadata": {},
   "outputs": [],
   "source": [
    "print(sum(ciselna_rada))"
   ]
  },
  {
   "cell_type": "code",
   "execution_count": null,
   "metadata": {},
   "outputs": [],
   "source": [
    "soucet_cisel = 0"
   ]
  },
  {
   "cell_type": "code",
   "execution_count": null,
   "metadata": {},
   "outputs": [],
   "source": [
    "print(isinstance(\"M\", list))"
   ]
  },
  {
   "cell_type": "code",
   "execution_count": null,
   "metadata": {},
   "outputs": [],
   "source": [
    "for cislo in ciselna_rada:\n",
    "    if isinstance(cislo, str) and not cislo.isnumeric():\n",
    "        continue\n",
    "    soucet_cisel += int(cislo)\n",
    "else:\n",
    "    print(soucet_cisel)"
   ]
  },
  {
   "cell_type": "markdown",
   "metadata": {},
   "source": [
    "<br>\n",
    "\n",
    "Co když ale dostaneš **pět různých sekvencí**?\n",
    "\n",
    "Můžeš samozřejmě přepsat zápis pro každou sekvenci zvlášť.\n",
    "\n",
    "Ale co když těch sekvencí bude **100**, **10 000**?\n",
    "\n",
    "Právě proto existují **uživatelské funkce**, kterou stačí **jedenkrát definovat** a následně spouštět kolikrát potřebuješ:"
   ]
  },
  {
   "cell_type": "code",
   "execution_count": null,
   "metadata": {},
   "outputs": [],
   "source": [
    "# Zatím neznámá syntaxe\n",
    "def secti_vsechny_cisla(sekvence):\n",
    "    soucet_cisel = 0\n",
    "\n",
    "    for cislo in sekvence:\n",
    "        if isinstance(cislo, str) and not cislo.isnumeric():\n",
    "            continue\n",
    "        soucet_cisel += int(cislo)\n",
    "    else:\n",
    "        print(soucet_cisel)"
   ]
  },
  {
   "cell_type": "code",
   "execution_count": null,
   "metadata": {},
   "outputs": [],
   "source": [
    "ciselna_r_1 = (1, 2, 3, \"a\")\n",
    "ciselna_r_2 = (1, 2, 3, 4)\n",
    "ciselna_r_3 = (5, 6, 7, 8)\n",
    "ciselna_r_4 = (9, 10, 11, 12)\n",
    "ciselna_r_5 = (\"sto\", 200, 300)"
   ]
  },
  {
   "cell_type": "code",
   "execution_count": null,
   "metadata": {},
   "outputs": [],
   "source": [
    "secti_vsechny_cisla(ciselna_r_1)\n",
    "secti_vsechny_cisla(ciselna_r_2)\n",
    "secti_vsechny_cisla(ciselna_r_3)\n",
    "secti_vsechny_cisla(ciselna_r_4)\n",
    "secti_vsechny_cisla(ciselna_r_5)"
   ]
  },
  {
   "cell_type": "markdown",
   "metadata": {},
   "source": [
    "Ukázku výše **nemusíš nyní chápat**.\n",
    "\n",
    "Je tu hlavně pro ilustraci, jak je důležité mít uživatelské funkce."
   ]
  },
  {
   "cell_type": "markdown",
   "metadata": {},
   "source": [
    "<img src=\"https://external-content.duckduckgo.com/iu/?u=https%3A%2F%2Ftse4.mm.bing.net%2Fth%3Fid%3DOIP.zQJEQEbVVbu2Fh8wQgPyEwHaGv%26pid%3DApi&f=1&ipt=23162684677d95a2283e1659fe266bd09c2b8909726510adaa084be6204c0a85&ipo=images\" width=\"150\" style=\"margin-left:auto; margin-right:auto\">"
   ]
  },
  {
   "cell_type": "markdown",
   "metadata": {},
   "source": [
    "## Používání uživatelských funkcí\n",
    "\n",
    "---\n",
    "\n",
    "Jak tedy *uživatelskou funkci* správně používat?\n",
    "\n",
    "Z jakých kroků se správné použití skládá?\n",
    "\n",
    "<br>\n",
    "\n",
    "Nejprve musíš funkci:\n",
    "1. 📃 Jednou **definovat** (*vytvořit*),\n",
    "2. ▶️ ▶️ ▶️ a potom ji můžeš začít opakovaně **spouštět**.\n",
    "\n",
    "Pořadí je **důležité**! Takže nemůžeš spouštět takovou uživatelskou funkci, kterou **prvně nedefinuješ**.\n"
   ]
  },
  {
   "cell_type": "code",
   "execution_count": null,
   "metadata": {},
   "outputs": [],
   "source": [
    "vysledek = scitej_dve_hodnoty(1, 14)  # 1 + 14"
   ]
  },
  {
   "cell_type": "code",
   "execution_count": null,
   "metadata": {},
   "outputs": [],
   "source": [
    "def scitej_dve_hodnoty(cislo_1, cislo_2):             # POVINNÉ: Předpis funkce a parametry funkce\n",
    "    \"\"\"\n",
    "    Vraci soucet dvou hodnot uvnitr parametru.\n",
    "    \"\"\"                                               # VOLITELNÉ: dokumentace funkce\n",
    "    return cislo_1 + cislo_2                          # VOLITELNÉ: vracené hodnoty"
   ]
  },
  {
   "cell_type": "markdown",
   "metadata": {},
   "source": [
    "Pokud si předchozí ukázku spustíš, nic se nestane. Je to kvůli tomu, že funkci **pouze definuješ** a nespouštíš.\n",
    "\n",
    "<br>\n",
    "\n",
    "V příkladu si můžeš všimnout těchto **charakteristických rysů** pro uživatelskou funkci:\n",
    "1. `def` je *klíčový výraz* označující předpis (definici) funkce,\n",
    "2. `scitej_dve_hodnoty` je tvoje označení funkce, díky kterému můžeš funkci později spustit (ideálně má představovat účel funkce),\n",
    "3. `(cislo_1, cislo_2)` v kulaté závorce jsou umístěné **parametry** funkce. Tedy proměnné, se kterými chceš, aby funkce pracovala.\n",
    "4. `:` předpisový řádek musí být ukončený dvojtečkou (jako u podmínkových zápisů, cyklů, aj.),\n",
    "5. `\"\"\"Vraci soucet dvou ..\"\"\"` na odsazeném řádku následuje *docstring*, tedy bližší popis účelu funkce (zejména pokud jméno nedostačuje),\n",
    "6. `return` ohlášení z funkce vrací žádané hodnoty (nemusí být součástí funkce vždy)."
   ]
  },
  {
   "cell_type": "markdown",
   "metadata": {},
   "source": [
    "### Spuštění funkcí\n",
    "\n",
    "---\n",
    "\n",
    "Takže pokud máš funkci **definovanou**, můžeš ji spouštět kolikrát chceš a kde chceš (samozřejmě potom, co ji definuješ)."
   ]
  },
  {
   "cell_type": "code",
   "execution_count": null,
   "metadata": {},
   "outputs": [],
   "source": [
    "soucet_1 = scitej_dve_hodnoty(1, 14)  # 1. spuštění funkce\n",
    "soucet_2 = scitej_dve_hodnoty(2, 8)   # 2. spuštění funkce"
   ]
  },
  {
   "cell_type": "code",
   "execution_count": null,
   "metadata": {},
   "outputs": [],
   "source": [
    "print(soucet_1, soucet_2, sep=\"\\n\")"
   ]
  },
  {
   "cell_type": "markdown",
   "metadata": {},
   "source": [
    "Spouštění bez ohlášení `return`:"
   ]
  },
  {
   "cell_type": "code",
   "execution_count": null,
   "metadata": {},
   "outputs": [],
   "source": [
    "def scitej_dve_hodnoty(cislo_1, cislo_2):             # POVINNÉ: Předpis funkce a parametry funkce\n",
    "    \"\"\"\n",
    "    Vraci soucet dvou hodnot uvnitr parametru.\n",
    "    \"\"\"                                               # VOLITELNÉ: dokumentace funkce\n",
    "    vysledek = cislo_1 + cislo_2                      # VOLITELNÉ: vracené hodnoty"
   ]
  },
  {
   "cell_type": "code",
   "execution_count": null,
   "metadata": {},
   "outputs": [],
   "source": [
    "soucet_3 = scitej_dve_hodnoty(2, 2)"
   ]
  },
  {
   "cell_type": "code",
   "execution_count": null,
   "metadata": {},
   "outputs": [],
   "source": [
    "print(soucet_3)"
   ]
  },
  {
   "cell_type": "markdown",
   "metadata": {},
   "source": [
    "<br>\n",
    "\n",
    "### ⚠️ ⚠️ Chyby na začátek ⚠️ ⚠️\n",
    "\n",
    "---"
   ]
  },
  {
   "cell_type": "code",
   "execution_count": null,
   "metadata": {},
   "outputs": [],
   "source": [
    "scitej_dve_hodnoty           # zapomněl jsem závorky"
   ]
  },
  {
   "cell_type": "code",
   "execution_count": null,
   "metadata": {},
   "outputs": [],
   "source": [
    "scitej_dve_hodnoty()         # chybějící vstupní hodnoty, tzv. argumenty"
   ]
  },
  {
   "cell_type": "code",
   "execution_count": null,
   "metadata": {},
   "outputs": [],
   "source": [
    "scitej_dve_hodnoty(1, 9, 5)  # špatný počet argumentů při spouštění"
   ]
  },
  {
   "cell_type": "code",
   "execution_count": null,
   "metadata": {},
   "outputs": [],
   "source": [
    "scitej_dve_hodnoty(1, 99)    # správný počet parametrů & argumentů"
   ]
  },
  {
   "cell_type": "markdown",
   "metadata": {},
   "source": [
    "**DEMO: Ukázka pro skript**"
   ]
  },
  {
   "cell_type": "code",
   "execution_count": null,
   "metadata": {},
   "outputs": [],
   "source": [
    "scitej_dve_hodnoty(1, 99)    # zapoměl jsem uložit vrácenou hodnotu do proměnné"
   ]
  },
  {
   "cell_type": "code",
   "execution_count": null,
   "metadata": {},
   "outputs": [],
   "source": [
    "vysledek = scitej_dve_hodnoty(2, 3)"
   ]
  },
  {
   "cell_type": "code",
   "execution_count": null,
   "metadata": {},
   "outputs": [],
   "source": [
    "print(vysledek)"
   ]
  },
  {
   "cell_type": "markdown",
   "metadata": {},
   "source": [
    "### Souhrn\n",
    "\n",
    "---"
   ]
  },
  {
   "cell_type": "markdown",
   "metadata": {},
   "source": [
    "Pár detailů pro spuštění funkcí:\n",
    "1. Funkci *spouštíš* přes její **jméno, kulaté závorky a vstupů**,\n",
    "2. při definování, do kulatých závorek píšeš obecné proměnné, **parametry** funkcí (zajištují obecné použití),\n",
    "3. při spouštění, do kulatých závorek musíš zapsat skutečné hodnoty, tedy **argumenty** funkcí,\n",
    "4. argumenty si funkce sama skládá do parametrů podle několika vzorů,\n",
    "5. pokud má funkce vracet hodnoty, obsahuje ohlášení `return`,\n",
    "6. vrácenou hodnotu si musíš schovat do proměnné (`soucet_1`, `soucet_2`). Pokud to neuděláš, o součet **přijdeš**."
   ]
  },
  {
   "cell_type": "code",
   "execution_count": null,
   "metadata": {},
   "outputs": [],
   "source": [
    "def moje_funce(x, y):\n",
    "    return x"
   ]
  },
  {
   "cell_type": "code",
   "execution_count": null,
   "metadata": {},
   "outputs": [],
   "source": [
    "vracene_hodnoty = moje_funce(\"a\", \"b\")"
   ]
  },
  {
   "cell_type": "code",
   "execution_count": null,
   "metadata": {},
   "outputs": [],
   "source": [
    "print(vracene_hodnoty)"
   ]
  },
  {
   "cell_type": "markdown",
   "metadata": {},
   "source": [
    "<br>\n",
    "\n",
    "### 🧠 CVIČENÍ 🧠, Vyzkoušej si práci s *uživatelskými funkcemi*:"
   ]
  },
  {
   "cell_type": "markdown",
   "metadata": {},
   "source": [
    "1. Nahraj knihovnu `random`,\n",
    "2. vytvoř definici uživatelské funkce `vygeneruj_tuple`,\n",
    "3. funkce potřebuješ zadat **dva celočíselné parametry** `delka` a `max_hodnota`,\n",
    "4. funkce vrací datový typ `tuple`,\n",
    "5. obecným účelem funkce je vrátit takový *tuple*, který má délku podle `delka` a rozsah náhodných celých čísel je z intervalu `0 ~ max_hodnota`,\n",
    "6. nakonec funkci zavolej pro tyto argumenty: `5, 50`, `10, 100` a `15, 150` (pro parametry `delka`, `max_hodnota`)."
   ]
  },
  {
   "cell_type": "code",
   "execution_count": null,
   "metadata": {},
   "outputs": [],
   "source": [
    "from random import choices  # help(random.choices)"
   ]
  },
  {
   "cell_type": "code",
   "execution_count": null,
   "metadata": {},
   "outputs": [],
   "source": []
  },
  {
   "cell_type": "code",
   "execution_count": null,
   "metadata": {},
   "outputs": [],
   "source": [
    "print(\n",
    "    vygeneruj_tuple(5, 50),\n",
    "    vygeneruj_tuple(10, 100),\n",
    "    vygeneruj_tuple(15, 150),\n",
    "    sep=\"\\n\"\n",
    ")"
   ]
  },
  {
   "cell_type": "markdown",
   "metadata": {},
   "source": [
    "<details>\n",
    "  <summary>▶️ Klikni zde pro zobrazení řešení</summary>\n",
    "   \n",
    "```python\n",
    "import random\n",
    "\n",
    "\n",
    "def vygeneruj_tuple(delka, stop):\n",
    "    return tuple(choices(range(stop), k=delka))\n",
    "\n",
    "\n",
    "print(\n",
    "    vygeneruj_tuple(5, 50),\n",
    "    vygeneruj_tuple(10, 100),\n",
    "    vygeneruj_tuple(15, 150),\n",
    "    sep=\"\\n\"\n",
    ")\n",
    "```\n",
    "</details>"
   ]
  },
  {
   "cell_type": "markdown",
   "metadata": {},
   "source": [
    "<br>\n",
    "\n",
    "<img src=\"https://external-content.duckduckgo.com/iu/?u=https%3A%2F%2Ftse1.mm.bing.net%2Fth%3Fid%3DOIP.gvxRdZcKOECoPck4y_-vlQHaD4%26pid%3DApi&f=1&ipt=929a3dae2ce99e1f988755713c8581862700ca34780089216a705d23e8a0f6b7&ipo=images\" width=\"200\" style=\"margin-left:auto; margin-right:auto\">\n",
    "\n",
    "## Vstupy funkcí\n",
    "\n",
    "---\n"
   ]
  },
  {
   "cell_type": "markdown",
   "metadata": {},
   "source": [
    "Obecně funkce pracuje se **vstupy**.\n",
    "\n",
    "Tento pojem souhrnně označuje nejen *parametry*, ale také *argumenty*.\n",
    "\n",
    "Ty jsou potom do funkce dávkované dle několika vzorů.\n",
    "\n",
    "<br>"
   ]
  },
  {
   "cell_type": "markdown",
   "metadata": {},
   "source": [
    "Rozdíl mezi nimi je následující:\n",
    "- **parametry** slouží jako obecné proměnné při definici, \n",
    "- **argumenty** jsou konkrétní hodnoty, které vkládáš při spouštění.\n",
    "\n",
    "<img src=\"https://external-content.duckduckgo.com/iu/?u=https%3A%2F%2Ftse4.mm.bing.net%2Fth%3Fid%3DOIP.bUbr5JhWe_1wmqncA78cIgHaHa%26pid%3DApi&f=1&ipt=b5486e0a2625fb93691e72daa535e6513f570af8391582c74e44e9e292bcab1c&ipo=images\" width=\"200\" style=\"margin-left:auto; margin-right:auto\">\n",
    "\n",
    "\n",
    "<br>\n",
    "\n",
    "Prohlédni si ukázku:"
   ]
  },
  {
   "cell_type": "code",
   "execution_count": null,
   "metadata": {},
   "outputs": [],
   "source": [
    "def vytvor_cele_jmeno(jmeno, prijmeni):\n",
    "    \"\"\"\n",
    "    Spoj zformatovane hodnoty v parametrech.\n",
    "\n",
    "    Priklad:\n",
    "    >>> vytvor_cele_jmeno(\"Petr\", \"Svetr\")\n",
    "    p.svetr\n",
    "    \"\"\"\n",
    "    return \".\".join(\n",
    "        (\n",
    "            jmeno[0].lower(),\n",
    "            prijmeni.lower()\n",
    "        )\n",
    "    )"
   ]
  },
  {
   "cell_type": "code",
   "execution_count": null,
   "metadata": {},
   "outputs": [],
   "source": [
    "print(vytvor_cele_jmeno(\"Adam\", \"Novak\"))"
   ]
  },
  {
   "cell_type": "markdown",
   "metadata": {},
   "source": [
    "<br>\n",
    "\n",
    "<img src=\"http://mathinsight.org/media/image/image/function_machine.png\" width=\"300\" style=\"margin-left:auto; margin-right:auto\">"
   ]
  },
  {
   "cell_type": "markdown",
   "metadata": {},
   "source": [
    "Co jsou tedy **parametry** a co **argumenty**?"
   ]
  },
  {
   "cell_type": "markdown",
   "metadata": {},
   "source": [
    "<br>\n",
    "\n",
    "<img src=\"https://external-content.duckduckgo.com/iu/?u=https%3A%2F%2Ftse1.mm.bing.net%2Fth%3Fid%3DOIP.uufe_GDvF2057NFWgKOVXwAAAA%26pid%3DApi&f=1\" width=\"150\" style=\"margin-left:auto; margin-right:auto\">\n",
    "\n",
    "## Dokumentace funkcí\n",
    "\n",
    "---\n"
   ]
  },
  {
   "cell_type": "markdown",
   "metadata": {},
   "source": [
    "Psát **dokumentaci** funkce resp. *docstring* je volitelnou záležitostí.\n",
    "\n",
    "<br>\n",
    "\n",
    "### Důsledné jméno funkce\n",
    "\n",
    "---\n",
    "\n",
    "Někdy potřebuješ vytvořit jednoduchou funkci, jejíž účel plně vystihuje její **jméno**:"
   ]
  },
  {
   "cell_type": "code",
   "execution_count": null,
   "metadata": {},
   "outputs": [],
   "source": [
    "def vynasob_dve_cisla(x, y):\n",
    "    return x * y"
   ]
  },
  {
   "cell_type": "code",
   "execution_count": null,
   "metadata": {},
   "outputs": [],
   "source": [
    "print(vynasob_dve_cisla(2, 8))"
   ]
  },
  {
   "cell_type": "markdown",
   "metadata": {},
   "source": [
    "V takovém případě **není potřeba** zapisovat *docstring*.\n",
    "\n",
    "<br>\n",
    "\n",
    "Někdy se ale popis může hodit.\n",
    "\n",
    "Zejména tehdy pokud **jméno** *uživatelské funkce* **nedostačuje**:"
   ]
  },
  {
   "cell_type": "code",
   "execution_count": null,
   "metadata": {},
   "outputs": [],
   "source": [
    "def vypocitej_vyskyt_pismen(pismena):\n",
    "    vyskyt = dict()\n",
    "\n",
    "    for slovo in pismena:\n",
    "        vyskyt[slovo] = vyskyt.setdefault(slovo, 0) + 1\n",
    "    else:\n",
    "        return vyskyt"
   ]
  },
  {
   "cell_type": "markdown",
   "metadata": {},
   "source": [
    "Nyní už **není zcela patrné**, jaký je účel funkce, že?\n",
    "\n",
    "<br>\n",
    "\n",
    "### Popisek funkce\n",
    "\n",
    "---\n",
    "\n",
    "**Jméno** samotné funkce, v ukázce výš, není dostačující:"
   ]
  },
  {
   "cell_type": "code",
   "execution_count": null,
   "metadata": {},
   "outputs": [],
   "source": [
    "def vypocitej_vyskyt_dat(pismena):\n",
    "    \"\"\"\n",
    "    Vrať slovník, který obsahuje výčet\n",
    "    jednotlivých prvků v zadaném parametru.\n",
    "\n",
    "    Inkrementaci hodnoty u klíčů ve slovníků probíhá tak,\n",
    "    že pokud klíč ve slovníku není, založím jej\n",
    "    s hodnotou 0 + 1 = 1.\n",
    "    \n",
    "    Pokud klíč ve slovníku 'vyskyt' máme, nezakládám,\n",
    "    pouze inkrementuji x + 1.\n",
    "    \"\"\"\n",
    "    vyskyt = dict()\n",
    "\n",
    "    for pismeno in pismena:\n",
    "        vyskyt[pismeno] = vyskyt.setdefault(pismeno, 0) + 1\n",
    "    else:\n",
    "        return vyskyt"
   ]
  },
  {
   "cell_type": "code",
   "execution_count": null,
   "metadata": {},
   "outputs": [],
   "source": [
    "print(vypocitej_vyskyt_dat((\"a\", \"b\", \"a\", \"c\", \"d\", \"b\", \"a\")))"
   ]
  },
  {
   "cell_type": "markdown",
   "metadata": {},
   "source": [
    "Jednou větou **vysvětlená podstata** této *uživatelské funkce* lépe popíše účel funkce `vypocitej_vyskyt_dat`.\n",
    "\n",
    "<br>\n",
    "\n",
    "Dále můžeš tuto *nápovědu* získat pomocí zabudované funkce `help`:"
   ]
  },
  {
   "cell_type": "code",
   "execution_count": null,
   "metadata": {},
   "outputs": [],
   "source": [
    "help(vypocitej_vyskyt_dat)"
   ]
  },
  {
   "cell_type": "markdown",
   "metadata": {},
   "source": [
    "<br>\n",
    "\n",
    "\n",
    "### Vysvětlivky parametrů a vrácené hodnoty\n",
    "\n",
    "---\n",
    "\n",
    "Pokud je krátký *docstring* **nedostatečný**, nebo pracuješ s různými **parametry**, které jsou pro uživatele komplikované, můžeš je také popsat:"
   ]
  },
  {
   "cell_type": "code",
   "execution_count": null,
   "metadata": {},
   "outputs": [],
   "source": [
    "def vypocitej_vyskyt_dat(pismena):\n",
    "    \"\"\"\n",
    "    Vrať slovník, který obsahuje výčet jednotlivých prvků v zadaném parametu.\n",
    "\n",
    "    Inkrementaci hodnoty u klíčů ve slovníků probíhá tak, že pokud klíč ve slovníku\n",
    "    není, založím jej s hodnotou 0 + 1 = 1.\n",
    "    Pokud klíč ve slovníku 'vyskyt' máme, nezakládám, pouze inkrementuji x + 1.\n",
    "\n",
    "    :param pismena: parametr \"pismena\" obsahující zadaný text.\n",
    "    :type pismena: tuple\n",
    "    :return: hodnota se znaky z textu a počet jejich výskytů.\n",
    "    :rtype: dict\n",
    "    \"\"\"\n",
    "    vyskyt = {}\n",
    "       \n",
    "    for pismeno in pismena:\n",
    "        vyskyt[pismeno] = vyskyt.setdefault(pismeno, 0) + 1\n",
    "\n",
    "    return vyskyt"
   ]
  },
  {
   "cell_type": "code",
   "execution_count": null,
   "metadata": {},
   "outputs": [],
   "source": [
    "print(vypocitej_vyskyt_dat((\"a\", \"b\", \"a\", \"c\", \"d\", \"b\", \"a\")))"
   ]
  },
  {
   "cell_type": "code",
   "execution_count": null,
   "metadata": {},
   "outputs": [],
   "source": [
    "help(vypocitej_vyskyt_dat)"
   ]
  },
  {
   "cell_type": "markdown",
   "metadata": {},
   "source": [
    "<br>\n",
    "\n",
    "### Příklad průběhu funkce\n",
    "\n",
    "---\n",
    "\n",
    "Někdy je dobrá ukázka lepší jak tisíc slov, proto je později vhodné úvadět **příklad použití**:"
   ]
  },
  {
   "cell_type": "code",
   "execution_count": null,
   "metadata": {},
   "outputs": [],
   "source": [
    "def vypocitej_vyskyt_dat(pismena):\n",
    "    \"\"\"\n",
    "    Vrať slovník, který obsahuje výčet jednotlivých prvků v zadaném parametru.\n",
    "\n",
    "    Inkrementaci hodnoty u klíčů ve slovníků probíhá tak, že pokud klíč ve slovníku\n",
    "    není, založím jej s hodnotou 0 + 1 = 1.\n",
    "    Pokud klíč ve slovníku 'vyskyt' máme, nezakládám, pouze inkrementuji x + 1.\n",
    "    \n",
    "    :param pismena: parametr \"pismena\" obsahující zadaný text.\n",
    "    :type pismena: tuple\n",
    "    :return: slovník se znaky z textu a počet jejich výskytů.\n",
    "    :rtype: dict\n",
    "\n",
    "    :Example:\n",
    "    >>> vysledek = vypocitej_vyskyt_dat((\"a\", \"b\", \"a\"))\n",
    "    >>> vysledek\n",
    "    {'a': 2, 'b': 1}\n",
    "    \"\"\"\n",
    "    vyskyt = dict()\n",
    "\n",
    "    for slovo in pismena:\n",
    "        vyskyt[slovo] = vyskyt.setdefault(slovo, 0) + 1\n",
    "\n",
    "    return vyskyt"
   ]
  },
  {
   "cell_type": "code",
   "execution_count": null,
   "metadata": {},
   "outputs": [],
   "source": [
    "print(vypocitej_vyskyt_dat((\"a\", \"b\", \"a\", \"c\", \"d\", \"b\", \"a\")))"
   ]
  },
  {
   "cell_type": "code",
   "execution_count": null,
   "metadata": {},
   "outputs": [],
   "source": [
    "help(vypocitej_vyskyt_dat)"
   ]
  },
  {
   "cell_type": "markdown",
   "metadata": {},
   "source": [
    "<br>\n",
    "\n",
    "Je tedy **nutné** zapisovat *docstring*? Určitě to **není nutnost**.\n",
    "\n",
    "Ale rozhodně je to velmi nápomocné, protože ti pomůže uvědomit si:\n",
    "1. Jestli dostatečně rozumíš **účelu funkce**,\n",
    "2. jestli funkce skutečně **provádí jen to, co má**,\n",
    "3. jestli má správný **počet parametrů**, případně jakého typu,\n",
    "4. jestli a jaké objekty **funkce vrací**."
   ]
  },
  {
   "cell_type": "markdown",
   "metadata": {},
   "source": [
    "<br>\n",
    "\n",
    "Do budoucna potom můžeš využít *docstring* při:\n",
    "1. Generování **dokumentace projektu** pomocí nástroje [Sphinx](https://www.sphinx-doc.org/en/master/),\n",
    "2. **testování funkcí** pomocí modulu [doctest](https://docs.python.org/3/library/doctest.html)."
   ]
  },
  {
   "cell_type": "code",
   "execution_count": 2,
   "metadata": {},
   "outputs": [
    {
     "name": "stdout",
     "output_type": "stream",
     "text": [
      "**********************************************************************\n",
      "File \"__main__\", line 10, in __main__.vypocitej_vyskyt_dat\n",
      "Failed example:\n",
      "    vysledek\n",
      "Expected:\n",
      "    {'a': 1, 'b': 2}\n",
      "Got:\n",
      "    {'a': 1, 'b': 1}\n",
      "**********************************************************************\n",
      "1 items had failures:\n",
      "   1 of   4 in __main__.vypocitej_vyskyt_dat\n",
      "***Test Failed*** 1 failures.\n"
     ]
    },
    {
     "data": {
      "text/plain": [
       "TestResults(failed=1, attempted=4)"
      ]
     },
     "execution_count": 2,
     "metadata": {},
     "output_type": "execute_result"
    }
   ],
   "source": [
    "def vypocitej_vyskyt_dat(pismena):\n",
    "    \"\"\"\n",
    "    Vrať slovník, který obsahuje výčet jednotlivých prvků v zadaném parametru.\n",
    "\n",
    "    :Example:\n",
    "    >>> vysledek = vypocitej_vyskyt_dat((\"a\", \"b\", \"a\"))\n",
    "    >>> vysledek\n",
    "    {'a': 2, 'b': 1}\n",
    "    >>> vysledek = vypocitej_vyskyt_dat((\"a\", \"b\"))\n",
    "    >>> vysledek\n",
    "    {'a': 1, 'b': 2}\n",
    "    \"\"\"\n",
    "    vyskyt = dict()\n",
    "\n",
    "    for slovo in pismena:\n",
    "        vyskyt[slovo] = vyskyt.setdefault(slovo, 0) + 1\n",
    "\n",
    "    return vyskyt\n",
    "\n",
    "\n",
    "import doctest\n",
    "doctest.testmod()"
   ]
  },
  {
   "cell_type": "markdown",
   "metadata": {},
   "source": [
    "<br>\n",
    "\n",
    "### 🧠 CVIČENÍ 🧠, Vyzkoušej si práci s docstringy v *uživatelských funkcích*:"
   ]
  },
  {
   "cell_type": "markdown",
   "metadata": {},
   "source": [
    "1. Vytvoř takovou *uživatelskou funkci*, která potřebuje jeden *parametr* `udaje` (typu `tuple`),\n",
    "2. funkce musí opět vracet typ `tuple`,\n",
    "3. jejím účelem je odstranit ze zadaného argumentu všechny `None` hodnoty a vrátit zbytek,\n",
    "4. vhodně **funkci pojmenuj**,\n",
    "5. napiš krátký *docstring*, který pomůže funkci lépe dovysvětlit."
   ]
  },
  {
   "cell_type": "code",
   "execution_count": null,
   "metadata": {},
   "outputs": [],
   "source": [
    "krestni_jmena = ('Matouš', None, 'Marek', 'Lukáš', None, 'Jan')\n",
    "prijmeni = ('Holinka', None, 'Novák', 'Holinka', None, None)"
   ]
  },
  {
   "cell_type": "code",
   "execution_count": null,
   "metadata": {},
   "outputs": [],
   "source": [
    "def XYZ(udaje):\n",
    "    \"\"\"\n",
    "    Funkce vrací zadanou sekvenci bez prázdný/ chybějících hodnot\n",
    "    \n",
    "    \n"
   ]
  },
  {
   "cell_type": "code",
   "execution_count": null,
   "metadata": {},
   "outputs": [],
   "source": [
    "print(\n",
    "    ocistit_od_prazdnych(krestni_jmena),\n",
    "    ocistit_od_prazdnych(prijmeni),\n",
    "    sep='\\n'\n",
    ")"
   ]
  },
  {
   "cell_type": "markdown",
   "metadata": {},
   "source": [
    "<details>\n",
    "  <summary>▶️ Klikni zde pro zobrazení řešení</summary>\n",
    "   \n",
    "```python\n",
    "krestni_jmena = ('Matouš', None, 'Marek', 'Lukáš', None, 'Jan')\n",
    "prijmeni = ('Holinka', None, 'Novák', 'Holinka', None, None)\n",
    "\n",
    "\n",
    "def filtruj_prazdne_hodnoty(udaje: tuple) -> tuple:\n",
    "    \"\"\"\n",
    "    Funkce vrací pole hodnot bez prázdných hodnot.\n",
    "\n",
    "    :param udaje: Zadané pole, které může obsahovat prázdné hodnoty,\n",
    "    :type udaje: tuple\n",
    "    :return: pole bez prázdných hodnot,\n",
    "    :rtype: tuple\n",
    "    \"\"\"\n",
    "    return tuple(\n",
    "        hodnota for hodnota in udaje\n",
    "        if hodnota\n",
    "    )\n",
    "\n",
    "\n",
    "print(\n",
    "    filtruj_prazdne_hodnoty(krestni_jmena),\n",
    "    filtruj_prazdne_hodnoty(prijmeni),\n",
    "    sep=\"\\n\"\n",
    ")\n",
    "```\n",
    "</details>"
   ]
  },
  {
   "cell_type": "markdown",
   "metadata": {},
   "source": [
    "<img src=\"https://external-content.duckduckgo.com/iu/?u=https%3A%2F%2Ftse2.mm.bing.net%2Fth%3Fid%3DOIP.cjfmUt8xYHoEdmQWxT1fBgHaHa%26pid%3DApi&f=1\" width=\"150\" style=\"margin-left:auto; margin-right:auto\">\n",
    "\n",
    "## Co je `__name__`\n",
    "\n",
    "---"
   ]
  },
  {
   "cell_type": "markdown",
   "metadata": {},
   "source": [
    "Velmi často se při čtení cizího kódu můžeš setkat s **tímto ohlášením**:\n",
    "```python\n",
    "if __name__ == \"__main__\":\n",
    "    # ...\n",
    "```\n",
    "\n",
    "Bývá velmi často vložené právě **na konci modulu** (tedy souboru s příponou `.py`)\n",
    "\n",
    "Představ si situaci, že potřebuješ nahrát jen objekt `funkce_2`:"
   ]
  },
  {
   "cell_type": "code",
   "execution_count": 3,
   "metadata": {},
   "outputs": [
    {
     "name": "stdout",
     "output_type": "stream",
     "text": [
      "Writing muj_modul_1.py\n"
     ]
    }
   ],
   "source": [
    "%%file muj_modul_1.py\n",
    "# soubor muj_modul.py\n",
    "def hlavni_funkce():\n",
    "    funkce_1()\n",
    "    funkce_2()\n",
    "    funkce_3()\n",
    "\n",
    "def funkce_1():\n",
    "    print(\"Spouštění první funkce..\")\n",
    "\n",
    "def funkce_2():\n",
    "    \"\"\"Funkce, kterou potřebuješ.\"\"\"\n",
    "    print(\"Spouštění druhé funkce..\")\n",
    "\n",
    "def funkce_3():\n",
    "    print(\"Spouštění třetí funkce..\")\n",
    "\n",
    "hlavni_funkce()"
   ]
  },
  {
   "cell_type": "markdown",
   "metadata": {},
   "source": [
    "<br>\n",
    "\n",
    "Díky, **nahrávání knihoven** můžeš snadno použít *funkci* z jiného modulu.\n",
    "\n",
    "Víš totiž, kde je soubor `muj_soubor.py` umístěný:\n",
    "```python\n",
    "import muj_modul\n",
    "\n",
    "muj_modul.funkce_2()\n",
    "```"
   ]
  },
  {
   "cell_type": "markdown",
   "metadata": {},
   "source": [
    "<br>\n",
    "\n",
    "Jakmile tebou vytvořený soubor **s nahraným modulem** spustíš, získáš tento výstup:\n",
    "```bash\n",
    "Spouštění první funkce...\n",
    "Spouštění druhé funkce...\n",
    "Spouštění třetí funkce...\n",
    "Spouštění druhé funkce...\n",
    "```"
   ]
  },
  {
   "cell_type": "markdown",
   "metadata": {},
   "source": [
    "⚠️ Místo, aby došlo ke spuštění **pouze** *uživatelské funkce* `funkce_2`, došlo ke spuštění **všech funkcí**! ⚠️\n",
    "\n",
    "<br>\n",
    "\n",
    "V této ukázce to není tak zásadní problém. Ale představ si, že by spuštění funkcí trvalo **několik minut** a potřebovalo **nezanedbatelné množství paměti** tvého počítače.\n",
    "\n",
    "Tomu je potřeba rozhodně zabránit, jinak nemůžeš rozumně pracovat s takovým modulem.\n",
    "\n",
    "<br>\n",
    "\n",
    "Je tedy nutné:\n",
    "1. `muj_modul.py` **spouštět jako skript (program)** pro Python s funkcí `hlavni_funkce()`,\n",
    "2. `muj_modul.py` **nahrávat jako modul** Pythonu bez funkce `hlavni_funkce()`."
   ]
  },
  {
   "cell_type": "code",
   "execution_count": null,
   "metadata": {},
   "outputs": [],
   "source": [
    "%%file muj_modul_2.py\n",
    "# soubor muj_modul.py\n",
    "def hlavni_funkce():\n",
    "    funkce_1()\n",
    "    funkce_2()\n",
    "    funkce_3()\n",
    "\n",
    "def funkce_1():\n",
    "    print(\"Spouštění první funkce...\")\n",
    "\n",
    "def funkce_2():\n",
    "    \"\"\"Funkce, kterou potřebuješ.\"\"\"\n",
    "    print(\"Spouštění druhé funkce...\")\n",
    "\n",
    "def funkce_3():\n",
    "    print(\"Spouštění třetí funkce...\")\n",
    "\n",
    "\n",
    "if __name__ == \"__main__\":\n",
    "    hlavni_funkce()"
   ]
  },
  {
   "cell_type": "markdown",
   "metadata": {},
   "source": [
    "Pokud zkusíš tentokrát **spustit soubor** `muj_modul.py`:\n",
    "```\n",
    "$ python muj_modul.py\n",
    "```\n",
    "Dostaneš výstupem:\n",
    "```\n",
    "Spouštění souboru..\n",
    "Spouštění první funkce..\n",
    "Spouštění druhé funkce..\n",
    "Spouštění třetí funkce..\n",
    "```\n",
    "\n",
    "<br>\n",
    "\n",
    "Pokud budeš chtít `muj_modul.py` **nahrávat** pomocí ohlášení `import`:\n",
    "```python\n",
    "import muj_modul\n",
    "\n",
    "muj_modul.funkce_2()\n",
    "```\n",
    "Dostaneš jako výstup:\n",
    "```\n",
    "Nahrávání modulu..\n",
    "Spouštění druhé funkce..\n",
    "```\n",
    "\n",
    "<br>\n",
    "\n",
    "Tím dosáhneš toho, že tebou vytvořený soubor `muj_modul.py` funguje pro oba scénaře. Tedy pracuje jako **spustitelný soubor** (skript) a současně jako **plnohodnotný modul**."
   ]
  },
  {
   "cell_type": "markdown",
   "metadata": {},
   "source": [
    "<img src=\"https://external-content.duckduckgo.com/iu/?u=https%3A%2F%2Ftse3.mm.bing.net%2Fth%3Fid%3DOIP.I_ciaAqJVtH3k_LDV-4a8AHaEc%26pid%3DApi&f=1&ipt=74100f497253ea415c13868adb6e91d832625b2dfe1b2cf852efaf93feeb7546&ipo=images\" width=\"350\" style=\"margin-left:auto; margin-right:auto\">\n",
    "\n",
    "## Řádné funkce uživatele\n",
    "\n",
    "---"
   ]
  },
  {
   "cell_type": "markdown",
   "metadata": {},
   "source": [
    "Psaní uživatelských funkcí má ovšem jistá doporučení."
   ]
  },
  {
   "cell_type": "markdown",
   "metadata": {},
   "source": [
    "### Znovu nevymýšlet kolo\n",
    "\n",
    "---"
   ]
  },
  {
   "cell_type": "markdown",
   "metadata": {},
   "source": [
    "Nejprve zkontroluji *zabudované funkce*, pak tvořím vlastní funkci:"
   ]
  },
  {
   "cell_type": "code",
   "execution_count": 4,
   "metadata": {},
   "outputs": [],
   "source": [
    "cisla = (1, 2, 3)"
   ]
  },
  {
   "cell_type": "code",
   "execution_count": 5,
   "metadata": {},
   "outputs": [],
   "source": [
    "# TAKHLE NE!\n",
    "def vypocitej_sumu(cisla):\n",
    "    suma = 0\n",
    "\n",
    "    for cislo in cisla:\n",
    "        suma = suma + cislo\n",
    "    return suma"
   ]
  },
  {
   "cell_type": "code",
   "execution_count": 6,
   "metadata": {},
   "outputs": [
    {
     "name": "stdout",
     "output_type": "stream",
     "text": [
      "6\n"
     ]
    }
   ],
   "source": [
    "print(vypocitej_sumu(cisla))"
   ]
  },
  {
   "cell_type": "code",
   "execution_count": 7,
   "metadata": {},
   "outputs": [],
   "source": [
    "# TAKHLE ANO!\n",
    "suma = sum(cisla)"
   ]
  },
  {
   "cell_type": "code",
   "execution_count": 8,
   "metadata": {},
   "outputs": [],
   "source": [
    "def vypis_pozdrav():\n",
    "    return \"Ahoj!\""
   ]
  },
  {
   "cell_type": "code",
   "execution_count": 9,
   "metadata": {},
   "outputs": [
    {
     "data": {
      "text/plain": [
       "'Ahoj!'"
      ]
     },
     "execution_count": 9,
     "metadata": {},
     "output_type": "execute_result"
    }
   ],
   "source": [
    "vypis_pozdrav()"
   ]
  },
  {
   "cell_type": "code",
   "execution_count": 10,
   "metadata": {},
   "outputs": [],
   "source": [
    "class Zdravic:\n",
    "    def pozdrav(self):\n",
    "        return \"Ahoj!\""
   ]
  },
  {
   "cell_type": "code",
   "execution_count": 11,
   "metadata": {},
   "outputs": [],
   "source": [
    "zdravici = Zdravic()"
   ]
  },
  {
   "cell_type": "code",
   "execution_count": 12,
   "metadata": {},
   "outputs": [
    {
     "data": {
      "text/plain": [
       "'Ahoj!'"
      ]
     },
     "execution_count": 12,
     "metadata": {},
     "output_type": "execute_result"
    }
   ],
   "source": [
    "zdravici.pozdrav()"
   ]
  },
  {
   "cell_type": "code",
   "execution_count": 13,
   "metadata": {},
   "outputs": [
    {
     "name": "stdout",
     "output_type": "stream",
     "text": [
      "Ahoj!\n"
     ]
    }
   ],
   "source": [
    "print(\"Ahoj!\")"
   ]
  },
  {
   "cell_type": "markdown",
   "metadata": {},
   "source": [
    "<br>\n",
    "\n",
    "### Na jménu záleží\n",
    "\n",
    "---\n",
    "Popisuje totiž účel funkce (pokud nelze napsat, zapiš *docstring* funkce):"
   ]
  },
  {
   "cell_type": "code",
   "execution_count": 14,
   "metadata": {},
   "outputs": [],
   "source": [
    "# TAKHLE NE!\n",
    "def email():\n",
    "    pass"
   ]
  },
  {
   "cell_type": "code",
   "execution_count": 15,
   "metadata": {},
   "outputs": [],
   "source": [
    "email()"
   ]
  },
  {
   "cell_type": "markdown",
   "metadata": {},
   "source": [
    "Slovesem vždycky začni popisovat jméno funkce:"
   ]
  },
  {
   "cell_type": "code",
   "execution_count": 18,
   "metadata": {},
   "outputs": [],
   "source": [
    "# TAKHLE ANO!\n",
    "def posli_email():\n",
    "    pass"
   ]
  },
  {
   "cell_type": "code",
   "execution_count": 19,
   "metadata": {},
   "outputs": [],
   "source": [
    "posli_email()"
   ]
  },
  {
   "cell_type": "markdown",
   "metadata": {},
   "source": [
    "<br>\n",
    "\n",
    "### Rozumné množství parametrů\n",
    "\n",
    "---\n",
    "Ideálně **2-3 parametry** (jsou ovšem výjimky):"
   ]
  },
  {
   "cell_type": "code",
   "execution_count": 20,
   "metadata": {},
   "outputs": [],
   "source": [
    "# TAKHLE NE!\n",
    "def zobraz_nabidku(titulek, obsah, tlacitko, datum):\n",
    "    pass"
   ]
  },
  {
   "cell_type": "code",
   "execution_count": 21,
   "metadata": {},
   "outputs": [],
   "source": [
    "# TAKHLE ANO!\n",
    "def vytvor_popisek(titulek, obsah):\n",
    "    pass\n",
    "\n",
    "def vytvor_tlacitko(tlacitko):\n",
    "    pass\n",
    "\n",
    "def vytvor_datum():\n",
    "    pass"
   ]
  },
  {
   "cell_type": "markdown",
   "metadata": {},
   "source": [
    "<br>\n",
    "\n",
    "### Co je psáno, to je dáno\n",
    "\n",
    "---\n",
    "\n",
    "\n",
    "Funkce by měla provádět **jedinnou věc** (jinak je špatně čitelná, pochopitelná, testovatelná):"
   ]
  },
  {
   "cell_type": "code",
   "execution_count": null,
   "metadata": {},
   "outputs": [],
   "source": [
    "# TAKHLE NE!\n",
    "def posli_email_seznamu_klientu(klienti):\n",
    "    \"\"\"\n",
    "    Filtruj pouze aktivni klienty a odesli zpravu.\n",
    "    \"\"\"\n",
    "    for klient in klienti:\n",
    "        if klient.je_aktivni:\n",
    "            posli_email(klient)"
   ]
  },
  {
   "cell_type": "code",
   "execution_count": null,
   "metadata": {},
   "outputs": [],
   "source": [
    "# TAKHLE ANO!\n",
    "def jen_aktivni_klienti(klienti):\n",
    "    return [klient for klient in klienti if klient.je_aktivni]\n",
    "\n",
    "def posli_email(klient):\n",
    "    pass"
   ]
  },
  {
   "cell_type": "markdown",
   "metadata": {},
   "source": [
    "<br>\n",
    "\n",
    "### Počítá se jen to doma\n",
    "\n",
    "---\n",
    "\n",
    "Funkce pracuje pouze **s vlastními parametry** (proměnnými):"
   ]
  },
  {
   "cell_type": "code",
   "execution_count": null,
   "metadata": {},
   "outputs": [],
   "source": [
    "# TAKHLE NE!\n",
    "oddelovac = \"---\"\n",
    "datum = \"01.01.2001\"\n",
    "\n",
    "def vytvor_zpravu(autor, zapis):\n",
    "    vytvor_hlavicku(datum, oddelovac)\n",
    "    vytvor_text(autor, zapis)"
   ]
  },
  {
   "cell_type": "code",
   "execution_count": null,
   "metadata": {},
   "outputs": [],
   "source": [
    "# TAKHLE ANO!\n",
    "def vytvor_zpravu(autor, zapis):\n",
    "    oddelovac = \"---\"\n",
    "    vytvor_hlavicku(dnesni_datum(), oddelovac)\n",
    "    vytvor_text(autor, zapis)\n",
    "\n",
    "def dnesni_datum():\n",
    "    pass"
   ]
  },
  {
   "cell_type": "markdown",
   "metadata": {},
   "source": [
    "😍 Interpret Pythonu miluje funkce! 😍 Vytváří oddělená prostředí pro proměnné, se kterými efektivněji pracuje."
   ]
  },
  {
   "cell_type": "markdown",
   "metadata": {},
   "source": [
    "<br>\n",
    "\n",
    "<img src=\"https://external-content.duckduckgo.com/iu/?u=https%3A%2F%2Ftse4.mm.bing.net%2Fth%3Fid%3DOIP.W6yGtI3IFcM0MeXy2LfTkAAAAA%26pid%3DApi&f=1&ipt=c39ef8447701e7e226d2410bb12fc7f55372748d3f93302cf78ec775ef9c938f&ipo=images\" width=\"150\" style=\"margin-left:auto; margin-right:auto\">\n",
    "\n",
    "## Vícenásobné přiřazení hodnot\n",
    "\n",
    "---"
   ]
  },
  {
   "cell_type": "markdown",
   "metadata": {},
   "source": [
    "Doposud přiřazuješ hodnoty k odkazům tímto způsobem:"
   ]
  },
  {
   "cell_type": "code",
   "execution_count": 22,
   "metadata": {},
   "outputs": [],
   "source": [
    "jmeno = 'Matouš'"
   ]
  },
  {
   "cell_type": "code",
   "execution_count": 23,
   "metadata": {},
   "outputs": [
    {
     "name": "stdout",
     "output_type": "stream",
     "text": [
      "Matouš\n"
     ]
    }
   ],
   "source": [
    "print(jmeno)"
   ]
  },
  {
   "cell_type": "markdown",
   "metadata": {},
   "source": [
    "<br>\n",
    "\n",
    "Současně přiřadit více hodnot **do několika proměnných**:"
   ]
  },
  {
   "cell_type": "code",
   "execution_count": 24,
   "metadata": {},
   "outputs": [],
   "source": [
    "prvni_jmeno = ('Matouš', 'Lukáš')[0]"
   ]
  },
  {
   "cell_type": "code",
   "execution_count": 25,
   "metadata": {},
   "outputs": [],
   "source": [
    "druhe_jmeno = ('Matouš', 'Lukáš')[1]"
   ]
  },
  {
   "cell_type": "code",
   "execution_count": 26,
   "metadata": {},
   "outputs": [
    {
     "name": "stdout",
     "output_type": "stream",
     "text": [
      "Matouš\n",
      "Lukáš\n"
     ]
    }
   ],
   "source": [
    "print(prvni_jmeno, druhe_jmeno, sep=\"\\n\")"
   ]
  },
  {
   "cell_type": "markdown",
   "metadata": {},
   "source": [
    "Současně ale existují i **další varianty přiřazení** hodnoty/hodnot.\n",
    "\n",
    "<br>\n",
    "\n",
    "### Vícenásobné přiřazení (LS = PS)\n",
    "\n",
    "---\n",
    "\n",
    "Pokud máš na pravé straně (PS) více hodnot, můžeš je rozdělit.\n",
    "\n",
    "Rozdělení probíhá následovně:"
   ]
  },
  {
   "cell_type": "code",
   "execution_count": 27,
   "metadata": {},
   "outputs": [],
   "source": [
    "prvni_jmeno, druhe_jmeno = ('Matouš', 'Jan')  # LS: 2 nazvy promennych = PS: 2 udaje"
   ]
  },
  {
   "cell_type": "code",
   "execution_count": 28,
   "metadata": {},
   "outputs": [
    {
     "name": "stdout",
     "output_type": "stream",
     "text": [
      "Matouš\n",
      "Jan\n"
     ]
    }
   ],
   "source": [
    "print(prvni_jmeno, druhe_jmeno, sep=\"\\n\")"
   ]
  },
  {
   "cell_type": "markdown",
   "metadata": {},
   "source": [
    "<br>\n",
    "\n",
    "Vícenásobné přiřazování **při vrácených hodnotách**:"
   ]
  },
  {
   "cell_type": "code",
   "execution_count": 31,
   "metadata": {},
   "outputs": [],
   "source": [
    "def ziskej_cele_jmeno_a_vek() -> tuple:\n",
    "    return ('Matouš', 'Holinka', 30)"
   ]
  },
  {
   "cell_type": "code",
   "execution_count": 32,
   "metadata": {},
   "outputs": [],
   "source": [
    "vysledek = ziskej_cele_jmeno_a_vek()"
   ]
  },
  {
   "cell_type": "code",
   "execution_count": 33,
   "metadata": {},
   "outputs": [
    {
     "name": "stdout",
     "output_type": "stream",
     "text": [
      "('Matouš', 'Holinka', 30)\n"
     ]
    }
   ],
   "source": [
    "print(vysledek)"
   ]
  },
  {
   "cell_type": "code",
   "execution_count": 37,
   "metadata": {},
   "outputs": [],
   "source": [
    "krestni_jmeno = ziskej_cele_jmeno_a_vek()[0]\n",
    "prijmeni = ziskej_cele_jmeno_a_vek()[1]\n",
    "vek = ziskej_cele_jmeno_a_vek()[2]"
   ]
  },
  {
   "cell_type": "code",
   "execution_count": 38,
   "metadata": {},
   "outputs": [
    {
     "name": "stdout",
     "output_type": "stream",
     "text": [
      "Matouš\n",
      "Holinka\n",
      "30\n"
     ]
    }
   ],
   "source": [
    "print(krestni_jmeno, prijmeni, vek, sep=\"\\n\")"
   ]
  },
  {
   "cell_type": "markdown",
   "metadata": {},
   "source": [
    "<br>\n",
    "\n",
    "Nyní potřebuji rozdělit indexy z tuplu **do oddělených proměnných**:"
   ]
  },
  {
   "cell_type": "code",
   "execution_count": 39,
   "metadata": {},
   "outputs": [],
   "source": [
    "krestni_jmeno, prijmeni, vek = ziskej_cele_jmeno_a_vek()"
   ]
  },
  {
   "cell_type": "code",
   "execution_count": 41,
   "metadata": {},
   "outputs": [
    {
     "name": "stdout",
     "output_type": "stream",
     "text": [
      "Matouš\n",
      "Holinka\n",
      "30\n"
     ]
    }
   ],
   "source": [
    "print(krestni_jmeno, prijmeni, vek, sep=\"\\n\")"
   ]
  },
  {
   "cell_type": "markdown",
   "metadata": {},
   "source": [
    "Hodnot a proměnných může být samozřejmě více.\n",
    "\n",
    "Zásadní je dodržet s tímto zápisem pravidlo, **kolik hodnot, tolik proměnných**."
   ]
  },
  {
   "cell_type": "code",
   "execution_count": 42,
   "metadata": {},
   "outputs": [
    {
     "ename": "ValueError",
     "evalue": "too many values to unpack (expected 2)",
     "output_type": "error",
     "traceback": [
      "\u001b[0;31m---------------------------------------------------------------------------\u001b[0m",
      "\u001b[0;31mValueError\u001b[0m                                Traceback (most recent call last)",
      "Cell \u001b[0;32mIn[42], line 1\u001b[0m\n\u001b[0;32m----> 1\u001b[0m jmeno_1, jmeno_2 \u001b[38;5;241m=\u001b[39m [\u001b[38;5;124m\"\u001b[39m\u001b[38;5;124mMatous\u001b[39m\u001b[38;5;124m\"\u001b[39m, \u001b[38;5;124m\"\u001b[39m\u001b[38;5;124mLukas\u001b[39m\u001b[38;5;124m\"\u001b[39m, \u001b[38;5;124m\"\u001b[39m\u001b[38;5;124mPetr\u001b[39m\u001b[38;5;124m\"\u001b[39m]\n",
      "\u001b[0;31mValueError\u001b[0m: too many values to unpack (expected 2)"
     ]
    }
   ],
   "source": [
    "jmeno_1, jmeno_2 = [\"Matous\", \"Lukas\", \"Petr\"]"
   ]
  },
  {
   "cell_type": "code",
   "execution_count": 43,
   "metadata": {},
   "outputs": [
    {
     "ename": "ValueError",
     "evalue": "not enough values to unpack (expected 3, got 2)",
     "output_type": "error",
     "traceback": [
      "\u001b[0;31m---------------------------------------------------------------------------\u001b[0m",
      "\u001b[0;31mValueError\u001b[0m                                Traceback (most recent call last)",
      "Cell \u001b[0;32mIn[43], line 1\u001b[0m\n\u001b[0;32m----> 1\u001b[0m jmeno_1, jmeno_2, jmeno_3 \u001b[38;5;241m=\u001b[39m [\u001b[38;5;124m\"\u001b[39m\u001b[38;5;124mMatous\u001b[39m\u001b[38;5;124m\"\u001b[39m, \u001b[38;5;124m\"\u001b[39m\u001b[38;5;124mLukas\u001b[39m\u001b[38;5;124m\"\u001b[39m]\n",
      "\u001b[0;31mValueError\u001b[0m: not enough values to unpack (expected 3, got 2)"
     ]
    }
   ],
   "source": [
    "jmeno_1, jmeno_2, jmeno_3 = [\"Matous\", \"Lukas\"]"
   ]
  },
  {
   "cell_type": "markdown",
   "metadata": {},
   "source": [
    "<br>\n",
    "\n",
    "### Vícenásobné přiřazení s hvězdičkou (*)\n",
    "\n",
    "---\n",
    "\n",
    "Syntaxe je velice podobná té předchozí.\n",
    "\n",
    "Nicméně doplněná hvězdička má za účel sbalit všechny zbývající hodnoty do jedinné proměnné."
   ]
  },
  {
   "cell_type": "code",
   "execution_count": 44,
   "metadata": {},
   "outputs": [
    {
     "ename": "ValueError",
     "evalue": "too many values to unpack (expected 3)",
     "output_type": "error",
     "traceback": [
      "\u001b[0;31m---------------------------------------------------------------------------\u001b[0m",
      "\u001b[0;31mValueError\u001b[0m                                Traceback (most recent call last)",
      "Cell \u001b[0;32mIn[44], line 1\u001b[0m\n\u001b[0;32m----> 1\u001b[0m jmeno_1, jmeno_2, zbytek_jmen \u001b[38;5;241m=\u001b[39m [\u001b[38;5;124m\"\u001b[39m\u001b[38;5;124mMatous\u001b[39m\u001b[38;5;124m\"\u001b[39m, \u001b[38;5;124m\"\u001b[39m\u001b[38;5;124mMarek\u001b[39m\u001b[38;5;124m\"\u001b[39m, \u001b[38;5;124m\"\u001b[39m\u001b[38;5;124mLukas\u001b[39m\u001b[38;5;124m\"\u001b[39m, \u001b[38;5;124m\"\u001b[39m\u001b[38;5;124mJan\u001b[39m\u001b[38;5;124m\"\u001b[39m]\n",
      "\u001b[0;31mValueError\u001b[0m: too many values to unpack (expected 3)"
     ]
    }
   ],
   "source": [
    "jmeno_1, jmeno_2, zbytek_jmen = [\"Matous\", \"Marek\", \"Lukas\", \"Jan\"]"
   ]
  },
  {
   "cell_type": "code",
   "execution_count": 45,
   "metadata": {},
   "outputs": [],
   "source": [
    "jmeno_1, jmeno_2, *zbytek_jmen = [\"Matous\", \"Marek\", \"Lukas\", \"Jan\"]"
   ]
  },
  {
   "cell_type": "code",
   "execution_count": 46,
   "metadata": {},
   "outputs": [
    {
     "name": "stdout",
     "output_type": "stream",
     "text": [
      "Matous\n",
      "Marek\n",
      "['Lukas', 'Jan']\n"
     ]
    }
   ],
   "source": [
    "print(jmeno_1, jmeno_2, zbytek_jmen, sep=\"\\n\")"
   ]
  },
  {
   "cell_type": "markdown",
   "metadata": {},
   "source": [
    "Všimněte si jak se hodnoty v proměnných změní, pokud změníme pořadí, kdy hvězdičku zapíšeme:"
   ]
  },
  {
   "cell_type": "code",
   "execution_count": 47,
   "metadata": {},
   "outputs": [],
   "source": [
    "jmeno_1, *zbytek_jmen, jmeno_2 = [\"Matous\", \"Marek\", \"Lukas\", \"Jan\"]"
   ]
  },
  {
   "cell_type": "code",
   "execution_count": 48,
   "metadata": {},
   "outputs": [
    {
     "name": "stdout",
     "output_type": "stream",
     "text": [
      "Matous\n",
      "['Marek', 'Lukas']\n",
      "Jan\n"
     ]
    }
   ],
   "source": [
    "print(jmeno_1, zbytek_jmen, jmeno_2, sep=\"\\n\")"
   ]
  },
  {
   "cell_type": "code",
   "execution_count": null,
   "metadata": {},
   "outputs": [],
   "source": [
    "jmeno_1, *zbytek_jmen, jmeno_2, jmeno_3 = [\"Matous\", \"Marek\", \"Lukas\", \"Jan\", \"Petr\", \"Krystof\"]"
   ]
  },
  {
   "cell_type": "code",
   "execution_count": null,
   "metadata": {},
   "outputs": [],
   "source": [
    "print(jmeno_1, jmeno_2, jmeno_3, zbytek_jmen, sep=\"\\n\")"
   ]
  },
  {
   "cell_type": "code",
   "execution_count": null,
   "metadata": {},
   "outputs": [],
   "source": [
    "prvni_jmeno, *zbytek = [\"Matous\", \"Marek\", \"Lukas\", \"Jan\"]"
   ]
  },
  {
   "cell_type": "code",
   "execution_count": null,
   "metadata": {},
   "outputs": [],
   "source": [
    "print(prvni_jmeno, zbytek, sep='\\n')"
   ]
  },
  {
   "cell_type": "code",
   "execution_count": null,
   "metadata": {},
   "outputs": [],
   "source": [
    "print(zbytek[0])"
   ]
  },
  {
   "cell_type": "code",
   "execution_count": 49,
   "metadata": {},
   "outputs": [],
   "source": [
    "jmeno_souboru, *zbytek = 'MAIN-INFO-UBUNTU-Toto je loggovaci zprava'.split('-', maxsplit=1)"
   ]
  },
  {
   "cell_type": "code",
   "execution_count": 50,
   "metadata": {},
   "outputs": [
    {
     "name": "stdout",
     "output_type": "stream",
     "text": [
      "MAIN\n"
     ]
    }
   ],
   "source": [
    "print(jmeno_souboru)"
   ]
  },
  {
   "cell_type": "markdown",
   "metadata": {},
   "source": [
    "<br>\n",
    "\n",
    "### 🧠 CVIČENÍ 🧠, Vyzkoušej si práci s *uživatelskými funkcemi* a *vícenásobné přiřazování*:"
   ]
  },
  {
   "cell_type": "markdown",
   "metadata": {},
   "source": [
    "1. Nahraj knihovny `pprint` a `collections`,\n",
    "2. vytvoř definici funkce `vyber_plnolete_klienty`, která potřebuje jedinný parametr `klient: tuple`,\n",
    "3. tato funkce opět vrací datový typ `tuple`,\n",
    "4. účelem funkce je projít zadané pole a vybrat pouze ty klienty, kteří jsou starší 18 let,\n",
    "5. vrácenou hodnotu ulož do proměnné `plnoleti`,\n",
    "6. z proměnné `plnoleti` přiřaď poslední záznam do proměnné `posledni_plnolety` pomocí vícenásobného přiřazování."
   ]
  },
  {
   "cell_type": "code",
   "execution_count": null,
   "metadata": {},
   "outputs": [],
   "source": [
    "from pprint import pprint\n",
    "from collections import namedtuple\n",
    "\n",
    "Klient = namedtuple('Klienti', field_names=['krestni_jmeno',\n",
    "                                            'prijmeni',\n",
    "                                            'email',\n",
    "                                            'vek'])\n",
    "vsichni_klienti = (\n",
    "    Klient(krestni_jmeno='Matouš', prijmeni='Holinka', email='matous@holinka.com', vek=30),\n",
    "    Klient(krestni_jmeno='Lukáš', prijmeni='Holinka', email='lukas.holinka@gmail.com', vek=20),\n",
    "    Klient(krestni_jmeno='Petr', prijmeni='Svetr', email='psvetr@email.cz', vek=16),\n",
    "    Klient(krestni_jmeno='Marek', prijmeni='Párek', email='parekm@seznam.cz', vek=14)\n",
    ")"
   ]
  },
  {
   "cell_type": "code",
   "execution_count": null,
   "metadata": {},
   "outputs": [],
   "source": [
    "pprint(posledni_plnolety)"
   ]
  },
  {
   "cell_type": "markdown",
   "metadata": {},
   "source": [
    "<details>\n",
    "  <summary>▶️ Klikni zde pro zobrazení řešení</summary>\n",
    "   \n",
    "```python\n",
    "from pprint import pprint\n",
    "from collections import namedtuple\n",
    "\n",
    "Klient = namedtuple('Klienti', field_names=['krestni_jmeno',\n",
    "                                            'prijmeni',\n",
    "                                            'email',\n",
    "                                            'vek'])\n",
    "vsichni_klienti = (\n",
    "    Klient(krestni_jmeno='Matouš', prijmeni='Holinka', email='matous@holinka.com', vek=30),\n",
    "    Klient(krestni_jmeno='Lukáš', prijmeni='Holinka', email='lukas.holinka@gmail.com', vek=20),\n",
    "    Klient(krestni_jmeno='Petr', prijmeni='Svetr', email='psvetr@email.cz', vek=16),\n",
    "    Klient(krestni_jmeno='Marek', prijmeni='Párek', email='parekm@seznam.cz', vek=14)\n",
    ")\n",
    "\n",
    "\n",
    "def vyber_plnolete_klienty(klienti: tuple) -> tuple:\n",
    "    \"\"\"\n",
    "    Vrať nezměnitelné pole, které obsahuje jen takové klienty, kteří\n",
    "    jsou stařší 18 let.\n",
    "\n",
    "    :param klienti: Pole všech klientů,\n",
    "    :type klienti: tuple\n",
    "    :return: pole plnoletých klientů,\n",
    "    :rtype: tuple\n",
    "    \"\"\"\n",
    "    return tuple(\n",
    "        klient\n",
    "        for klient in klienti\n",
    "        if klient.vek > 18\n",
    "    )\n",
    "        \n",
    "\n",
    "plnoleti = vyber_plnolete_klienty(vsichni_klienti)\n",
    "_ , posledni_plnolety = plnoleti\n",
    "```\n",
    "</details>"
   ]
  },
  {
   "cell_type": "markdown",
   "metadata": {},
   "source": [
    "<br>\n",
    "\n",
    "➡️ ➡️ **Formulář pro Tvoje hodnocení** [**sedmé lekce**](https://forms.gle/kBLzN7YJFJemaSQV8) ⬅️ ⬅️\n",
    "\n",
    "<br>"
   ]
  },
  {
   "cell_type": "markdown",
   "metadata": {},
   "source": [
    "<br>\n",
    "\n",
    "<img src=\"https://www.creativefabrica.com/wp-content/uploads/2021/07/21/Homework-icon-Graphics-14972340-1.jpg\" width=\"400\" style=\"margin-left:auto; margin-right:auto\">\n",
    "\n",
    "## Domácí úkol\n",
    "\n",
    "---"
   ]
  },
  {
   "cell_type": "markdown",
   "metadata": {},
   "source": [
    "Napiš funkci, která bude umět převádět označení typu bytu (**byt0001**, **byt0003**):\n",
    "```\n",
    "byt0001,55m2,Olomouc,ul.Heyrovského,\n",
    "byt0003,65m2,Olomouc,ul.Novosadský_dvůr,\n",
    "```"
   ]
  },
  {
   "cell_type": "code",
   "execution_count": null,
   "metadata": {},
   "outputs": [],
   "source": [
    "vzor = {\n",
    "    \"byt0001\": \"1+1\",\n",
    "    \"byt0002\": \"2+1\",\n",
    "    \"byt0003\": \"2+kk\",\n",
    "    \"byt0004\": \"3+1\",\n",
    "    \"byt0005\": \"3+kk\",\n",
    "    \"byt0006\": \"4+1\",\n",
    "    \"byt0007\": \"4+kk\",\n",
    "}"
   ]
  },
  {
   "cell_type": "markdown",
   "metadata": {},
   "source": [
    "Funkce musí umět extrahovat údaj a pak jej převést:\n",
    "```\n",
    "byt0001,55m2,Olomouc,ul.Heyrovského,\n",
    "byt0003,65m2,Olomouc,ul.Novosadský_dvůr,\n",
    "...\n",
    "```\n",
    "\n",
    "výstup bude vypadat jako:\n",
    "```\n",
    "1+1,55m2,Olomouc,ul.Heyrovského,\n",
    "2+kk,65m2,Olomouc,ul.Novosadský_dvůr,\n",
    "...\n",
    "```   "
   ]
  },
  {
   "cell_type": "markdown",
   "metadata": {},
   "source": [
    "[Formulář po sedmé lekci](https://forms.gle/reGzS39hSDetatpE7)"
   ]
  },
  {
   "cell_type": "markdown",
   "metadata": {},
   "source": [
    "---"
   ]
  }
 ],
 "metadata": {
  "kernelspec": {
   "display_name": "Python 3 (ipykernel)",
   "language": "python",
   "name": "python3"
  },
  "language_info": {
   "codemirror_mode": {
    "name": "ipython",
    "version": 3
   },
   "file_extension": ".py",
   "mimetype": "text/x-python",
   "name": "python",
   "nbconvert_exporter": "python",
   "pygments_lexer": "ipython3",
   "version": "3.8.10"
  }
 },
 "nbformat": 4,
 "nbformat_minor": 4
}
