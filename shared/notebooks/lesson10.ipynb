{
 "cells": [
  {
   "cell_type": "markdown",
   "metadata": {},
   "source": [
    "# Python akademie\n",
    "\n",
    "---\n",
    "\n",
    "<br>\n",
    "\n",
    "## Obsah lekce\n",
    "---\n",
    "\n",
    "1. [Úvod do chyb](#Úvod-do-chyb),\n",
    "2. [Druhy chyb](),\n",
    "3. [Odchytávání výjimek](#Odchytávání-výjimek),\n",
    "4. [Debugování](#Debugování),\n",
    "5. [Domácí úloha](#Domácí-úloha).\n",
    "\n",
    "---"
   ]
  },
  {
   "cell_type": "markdown",
   "metadata": {},
   "source": [
    "<br>\n",
    "\n",
    "<img src=\"https://external-content.duckduckgo.com/iu/?u=https%3A%2F%2Ftse1.mm.bing.net%2Fth%3Fid%3DOIP.iyRtgmUPNPU7-T9k3gdF6gHaHa%26pid%3DApi&f=1&ipt=830e70c5fb64bc9c6ee474185a2c94132c6c4580e63315751b258bc3e61ba233&ipo=images\" width=\"150\" style=\"margin-left:auto; margin-right:auto\">"
   ]
  },
  {
   "cell_type": "markdown",
   "metadata": {},
   "source": [
    "## Úvod do chyb\n",
    "\n",
    "---"
   ]
  },
  {
   "cell_type": "markdown",
   "metadata": {},
   "source": [
    "**Chybu může udělat každý**. Programátory, analytiky, obecně pythonisty nevyjímaje.\n",
    "\n",
    "Pokud uděláš chybu, *interpret* ji při spuštění:\n",
    "* vystopuje,\n",
    "* pozná,\n",
    "* zatřídí."
   ]
  },
  {
   "cell_type": "markdown",
   "metadata": {},
   "source": [
    "Jelikož chybu udělá programátor pouze výjimečně, určitě si také uslyšíš označení **výjimka** (z angl. *exception*)."
   ]
  },
  {
   "cell_type": "markdown",
   "metadata": {},
   "source": [
    "<br>\n",
    "\n",
    "Velmi obecně, pokud uděláš chybu, můžou nastat tyto situace:\n",
    "1. Program **zcela selže** (doprovázeno výjimkami),\n",
    "2. program se **nechová podle očekávání** (doprovázeno debugováním)."
   ]
  },
  {
   "attachments": {},
   "cell_type": "markdown",
   "metadata": {},
   "source": [
    "Jiné rozdělení (exaktnější) můžeš aplikovat **na průběh tvého programu**:\n",
    "1. **Syntaktické chyby**, nedodržení předpisu jazyka Python (způsobí *výjimku*),\n",
    "2. **Běhové chyby**, chyba se projeví až při interpretování našeho zápisu (způsobí *výjimku*),\n",
    "3. **Logické chyby**, kód funguje jinak než bylo zamýšleno (musíš *debugovat*).\n",
    "\n",
    "\n",
    "\n",
    "<img src=\"https://cdn.dribbble.com/users/1692681/screenshots/10226579/bugs_icons_4x.jpg\" width=\"500\" style=\"margin-left:auto; margin-right:auto\">\n",
    "\n",
    "## Druhy chyb\n",
    "\n",
    "---"
   ]
  },
  {
   "cell_type": "markdown",
   "metadata": {},
   "source": [
    "<br>\n",
    "\n",
    "### Syntaktické chyby\n",
    "\n",
    "---\n",
    "\n",
    "Čím více **řádků kódu napíšeš**, tím více se s těmito chybami setkáš."
   ]
  },
  {
   "cell_type": "code",
   "execution_count": 1,
   "metadata": {},
   "outputs": [
    {
     "ename": "SyntaxError",
     "evalue": "invalid syntax (1394721149.py, line 1)",
     "output_type": "error",
     "traceback": [
      "\u001b[0;36m  Cell \u001b[0;32mIn[1], line 1\u001b[0;36m\u001b[0m\n\u001b[0;31m    if \"@\" in \"matous@matous.cz\"\u001b[0m\n\u001b[0m                                ^\u001b[0m\n\u001b[0;31mSyntaxError\u001b[0m\u001b[0;31m:\u001b[0m invalid syntax\n"
     ]
    }
   ],
   "source": [
    "if \"@\" in \"matous@matous.cz\"\n",
    "    print(\"Pravda\")\n",
    "else:\n",
    "    print(\"Neni pravda\")"
   ]
  },
  {
   "cell_type": "markdown",
   "metadata": {},
   "source": [
    "V ukázce výše je nějaký problém.\n",
    "\n",
    "*Interpret* se snaží pomoci, ale ne vždy je to pro něj jednoduché.\n",
    "\n",
    "Proto existuje celá řada **statických zvýrazňovačů** a pomůcek, které umí tyto problémy včas odhalit:\n",
    "1. [pylint](https://pypi.org/project/pylint/),\n",
    "2. [flake8](https://flake8.pycqa.org/en/latest/).\n",
    "\n",
    "Pokud používáš **editor**, nebo **IDE**, vyzkoušej, jestli už neobsahují podobný zabudovaný **zvýraznovač** (z angl. *linter*).\n",
    "\n",
    "Právě takového pomůcky dovedu rozeznat chybný zápis **již na počátku**.\n",
    "\n",
    "Proto by takový nástroj měl být **základní pracovní pomůckou** každého programátora."
   ]
  },
  {
   "cell_type": "markdown",
   "metadata": {},
   "source": [
    "##### **Demo: Pycharm, linter**\n",
    "##### **Demo: flake8**"
   ]
  },
  {
   "cell_type": "markdown",
   "metadata": {},
   "source": [
    "<br>\n",
    "\n",
    "### Běhové chyby\n",
    "\n",
    "---\n",
    "\n",
    "S **běhovou chybou** se setkáš v průběhu programu.\n",
    "\n",
    "Pokud tvůj zápis **dostatečně neošetříš**, může fungovat většinu času, ale **ne pokaždé**:"
   ]
  },
  {
   "cell_type": "code",
   "execution_count": 2,
   "metadata": {},
   "outputs": [],
   "source": [
    "def vrat_polovinu(cislo: int) -> float:\n",
    "    return cislo / 2"
   ]
  },
  {
   "cell_type": "code",
   "execution_count": 3,
   "metadata": {},
   "outputs": [
    {
     "name": "stdout",
     "output_type": "stream",
     "text": [
      "0.5\n",
      "1.0\n",
      "1.5\n",
      "2.0\n",
      "2.5\n"
     ]
    }
   ],
   "source": [
    "for cislo in (1, 2, 3, 4, 5):\n",
    "    print(vrat_polovinu(cislo))"
   ]
  },
  {
   "cell_type": "markdown",
   "metadata": {},
   "source": [
    "<br>\n",
    "\n",
    "Program klidně může fungovat pro naprostou většinu **běžných scénářů**."
   ]
  },
  {
   "cell_type": "code",
   "execution_count": 4,
   "metadata": {},
   "outputs": [
    {
     "name": "stdout",
     "output_type": "stream",
     "text": [
      "0.5\n",
      "1.0\n"
     ]
    },
    {
     "ename": "TypeError",
     "evalue": "unsupported operand type(s) for /: 'str' and 'int'",
     "output_type": "error",
     "traceback": [
      "\u001b[0;31m---------------------------------------------------------------------------\u001b[0m",
      "\u001b[0;31mTypeError\u001b[0m                                 Traceback (most recent call last)",
      "Cell \u001b[0;32mIn[4], line 2\u001b[0m\n\u001b[1;32m      1\u001b[0m \u001b[38;5;28;01mfor\u001b[39;00m cislo \u001b[38;5;129;01min\u001b[39;00m (\u001b[38;5;241m1\u001b[39m, \u001b[38;5;241m2\u001b[39m, \u001b[38;5;124m\"\u001b[39m\u001b[38;5;124m3\u001b[39m\u001b[38;5;124m\"\u001b[39m, \u001b[38;5;241m4\u001b[39m, \u001b[38;5;241m5\u001b[39m):\n\u001b[0;32m----> 2\u001b[0m     \u001b[38;5;28mprint\u001b[39m(\u001b[43mvrat_polovinu\u001b[49m\u001b[43m(\u001b[49m\u001b[43mcislo\u001b[49m\u001b[43m)\u001b[49m)\n",
      "Cell \u001b[0;32mIn[2], line 2\u001b[0m, in \u001b[0;36mvrat_polovinu\u001b[0;34m(cislo)\u001b[0m\n\u001b[1;32m      1\u001b[0m \u001b[38;5;28;01mdef\u001b[39;00m \u001b[38;5;21mvrat_polovinu\u001b[39m(cislo: \u001b[38;5;28mint\u001b[39m) \u001b[38;5;241m-\u001b[39m\u001b[38;5;241m>\u001b[39m \u001b[38;5;28mfloat\u001b[39m:\n\u001b[0;32m----> 2\u001b[0m     \u001b[38;5;28;01mreturn\u001b[39;00m \u001b[43mcislo\u001b[49m\u001b[43m \u001b[49m\u001b[38;5;241;43m/\u001b[39;49m\u001b[43m \u001b[49m\u001b[38;5;241;43m2\u001b[39;49m\n",
      "\u001b[0;31mTypeError\u001b[0m: unsupported operand type(s) for /: 'str' and 'int'"
     ]
    }
   ],
   "source": [
    "for cislo in (1, 2, \"3\", 4, 5):\n",
    "    print(vrat_polovinu(cislo))"
   ]
  },
  {
   "cell_type": "markdown",
   "metadata": {},
   "source": [
    "Nicméně ne pokaždé.\n",
    "\n",
    "V některých krajních případech, může být průběh přerušený **výjimkou**.\n",
    "\n",
    "Tento typ chyb již **není tak triviální**. Přesto existují různé postupy, jak se výjimkám vyvarovat:\n",
    "1. *Type hints*,\n",
    "2. *mypy*,\n",
    "3. *unit testy*,\n",
    "4. *odchytávání výjimek* (z angl. *error handling*)."
   ]
  },
  {
   "cell_type": "markdown",
   "metadata": {},
   "source": [
    "##### **Demo: PyCharm**\n",
    "##### **Demo: mypy**"
   ]
  },
  {
   "cell_type": "markdown",
   "metadata": {},
   "source": [
    "<br>\n",
    "\n",
    "### Logické chyby\n",
    "\n",
    "---\n",
    "\n",
    "**Logickou chybu** nepoznáš snadno, pakliže vůbec.\n",
    "\n",
    "Program totiž spustíš **bez komplikací**.\n",
    "\n",
    "Teprve až po zevrubné kontrole hodnot, případně výstupu, můžeš vidět nejasnosti:"
   ]
  },
  {
   "cell_type": "code",
   "execution_count": 5,
   "metadata": {},
   "outputs": [],
   "source": [
    "x = 3\n",
    "y = 5"
   ]
  },
  {
   "cell_type": "code",
   "execution_count": 6,
   "metadata": {},
   "outputs": [],
   "source": [
    "prumer = x + y / 2  # 3 + 5 = 8   ->   8 / 2 -> 4"
   ]
  },
  {
   "cell_type": "code",
   "execution_count": 7,
   "metadata": {},
   "outputs": [
    {
     "name": "stdout",
     "output_type": "stream",
     "text": [
      "5.5\n"
     ]
    }
   ],
   "source": [
    "print(prumer)"
   ]
  },
  {
   "cell_type": "markdown",
   "metadata": {},
   "source": [
    "Bránit se proti takovým chybám, **není jednoduché**.\n",
    "\n",
    "Odhalení často přijde až **na samotné uživatele**.\n",
    "\n",
    "Pomoci můžou:\n",
    "1. *Unit testy*,\n",
    "2. *integrační testy*,\n",
    "3. *přehledná dokumentace*,\n",
    "4. *debugování*."
   ]
  },
  {
   "cell_type": "markdown",
   "metadata": {},
   "source": [
    "<br>\n",
    "\n",
    "<img src=\"https://external-content.duckduckgo.com/iu/?u=https%3A%2F%2Ftse4.mm.bing.net%2Fth%3Fid%3DOIP.CVj91OGvRBV4UGvUsJrcBgHaHa%26pid%3DApi&f=1&ipt=e774a9aaac10c086f91ae1851f821e46bd798de75021e978f3b24dbb06dc71db&ipo=images\" width=\"150\" style=\"margin-left:auto; margin-right:auto\">\n",
    "\n",
    "## Odchytávání výjimek\n",
    "\n",
    "---"
   ]
  },
  {
   "cell_type": "markdown",
   "metadata": {},
   "source": [
    "*Výjimka* ale nutně neznamená konec světa.\n",
    "\n",
    "Jsou **to objekty** jako každý jiný.\n",
    "\n",
    "Proto s nimi můžeš manipulovat (z angl. *error handling*)."
   ]
  },
  {
   "cell_type": "code",
   "execution_count": 8,
   "metadata": {},
   "outputs": [],
   "source": [
    "def vydel_dve_cisla(delenec: int, delitel: int) -> float:\n",
    "    return delenec / delitel"
   ]
  },
  {
   "cell_type": "code",
   "execution_count": 9,
   "metadata": {},
   "outputs": [
    {
     "name": "stdout",
     "output_type": "stream",
     "text": [
      "2.0\n",
      "2.0\n",
      "39.0\n"
     ]
    }
   ],
   "source": [
    "print(\n",
    "    vydel_dve_cisla(4, 2),\n",
    "    vydel_dve_cisla(14, 7),\n",
    "    vydel_dve_cisla(117, 3),\n",
    "    sep=\"\\n\"\n",
    ")"
   ]
  },
  {
   "cell_type": "markdown",
   "metadata": {},
   "source": [
    "<br>\n",
    "\n",
    "Pokud ovšem zadáš jiný **typ argumentu**:"
   ]
  },
  {
   "cell_type": "code",
   "execution_count": 10,
   "metadata": {},
   "outputs": [
    {
     "ename": "TypeError",
     "evalue": "unsupported operand type(s) for /: 'str' and 'int'",
     "output_type": "error",
     "traceback": [
      "\u001b[0;31m---------------------------------------------------------------------------\u001b[0m",
      "\u001b[0;31mTypeError\u001b[0m                                 Traceback (most recent call last)",
      "Cell \u001b[0;32mIn[10], line 1\u001b[0m\n\u001b[0;32m----> 1\u001b[0m \u001b[38;5;28mprint\u001b[39m(\u001b[43mvydel_dve_cisla\u001b[49m\u001b[43m(\u001b[49m\u001b[38;5;124;43m\"\u001b[39;49m\u001b[38;5;124;43m4\u001b[39;49m\u001b[38;5;124;43m\"\u001b[39;49m\u001b[43m,\u001b[49m\u001b[43m \u001b[49m\u001b[38;5;241;43m2\u001b[39;49m\u001b[43m)\u001b[49m)\n",
      "Cell \u001b[0;32mIn[8], line 2\u001b[0m, in \u001b[0;36mvydel_dve_cisla\u001b[0;34m(delenec, delitel)\u001b[0m\n\u001b[1;32m      1\u001b[0m \u001b[38;5;28;01mdef\u001b[39;00m \u001b[38;5;21mvydel_dve_cisla\u001b[39m(delenec: \u001b[38;5;28mint\u001b[39m, delitel: \u001b[38;5;28mint\u001b[39m) \u001b[38;5;241m-\u001b[39m\u001b[38;5;241m>\u001b[39m \u001b[38;5;28mfloat\u001b[39m:\n\u001b[0;32m----> 2\u001b[0m     \u001b[38;5;28;01mreturn\u001b[39;00m \u001b[43mdelenec\u001b[49m\u001b[43m \u001b[49m\u001b[38;5;241;43m/\u001b[39;49m\u001b[43m \u001b[49m\u001b[43mdelitel\u001b[49m\n",
      "\u001b[0;31mTypeError\u001b[0m: unsupported operand type(s) for /: 'str' and 'int'"
     ]
    }
   ],
   "source": [
    "print(vydel_dve_cisla(\"4\", 2))"
   ]
  },
  {
   "cell_type": "markdown",
   "metadata": {},
   "source": [
    "<br>\n",
    "\n",
    "A nezapomeň **na nulu**:"
   ]
  },
  {
   "cell_type": "code",
   "execution_count": 11,
   "metadata": {},
   "outputs": [
    {
     "ename": "ZeroDivisionError",
     "evalue": "division by zero",
     "output_type": "error",
     "traceback": [
      "\u001b[0;31m---------------------------------------------------------------------------\u001b[0m",
      "\u001b[0;31mZeroDivisionError\u001b[0m                         Traceback (most recent call last)",
      "Cell \u001b[0;32mIn[11], line 1\u001b[0m\n\u001b[0;32m----> 1\u001b[0m \u001b[38;5;28mprint\u001b[39m(\u001b[43mvydel_dve_cisla\u001b[49m\u001b[43m(\u001b[49m\u001b[38;5;241;43m4\u001b[39;49m\u001b[43m,\u001b[49m\u001b[43m \u001b[49m\u001b[38;5;241;43m0\u001b[39;49m\u001b[43m)\u001b[49m)\n",
      "Cell \u001b[0;32mIn[8], line 2\u001b[0m, in \u001b[0;36mvydel_dve_cisla\u001b[0;34m(delenec, delitel)\u001b[0m\n\u001b[1;32m      1\u001b[0m \u001b[38;5;28;01mdef\u001b[39;00m \u001b[38;5;21mvydel_dve_cisla\u001b[39m(delenec: \u001b[38;5;28mint\u001b[39m, delitel: \u001b[38;5;28mint\u001b[39m) \u001b[38;5;241m-\u001b[39m\u001b[38;5;241m>\u001b[39m \u001b[38;5;28mfloat\u001b[39m:\n\u001b[0;32m----> 2\u001b[0m     \u001b[38;5;28;01mreturn\u001b[39;00m \u001b[43mdelenec\u001b[49m\u001b[43m \u001b[49m\u001b[38;5;241;43m/\u001b[39;49m\u001b[43m \u001b[49m\u001b[43mdelitel\u001b[49m\n",
      "\u001b[0;31mZeroDivisionError\u001b[0m: division by zero"
     ]
    }
   ],
   "source": [
    "print(vydel_dve_cisla(4, 0))"
   ]
  },
  {
   "cell_type": "markdown",
   "metadata": {},
   "source": [
    "Než na všechny možné i nemožné scénáře psát podmínky a udělátka, je lepší *interpretu* sdělit, že jde o pokus."
   ]
  },
  {
   "cell_type": "markdown",
   "metadata": {},
   "source": [
    "<br>\n",
    "\n",
    "### Try, tedy vyzkoušej\n",
    "\n",
    "---\n",
    "\n",
    "Pro vyzkoušení použij rezervované slovo `try`:"
   ]
  },
  {
   "cell_type": "code",
   "execution_count": 12,
   "metadata": {},
   "outputs": [
    {
     "ename": "SyntaxError",
     "evalue": "invalid syntax (4123979029.py, line 5)",
     "output_type": "error",
     "traceback": [
      "\u001b[0;36m  Cell \u001b[0;32mIn[12], line 5\u001b[0;36m\u001b[0m\n\u001b[0;31m    return vysledek\u001b[0m\n\u001b[0m    ^\u001b[0m\n\u001b[0;31mSyntaxError\u001b[0m\u001b[0;31m:\u001b[0m invalid syntax\n"
     ]
    }
   ],
   "source": [
    "def vydel_dve_cisla(delenec: int, delitel: int) -> float:\n",
    "    try:\n",
    "        vysledek = delenec / delitel\n",
    "    \n",
    "    return vysledek"
   ]
  },
  {
   "cell_type": "markdown",
   "metadata": {},
   "source": [
    "Pozor, syntaxe **není kompletní**, každým vyzkoušením naznačuješ, že může nastat *výjimka*.\n",
    "\n",
    "Proto je nutné, nachystat se, pokud se skutečně objeví."
   ]
  },
  {
   "cell_type": "markdown",
   "metadata": {},
   "source": [
    "<br>\n",
    "\n",
    "### Try/except\n",
    "\n",
    "---"
   ]
  },
  {
   "cell_type": "markdown",
   "metadata": {},
   "source": [
    "Syntaxi uzavřeš tak, že přidáš větev `except` (podobná struktura jako podmínkové větve):"
   ]
  },
  {
   "cell_type": "code",
   "execution_count": 13,
   "metadata": {},
   "outputs": [],
   "source": [
    "def vydel_dve_cisla(delenec: int, delitel: int) -> float:\n",
    "    try:\n",
    "        vysledek = delenec / delitel\n",
    "    \n",
    "    except:\n",
    "        print(\"Nelze vydělit!\")\n",
    "        vysledek = None\n",
    "\n",
    "    return vysledek"
   ]
  },
  {
   "cell_type": "code",
   "execution_count": 14,
   "metadata": {},
   "outputs": [
    {
     "name": "stdout",
     "output_type": "stream",
     "text": [
      "Nelze vydělit!\n"
     ]
    }
   ],
   "source": [
    "vydel_dve_cisla(4, 0)    # ZeroDivisionError"
   ]
  },
  {
   "cell_type": "code",
   "execution_count": 15,
   "metadata": {},
   "outputs": [
    {
     "name": "stdout",
     "output_type": "stream",
     "text": [
      "Nelze vydělit!\n"
     ]
    }
   ],
   "source": [
    "vydel_dve_cisla(\"4\", 2)  # TypeError"
   ]
  },
  {
   "cell_type": "code",
   "execution_count": 16,
   "metadata": {},
   "outputs": [
    {
     "name": "stdout",
     "output_type": "stream",
     "text": [
      "4.0\n"
     ]
    }
   ],
   "source": [
    "print(vydel_dve_cisla(12, 3))"
   ]
  },
  {
   "cell_type": "markdown",
   "metadata": {},
   "source": [
    "Pokud nyní nastane **jakákoliv výjimka**, spustí *interpret* ohlášení ve větvi `except`.\n",
    "\n",
    "Pokud se však výjimka neobjeví, vrátí řádný výsledek."
   ]
  },
  {
   "cell_type": "markdown",
   "metadata": {},
   "source": [
    "```python\n",
    "        vysledek = None\n",
    "```\n",
    "\n",
    "Proměnnou `vysledek` je nutné nachystat pro oba případy, jinak by ji *interpret* neuměl u výjimku vytvořit.\n",
    "\n",
    "Jelikož zápis ve `try` selhal."
   ]
  },
  {
   "cell_type": "markdown",
   "metadata": {},
   "source": [
    "```python\n",
    "    except:\n",
    "        print(\"Nelze vydělit!\")\n",
    "        vysledek = None\n",
    "```\n",
    "\n",
    "**Žádná výjimka** by neměla zůstat implicitně označená.\n",
    "\n",
    "Vždý si proto přesně nachystej, co má tebou zapsaná větev `except` chytat.\n",
    "\n",
    "Pokud nemáš jistotu, použij `except Exception`:"
   ]
  },
  {
   "cell_type": "code",
   "execution_count": 17,
   "metadata": {},
   "outputs": [],
   "source": [
    "def vydel_dve_cisla(delenec: int, delitel: int) -> float:\n",
    "    try:\n",
    "        vysledek = delenec / delitel\n",
    "    \n",
    "    except Exception as err:  # trochu lepší řešení\n",
    "        print(\"Nelze vydělit!\")\n",
    "        print(repr(err))\n",
    "        vysledek = None\n",
    "\n",
    "    return vysledek"
   ]
  },
  {
   "cell_type": "code",
   "execution_count": 18,
   "metadata": {},
   "outputs": [
    {
     "name": "stdout",
     "output_type": "stream",
     "text": [
      "2.0\n"
     ]
    }
   ],
   "source": [
    "print(vydel_dve_cisla(4, 2))"
   ]
  },
  {
   "cell_type": "code",
   "execution_count": 19,
   "metadata": {},
   "outputs": [
    {
     "name": "stdout",
     "output_type": "stream",
     "text": [
      "Nelze vydělit!\n",
      "ZeroDivisionError('division by zero')\n",
      "None\n"
     ]
    }
   ],
   "source": [
    "print(vydel_dve_cisla(4, 0))"
   ]
  },
  {
   "cell_type": "code",
   "execution_count": 20,
   "metadata": {},
   "outputs": [
    {
     "name": "stdout",
     "output_type": "stream",
     "text": [
      "Nelze vydělit!\n",
      "TypeError(\"unsupported operand type(s) for /: 'str' and 'int'\")\n"
     ]
    }
   ],
   "source": [
    "vydel_dve_cisla(\"4\", 1)"
   ]
  },
  {
   "cell_type": "markdown",
   "metadata": {},
   "source": [
    "Pokud víš, co chceš chytat za výjimky, vypiš je:"
   ]
  },
  {
   "cell_type": "code",
   "execution_count": 21,
   "metadata": {},
   "outputs": [],
   "source": [
    "def vydel_dve_cisla(delenec: int, delitel: int) -> float:\n",
    "    try:\n",
    "        vysledek = delenec / delitel\n",
    "    \n",
    "    except (TypeError, ZeroDivisionError):  # neúplně perfektní!\n",
    "        print(\"Nelze vydělit!\")\n",
    "        vysledek = None\n",
    "\n",
    "    return vysledek"
   ]
  },
  {
   "cell_type": "code",
   "execution_count": 23,
   "metadata": {},
   "outputs": [
    {
     "name": "stdout",
     "output_type": "stream",
     "text": [
      "2.0\n"
     ]
    }
   ],
   "source": [
    "print(vydel_dve_cisla(4, 2))"
   ]
  },
  {
   "cell_type": "code",
   "execution_count": 24,
   "metadata": {},
   "outputs": [
    {
     "name": "stdout",
     "output_type": "stream",
     "text": [
      "Nelze vydělit!\n",
      "None\n"
     ]
    }
   ],
   "source": [
    "print(vydel_dve_cisla(4, 0))"
   ]
  },
  {
   "cell_type": "code",
   "execution_count": 25,
   "metadata": {},
   "outputs": [
    {
     "name": "stdout",
     "output_type": "stream",
     "text": [
      "Nelze vydělit!\n",
      "None\n"
     ]
    }
   ],
   "source": [
    "print(vydel_dve_cisla(\"4\", 1))"
   ]
  },
  {
   "cell_type": "markdown",
   "metadata": {},
   "source": [
    "Pokud potřebuješ pro oba výjimkové scénáře různé průběhy, větví `except` můžeš mít více:"
   ]
  },
  {
   "cell_type": "code",
   "execution_count": 26,
   "metadata": {},
   "outputs": [],
   "source": [
    "def vydel_dve_cisla(delenec: int, delitel: int) -> float:\n",
    "    try:\n",
    "        vysledek = delenec / delitel\n",
    "    \n",
    "    except TypeError:\n",
    "        print(\"Nelze vydělit zadaný datový typ!\")\n",
    "        vysledek = None\n",
    "    except ZeroDivisionError:\n",
    "        print(\"Nelze dělit nulou!\")\n",
    "        vysledek = None\n",
    "\n",
    "    return vysledek"
   ]
  },
  {
   "cell_type": "code",
   "execution_count": 27,
   "metadata": {},
   "outputs": [
    {
     "data": {
      "text/plain": [
       "2.0"
      ]
     },
     "execution_count": 27,
     "metadata": {},
     "output_type": "execute_result"
    }
   ],
   "source": [
    "vydel_dve_cisla(4, 2)"
   ]
  },
  {
   "cell_type": "code",
   "execution_count": 28,
   "metadata": {},
   "outputs": [
    {
     "name": "stdout",
     "output_type": "stream",
     "text": [
      "Nelze dělit nulou!\n"
     ]
    }
   ],
   "source": [
    "vydel_dve_cisla(4, 0)"
   ]
  },
  {
   "cell_type": "code",
   "execution_count": 29,
   "metadata": {},
   "outputs": [
    {
     "name": "stdout",
     "output_type": "stream",
     "text": [
      "Nelze vydělit zadaný datový typ!\n"
     ]
    }
   ],
   "source": [
    "vydel_dve_cisla(\"4\", 1)"
   ]
  },
  {
   "cell_type": "code",
   "execution_count": 30,
   "metadata": {},
   "outputs": [
    {
     "ename": "TypeError",
     "evalue": "vydel_dve_cisla() missing 1 required positional argument: 'delitel'",
     "output_type": "error",
     "traceback": [
      "\u001b[0;31m---------------------------------------------------------------------------\u001b[0m",
      "\u001b[0;31mTypeError\u001b[0m                                 Traceback (most recent call last)",
      "Cell \u001b[0;32mIn[30], line 1\u001b[0m\n\u001b[0;32m----> 1\u001b[0m \u001b[43mvydel_dve_cisla\u001b[49m\u001b[43m(\u001b[49m\u001b[38;5;241;43m4\u001b[39;49m\u001b[43m)\u001b[49m\n",
      "\u001b[0;31mTypeError\u001b[0m: vydel_dve_cisla() missing 1 required positional argument: 'delitel'"
     ]
    }
   ],
   "source": [
    "vydel_dve_cisla(4)"
   ]
  },
  {
   "cell_type": "markdown",
   "metadata": {},
   "source": [
    "Obvykle však bývá přehlednější zkoušet **v jeden moment** (výraze), **jeden proces**."
   ]
  },
  {
   "cell_type": "markdown",
   "metadata": {},
   "source": [
    "<br>\n",
    "\n",
    "### try/except/else\n",
    "\n",
    "---\n",
    "\n",
    "Často se **na třetí větev** zapomíná.\n",
    "\n",
    "Slouží k tomu, ať máš kam napsat následná ohlášení, která potřebuješ potom, co úspěšně vyzkoušíš kus kódu.\n",
    "\n",
    "Tedy nechat větev `try` a její obsah, **co nejstručnější**:"
   ]
  },
  {
   "cell_type": "code",
   "execution_count": 31,
   "metadata": {},
   "outputs": [],
   "source": [
    "def vydel_dve_cisla(delenec: int, delitel: int) -> float:\n",
    "    try:\n",
    "        vysledek = delenec / delitel\n",
    "\n",
    "    except TypeError:\n",
    "        print(\"Nelze vydělit zadaný datový typ!\")\n",
    "        vysledek = None\n",
    "    except ZeroDivisionError:\n",
    "        print(\"Nelze dělit nulou!\")\n",
    "        vysledek = None\n",
    "    else:\n",
    "        print(\"Úspěšné dělení obou argumentů\")\n",
    "        print(vysledek)"
   ]
  },
  {
   "cell_type": "code",
   "execution_count": 32,
   "metadata": {},
   "outputs": [
    {
     "name": "stdout",
     "output_type": "stream",
     "text": [
      "Úspěšné dělení obou argumentů\n",
      "2.0\n"
     ]
    }
   ],
   "source": [
    "vydel_dve_cisla(4, 2)"
   ]
  },
  {
   "cell_type": "code",
   "execution_count": 33,
   "metadata": {},
   "outputs": [
    {
     "name": "stdout",
     "output_type": "stream",
     "text": [
      "Nelze dělit nulou!\n"
     ]
    }
   ],
   "source": [
    "vydel_dve_cisla(4, 0)"
   ]
  },
  {
   "cell_type": "code",
   "execution_count": 34,
   "metadata": {},
   "outputs": [
    {
     "name": "stdout",
     "output_type": "stream",
     "text": [
      "Nelze vydělit zadaný datový typ!\n"
     ]
    }
   ],
   "source": [
    "vydel_dve_cisla(\"4\", 1)"
   ]
  },
  {
   "cell_type": "markdown",
   "metadata": {},
   "source": [
    "<br>\n",
    "\n",
    "### 🧠 CVIČENÍ 🧠, Vyzkoušej si práci s *handlováním výjimek*:"
   ]
  },
  {
   "cell_type": "markdown",
   "metadata": {},
   "source": [
    "1. Vytvoř funkci `vrat_zemi_objednavky` s parametrem, která vrátí buď `None` nebo `str`,\n",
    "2. funkce musí zpracovat proměnné `data_1`, `data_2`a `data_3`,\n",
    "3. primárně musí najít klíč `channel` z něj vzít hodnotu a rozdělit ji podle mezery, tak ať z `eshop CZ` vrátí jen `CZ`,\n",
    "4. pokud funkce nenajde klíč `channel`, ošetří výjimku `KeyError`,\n",
    "5. pokud funkce najde klíč `channel`, ale bude prázdný, ošetří `IndexError`."
   ]
  },
  {
   "cell_type": "code",
   "execution_count": 35,
   "metadata": {},
   "outputs": [],
   "source": [
    "data_1 = {\n",
    "    'order': {\n",
    "        'id': '1234', 'type': 'order.created', 'channel': 'eshop CZ'\n",
    "    }\n",
    "}\n",
    "\n",
    "data_2 = {\n",
    "    'order': {\n",
    "        'id': '1234', 'type': 'order.created', 'channel': ''\n",
    "    }\n",
    "}\n",
    "\n",
    "data_3 = {\n",
    "    'order': {\n",
    "        'id': '1234', 'type': 'order.created'\n",
    "    }\n",
    "}"
   ]
  },
  {
   "cell_type": "code",
   "execution_count": 42,
   "metadata": {},
   "outputs": [
    {
     "ename": "IndexError",
     "evalue": "list index out of range",
     "output_type": "error",
     "traceback": [
      "\u001b[0;31m---------------------------------------------------------------------------\u001b[0m",
      "\u001b[0;31mIndexError\u001b[0m                                Traceback (most recent call last)",
      "Cell \u001b[0;32mIn[42], line 1\u001b[0m\n\u001b[0;32m----> 1\u001b[0m \u001b[38;5;124;43m'\u001b[39;49m\u001b[38;5;124;43m'\u001b[39;49m\u001b[38;5;241;43m.\u001b[39;49m\u001b[43msplit\u001b[49m\u001b[43m(\u001b[49m\u001b[43m)\u001b[49m\u001b[43m[\u001b[49m\u001b[38;5;241;43m0\u001b[39;49m\u001b[43m]\u001b[49m\n",
      "\u001b[0;31mIndexError\u001b[0m: list index out of range"
     ]
    }
   ],
   "source": [
    "''.split()[0]"
   ]
  },
  {
   "cell_type": "code",
   "execution_count": null,
   "metadata": {},
   "outputs": [],
   "source": [
    "print(vrat_zemi_objednavky(data_1))"
   ]
  },
  {
   "cell_type": "code",
   "execution_count": null,
   "metadata": {},
   "outputs": [],
   "source": [
    "print(vrat_zemi_objednavky(data_2))"
   ]
  },
  {
   "cell_type": "code",
   "execution_count": null,
   "metadata": {},
   "outputs": [],
   "source": [
    "print(vrat_zemi_objednavky(data_3))"
   ]
  },
  {
   "cell_type": "markdown",
   "metadata": {},
   "source": [
    "Pokud se tedy dostaneš do situace, kdy potřebuješ sadu ohlášení *interpretovat* pouze tehdy, pokud se **výjimka neobjeví**, nezapomeň `else` přidat."
   ]
  },
  {
   "cell_type": "markdown",
   "metadata": {},
   "source": [
    "<details>\n",
    "  <summary>▶️ Klikni zde pro zobrazení řešení</summary>\n",
    "   \n",
    "```python\n",
    "from typing import Dict, Optional\n",
    "\n",
    "NestedDict = Dict[str, Dict[str, Optional[str]]]\n",
    "\n",
    "\n",
    "def vrat_zemi_objednavky(responsed_data: Optional[NestedDict],\n",
    "                         main_key: str = 'channel') -> Optional[str]:\n",
    "    try:\n",
    "        zeme_objednavky = responsed_data['order'][main_key]\n",
    "        iso_kod_zeme = zeme_objednavky.split()[1]\n",
    "    \n",
    "    except KeyError:\n",
    "        print('WARNING: Chybí klíč \"channel\"')\n",
    "        return None\n",
    "    except IndexError:\n",
    "        print('WARNING: Chybí hodnota pro rozdělení.')\n",
    "        return None\n",
    "    except AttributeError:\n",
    "        print('WARNING: Nelze řádně rozdělit hodnotu')\n",
    "        return None\n",
    "    else:\n",
    "        return iso_kod_zeme\n",
    "```\n",
    "</details>"
   ]
  },
  {
   "cell_type": "markdown",
   "metadata": {},
   "source": [
    "<br>\n",
    "\n",
    "### try/except/else/finally\n",
    "\n",
    "---\n",
    "\n",
    "Poslední možností, jak zápis s odchytáváním vylepšit, je větev `finally`."
   ]
  },
  {
   "cell_type": "code",
   "execution_count": 46,
   "metadata": {},
   "outputs": [],
   "source": [
    "from typing import Optional\n",
    "\n",
    "def vydel_dve_cisla(delenec: int, delitel: int) -> Optional[float]:\n",
    "    try:\n",
    "        vysledek = delenec / delitel\n",
    "    \n",
    "    except TypeError:\n",
    "        print(\"Nelze vydělit zadaný datový typ!\")\n",
    "        vysledek = None\n",
    "    except ZeroDivisionError:\n",
    "        print(\"Nelze dělit nulou!\")\n",
    "        vysledek = None\n",
    "    else:\n",
    "        print(\"Úspěšně vyděleno..\")\n",
    "        print(delenec, delitel, vysledek, sep=\"\\n\")\n",
    "    finally:\n",
    "        print(\"Ukončuji funkci s dělením.\")\n",
    "        return vysledek"
   ]
  },
  {
   "cell_type": "code",
   "execution_count": 44,
   "metadata": {},
   "outputs": [
    {
     "name": "stdout",
     "output_type": "stream",
     "text": [
      "Úspěšně vyděleno..\n",
      "4\n",
      "2\n",
      "2.0\n",
      "Ukončuji funkci s dělením.\n",
      "2.0\n"
     ]
    }
   ],
   "source": [
    "print(vydel_dve_cisla(4, 2))"
   ]
  },
  {
   "cell_type": "code",
   "execution_count": 45,
   "metadata": {},
   "outputs": [
    {
     "name": "stdout",
     "output_type": "stream",
     "text": [
      "Nelze dělit nulou!\n",
      "Ukončuji funkci s dělením.\n",
      "None\n"
     ]
    }
   ],
   "source": [
    "print(vydel_dve_cisla(4, 0))"
   ]
  },
  {
   "cell_type": "code",
   "execution_count": 47,
   "metadata": {},
   "outputs": [
    {
     "name": "stdout",
     "output_type": "stream",
     "text": [
      "Nelze vydělit zadaný datový typ!\n",
      "Ukončuji funkci s dělením.\n",
      "None\n"
     ]
    }
   ],
   "source": [
    "print(vydel_dve_cisla(\"4\", 1))"
   ]
  },
  {
   "cell_type": "markdown",
   "metadata": {},
   "source": [
    "Cokoliv, co do ní zapíšeš, bude spuštěno ať už se **výjimka objeví, nebo ne**."
   ]
  },
  {
   "cell_type": "markdown",
   "metadata": {},
   "source": [
    "### Souhrn\n",
    "\n",
    "---\n",
    "\n",
    "Syntaxe *zachytávání výjimek*, `try`, `except`, `else` a `finally` je tedy zápis, který použiješ, pokud se chceš:\n",
    "* vyvarovat se mnoha `if` ohlášením,\n",
    "* **při loggování** různých zpráv,\n",
    "* při komunikaci **s jinými end-pointem** (nejčastěji API).\n",
    "\n",
    "<br>\n",
    "\n",
    "Pokud použiješ tento zápis, zkontroluj si, jaké větve lze použít:\n",
    "1. Tedy nepřetěžovat větev `try` s dlouhým zápisem,\n",
    "2. nepoužívat `except` větve implicitně, ale pro specifické výjimky,\n",
    "3. nevynechávat `else`, pokud má vhodný účel."
   ]
  },
  {
   "cell_type": "code",
   "execution_count": 48,
   "metadata": {},
   "outputs": [],
   "source": [
    "def nacti_zahlavi_souboru(obsah_souboru: tuple):\n",
    "    \"\"\"\n",
    "    Vrať první záznam (záhlaví) z obsahu TXT souboru, pokud je k dispozici.\n",
    "    \"\"\"\n",
    "    try:\n",
    "        zahlavi = obsah_souboru[0]\n",
    "        \n",
    "    except IndexError:\n",
    "        zahlavi = list()\n",
    "        print(\"Zadaný objekt nelze indexovat\")\n",
    "    else:\n",
    "        print(\"Záhlaví je k dispozici\")\n",
    "        zahlavi = zahlavi.split() if isinstance(zahlavi, tuple) else zahlavi\n",
    "    finally:\n",
    "        print(\"Vracím rozdělené záhlaví\")\n",
    "        return zahlavi"
   ]
  },
  {
   "cell_type": "code",
   "execution_count": 49,
   "metadata": {},
   "outputs": [
    {
     "name": "stdout",
     "output_type": "stream",
     "text": [
      "Záhlaví je k dispozici\n",
      "Vracím rozdělené záhlaví\n"
     ]
    },
    {
     "data": {
      "text/plain": [
       "('První řádek ', 'se ', 'záhlavím.\\n')"
      ]
     },
     "execution_count": 49,
     "metadata": {},
     "output_type": "execute_result"
    }
   ],
   "source": [
    "nacti_zahlavi_souboru(\n",
    "    (\n",
    "        (\"První řádek \", \"se \", \"záhlavím.\\n\"),\n",
    "        (\"druhý řádek \", \"s \", \"libovolným \", \"textem\\n\")\n",
    "    )\n",
    ")"
   ]
  },
  {
   "cell_type": "code",
   "execution_count": 50,
   "metadata": {},
   "outputs": [
    {
     "name": "stdout",
     "output_type": "stream",
     "text": [
      "Zadaný objekt nelze indexovat\n",
      "Vracím rozdělené záhlaví\n"
     ]
    },
    {
     "data": {
      "text/plain": [
       "[]"
      ]
     },
     "execution_count": 50,
     "metadata": {},
     "output_type": "execute_result"
    }
   ],
   "source": [
    "nacti_zahlavi_souboru(\n",
    "    ()\n",
    ")"
   ]
  },
  {
   "cell_type": "markdown",
   "metadata": {},
   "source": [
    "<br>\n",
    "\n",
    "<img src=\"https://external-content.duckduckgo.com/iu/?u=https%3A%2F%2Ftse1.mm.bing.net%2Fth%3Fid%3DOIP.vk3rU9vi5NMRqyNhP8HZPQHaHa%26pid%3DApi&f=1&ipt=6aa9fd67b68b37ed47acb0d3b54413c2c450da0bce2a1c847a830974157707b6&ipo=images\" width=\"150\" style=\"margin-left:auto; margin-right:auto\">\n",
    "\n",
    "## Debugování\n",
    "---\n"
   ]
  },
  {
   "cell_type": "markdown",
   "metadata": {},
   "source": [
    "Proces *debugování* je označení, které popisuje odstraňování chyb.\n",
    "\n",
    "Původ slova *ladění*, najdeš u vědkyně [Grace Hopper](https://en.wikipedia.org/wiki/Debugging).\n",
    "\n",
    "V Pythonu to prakticky vypadá tak, že v programu či zápise snažíš:\n",
    "1. Naleznout místo, které **vyvolává výjimku**,\n",
    "2. naleznout místo, které **způsobuje neočekávané chování**."
   ]
  },
  {
   "cell_type": "markdown",
   "metadata": {},
   "source": [
    "<br>\n",
    "\n",
    "### Zadání\n",
    "\n",
    "---"
   ]
  },
  {
   "cell_type": "code",
   "execution_count": 1,
   "metadata": {},
   "outputs": [],
   "source": [
    "def formatuj_jmeno(string, symbol: str = \".\"):\n",
    "    \"\"\"\n",
    "    :Example:\n",
    "    >>> formatuj_jmeno(\"marek.parek\")\n",
    "    'Marek'\n",
    "    \"\"\"\n",
    "    jen_jmeno = string.split(symbol)  \n",
    "    return jen_jmeno.title()"
   ]
  },
  {
   "cell_type": "code",
   "execution_count": 2,
   "metadata": {},
   "outputs": [],
   "source": [
    "def vytvor_pozdrav(jmeno: str, formatovaci_fce: callable) -> str:\n",
    "    \"\"\"\n",
    "    :Example:\n",
    "    >>> vytvor_pozdrav(\"marek.parek\")\n",
    "    'Toto je Marek, zdravíme!'\n",
    "    \"\"\"\n",
    "    return \" \".join((\"Toto je\", \"\".join(formatovaci_fce(jmeno)), \"zdravíme!\"))"
   ]
  },
  {
   "cell_type": "code",
   "execution_count": 3,
   "metadata": {},
   "outputs": [
    {
     "ename": "AttributeError",
     "evalue": "'list' object has no attribute 'title'",
     "output_type": "error",
     "traceback": [
      "\u001b[0;31m---------------------------------------------------------------------------\u001b[0m",
      "\u001b[0;31mAttributeError\u001b[0m                            Traceback (most recent call last)",
      "Cell \u001b[0;32mIn[3], line 1\u001b[0m\n\u001b[0;32m----> 1\u001b[0m \u001b[38;5;28mprint\u001b[39m(\u001b[43mvytvor_pozdrav\u001b[49m\u001b[43m(\u001b[49m\u001b[38;5;124;43m\"\u001b[39;49m\u001b[38;5;124;43mpetr.svetr\u001b[39;49m\u001b[38;5;124;43m\"\u001b[39;49m\u001b[43m,\u001b[49m\u001b[43m \u001b[49m\u001b[43mformatuj_jmeno\u001b[49m\u001b[43m)\u001b[49m)\n",
      "Cell \u001b[0;32mIn[2], line 7\u001b[0m, in \u001b[0;36mvytvor_pozdrav\u001b[0;34m(jmeno, formatovaci_fce)\u001b[0m\n\u001b[1;32m      1\u001b[0m \u001b[38;5;28;01mdef\u001b[39;00m \u001b[38;5;21mvytvor_pozdrav\u001b[39m(jmeno: \u001b[38;5;28mstr\u001b[39m, formatovaci_fce: \u001b[38;5;28mcallable\u001b[39m) \u001b[38;5;241m-\u001b[39m\u001b[38;5;241m>\u001b[39m \u001b[38;5;28mstr\u001b[39m:\n\u001b[1;32m      2\u001b[0m \u001b[38;5;250m    \u001b[39m\u001b[38;5;124;03m\"\"\"\u001b[39;00m\n\u001b[1;32m      3\u001b[0m \u001b[38;5;124;03m    :Example:\u001b[39;00m\n\u001b[1;32m      4\u001b[0m \u001b[38;5;124;03m    >>> vytvor_pozdrav(\"marek.parek\")\u001b[39;00m\n\u001b[1;32m      5\u001b[0m \u001b[38;5;124;03m    'Toto je Marek, zdravíme!'\u001b[39;00m\n\u001b[1;32m      6\u001b[0m \u001b[38;5;124;03m    \"\"\"\u001b[39;00m\n\u001b[0;32m----> 7\u001b[0m     \u001b[38;5;28;01mreturn\u001b[39;00m \u001b[38;5;124m\"\u001b[39m\u001b[38;5;124m \u001b[39m\u001b[38;5;124m\"\u001b[39m\u001b[38;5;241m.\u001b[39mjoin((\u001b[38;5;124m\"\u001b[39m\u001b[38;5;124mToto je\u001b[39m\u001b[38;5;124m\"\u001b[39m, \u001b[38;5;124m\"\u001b[39m\u001b[38;5;124m\"\u001b[39m\u001b[38;5;241m.\u001b[39mjoin(\u001b[43mformatovaci_fce\u001b[49m\u001b[43m(\u001b[49m\u001b[43mjmeno\u001b[49m\u001b[43m)\u001b[49m), \u001b[38;5;124m\"\u001b[39m\u001b[38;5;124mzdravíme!\u001b[39m\u001b[38;5;124m\"\u001b[39m))\n",
      "Cell \u001b[0;32mIn[1], line 8\u001b[0m, in \u001b[0;36mformatuj_jmeno\u001b[0;34m(string, symbol)\u001b[0m\n\u001b[1;32m      2\u001b[0m \u001b[38;5;250m\u001b[39m\u001b[38;5;124;03m\"\"\"\u001b[39;00m\n\u001b[1;32m      3\u001b[0m \u001b[38;5;124;03m:Example:\u001b[39;00m\n\u001b[1;32m      4\u001b[0m \u001b[38;5;124;03m>>> formatuj_jmeno(\"marek.parek\")\u001b[39;00m\n\u001b[1;32m      5\u001b[0m \u001b[38;5;124;03m'Marek'\u001b[39;00m\n\u001b[1;32m      6\u001b[0m \u001b[38;5;124;03m\"\"\"\u001b[39;00m\n\u001b[1;32m      7\u001b[0m jen_jmeno \u001b[38;5;241m=\u001b[39m string\u001b[38;5;241m.\u001b[39msplit(symbol)  \n\u001b[0;32m----> 8\u001b[0m \u001b[38;5;28;01mreturn\u001b[39;00m \u001b[43mjen_jmeno\u001b[49m\u001b[38;5;241;43m.\u001b[39;49m\u001b[43mtitle\u001b[49m()\n",
      "\u001b[0;31mAttributeError\u001b[0m: 'list' object has no attribute 'title'"
     ]
    }
   ],
   "source": [
    "print(vytvor_pozdrav(\"petr.svetr\", formatuj_jmeno))"
   ]
  },
  {
   "cell_type": "markdown",
   "metadata": {},
   "source": [
    "<br>\n",
    "\n",
    "Co nám *interpret* vypsal:\n",
    "* `AttributeError`, tedy typ výjimky, kterému interpret chybu přiřadil,\n",
    "* `Traceback`, postup, odkud chybu stopoval,\n",
    "* `<v_cem> in <kde>`, prostředí, kde se chyba projevila,\n",
    "* `'list' object has no attribute 'title'`, popisek výjimky."
   ]
  },
  {
   "cell_type": "markdown",
   "metadata": {},
   "source": [
    "Vidíš tedy, kde všude *interpret* prošel tvůj zápis a co se mu *nepozdávalo*."
   ]
  },
  {
   "cell_type": "markdown",
   "metadata": {},
   "source": [
    "<br>\n",
    "\n",
    "### Debugování\n",
    "\n",
    "---\n",
    "\n",
    "Nejlepší, co na začátek můžeš provést, je udělat si v situaci jasno.\n",
    "\n",
    "Vědět, s čím máš tu čest.\n",
    "\n",
    "K tomu ti pomůže hned několik zabudovaných funkcí:\n",
    "* `print`,\n",
    "* `type`,\n",
    "* `dir`,\n",
    "* `vars`,\n",
    "* `locals`,\n",
    "* `globals`."
   ]
  },
  {
   "cell_type": "markdown",
   "metadata": {},
   "source": [
    "#### print\n",
    "\n",
    "---\n",
    "\n",
    "Pomocí **jednoduchého výstupu** uvidíš, s čím vůbec pracuješ:"
   ]
  },
  {
   "cell_type": "code",
   "execution_count": 4,
   "metadata": {},
   "outputs": [],
   "source": [
    "def formatuj_jmeno(string, symbol: str = \".\"):\n",
    "    \"\"\"\n",
    "    :Example:\n",
    "    >>> rozdel_string(\"marek.parek\")\n",
    "    'Marek'\n",
    "    \"\"\"\n",
    "    jen_jmeno = string.split(symbol)\n",
    "    print(jen_jmeno)                  # doplněná zab. funkce\n",
    "    # return jen_jmeno.title() "
   ]
  },
  {
   "cell_type": "code",
   "execution_count": 5,
   "metadata": {},
   "outputs": [
    {
     "name": "stdout",
     "output_type": "stream",
     "text": [
      "['petr', 'svetr']\n"
     ]
    }
   ],
   "source": [
    "formatuj_jmeno(\"petr.svetr\")"
   ]
  },
  {
   "cell_type": "markdown",
   "metadata": {},
   "source": [
    "<br>\n",
    "\n",
    "Funkce `vars`, `locals`, `globals` tedy není třeba aplikovat.\n",
    "\n",
    "Ze zápisu je patrné, že pracuješ **se správným objektem**."
   ]
  },
  {
   "cell_type": "markdown",
   "metadata": {},
   "source": [
    "#### type\n",
    "\n",
    "Když vidíš, jak hodnoty vypadají, je potřeba ověřit, jak je zpracuje *interpret*:"
   ]
  },
  {
   "cell_type": "code",
   "execution_count": 6,
   "metadata": {},
   "outputs": [],
   "source": [
    "def formatuj_jmeno(string, symbol: str = \".\"):\n",
    "    \"\"\"\n",
    "    :Example:\n",
    "    >>> rozdel_string(\"marek.parek\")\n",
    "    'Marek'\n",
    "    \"\"\"\n",
    "    jen_jmeno = string.split(symbol)\n",
    "    print(type(jen_jmeno))            # doplněná zab. funkce\n",
    "    # return jen_jmeno.title() "
   ]
  },
  {
   "cell_type": "code",
   "execution_count": 7,
   "metadata": {},
   "outputs": [
    {
     "name": "stdout",
     "output_type": "stream",
     "text": [
      "<class 'list'>\n"
     ]
    }
   ],
   "source": [
    "formatuj_jmeno(\"petr.svetr\")"
   ]
  },
  {
   "cell_type": "markdown",
   "metadata": {},
   "source": [
    "Teď, když znáš datový typ, můžeš zkontrolovat, jestli pracuješ **se správnou metodou**."
   ]
  },
  {
   "cell_type": "markdown",
   "metadata": {},
   "source": [
    "#### dir\n",
    "\n",
    "---\n",
    "\n",
    "Pomocí zab. funkce `dir` ověříš, které metody máš **pro konkrétní objekt** k dispozici:"
   ]
  },
  {
   "cell_type": "code",
   "execution_count": 8,
   "metadata": {},
   "outputs": [],
   "source": [
    "def formatuj_jmeno(string, symbol: str = \".\"):\n",
    "    \"\"\"\n",
    "    :Example:\n",
    "    >>> rozdel_string(\"marek.parek\")\n",
    "    'Marek'\n",
    "    \"\"\"\n",
    "    jen_jmeno = string.split(symbol)\n",
    "    print(dir(jen_jmeno))              # doplněná zab. funkce\n",
    "    # return jen_jmeno.title()         # metoda, kterou ve výstupu hledám"
   ]
  },
  {
   "cell_type": "code",
   "execution_count": 9,
   "metadata": {},
   "outputs": [
    {
     "name": "stdout",
     "output_type": "stream",
     "text": [
      "['__add__', '__class__', '__contains__', '__delattr__', '__delitem__', '__dir__', '__doc__', '__eq__', '__format__', '__ge__', '__getattribute__', '__getitem__', '__gt__', '__hash__', '__iadd__', '__imul__', '__init__', '__init_subclass__', '__iter__', '__le__', '__len__', '__lt__', '__mul__', '__ne__', '__new__', '__reduce__', '__reduce_ex__', '__repr__', '__reversed__', '__rmul__', '__setattr__', '__setitem__', '__sizeof__', '__str__', '__subclasshook__', 'append', 'clear', 'copy', 'count', 'extend', 'index', 'insert', 'pop', 'remove', 'reverse', 'sort']\n"
     ]
    }
   ],
   "source": [
    "formatuj_jmeno(\"petr.svetr\")"
   ]
  },
  {
   "cell_type": "code",
   "execution_count": 11,
   "metadata": {},
   "outputs": [
    {
     "name": "stdout",
     "output_type": "stream",
     "text": [
      "True\n"
     ]
    }
   ],
   "source": [
    "print('title' in dir(str))"
   ]
  },
  {
   "cell_type": "markdown",
   "metadata": {},
   "source": [
    "<br>\n",
    "\n",
    "Vidíš, že použitou metodu skutečně ve výstupu nenajdeš.\n",
    "\n",
    "Takže hodnoty, které zpracováváš a metody, které k tomu používáš, **nejsou kompatibilní**:"
   ]
  },
  {
   "cell_type": "code",
   "execution_count": 12,
   "metadata": {},
   "outputs": [],
   "source": [
    "cele_jmeno = ['petr', 'svetr']"
   ]
  },
  {
   "cell_type": "code",
   "execution_count": 13,
   "metadata": {},
   "outputs": [
    {
     "name": "stdout",
     "output_type": "stream",
     "text": [
      "Petr\n"
     ]
    }
   ],
   "source": [
    "print(cele_jmeno[0].title())"
   ]
  },
  {
   "cell_type": "markdown",
   "metadata": {},
   "source": [
    "V tento okamžik dovedeš celou situaci **jednoduše replikovat**.\n",
    "\n",
    "To samozřejmě není vždy nutné, ale obzvlášť ze začátku, pomáhá spojovat souvislosti."
   ]
  },
  {
   "cell_type": "code",
   "execution_count": 14,
   "metadata": {},
   "outputs": [],
   "source": [
    "def formatuj_jmeno(string, symbol: str = \".\"):\n",
    "    \"\"\"\n",
    "    :Example:\n",
    "    >>> rozdel_string(\"marek.parek\")\n",
    "    'Marek'\n",
    "    \"\"\"\n",
    "    try:\n",
    "        jen_jmeno = string.split(symbol)[0]\n",
    "        \n",
    "    except IndexError:\n",
    "        vystup = string\n",
    "        print(\"Nelze indexovat\")    \n",
    "    except AttributeError:\n",
    "        vystup = string\n",
    "        print(\"Nelze použít zadané metody\")\n",
    "    else:\n",
    "        vystup = jen_jmeno.title()\n",
    "        print(\"Ukládám zadanou hodnotu...\")\n",
    "    finally:\n",
    "        return vystup"
   ]
  },
  {
   "cell_type": "code",
   "execution_count": 15,
   "metadata": {},
   "outputs": [
    {
     "name": "stdout",
     "output_type": "stream",
     "text": [
      "Ukládám zadanou hodnotu...\n",
      "Petr\n"
     ]
    }
   ],
   "source": [
    "print(formatuj_jmeno(\"petr.svetr\"))"
   ]
  },
  {
   "cell_type": "code",
   "execution_count": 16,
   "metadata": {},
   "outputs": [
    {
     "name": "stdout",
     "output_type": "stream",
     "text": [
      "Ukládám zadanou hodnotu...\n",
      "\n"
     ]
    }
   ],
   "source": [
    "print(formatuj_jmeno(\"\"))"
   ]
  },
  {
   "cell_type": "code",
   "execution_count": 17,
   "metadata": {},
   "outputs": [
    {
     "name": "stdout",
     "output_type": "stream",
     "text": [
      "Nelze použít zadané metody\n",
      "None\n"
     ]
    }
   ],
   "source": [
    "print(formatuj_jmeno(None))"
   ]
  },
  {
   "cell_type": "markdown",
   "metadata": {},
   "source": [
    "<br>\n",
    "\n",
    "### Debugování, náročnější situace\n",
    "\n",
    "---\n",
    "\n",
    "Pokud je problém náročnější, pro odhalení, budeš potřebovat silnější nástroj:\n",
    "* knihovna `pdb` (není intuitivní, ale můžeš jej použít všude),\n",
    "* **debugger** součástí editoru/IDE (graficky pohodlné ovládání, ne vždy dostupné)."
   ]
  },
  {
   "cell_type": "markdown",
   "metadata": {},
   "source": [
    "#### Demo: pomocná úloha\n",
    "\n",
    "---\n",
    "\n",
    "Napiš funkci `projdi_vsechny_udaje`, která prochází různé množství zadaných stringů. Procházej pomocí této funkce tak dlouho, dokud nenarazíš na řádek obsahující string `'end'`.\n",
    "Potom proces zastav.\n",
    "\n",
    "Tyto stringy jsou emailové adresy, ze kterých chceš vypsat jméno, příjmení a doménu. Pomocí funkce `rozdel_email` získej vždy první část ze stringu a zbytek. Obě části vrať."
   ]
  },
  {
   "cell_type": "code",
   "execution_count": 25,
   "metadata": {},
   "outputs": [
    {
     "name": "stdout",
     "output_type": "stream",
     "text": [
      "notebooks  onsite\n"
     ]
    }
   ],
   "source": [
    "!ls .."
   ]
  },
  {
   "cell_type": "code",
   "execution_count": 51,
   "metadata": {},
   "outputs": [
    {
     "name": "stdout",
     "output_type": "stream",
     "text": [
      "Writing ../onsite/debug_uloha.py\n"
     ]
    }
   ],
   "source": [
    "%%file ../onsite/debug_uloha.py\n",
    "def projdi_vsechny_udaje(*emaily):\n",
    "    jmena = set()\n",
    "    \n",
    "    for email in emaily:\n",
    "        if \"end\" in email:\n",
    "            break\n",
    "        jmeno, domena = rozdel_email(email)\n",
    "        jmena.add(jmeno)\n",
    "    return jmena\n",
    "\n",
    "def rozdel_email(email: str) -> list:\n",
    "    return email.split(\"@\")\n",
    "\n",
    "projdi_vsechny_udaje(\n",
    "    'petra.fulinova@firma.cz',  # 'petra.fulinova', 'firma.cz'\n",
    "    'adela.vancurova@firma.cz',\n",
    "    'andrea.hertlova@firma.cz',\n",
    "    'petr.vyhnis@firma.cz',\n",
    "    'jan.feckanin@firma.cz',\n",
    "    'pavel.harant@firma.cz',\n",
    "    'zdenka.bendova@firma.cz',\n",
    "    'monika.miczova@firma.cz',\n",
    "    'jan.mosquito@firma.cz',\n",
    "    'barbora.suvova@firma.cz',\n",
    "    'lenka.kafkova@firma.cz',\n",
    "    'nikola.hoffmannova@firma.cz',\n",
    "    'daniela.sedlakova@firma.cz',\n",
    "    'ivana.jerabkova@firma.cz',\n",
    "    'valeria.jagerska@firma.cz',\n",
    "    'hana.bayerova@firma.cz',\n",
    "    'tomas.zamecnik@firma.cz',\n",
    "    'helena.strasilova@firma.cz',\n",
    "    'jana.kralova@firma.cz',\n",
    "    'hermina.duskova@firma.cz',\n",
    "    'dana.mirgova@firma.cz',\n",
    "    'end',\n",
    "    '...'\n",
    ")"
   ]
  },
  {
   "cell_type": "code",
   "execution_count": 20,
   "metadata": {},
   "outputs": [],
   "source": [
    "def rozdel_email(email: str) -> list:\n",
    "    return email.split(\"@\")"
   ]
  },
  {
   "cell_type": "code",
   "execution_count": 21,
   "metadata": {},
   "outputs": [
    {
     "data": {
      "text/plain": [
       "{'adela.vancurova',\n",
       " 'andrea.hertlova',\n",
       " 'jan.feckanin',\n",
       " 'pavel.harant',\n",
       " 'petr.vyhnis',\n",
       " 'petra.fulinova'}"
      ]
     },
     "execution_count": 21,
     "metadata": {},
     "output_type": "execute_result"
    }
   ],
   "source": [
    "projdi_vsechny_udaje(\n",
    "    'petra.fulinova@firma.cz',  # 'petra.fulinova', 'firma.cz'\n",
    "    'adela.vancurova@firma.cz',\n",
    "    'andrea.hertlova@firma.cz',\n",
    "    'petr.vyhnis@firma.cz',\n",
    "    'jan.feckanin@firma.cz',\n",
    "    'pavel.harant@firma.cz',\n",
    "    'zdenka.bendova@firma.cz',\n",
    "    'monika.miczova@firma.cz',\n",
    "    'jan.mosquito@firma.cz',\n",
    "    'barbora.suvova@firma.cz',\n",
    "    'lenka.kafkova@firma.cz',\n",
    "    'nikola.hoffmannova@firma.cz',\n",
    "    'daniela.sedlakova@firma.cz',\n",
    "    'ivana.jerabkova@firma.cz',\n",
    "    'valeria.jagerska@firma.cz',\n",
    "    'hana.bayerova@firma.cz',\n",
    "    'tomas.zamecnik@firma.cz',\n",
    "    'helena.strasilova@firma.cz',\n",
    "    'jana.kralova@firma.cz',\n",
    "    'hermina.duskova@firma.cz',\n",
    "    'dana.mirgova@firma.cz',\n",
    "    'end',\n",
    "    '...'\n",
    ")"
   ]
  },
  {
   "cell_type": "markdown",
   "metadata": {},
   "source": [
    "Po spuštění se ale stalo něco podivného.\n",
    "\n",
    "Vidíš, že funkce neprošly všechny zadané hodnoty.\n",
    "\n",
    "Protože se neobjevila **žádná výjimka**, je potřeba debugovat sofitikovanějšími způsoby:\n",
    "1. Knihovna `pdb`,\n",
    "2. Pycharm, debugger.\n",
    "\n",
    "<img src=\"https://media.giphy.com/media/3owzWdbe27j9q0V6hi/giphy.gif\" width=\"600\" style=\"margin-left:auto; margin-right:auto\">"
   ]
  },
  {
   "cell_type": "markdown",
   "metadata": {},
   "source": [
    "### Knihovna pdb\n",
    "\n",
    "---\n",
    "\n",
    "Primárně jde o knihovnu, která pracuje **v prostředí příkazového řádku** (CLI).\n",
    "\n",
    "<img src=\"https://external-content.duckduckgo.com/iu/?u=https%3A%2F%2Ftse1.mm.bing.net%2Fth%3Fid%3DOIP._1X9WAzqgLeKpoKDZmXKYgHaHa%26pid%3DApi&f=1&ipt=b9b8512501bbb779b6f2c8e87c0c0165d7d230f16ba6739c92abeb65d6b86aae&ipo=images\" width=\"150\" style=\"margin-left:auto; margin-right:auto\">\n",
    "\n",
    "\n",
    "To sice není vždy praktické.\n",
    "\n",
    "Ale často nemáš jako programátor k dispozici **žádné grafické prostředí** (produkční/testovací server).\n",
    "\n",
    "Proto je užitečné ovládat alespoň základy."
   ]
  },
  {
   "cell_type": "markdown",
   "metadata": {},
   "source": [
    "V příkazovém řádku:\n",
    "```\n",
    "$ python -m pdb <jmeno_souboru>.py\n",
    "```"
   ]
  },
  {
   "cell_type": "markdown",
   "metadata": {},
   "source": [
    "Nyní se nacházíš **v interaktivním prostředí Pdb**, pro nápovědu zapiš a potvrď klávesou *enter* `?`: \n",
    "```\n",
    "> absolutni/cesta/k/souboru/..\n",
    "-> __doc__\n",
    "(Pdb)\n",
    "```\n",
    "```\n",
    "(Pdb) ?\n",
    "```"
   ]
  },
  {
   "cell_type": "markdown",
   "metadata": {},
   "source": [
    "Základní orientace a příkazy:\n",
    "* `s`tep, krok, jeden krok v programu,\n",
    "* `c`ontinue, proveď, spusť celý program (nebo dokud můžeš),\n",
    "* `l`ist, zobraz, kde se nachází program."
   ]
  },
  {
   "cell_type": "markdown",
   "metadata": {},
   "source": [
    "Základním stavebním kamenem pro debugovací procesy **je breakpoint**.\n",
    "\n",
    "Tedy místo, na které musíš dávát pozor a zastavit se na něm, pokud k němu v průběhu debugování dorazíš.\n",
    "\n",
    "Umístění probíhá pomocí **příkazu a čísla řádku**:\n",
    "* `b X`, nastaví breakpoint na xtý řádek,\n",
    "* `b`, zobrazí všechny breakpointy,\n",
    "* `clear X`, odstraní breakpoint s číslem X."
   ]
  },
  {
   "cell_type": "markdown",
   "metadata": {},
   "source": [
    "<img src=\"https://external-content.duckduckgo.com/iu/?u=https%3A%2F%2Ftse3.mm.bing.net%2Fth%3Fid%3DOIP.fplwh6HwSmeQNRefCaklgAAAAA%26pid%3DApi&f=1&ipt=31d518690fc1f295730182b3ef3c55c3e0d3b5c3369db4314faa6672f53b3064&ipo=images\" width=\"150\" style=\"margin-left:auto; margin-right:auto\">\n",
    "\n",
    "\n",
    "### Pycharm\n",
    "\n",
    "---\n",
    "\n",
    "Po té, co si poprvé spustíš **tvůj program**, se ti zpřístupní možnost kliknout na tlačítkou **Debug**.\n",
    "\n",
    "**V pravém horním rohu** obrazovky si můžeš všimnout ikonky zeleného broučka, klikni na ni.\n",
    "\n",
    "<br>"
   ]
  },
  {
   "cell_type": "markdown",
   "metadata": {},
   "source": [
    "Po kliknutí se ti v dolní části obrazovky objeví nová pracovní karta **s nadpisem Debug**.\n",
    "\n",
    "Základním stavební kámen už tedy znáš, *breakpoint*.\n",
    "\n",
    "<br>\n",
    "\n",
    "Tím interpretovi naznačíš, které místo ve tvém zápise tě zajímá.\n",
    "\n",
    "V PyCharm zadáš breakpoint jednoduše tak, že **klikneš do šedého prostoru za číslem řádku** (uvidíš posléze červenou tečku).\n",
    "\n",
    "<br>"
   ]
  },
  {
   "cell_type": "markdown",
   "metadata": {},
   "source": [
    "Těchto breakpointů si můžeš nastavit tolik, kolik potřebuješ.\n",
    "\n",
    "Obecně je ale lepší vybrat jich méně, kvůli snazší kontrole.\n",
    "\n",
    "<br>\n",
    "\n",
    "Jakmile interpret dojde postupně k breakpointu, dočasně program přeruší.\n",
    "\n",
    "<br>"
   ]
  },
  {
   "cell_type": "markdown",
   "metadata": {},
   "source": [
    "Jakmile máš vybraná místa označená *breakpointem*, můžeš spustit proces debugování znovu (ale tentokrát s breakpointy).\n",
    "\n",
    "Pro opětovné spuštění použij ikonku **Resume** (symbol zelené šipky, najdeš ji v nové kartě, která se objevila při kliknutí na ikonku broučka):\n",
    "\n",
    "<br>"
   ]
  },
  {
   "cell_type": "markdown",
   "metadata": {},
   "source": [
    "Jakmile se proces odstranění chyby znovu spustí, dojde až k tebou vybranému breakpointu.\n",
    "\n",
    "Nyní máš dvě možnosti:\n",
    "* Zkontrolovat aktuální stav tvého programu,\n",
    "* pokračovat v interpretování zápisu dále.\n",
    "\n",
    "##### Kontrola současného stavu\n",
    "\n",
    "K tomuto kroku slouží karta **Variables**.\n",
    "Tady si můžeš všimnout všech objektů, se kterými interpret doposud pracoval.\n",
    "\n"
   ]
  },
  {
   "cell_type": "markdown",
   "metadata": {},
   "source": [
    "#### **Pokračování**\n",
    "\n",
    "Pokud neodhlálíš příčinu, musíš pokračovat **v další breakpointech**."
   ]
  },
  {
   "cell_type": "markdown",
   "metadata": {},
   "source": [
    "<br>\n",
    "\n",
    "➡️ ➡️ **Formulář pro Tvoje hodnocení** [**desáté lekce**](https://forms.gle/6cpXWTsdPDiZNNjW8) ⬅️ ⬅️\n",
    "\n",
    "<br>"
   ]
  },
  {
   "cell_type": "markdown",
   "metadata": {},
   "source": [
    "---"
   ]
  }
 ],
 "metadata": {
  "kernelspec": {
   "display_name": "Python 3 (ipykernel)",
   "language": "python",
   "name": "python3"
  },
  "language_info": {
   "codemirror_mode": {
    "name": "ipython",
    "version": 3
   },
   "file_extension": ".py",
   "mimetype": "text/x-python",
   "name": "python",
   "nbconvert_exporter": "python",
   "pygments_lexer": "ipython3",
   "version": "3.8.10"
  }
 },
 "nbformat": 4,
 "nbformat_minor": 4
}
