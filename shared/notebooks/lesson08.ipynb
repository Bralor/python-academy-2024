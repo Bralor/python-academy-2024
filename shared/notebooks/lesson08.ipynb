{
 "cells": [
  {
   "cell_type": "markdown",
   "metadata": {},
   "source": [
    "# Python akademie\n",
    "\n",
    "<br>\n",
    "\n",
    "## Obsah lekce\n",
    "---\n",
    "\n",
    "1. [Vstupy uživatelských funkcí](#Vstupy-funkcí),\n",
    "2. [rámce](#Rámce),\n",
    "3. [funkce jako objekt](#Funkce-jako-objekt),\n",
    "4. [domácí úkol](#Domácí-úkol).\n",
    "\n",
    "---"
   ]
  },
  {
   "cell_type": "markdown",
   "metadata": {},
   "source": [
    "<br>\n",
    "\n",
    "<img src=\"https://external-content.duckduckgo.com/iu/?u=https%3A%2F%2Ftse1.mm.bing.net%2Fth%3Fid%3DOIP.qpcc6K7Yys3TFhifE4tuywHaHa%26pid%3DApi&f=1&ipt=b330b6e19fba2fceb06c29cb1f32b58d348ccefa9c27b39dedc996951b8c0588&ipo=images\" width='300' style=\"margin-left:auto; margin-right:auto\" />"
   ]
  },
  {
   "cell_type": "markdown",
   "metadata": {},
   "source": [
    "## Vstupy funkcí\n",
    "\n",
    "---"
   ]
  },
  {
   "cell_type": "markdown",
   "metadata": {},
   "source": [
    "*Vstupem* pro uživatelskou funkci obecně můžeš rozumět:\n",
    "1. **Parametry**, sloužící jako obecné proměnné při definici,\n",
    "2. **argumenty**, tedy konkrétní hodnoty, které vkládáš při spouštění."
   ]
  },
  {
   "cell_type": "code",
   "execution_count": null,
   "metadata": {},
   "outputs": [],
   "source": [
    "cela_zprava = '2006-02-08 22:20:02,165: ESHOP.app:NOVA-OBJEDNAVKA: Vytvářím novou objednávku..'"
   ]
  },
  {
   "cell_type": "code",
   "execution_count": null,
   "metadata": {},
   "outputs": [],
   "source": [
    "def ziskej_zpravu_z_logu(zaznam: str) -> list:\n",
    "    \"\"\"\n",
    "    Vrať zprávu pouze zprávu ze zadaného logu.\n",
    "    \"\"\"\n",
    "    return zaznam.split(\":\")[-2:]"
   ]
  },
  {
   "cell_type": "code",
   "execution_count": null,
   "metadata": {},
   "outputs": [],
   "source": [
    "print(ziskej_zpravu_z_logu(cela_zprava))"
   ]
  },
  {
   "cell_type": "markdown",
   "metadata": {},
   "source": [
    "<br>\n",
    "\n",
    "Vstupy do funkcí ale nemusíš skládat pouze pořadí.\n",
    "\n",
    "Existuje dokonce několik vzorů, které můžeš vyzkoušet."
   ]
  },
  {
   "cell_type": "markdown",
   "metadata": {},
   "source": [
    "<br>\n",
    "\n",
    "Důvod je prostý, každá *uživatelská funkce* je trochu jiná.\n",
    "\n",
    "Proto existuje tento seznam různých vzorů:\n",
    "* **poziční parametry** (argumenty),\n",
    "* **klíčové argumenty**,\n",
    "* **defaultní parametry**,\n",
    "* **position-only** parametry,\n",
    "* **\\*args**,\n",
    "* **\\*\\*kwargs**."
   ]
  },
  {
   "cell_type": "markdown",
   "metadata": {},
   "source": [
    "### Poziční parametry\n",
    "\n",
    "---\n",
    "\n",
    "Ze jména je patrné, že v této variantě záleží na pozici (tedy pořadí), ve kterém parametry (i argumenty) zapíšeš:"
   ]
  },
  {
   "cell_type": "code",
   "execution_count": null,
   "metadata": {},
   "outputs": [],
   "source": [
    "def uloz_informace(jmeno: str, prijmeni: str, telefon: str) -> dict:\n",
    "    return {\n",
    "        \"jmeno\": jmeno,\n",
    "        \"prijmeni\": prijmeni,\n",
    "        \"telefon\": telefon\n",
    "    }"
   ]
  },
  {
   "cell_type": "code",
   "execution_count": null,
   "metadata": {},
   "outputs": [],
   "source": [
    "print(uloz_informace(\"Matouš\", \"Holinka\", \"+420 777 666 555\"))"
   ]
  },
  {
   "cell_type": "markdown",
   "metadata": {},
   "source": [
    "V ukázce vidíš, že parametry jsou uspořádané **za sebou**.\n",
    "\n",
    "Jednotlivé argumenty jsou potom zapsané **v odpovídajícím pořadí**:\n",
    "\n",
    "| Pozice | Parametr | Argument |\n",
    "| :-: | :-: | :-: |\n",
    "| 1 | jmeno | \"Matouš\" |\n",
    "| 2 | prijmeni | \"Holinka\" |\n",
    "| 3 | telefon | \"420 777 666 555\" |\n",
    "\n",
    "<br>\n",
    "\n",
    "Jde o jednu **z nejpoužívanějších a nejznámějších variant**.\n",
    "\n",
    "Takže pokud není komplikované pochopit, jaký *argument* patří do jakého *parametru*, budeš chtít zapsat vstupy touto formou.\n",
    "\n",
    "Současně je ale nutné dbát na fakt, že ne vždy je patrné, který argument patří **ke kterému parametru**."
   ]
  },
  {
   "cell_type": "code",
   "execution_count": null,
   "metadata": {},
   "outputs": [],
   "source": [
    "print(uloz_informace(\"Holinka\", \"Matouš\", \"+420 777 666 555\"))"
   ]
  },
  {
   "cell_type": "markdown",
   "metadata": {},
   "source": [
    "<br>\n",
    "\n",
    "### Klíčové argumenty\n",
    "\n",
    "---\n",
    "\n",
    "Zapisování *podle pozice* nemusí být ale vždy přehledné.\n",
    "\n",
    "Třeba pokud jsou všechny tři parametry **stejného datového typu** (`int`) a ještě jsou samotné **hodnoty podobné**:"
   ]
  },
  {
   "cell_type": "code",
   "execution_count": null,
   "metadata": {},
   "outputs": [],
   "source": [
    "def uloz_informace(jmeno: str, prijmeni: str, telefon: str) -> dict:\n",
    "    return {\n",
    "        \"jmeno\": jmeno,\n",
    "        \"prijmeni\": prijmeni,\n",
    "        \"telefon\": telefon\n",
    "    }"
   ]
  },
  {
   "cell_type": "code",
   "execution_count": null,
   "metadata": {},
   "outputs": [],
   "source": [
    "print(uloz_informace(\"Matouš\", \"Holinka\", \"+420 777 666 555\"))"
   ]
  },
  {
   "cell_type": "code",
   "execution_count": null,
   "metadata": {},
   "outputs": [],
   "source": [
    "print(uloz_informace(\"Holinka\", \"Matouš\", \"+420 777 666 555\"))"
   ]
  },
  {
   "cell_type": "markdown",
   "metadata": {},
   "source": [
    "V okamžiku, kdy přestává být pořadí patrné, nebo zapamatovatelné, je vhodné pracovat **s klíči**.\n",
    "<br>\n",
    "\n",
    "Platí to třeba pro rovnice, nebo objekty, kde se zkrátká hůře orientuješ.\n",
    "\n",
    "Právě v takovém případě je velice příhodné přiřadit jednotlivé hodnoty **explicitně k příslušným parametrům**:"
   ]
  },
  {
   "cell_type": "code",
   "execution_count": null,
   "metadata": {},
   "outputs": [],
   "source": [
    "def uloz_informace(jmeno: str, prijmeni: str, telefon: str) -> dict:\n",
    "    return {\n",
    "        \"jmeno\": jmeno,\n",
    "        \"prijmeni\": prijmeni,\n",
    "        \"telefon\": telefon\n",
    "    }"
   ]
  },
  {
   "cell_type": "code",
   "execution_count": null,
   "metadata": {},
   "outputs": [],
   "source": [
    "print(uloz_informace(jmeno=\"Matouš\", prijmeni=\"Holinka\", telefon=\"+420 777 666 555\"))"
   ]
  },
  {
   "cell_type": "code",
   "execution_count": null,
   "metadata": {},
   "outputs": [],
   "source": [
    "print(uloz_informace(prijmeni=\"Holinka\", telefon=\"+420 777 666 555\", jmeno=\"Matouš\"))"
   ]
  },
  {
   "cell_type": "markdown",
   "metadata": {},
   "source": [
    "Pomocí *klíčových argumentů* se zápis prodlouží.\n",
    "\n",
    "Proto se občas hodé, udělat spuštění funkce **ještě přehlednější** pomocí zápisu pod sebou:"
   ]
  },
  {
   "cell_type": "code",
   "execution_count": null,
   "metadata": {},
   "outputs": [],
   "source": [
    "print(uloz_informace(prijmeni=\"Holinka\",\n",
    "                     telefon=\"+420 777 666 555\",\n",
    "                     jmeno=\"Matouš\")\n",
    ")"
   ]
  },
  {
   "cell_type": "markdown",
   "metadata": {},
   "source": [
    "Takže pokud budeš mít **větší množství parametrů**, nebo se v nich budeš ztrácet, určitě použij tuto variantu."
   ]
  },
  {
   "cell_type": "markdown",
   "metadata": {},
   "source": [
    "### Defaultní parametry\n",
    "\n",
    "---\n",
    "\n",
    "Někdy dojdeš k závěru, že *uživatelská funkce*, kterou tvoříš, potřebuje alespoň **jeden parametr**, který bude ve většině spouštění používat tutéž hodnotu.\n",
    "\n",
    "V takovém případě můžeš do předpisu zapsat *defaultní parametr*:"
   ]
  },
  {
   "cell_type": "code",
   "execution_count": null,
   "metadata": {},
   "outputs": [],
   "source": [
    "from urllib.parse import urljoin"
   ]
  },
  {
   "cell_type": "code",
   "execution_count": null,
   "metadata": {},
   "outputs": [],
   "source": [
    "def vytvor_adresu(cesta: str, host: str =\"https://www.brickranker.com\") -> str:\n",
    "    return urljoin(host, cesta)"
   ]
  },
  {
   "cell_type": "code",
   "execution_count": null,
   "metadata": {},
   "outputs": [],
   "source": [
    "print(vytvor_adresu(\"rankings\"))"
   ]
  },
  {
   "cell_type": "markdown",
   "metadata": {},
   "source": [
    "<br>\n",
    "\n",
    "Při spuštění funkce `vytvor_adresu` je přítomen **pouze jeden argument** a funkci lze přesto spustit."
   ]
  },
  {
   "cell_type": "code",
   "execution_count": null,
   "metadata": {},
   "outputs": [],
   "source": [
    "print(vytvor_adresu(\"news\"))"
   ]
  },
  {
   "cell_type": "markdown",
   "metadata": {},
   "source": [
    "<br>\n",
    "\n",
    "Takže pokud **nevložíš žádný argument**, bude funkce `vytvor_pozdrav` automaticky pracovat se stringem `\"https://www.brickranker.com\"`.\n",
    "\n",
    "Pokud se však rozhodneš, že tebou zadaný **defaultní parametr** bude potřeba upravit, můžeš jej snadno přepsat jinou hodnotou:"
   ]
  },
  {
   "cell_type": "code",
   "execution_count": null,
   "metadata": {},
   "outputs": [],
   "source": [
    "print(vytvor_adresu(\"prehled-kurzu\", \"https://engeto.cz\"))"
   ]
  },
  {
   "cell_type": "code",
   "execution_count": null,
   "metadata": {},
   "outputs": [],
   "source": [
    "print(vytvor_adresu(\"kontakt\", \"https://engeto.cz\"))"
   ]
  },
  {
   "cell_type": "markdown",
   "metadata": {},
   "source": [
    "<br>\n",
    "\n",
    "*Defaultní parametry* je potřeba zadávat **až po pozičních parametrech**:"
   ]
  },
  {
   "cell_type": "code",
   "execution_count": null,
   "metadata": {},
   "outputs": [],
   "source": [
    "def vytvor_adresu_spatne(base_url: str =\"https://www.brickranker.com\", url_path: str) -> str:\n",
    "    return urljoin(base_url, url_path)"
   ]
  },
  {
   "cell_type": "markdown",
   "metadata": {},
   "source": [
    "<br>\n",
    "\n",
    "### Jen poziční parametry\n",
    "\n",
    "---\n",
    "\n",
    "Od verze **Pythonu 3.8** je dostupná tato nová varianta pro zápis parametrů u *uživatelských funkcí*:"
   ]
  },
  {
   "cell_type": "code",
   "execution_count": null,
   "metadata": {},
   "outputs": [],
   "source": [
    "def vypis_pozdrav(jmeno: str, /, je_uzivatel: bool) -> None:\n",
    "    if je_uzivatel:\n",
    "        print(\"Ahoj,\", jmeno)\n",
    "    else:\n",
    "        print(\"Nejsi uživatel!\")"
   ]
  },
  {
   "cell_type": "code",
   "execution_count": null,
   "metadata": {},
   "outputs": [],
   "source": [
    "vypis_pozdrav(\"Matouš\", je_uzivatel=True)"
   ]
  },
  {
   "cell_type": "code",
   "execution_count": null,
   "metadata": {},
   "outputs": [],
   "source": [
    "vypis_pozdrav(\"Matouš\", True)"
   ]
  },
  {
   "cell_type": "markdown",
   "metadata": {},
   "source": [
    "Účelem tohoto typu **zápisu argmentů** je **vynutit od uživatele** zápis všech parametrů nalevo od lomítka `/` jako **poziční argumentů**:"
   ]
  },
  {
   "cell_type": "code",
   "execution_count": null,
   "metadata": {},
   "outputs": [],
   "source": [
    "vypis_pozdrav(jmeno=\"Matouš\", je_uzivatel=True)"
   ]
  },
  {
   "cell_type": "code",
   "execution_count": null,
   "metadata": {},
   "outputs": [],
   "source": [
    "vypis_pozdrav(jmeno=\"Matouš\", True)"
   ]
  },
  {
   "cell_type": "markdown",
   "metadata": {},
   "source": [
    "Zatím co parametry napravo od lomítka můžeš:\n",
    "* zapsat jako **poziční**,\n",
    "* zapsat jako **klíčové**.\n",
    "\n",
    "Kde se s tímto zápisem můžeš setkat:"
   ]
  },
  {
   "cell_type": "code",
   "execution_count": null,
   "metadata": {},
   "outputs": [],
   "source": [
    "# help(float)"
   ]
  },
  {
   "cell_type": "code",
   "execution_count": null,
   "metadata": {},
   "outputs": [],
   "source": [
    "float(x=\"3.141\")"
   ]
  },
  {
   "cell_type": "code",
   "execution_count": null,
   "metadata": {},
   "outputs": [],
   "source": [
    "float(\"3.141\")"
   ]
  },
  {
   "cell_type": "markdown",
   "metadata": {},
   "source": [
    "Vzhledem k tomu, že je to novější varianta **není tolik běžná**.\n",
    "\n",
    "Spatřit ji můžeš tehdy, pokud chce programátor ostatní uživatele jeho uživatelských funkcí omezit při používání **klíčových argumentů**."
   ]
  },
  {
   "cell_type": "markdown",
   "metadata": {},
   "source": [
    "### *args\n",
    "\n",
    "---\n",
    "\n",
    "Pokud znáš jiné programovací jazyky (jako C nebo C++), možná v tobě znak `*` připomene tzv. *pointery*:\n",
    "```c\n",
    "int *pointer_c, c;\n",
    "c = 11;\n",
    "pointer_c = &c;\n",
    "\n",
    "printf(\"Hodnota pointer_c: %d\\n\", c);    // 'Hodnota pointer_c: 11'\n",
    "printf(\"Hodnota c: %d\\n\\n\", *pointer_c); // 'Hodnota c: 11'\n",
    "```\n",
    "\n",
    "Nicméně Python tuto funcionalitu **nepodporuje**.\n",
    "\n",
    "<br>\n",
    "\n",
    "Naopak pomáhá v rámci parametrů oznámit interpretu, že funkce umí pracovat **s různým množstvím argumentů**:"
   ]
  },
  {
   "cell_type": "code",
   "execution_count": null,
   "metadata": {},
   "outputs": [],
   "source": [
    "def vypocitej_prumer(args):\n",
    "    return sum(args) / len(args)"
   ]
  },
  {
   "cell_type": "code",
   "execution_count": null,
   "metadata": {},
   "outputs": [],
   "source": [
    "print(vypocitej_prumer(1, 2, 3, 4, 5))"
   ]
  },
  {
   "cell_type": "markdown",
   "metadata": {},
   "source": [
    "<br>\n",
    "\n",
    "Zásadní je právě přítomnost `*`. Ta sbalí hodnoty do sekvence:"
   ]
  },
  {
   "cell_type": "code",
   "execution_count": null,
   "metadata": {},
   "outputs": [],
   "source": [
    "def vypocitej_prumer(*args):\n",
    "    return sum(args) / len(args)"
   ]
  },
  {
   "cell_type": "code",
   "execution_count": null,
   "metadata": {},
   "outputs": [],
   "source": [
    "print(vypocitej_prumer(1, 2, 3, 4, 5))"
   ]
  },
  {
   "cell_type": "markdown",
   "metadata": {},
   "source": [
    "<br>\n",
    "\n",
    "Jméno parametru `args` potom slouží hlavně jako konvence mezi programátory.\n",
    "\n",
    "V ukázce můžeš klidně použít **jiné jméno**:"
   ]
  },
  {
   "cell_type": "code",
   "execution_count": null,
   "metadata": {},
   "outputs": [],
   "source": [
    "def vypocitej_prumer(*cislice):\n",
    "    return sum(cislice) / len(cislice)"
   ]
  },
  {
   "cell_type": "code",
   "execution_count": null,
   "metadata": {},
   "outputs": [],
   "source": [
    "print(vypocitej_prumer(1, 2, 3, 4, 5, 6))"
   ]
  },
  {
   "cell_type": "markdown",
   "metadata": {},
   "source": [
    "<br>\n",
    "\n",
    "Můžeš namítnout, že podobnou situaci můžeš řešit rovnou pomocí **sekvenčního datového typu**:"
   ]
  },
  {
   "cell_type": "code",
   "execution_count": null,
   "metadata": {},
   "outputs": [],
   "source": [
    "from typing import Tuple"
   ]
  },
  {
   "cell_type": "code",
   "execution_count": null,
   "metadata": {},
   "outputs": [],
   "source": [
    "def vypocitej_prumer(cislice: Tuple[int]) -> float:\n",
    "    return sum(cislice) / len(cislice)"
   ]
  },
  {
   "cell_type": "code",
   "execution_count": null,
   "metadata": {},
   "outputs": [],
   "source": [
    "cislice = (1, 2, 3, 4, 5, 6, 7)"
   ]
  },
  {
   "cell_type": "code",
   "execution_count": null,
   "metadata": {},
   "outputs": [],
   "source": [
    "print(vypocitej_prumer(cislice))"
   ]
  },
  {
   "cell_type": "markdown",
   "metadata": {},
   "source": [
    "<br>\n",
    "\n",
    "Často ale **nemáš/nebudeš možnost si takhle proměnnou pěkně nachystat** (*uložit*).\n",
    "\n",
    "Třeba tehdy, pokud ti někdy číselné řady posílá, aktuální a s různou délkou:"
   ]
  },
  {
   "cell_type": "code",
   "execution_count": null,
   "metadata": {},
   "outputs": [],
   "source": [
    "def vypocitej_prumer(cislice):\n",
    "    return sum(cislice) / len(cislice)"
   ]
  },
  {
   "cell_type": "code",
   "execution_count": null,
   "metadata": {},
   "outputs": [],
   "source": [
    "print(\n",
    "    vypocitej_prumer(1, 2),\n",
    "    vypocitej_prumer(1, 2, 3),\n",
    "    vypocitej_prumer(1, 2, 3, 4),\n",
    "    sep=\"\\n\"\n",
    ")"
   ]
  },
  {
   "cell_type": "code",
   "execution_count": null,
   "metadata": {},
   "outputs": [],
   "source": [
    "def vypocitej_prumer(*cislice):\n",
    "    return sum(cislice) / len(cislice)"
   ]
  },
  {
   "cell_type": "code",
   "execution_count": null,
   "metadata": {},
   "outputs": [],
   "source": [
    "print(\n",
    "    vypocitej_prumer(1, 2),\n",
    "    vypocitej_prumer(1, 2, 3),\n",
    "    vypocitej_prumer(1, 2, 3, 4),\n",
    "    sep=\"\\n\"\n",
    ")"
   ]
  },
  {
   "cell_type": "markdown",
   "metadata": {},
   "source": [
    "Nyní funkci `vypocitej_prumer` zapsanou hvězdičkou oznamuješ, že parametr `argv` může mít jakýkoliv počet hodnot."
   ]
  },
  {
   "cell_type": "markdown",
   "metadata": {},
   "source": [
    "<br>\n",
    "\n",
    "### **kwargs\n",
    "\n",
    "---\n",
    "\n",
    "Dalším způsobem pro *zápis vstupů*, je varianta **pomocí dvou hvězdiček** `**`.\n",
    "\n",
    "<br>\n",
    "\n",
    "Tentokrát seskupuješ dohromady libovolném množství párů:\n",
    "1. **jména objektů**,\n",
    "2. **jejich hodnot**.\n",
    "\n",
    "Opět si představ situaci, že postupně dostáváš hodnoty, které potřebuješ schovávat do slovníku:"
   ]
  },
  {
   "cell_type": "code",
   "execution_count": null,
   "metadata": {},
   "outputs": [],
   "source": [
    "def vytvor_slovnik(**kwargs) -> None:\n",
    "    \"\"\"\n",
    "    Vypiš slovník, který obsahuje libovolné množství sbalených hodnot. \n",
    "    \"\"\"\n",
    "    for key, value in kwargs.items():\n",
    "        print(key.upper(), value, sep=\":\")"
   ]
  },
  {
   "cell_type": "code",
   "execution_count": null,
   "metadata": {},
   "outputs": [],
   "source": [
    "vytvor_slovnik(jmeno=\"Matous\", prijmeni=\"Holinka\")"
   ]
  },
  {
   "cell_type": "markdown",
   "metadata": {},
   "source": [
    "<br>\n",
    "\n",
    "**Jméno parametru** je opět volitelné, ale je doporučováno, držet se všeobecné konvence `kwargs` (~keyword arguments):"
   ]
  },
  {
   "cell_type": "code",
   "execution_count": null,
   "metadata": {},
   "outputs": [],
   "source": [
    "def vytvor_slovnik(**osobni_udaje):\n",
    "    \"\"\"\n",
    "    Vypiš slovník, který obsahuje libovolné množství sbalených hodnot. \n",
    "    \"\"\"\n",
    "    detaily_uzivatele = dict()\n",
    "    \n",
    "    for key, value in osobni_udaje.items():\n",
    "        detaily_uzivatele[key.upper()] = value\n",
    "                                               \n",
    "    return detaily_uzivatele"
   ]
  },
  {
   "cell_type": "code",
   "execution_count": null,
   "metadata": {},
   "outputs": [],
   "source": [
    "print(vytvor_slovnik(\n",
    "        jmeno=\"Matous\",\n",
    "        prijmeni=\"Holinka\",\n",
    "        vek=90,\n",
    "        email=\"matous@holinka.cz\"\n",
    "))"
   ]
  },
  {
   "cell_type": "markdown",
   "metadata": {},
   "source": [
    "<br>\n",
    "\n",
    "### Souhrn\n",
    "\n",
    "---\n",
    "\n",
    "Aby v tom byl alespoň částečně pořádek, níže je uvedená tabulka se **základními charakteristikami**.\n",
    "\n",
    "| Typ vstupu | Ukázka | Kdy používat |\n",
    "| :- | :- | :- |\n",
    "| **poziční vstupy** | `moje_funkce(jmeno, prijmeni)` | ve většině případech, kde není matoucí **pořadí** argumentů, | \n",
    "| **klíčové argumenty** | `moje_funkce(jmeno=\"Tom\", prijmeni=\"Hrom\")` | pokud je pořadí argumentů **nepřehledné**, pojmenuj je, |\n",
    "| **defaultní parametry** | `moje_funkce(email, registrovany=True)` | pokud potřebuješ při spouštění stejný parametr, napiš jej jako *defaultní*, |  \n",
    "| **position-only parametry** | `moje_funkce(jmeno, /, registrovany)` | pokud potřebuješ vynutit zápis **pozičního argumentu**, |\n",
    "| **\\*args** | `moje_funkce(*args)` | pokud má funkce pracovat **s různým množstvím** hodnot v *sekvenci*, |\n",
    "| **\\*\\*kwargs** |  `moje_funkce(**kwargs)` | pokud má funkce pracovat **s různým množstvím** hodnot v párech *klíč*, *hodnota*. |"
   ]
  },
  {
   "cell_type": "markdown",
   "metadata": {},
   "source": [
    "<br>\n",
    "\n",
    "### 🧠 CVIČENÍ 🧠, Vyzkoušej si práci s *uživatelskými funkcemi*:"
   ]
  },
  {
   "cell_type": "markdown",
   "metadata": {},
   "source": [
    "1. Vytvoř definici uživatelské funkce `spoj_slova`,\n",
    "2. funkce bude pracovat s parametrem `*args`, který bude obsahovat různé množství stringových hodnot,\n",
    "3. funkce ověří, že `*args` není prázdný, jinak vrací `None`,\n",
    "4. pokud  `*args` není prázdný, spoj jednotlivá slova, třeba pomocí pomlčky `-`,\n",
    "5. spojenou stringovou hodnot z funkce vrať.\n",
    "6. funkce vrací datový typ `tuple`,"
   ]
  },
  {
   "cell_type": "code",
   "execution_count": null,
   "metadata": {},
   "outputs": [],
   "source": [
    "from typing import Optional"
   ]
  },
  {
   "cell_type": "code",
   "execution_count": null,
   "metadata": {},
   "outputs": [],
   "source": []
  },
  {
   "cell_type": "code",
   "execution_count": null,
   "metadata": {},
   "outputs": [],
   "source": [
    "print(spoj_slova(\"Hello\",\"world\", \"!\"))  # Výstup bude \"Hello-world-!\""
   ]
  },
  {
   "cell_type": "code",
   "execution_count": null,
   "metadata": {},
   "outputs": [],
   "source": [
    "print(spoj_slova(\"Ahoj\",\"všem!\"))  # Výstup bude \"Ahoj-všem!\""
   ]
  },
  {
   "cell_type": "markdown",
   "metadata": {},
   "source": [
    "<details>\n",
    "  <summary>▶️ Klikni zde pro zobrazení řešení</summary>\n",
    "   \n",
    "```python\n",
    "from typing import Optional\n",
    "\n",
    "\n",
    "def spoj_slova(*args) -> Optional[str]:\n",
    "    if not args:\n",
    "        return None\n",
    "\n",
    "    return \"-\".join(args)\n",
    "\n",
    "print(spoj_slova(\"Hello\",\"world\", \"!\"))  # Výstup bude \"Hello-world-!\"\n",
    "print(spoj_slova(\"Ahoj\",\"všem!\"))  # Výstup bude \"Ahoj-všem!\"\n",
    "```\n",
    "</details>"
   ]
  },
  {
   "cell_type": "markdown",
   "metadata": {},
   "source": [
    "<br>\n",
    "\n",
    "<img src=\"https://external-content.duckduckgo.com/iu/?u=https%3A%2F%2Ftse4.mm.bing.net%2Fth%3Fid%3DOIP.3zH2XO4Ec77ugwOJQSR5KAHaGl%26pid%3DApi&f=1&ipt=da0860e815b2df5c7483ba605846462ead01ddc816a6391c7a24853c7354c4d4&ipo=images\" width=\"350\" style=\"margin-left:auto; margin-right:auto\" />\n",
    "\n",
    "## Rámce\n",
    "\n",
    "---"
   ]
  },
  {
   "cell_type": "markdown",
   "metadata": {},
   "source": [
    "*Scope* nebo také rámec je koncept, na kterém pracuje spousta programovacích jazyků, Python není výjimkou.\n",
    "\n",
    "Rámec v podstatě řeší tuto otázku: **\"K jakým proměnným mám v tuto chvíli přístup?\"**"
   ]
  },
  {
   "cell_type": "markdown",
   "metadata": {},
   "source": [
    "### Globální rámec\n",
    "\n",
    "---"
   ]
  },
  {
   "cell_type": "code",
   "execution_count": 1,
   "metadata": {},
   "outputs": [
    {
     "ename": "NameError",
     "evalue": "name 'jmeno' is not defined",
     "output_type": "error",
     "traceback": [
      "\u001b[0;31m---------------------------------------------------------------------------\u001b[0m",
      "\u001b[0;31mNameError\u001b[0m                                 Traceback (most recent call last)",
      "Cell \u001b[0;32mIn[1], line 1\u001b[0m\n\u001b[0;32m----> 1\u001b[0m \u001b[38;5;28mprint\u001b[39m(\u001b[43mjmeno\u001b[49m)\n",
      "\u001b[0;31mNameError\u001b[0m: name 'jmeno' is not defined"
     ]
    }
   ],
   "source": [
    "print(jmeno)"
   ]
  },
  {
   "cell_type": "markdown",
   "metadata": {},
   "source": [
    "Po spuštění předchozí buňky s funkcí `print` dostaneme chybu s argumentem: `name 'jmeno' is not defined`.\n",
    "\n",
    "Důvodem je **absence proměnné** `jmeno`.\n",
    "\n",
    "Tento problém lze ale popsat jako chybějící `jmeno` v **aktualním rámci**."
   ]
  },
  {
   "cell_type": "code",
   "execution_count": 2,
   "metadata": {},
   "outputs": [],
   "source": [
    "jmeno = \"Matous\""
   ]
  },
  {
   "cell_type": "code",
   "execution_count": 3,
   "metadata": {},
   "outputs": [
    {
     "name": "stdout",
     "output_type": "stream",
     "text": [
      "Matous\n"
     ]
    }
   ],
   "source": [
    "print(jmeno)"
   ]
  },
  {
   "cell_type": "markdown",
   "metadata": {},
   "source": [
    "Teprve nyní tvoříš odkaz/ukazatele na hodnotu stringu `\"Matous\"`.\n",
    "\n",
    "Současně tím **v globálním rámci** zapíšeš proměnnou `jmeno`.\n",
    "\n",
    "Ověřit si, které proměnné máme dostupné v aktuálním globalním rámci můžeme pomocí funkce `globals`:"
   ]
  },
  {
   "cell_type": "code",
   "execution_count": 6,
   "metadata": {},
   "outputs": [
    {
     "name": "stdout",
     "output_type": "stream",
     "text": [
      "{'In': ['',\n",
      "        'print(jmeno)',\n",
      "        'jmeno = \"Matous\"',\n",
      "        'print(jmeno)',\n",
      "        'print(globals()[\"jmeno\"])',\n",
      "        'print(globals())',\n",
      "        'from pprint import pprint\\npprint(globals())'],\n",
      " 'Out': {},\n",
      " '_': '',\n",
      " '__': '',\n",
      " '___': '',\n",
      " '__builtin__': <module 'builtins' (built-in)>,\n",
      " '__builtins__': <module 'builtins' (built-in)>,\n",
      " '__doc__': 'Automatically created module for IPython interactive environment',\n",
      " '__loader__': None,\n",
      " '__name__': '__main__',\n",
      " '__package__': None,\n",
      " '__session__': '/home/matous/projects/python-academy-2024/shared/notebooks/lesson08.ipynb',\n",
      " '__spec__': None,\n",
      " '_dh': [PosixPath('/home/matous/projects/python-academy-2024/shared/notebooks')],\n",
      " '_i': 'print(globals())',\n",
      " '_i1': 'print(jmeno)',\n",
      " '_i2': 'jmeno = \"Matous\"',\n",
      " '_i3': 'print(jmeno)',\n",
      " '_i4': 'print(globals()[\"jmeno\"])',\n",
      " '_i5': 'print(globals())',\n",
      " '_i6': 'from pprint import pprint\\npprint(globals())',\n",
      " '_ih': ['',\n",
      "         'print(jmeno)',\n",
      "         'jmeno = \"Matous\"',\n",
      "         'print(jmeno)',\n",
      "         'print(globals()[\"jmeno\"])',\n",
      "         'print(globals())',\n",
      "         'from pprint import pprint\\npprint(globals())'],\n",
      " '_ii': 'print(globals()[\"jmeno\"])',\n",
      " '_iii': 'print(jmeno)',\n",
      " '_oh': {},\n",
      " 'exit': <IPython.core.autocall.ZMQExitAutocall object at 0x7f6d301e6cd0>,\n",
      " 'get_ipython': <bound method InteractiveShell.get_ipython of <ipykernel.zmqshell.ZMQInteractiveShell object at 0x7f6d301dcf70>>,\n",
      " 'jmeno': 'Matous',\n",
      " 'open': <function open at 0x7f6d3324e1f0>,\n",
      " 'pprint': <function pprint at 0x7f6d33d0e430>,\n",
      " 'quit': <IPython.core.autocall.ZMQExitAutocall object at 0x7f6d301e6cd0>}\n"
     ]
    }
   ],
   "source": [
    "from pprint import pprint\n",
    "pprint(globals())"
   ]
  },
  {
   "cell_type": "markdown",
   "metadata": {},
   "source": [
    "##### Demo: V příkazovém řádku"
   ]
  },
  {
   "cell_type": "markdown",
   "metadata": {},
   "source": [
    "### Lokální rámec\n",
    "\n",
    "---"
   ]
  },
  {
   "cell_type": "code",
   "execution_count": 8,
   "metadata": {},
   "outputs": [],
   "source": [
    "def nedelej_vubec_nic():\n",
    "    dalsi_jmeno = \"Lukas\""
   ]
  },
  {
   "cell_type": "code",
   "execution_count": 9,
   "metadata": {},
   "outputs": [],
   "source": [
    "nedelej_vubec_nic()"
   ]
  },
  {
   "cell_type": "code",
   "execution_count": 10,
   "metadata": {},
   "outputs": [
    {
     "ename": "NameError",
     "evalue": "name 'dalsi_jmeno' is not defined",
     "output_type": "error",
     "traceback": [
      "\u001b[0;31m---------------------------------------------------------------------------\u001b[0m",
      "\u001b[0;31mNameError\u001b[0m                                 Traceback (most recent call last)",
      "Cell \u001b[0;32mIn[10], line 1\u001b[0m\n\u001b[0;32m----> 1\u001b[0m \u001b[38;5;28mprint\u001b[39m(\u001b[43mdalsi_jmeno\u001b[49m)\n",
      "\u001b[0;31mNameError\u001b[0m: name 'dalsi_jmeno' is not defined"
     ]
    }
   ],
   "source": [
    "print(dalsi_jmeno)"
   ]
  },
  {
   "cell_type": "markdown",
   "metadata": {},
   "source": [
    "Opět výstup: `name 'dalsi_jmeno' is not defined`.\n",
    "\n",
    "Tentokrát však máš proměnnou `dalsi_jmeno` předepsanou.\n",
    "\n",
    "<br>\n",
    "\n",
    "Proměnná jmeno tentokrát existuje, ale pouze **v lokálním rámci** funkce `nedelej_vubec_nic`.\n",
    "\n",
    "*Lokální rámec* není *globalní rámec*. Proto nemůžeš použít proměnnou `dalsi_jmeno` v **globálním rámci**, pokud je vytvořená v **lokálním rámci**."
   ]
  },
  {
   "cell_type": "code",
   "execution_count": 11,
   "metadata": {},
   "outputs": [],
   "source": [
    "def nedelej_nic_znovu():\n",
    "    treti_jmeno = \"Lukáš\"\n",
    "    print(treti_jmeno)"
   ]
  },
  {
   "cell_type": "markdown",
   "metadata": {},
   "source": [
    "Pokud potřebuješ zpřístupnit proměnnou `treti_jmeno` uvnitř funkce, musíš použít funkci `print` **v daném lokálním rámci**."
   ]
  },
  {
   "cell_type": "code",
   "execution_count": 12,
   "metadata": {},
   "outputs": [
    {
     "name": "stdout",
     "output_type": "stream",
     "text": [
      "Lukáš\n"
     ]
    }
   ],
   "source": [
    "nedelej_nic_znovu()"
   ]
  },
  {
   "cell_type": "markdown",
   "metadata": {},
   "source": [
    "Co funkce, to nový **lokální rámec**.\n",
    "\n",
    "Každá funkce ma **svůj vlastní lokální rámec**.\n",
    "\n",
    "Jednotlivé *lokální rámce* jsou od sebe izolované (nevidí proměnné ostatních funkcí).\n",
    "\n",
    "**To je jejich největší výhoda, pracují totiž odděleně.**"
   ]
  },
  {
   "cell_type": "markdown",
   "metadata": {},
   "source": [
    "<br>\n",
    "\n",
    "*Lokální rámce* souvísí s funkcemi, ne **s odsazeným zápisem**:"
   ]
  },
  {
   "cell_type": "code",
   "execution_count": 13,
   "metadata": {},
   "outputs": [],
   "source": [
    "ctvrte_jmeno = \"Matouš\""
   ]
  },
  {
   "cell_type": "code",
   "execution_count": 14,
   "metadata": {},
   "outputs": [],
   "source": [
    "if ctvrte_jmeno == \"Matouš\":\n",
    "    prijmeni = \"Holinka\""
   ]
  },
  {
   "cell_type": "code",
   "execution_count": 15,
   "metadata": {},
   "outputs": [
    {
     "name": "stdout",
     "output_type": "stream",
     "text": [
      "{'In': ['',\n",
      "        'print(jmeno)',\n",
      "        'jmeno = \"Matous\"',\n",
      "        'print(jmeno)',\n",
      "        'print(globals()[\"jmeno\"])',\n",
      "        'print(globals())',\n",
      "        'from pprint import pprint\\npprint(globals())',\n",
      "        'def nedelej_vubec_nic():\\n    dalsi_jmeno = \"Lukas\"',\n",
      "        'def nedelej_vubec_nic():\\n    dalsi_jmeno = \"Lukas\"',\n",
      "        'nedelej_vubec_nic()',\n",
      "        'print(dalsi_jmeno)',\n",
      "        'def nedelej_nic_znovu():\\n'\n",
      "        '    treti_jmeno = \"Lukáš\"\\n'\n",
      "        '    print(treti_jmeno)',\n",
      "        'nedelej_nic_znovu()',\n",
      "        'ctvrte_jmeno = \"Matouš\"',\n",
      "        'if ctvrte_jmeno == \"Matouš\":\\n    prijmeni = \"Holinka\"',\n",
      "        'pprint(globals())'],\n",
      " 'Out': {},\n",
      " '_': '',\n",
      " '__': '',\n",
      " '___': '',\n",
      " '__builtin__': <module 'builtins' (built-in)>,\n",
      " '__builtins__': <module 'builtins' (built-in)>,\n",
      " '__doc__': 'Automatically created module for IPython interactive environment',\n",
      " '__loader__': None,\n",
      " '__name__': '__main__',\n",
      " '__package__': None,\n",
      " '__session__': '/home/matous/projects/python-academy-2024/shared/notebooks/lesson08.ipynb',\n",
      " '__spec__': None,\n",
      " '_dh': [PosixPath('/home/matous/projects/python-academy-2024/shared/notebooks')],\n",
      " '_i': 'if ctvrte_jmeno == \"Matouš\":\\n    prijmeni = \"Holinka\"',\n",
      " '_i1': 'print(jmeno)',\n",
      " '_i10': 'print(dalsi_jmeno)',\n",
      " '_i11': 'def nedelej_nic_znovu():\\n'\n",
      "         '    treti_jmeno = \"Lukáš\"\\n'\n",
      "         '    print(treti_jmeno)',\n",
      " '_i12': 'nedelej_nic_znovu()',\n",
      " '_i13': 'ctvrte_jmeno = \"Matouš\"',\n",
      " '_i14': 'if ctvrte_jmeno == \"Matouš\":\\n    prijmeni = \"Holinka\"',\n",
      " '_i15': 'pprint(globals())',\n",
      " '_i2': 'jmeno = \"Matous\"',\n",
      " '_i3': 'print(jmeno)',\n",
      " '_i4': 'print(globals()[\"jmeno\"])',\n",
      " '_i5': 'print(globals())',\n",
      " '_i6': 'from pprint import pprint\\npprint(globals())',\n",
      " '_i7': 'def nedelej_vubec_nic():\\n    dalsi_jmeno = \"Lukas\"',\n",
      " '_i8': 'def nedelej_vubec_nic():\\n    dalsi_jmeno = \"Lukas\"',\n",
      " '_i9': 'nedelej_vubec_nic()',\n",
      " '_ih': ['',\n",
      "         'print(jmeno)',\n",
      "         'jmeno = \"Matous\"',\n",
      "         'print(jmeno)',\n",
      "         'print(globals()[\"jmeno\"])',\n",
      "         'print(globals())',\n",
      "         'from pprint import pprint\\npprint(globals())',\n",
      "         'def nedelej_vubec_nic():\\n    dalsi_jmeno = \"Lukas\"',\n",
      "         'def nedelej_vubec_nic():\\n    dalsi_jmeno = \"Lukas\"',\n",
      "         'nedelej_vubec_nic()',\n",
      "         'print(dalsi_jmeno)',\n",
      "         'def nedelej_nic_znovu():\\n'\n",
      "         '    treti_jmeno = \"Lukáš\"\\n'\n",
      "         '    print(treti_jmeno)',\n",
      "         'nedelej_nic_znovu()',\n",
      "         'ctvrte_jmeno = \"Matouš\"',\n",
      "         'if ctvrte_jmeno == \"Matouš\":\\n    prijmeni = \"Holinka\"',\n",
      "         'pprint(globals())'],\n",
      " '_ii': 'ctvrte_jmeno = \"Matouš\"',\n",
      " '_iii': 'nedelej_nic_znovu()',\n",
      " '_oh': {},\n",
      " 'ctvrte_jmeno': 'Matouš',\n",
      " 'exit': <IPython.core.autocall.ZMQExitAutocall object at 0x7f6d301e6cd0>,\n",
      " 'get_ipython': <bound method InteractiveShell.get_ipython of <ipykernel.zmqshell.ZMQInteractiveShell object at 0x7f6d301dcf70>>,\n",
      " 'jmeno': 'Matous',\n",
      " 'nedelej_nic_znovu': <function nedelej_nic_znovu at 0x7f6d20643af0>,\n",
      " 'nedelej_vubec_nic': <function nedelej_vubec_nic at 0x7f6d20643820>,\n",
      " 'open': <function open at 0x7f6d3324e1f0>,\n",
      " 'pprint': <function pprint at 0x7f6d33d0e430>,\n",
      " 'prijmeni': 'Holinka',\n",
      " 'quit': <IPython.core.autocall.ZMQExitAutocall object at 0x7f6d301e6cd0>}\n"
     ]
    }
   ],
   "source": [
    "pprint(globals())"
   ]
  },
  {
   "cell_type": "markdown",
   "metadata": {},
   "source": [
    "Pokud chceš ověřit, jaké proměnné máš v daném **lokalním rámci**, použij uvnitř konkretního prostředí funkci `locals`:"
   ]
  },
  {
   "cell_type": "code",
   "execution_count": 16,
   "metadata": {},
   "outputs": [],
   "source": [
    "def vypis_cele_jmeno():\n",
    "    \"\"\"\n",
    "    Funkce LOCALS bude pracovat jen uvnitř funkce.\n",
    "    \"\"\"\n",
    "    jmeno = \"Lukáš\"\n",
    "    prijmeni = \"Holinka\"\n",
    "    print(\"Lokální rámec:\", locals())"
   ]
  },
  {
   "cell_type": "code",
   "execution_count": 17,
   "metadata": {},
   "outputs": [
    {
     "name": "stdout",
     "output_type": "stream",
     "text": [
      "Lokální rámec: {'jmeno': 'Lukáš', 'prijmeni': 'Holinka'}\n"
     ]
    }
   ],
   "source": [
    "vypis_cele_jmeno()"
   ]
  },
  {
   "cell_type": "markdown",
   "metadata": {},
   "source": [
    "<br>\n",
    "\n",
    "Naproti tomu, rámec funkce `vypis_cele_jmeno_znovu` neeviduje globální proměnnou:"
   ]
  },
  {
   "cell_type": "code",
   "execution_count": 18,
   "metadata": {},
   "outputs": [],
   "source": [
    "krestni_jmeno = \"Matouš\"\n",
    "\n",
    "\n",
    "def vypis_cele_jmeno_znovu():\n",
    "    \"\"\"\n",
    "    Funkce LOCALS bude pracovat jen uvnitř funkce.\n",
    "    \"\"\"\n",
    "    jmeno = \"Lukáš\"\n",
    "    prijmeni = \"Holinka\"\n",
    "    print(\"Lokální rámec:\", locals())"
   ]
  },
  {
   "cell_type": "code",
   "execution_count": 19,
   "metadata": {},
   "outputs": [
    {
     "name": "stdout",
     "output_type": "stream",
     "text": [
      "Lokální rámec: {'jmeno': 'Lukáš', 'prijmeni': 'Holinka'}\n"
     ]
    }
   ],
   "source": [
    "vypis_cele_jmeno_znovu()"
   ]
  },
  {
   "cell_type": "code",
   "execution_count": 23,
   "metadata": {},
   "outputs": [
    {
     "name": "stdout",
     "output_type": "stream",
     "text": [
      "Matouš\n"
     ]
    }
   ],
   "source": [
    "print(globals()['krestni_jmeno'])"
   ]
  },
  {
   "cell_type": "markdown",
   "metadata": {},
   "source": [
    "<br>\n",
    "\n",
    "Pokud budeš mít uživatelských funkcí víc, můžeš pozorovat, jak žádná nevidí do jiné funkce:"
   ]
  },
  {
   "cell_type": "code",
   "execution_count": 24,
   "metadata": {},
   "outputs": [],
   "source": [
    "def zapis_zahlavi(jmeno):\n",
    "    datum = \"11/11/2011\"\n",
    "    print(\"Lokální rámec 'zapis_zahlavi':\", locals())\n",
    "    return f\"{datum}-{jmeno}\""
   ]
  },
  {
   "cell_type": "code",
   "execution_count": 25,
   "metadata": {},
   "outputs": [],
   "source": [
    "def zapis_zpravu(hlavicka, text):\n",
    "    print(\"Lokální rámec 'zapis_zpravu':\", locals())\n",
    "    return f\"{hlavicka}: {text}\""
   ]
  },
  {
   "cell_type": "code",
   "execution_count": 26,
   "metadata": {},
   "outputs": [
    {
     "name": "stdout",
     "output_type": "stream",
     "text": [
      "Lokální rámec 'zapis_zahlavi': {'jmeno': 'Matouš', 'datum': '11/11/2011'}\n"
     ]
    }
   ],
   "source": [
    "zahl = zapis_zahlavi(\"Matouš\")"
   ]
  },
  {
   "cell_type": "code",
   "execution_count": 27,
   "metadata": {},
   "outputs": [
    {
     "name": "stdout",
     "output_type": "stream",
     "text": [
      "Lokální rámec 'zapis_zpravu': {'hlavicka': '11/11/2011-Matouš', 'text': 'Ahoj všichni!'}\n"
     ]
    }
   ],
   "source": [
    "zprava = zapis_zpravu(zahl, \"Ahoj všichni!\")"
   ]
  },
  {
   "cell_type": "markdown",
   "metadata": {},
   "source": [
    "Tudíž nejsi obyčejně schopen ve funkci `zapis_zpravu` použít parametr `jmeno` atd."
   ]
  },
  {
   "cell_type": "markdown",
   "metadata": {},
   "source": [
    "<br>\n",
    "\n",
    "### Zabudovaný rámec (~built-in scope)\n",
    "\n",
    "---"
   ]
  },
  {
   "cell_type": "markdown",
   "metadata": {},
   "source": [
    "Tento rámec obsahuje všechny *výjimky*, *zabudované funkce*, aj:"
   ]
  },
  {
   "cell_type": "code",
   "execution_count": 28,
   "metadata": {},
   "outputs": [
    {
     "name": "stdout",
     "output_type": "stream",
     "text": [
      "<built-in function sum>\n"
     ]
    }
   ],
   "source": [
    "print(sum)"
   ]
  },
  {
   "cell_type": "markdown",
   "metadata": {},
   "source": [
    "Máš jej k dispozici okamžitě, po spuštění *interpretu*, takže můžeš použít objekty, které má k dispozici."
   ]
  },
  {
   "cell_type": "code",
   "execution_count": 29,
   "metadata": {},
   "outputs": [],
   "source": [
    "import builtins"
   ]
  },
  {
   "cell_type": "code",
   "execution_count": 30,
   "metadata": {},
   "outputs": [
    {
     "data": {
      "text/plain": [
       "['ArithmeticError',\n",
       " 'AssertionError',\n",
       " 'AttributeError',\n",
       " 'BaseException',\n",
       " 'BlockingIOError',\n",
       " 'BrokenPipeError',\n",
       " 'BufferError',\n",
       " 'BytesWarning',\n",
       " 'ChildProcessError',\n",
       " 'ConnectionAbortedError',\n",
       " 'ConnectionError',\n",
       " 'ConnectionRefusedError',\n",
       " 'ConnectionResetError',\n",
       " 'DeprecationWarning',\n",
       " 'EOFError',\n",
       " 'Ellipsis',\n",
       " 'EnvironmentError',\n",
       " 'Exception',\n",
       " 'False',\n",
       " 'FileExistsError',\n",
       " 'FileNotFoundError',\n",
       " 'FloatingPointError',\n",
       " 'FutureWarning',\n",
       " 'GeneratorExit',\n",
       " 'IOError',\n",
       " 'ImportError',\n",
       " 'ImportWarning',\n",
       " 'IndentationError',\n",
       " 'IndexError',\n",
       " 'InterruptedError',\n",
       " 'IsADirectoryError',\n",
       " 'KeyError',\n",
       " 'KeyboardInterrupt',\n",
       " 'LookupError',\n",
       " 'MemoryError',\n",
       " 'ModuleNotFoundError',\n",
       " 'NameError',\n",
       " 'None',\n",
       " 'NotADirectoryError',\n",
       " 'NotImplemented',\n",
       " 'NotImplementedError',\n",
       " 'OSError',\n",
       " 'OverflowError',\n",
       " 'PendingDeprecationWarning',\n",
       " 'PermissionError',\n",
       " 'ProcessLookupError',\n",
       " 'RecursionError',\n",
       " 'ReferenceError',\n",
       " 'ResourceWarning',\n",
       " 'RuntimeError',\n",
       " 'RuntimeWarning',\n",
       " 'StopAsyncIteration',\n",
       " 'StopIteration',\n",
       " 'SyntaxError',\n",
       " 'SyntaxWarning',\n",
       " 'SystemError',\n",
       " 'SystemExit',\n",
       " 'TabError',\n",
       " 'TimeoutError',\n",
       " 'True',\n",
       " 'TypeError',\n",
       " 'UnboundLocalError',\n",
       " 'UnicodeDecodeError',\n",
       " 'UnicodeEncodeError',\n",
       " 'UnicodeError',\n",
       " 'UnicodeTranslateError',\n",
       " 'UnicodeWarning',\n",
       " 'UserWarning',\n",
       " 'ValueError',\n",
       " 'Warning',\n",
       " 'ZeroDivisionError',\n",
       " '__IPYTHON__',\n",
       " '__build_class__',\n",
       " '__debug__',\n",
       " '__doc__',\n",
       " '__import__',\n",
       " '__loader__',\n",
       " '__name__',\n",
       " '__package__',\n",
       " '__spec__',\n",
       " 'abs',\n",
       " 'all',\n",
       " 'any',\n",
       " 'ascii',\n",
       " 'bin',\n",
       " 'bool',\n",
       " 'breakpoint',\n",
       " 'bytearray',\n",
       " 'bytes',\n",
       " 'callable',\n",
       " 'chr',\n",
       " 'classmethod',\n",
       " 'compile',\n",
       " 'complex',\n",
       " 'copyright',\n",
       " 'credits',\n",
       " 'delattr',\n",
       " 'dict',\n",
       " 'dir',\n",
       " 'display',\n",
       " 'divmod',\n",
       " 'enumerate',\n",
       " 'eval',\n",
       " 'exec',\n",
       " 'execfile',\n",
       " 'filter',\n",
       " 'float',\n",
       " 'format',\n",
       " 'frozenset',\n",
       " 'get_ipython',\n",
       " 'getattr',\n",
       " 'globals',\n",
       " 'hasattr',\n",
       " 'hash',\n",
       " 'help',\n",
       " 'hex',\n",
       " 'id',\n",
       " 'input',\n",
       " 'int',\n",
       " 'isinstance',\n",
       " 'issubclass',\n",
       " 'iter',\n",
       " 'len',\n",
       " 'license',\n",
       " 'list',\n",
       " 'locals',\n",
       " 'map',\n",
       " 'max',\n",
       " 'memoryview',\n",
       " 'min',\n",
       " 'next',\n",
       " 'object',\n",
       " 'oct',\n",
       " 'open',\n",
       " 'ord',\n",
       " 'pow',\n",
       " 'print',\n",
       " 'property',\n",
       " 'range',\n",
       " 'repr',\n",
       " 'reversed',\n",
       " 'round',\n",
       " 'runfile',\n",
       " 'set',\n",
       " 'setattr',\n",
       " 'slice',\n",
       " 'sorted',\n",
       " 'staticmethod',\n",
       " 'str',\n",
       " 'sum',\n",
       " 'super',\n",
       " 'tuple',\n",
       " 'type',\n",
       " 'vars',\n",
       " 'zip']"
      ]
     },
     "execution_count": 30,
     "metadata": {},
     "output_type": "execute_result"
    }
   ],
   "source": [
    "dir(builtins)"
   ]
  },
  {
   "cell_type": "markdown",
   "metadata": {},
   "source": [
    "Takže to jsou **3 základní rámce** v Pythonu:"
   ]
  },
  {
   "cell_type": "markdown",
   "metadata": {},
   "source": [
    "<img src=\"https://external-content.duckduckgo.com/iu/?u=https%3A%2F%2Ftse1.mm.bing.net%2Fth%3Fid%3DOIP.PyAwJkVFGp6IVXtRpQXaowHaE6%26pid%3DApi&f=1&ipt=113d12a3bc2e90ece37b5ab11754b3e28c8bfca59a154810dc08376f9ee634e8&ipo=images\" width=\"350\">"
   ]
  },
  {
   "cell_type": "markdown",
   "metadata": {},
   "source": [
    "### Uzavírající rámec (~enclosing scope)\n",
    "\n",
    "---"
   ]
  },
  {
   "cell_type": "markdown",
   "metadata": {},
   "source": [
    "Jde o téma pouze **pro ostřílenější pythonisty.**\n",
    "\n",
    "Celé to vypadá jako jedna *uživatelská funkce* **zanořená** do jiné *uživatelské funkce*:"
   ]
  },
  {
   "cell_type": "code",
   "execution_count": 31,
   "metadata": {},
   "outputs": [],
   "source": [
    "def rozdel_podle_znaku(adresa, znak=\"@\"):  # Uzavírající rámec\n",
    "    rozdeleny_mail = adresa.split(znak)\n",
    "    \n",
    "    def oddel_domenu(nedomena, znak=\".\"):  # Lokální rámec\n",
    "        return nedomena[1].split(znak)[0]\n",
    "    \n",
    "    return oddel_domenu(rozdeleny_mail) "
   ]
  },
  {
   "cell_type": "code",
   "execution_count": 32,
   "metadata": {},
   "outputs": [
    {
     "name": "stdout",
     "output_type": "stream",
     "text": [
      "holinka\n"
     ]
    }
   ],
   "source": [
    "print(rozdel_podle_znaku(\"matous@holinka.cz\"))"
   ]
  },
  {
   "cell_type": "markdown",
   "metadata": {},
   "source": [
    "Tedy původní *lokální rámec* se mění na *uzavírající rámec* tehdy, pokud uvnitř funkce (`rozdel_podle_znaku`) najdeš jinou, uzavřenou funkci (`oddel_domenu`).\n",
    "\n",
    "Aplikace této složitější tématiky pak lze dohledat u:\n",
    "1. *Closures*,\n",
    "2. [*dekorátorů*](https://gist.github.com/Bralor/ea1c0a0430aacf2f71625ee8be1c1ddd)."
   ]
  },
  {
   "cell_type": "markdown",
   "metadata": {},
   "source": [
    "#### Ukázka dekorátoru (~enclosing scope)\n",
    "\n",
    "---"
   ]
  },
  {
   "cell_type": "code",
   "execution_count": 36,
   "metadata": {},
   "outputs": [],
   "source": [
    "def muj_dekorator(func: callable):\n",
    "    def obalovaci_ohlaseni(*args, **kwargs):\n",
    "        print('Začínám spouštět funkci')\n",
    "        vystup = func(*args, **kwargs)\n",
    "        print('Ukončuji celý průběh')\n",
    "        return vystup\n",
    "    return obalovaci_ohlaseni"
   ]
  },
  {
   "cell_type": "code",
   "execution_count": 37,
   "metadata": {},
   "outputs": [],
   "source": [
    "@muj_dekorator\n",
    "def vytvor_pozdrav(jmeno: str) -> None:\n",
    "    print(f\"Ahoj, {jmeno}!\")"
   ]
  },
  {
   "cell_type": "code",
   "execution_count": 38,
   "metadata": {},
   "outputs": [
    {
     "name": "stdout",
     "output_type": "stream",
     "text": [
      "Začínám spouštět funkci\n",
      "Ahoj, Monika!\n",
      "Ukončuji celý průběh\n"
     ]
    }
   ],
   "source": [
    "vytvor_pozdrav(\"Monika\")"
   ]
  },
  {
   "cell_type": "markdown",
   "metadata": {},
   "source": [
    "<br>\n",
    "\n",
    "### Shrnutí rámců\n",
    "\n",
    "---\n",
    "\n",
    "Proč je tedy znalost a pochopení **pravidel rámců** tak důležitá?"
   ]
  },
  {
   "cell_type": "code",
   "execution_count": null,
   "metadata": {},
   "outputs": [],
   "source": [
    "prostredi = \"globalni\"\n",
    "\n",
    "def funkce_a():\n",
    "    prostredi = \"uzavirajici\"\n",
    "\n",
    "    def funkce_b():\n",
    "        prostredi = \"lokalni\"\n",
    "        print(prostredi)\n",
    "\n",
    "    funkce_b()\n",
    "funkce_a()"
   ]
  },
  {
   "cell_type": "markdown",
   "metadata": {},
   "source": [
    "<br>\n",
    "\n",
    "V okamžiku, kdy **nedodržuješ zdravé koncepty práce s rámci**, se můžeš snadno spálit."
   ]
  },
  {
   "cell_type": "code",
   "execution_count": null,
   "metadata": {},
   "outputs": [],
   "source": [
    "prostredi = \"globalni\"        # Přejmenovat a odstranit\n",
    "\n",
    "def funkce_a():\n",
    "    prostredi = \"uzavirajici\" # Odstranit\n",
    "\n",
    "    def funkce_b():\n",
    "        prostredi = \"lokalni\" # Odstranit\n",
    "        print(prostredi)\n",
    "\n",
    "    funkce_b()\n",
    "funkce_a()"
   ]
  },
  {
   "cell_type": "markdown",
   "metadata": {},
   "source": [
    "*Interpret* totiž dodržuje následující postup:\n",
    "1. Nejprve prohledá **lokalní rámec**, v němž se nachází,\n",
    "2. pokud není objekt uvnitř, zkus **uzavírající rámec** nebo obecně **nadřazený rámec**,\n",
    "3. pokud není objekt uvnitř **uzavírajícího prostředí**, zkus **globální rámec**,\n",
    "4. pokud není objekt uvnitr **globálního**, zkus **zabudovaný rámec**,\n",
    "5. pokud není objekt uvnitř **zabudovaného rámce** vyvolej `NameError`."
   ]
  },
  {
   "cell_type": "markdown",
   "metadata": {},
   "source": [
    "Spoléhat však na toto chování není doporučováno. Je totiž neintuitivní.\n",
    "\n",
    "Proto je dobré pamatovat na poučku, že **pěkná uživatelská funkce** umí pracovat pouze:\n",
    "1. svými **proměnnými**,\n",
    "2. svými **parametry**."
   ]
  },
  {
   "cell_type": "code",
   "execution_count": null,
   "metadata": {},
   "outputs": [],
   "source": [
    "def funkce_a(prostredi):\n",
    "\n",
    "    def funkce_b(prostredi):\n",
    "        print(prostredi)\n",
    "    \n",
    "    funkce_b(prostredi)"
   ]
  },
  {
   "cell_type": "code",
   "execution_count": null,
   "metadata": {},
   "outputs": [],
   "source": [
    "funkce_a(\"globalni\")"
   ]
  },
  {
   "cell_type": "markdown",
   "metadata": {},
   "source": [
    "<br>\n",
    "\n",
    "### 🧠 CVIČENÍ 🧠, Vyzkoušej si práci s *uživatelskými funkcemi*:"
   ]
  },
  {
   "cell_type": "markdown",
   "metadata": {},
   "source": [
    "1. Vytvoř definici uživatelské funkce `preved_format_na_kapitalku`,\n",
    "2. ta pracuje s jedním parametrem `text`,\n",
    "3. zadanou hodnotu v parametru `text` převede slovo po slovu na *Capitalize* formát (tedy `'ahoj'` na `'Ahoj'`),\n",
    "4. nakonec převedenou hodnotu z funkce `preved_format_na_kapitalku` vrať,\n",
    "5. vytvoř definici uživatelské funkce `zobraz_text`,\n",
    "6. funkce `zobraz_text` pracuje s jedním parametrem `zadany_text`,\n",
    "7. tento zadaný text naformátuje a vypíše do věty: `Formátovaný text: Toto Je Ukázkový Text`."
   ]
  },
  {
   "cell_type": "code",
   "execution_count": 50,
   "metadata": {},
   "outputs": [],
   "source": []
  },
  {
   "cell_type": "code",
   "execution_count": 51,
   "metadata": {},
   "outputs": [],
   "source": [
    "zadany_string = \"toto je ukázkový text\""
   ]
  },
  {
   "cell_type": "code",
   "execution_count": 52,
   "metadata": {},
   "outputs": [],
   "source": [
    "naformatovany_text = preved_format_na_kapitalku(zadany_string)"
   ]
  },
  {
   "cell_type": "code",
   "execution_count": 53,
   "metadata": {},
   "outputs": [
    {
     "name": "stdout",
     "output_type": "stream",
     "text": [
      "Formátovaný text: Toto Je Ukázkový Text\n"
     ]
    }
   ],
   "source": [
    "zobraz_text(naformatovany_text)"
   ]
  },
  {
   "cell_type": "markdown",
   "metadata": {},
   "source": [
    "<details>\n",
    "  <summary>▶️ Klikni zde pro zobrazení řešení</summary>\n",
    "   \n",
    "```python\n",
    "def preved_format_na_kapitalku(text: str) -> str:\n",
    "    return ' '.join(word.capitalize() for word in text.split())\n",
    "\n",
    "\n",
    "def zobraz_text(zadany_text: str):\n",
    "    print(f\"Formátovaný text: {zadany_text}\")\n",
    "\n",
    "\n",
    "zadany_string = \"toto je ukázkový text\"\n",
    "naformatovany_text = preved_format_na_kapitalku(zadany_string)\n",
    "zobraz_text(naformatovany_text)\n",
    "```\n",
    "</details>"
   ]
  },
  {
   "cell_type": "markdown",
   "metadata": {},
   "source": [
    "<br>\n",
    "\n",
    "<img src=\"https://external-content.duckduckgo.com/iu/?u=https%3A%2F%2Ftse1.mm.bing.net%2Fth%3Fid%3DOIP.Q_UFkYOMsF4WZPqR5JASrwHaHa%26pid%3DApi&f=1&ipt=5cc98c3ef4fcc27589e45d9966d8c05f1d7723927ad5c59a0f82d2e753d14ba8&ipo=images\" width=\"200\" style=\"margin-left:auto; margin-right:auto\" />\n",
    "\n",
    "## Funkce jako objekt\n",
    "---\n"
   ]
  },
  {
   "cell_type": "markdown",
   "metadata": {},
   "source": [
    "*Uživatelské funkce* v Pythonu jsou *objekt* jako všechny ostatní.\n",
    "\n",
    "Podle toho s nimi lze také zacházet:\n",
    "1. Funkce umí zacházet **s obyčejnými datovými typy** jako vstupy,\n",
    "2. funkce umí zacházet **s jinými funkcemi** jako vstupy,\n",
    "3. funkce umí vracet **různé datové typy**,\n",
    "4. funkce umí vracet **jiné funkce**."
   ]
  },
  {
   "cell_type": "markdown",
   "metadata": {},
   "source": [
    "### Běžná funkce\n",
    "\n",
    "---"
   ]
  },
  {
   "cell_type": "markdown",
   "metadata": {},
   "source": [
    "V ukázce napiš klasickou *uživatelskou funkci*, která prochází libovolné množství stringů (jmen).\n",
    "\n",
    "Ty potřebuješ vypsat **všechny velkými písmeny**:"
   ]
  },
  {
   "cell_type": "code",
   "execution_count": 54,
   "metadata": {},
   "outputs": [],
   "source": [
    "def vypis_jmeno(*args):\n",
    "    for jmeno in args:\n",
    "        print(jmeno.upper())"
   ]
  },
  {
   "cell_type": "code",
   "execution_count": 55,
   "metadata": {},
   "outputs": [
    {
     "name": "stdout",
     "output_type": "stream",
     "text": [
      "MATOUŠ\n",
      "MAREK\n",
      "JAN\n",
      "LUKÁŠ\n"
     ]
    }
   ],
   "source": [
    "vypis_jmeno(\"matouš\", \"marek\", \"jan\", \"lukáš\")"
   ]
  },
  {
   "cell_type": "markdown",
   "metadata": {},
   "source": [
    "<br>\n",
    "\n",
    "### Funkce jako vstup\n",
    "\n",
    "---"
   ]
  },
  {
   "cell_type": "markdown",
   "metadata": {},
   "source": [
    "Nejenom hodnoty můžeš zapisovat jako vstupní parametry.\n",
    "\n",
    "Také funkce lze takhle zapsat.\n",
    "\n",
    "Proto se také uznačují jako **funkce vyššího řádu**. Tedy:\n",
    "\n",
    "- **Přijímá jednu nebo více funkcí jako argumenty**,\n",
    "- **Vrací funkci jako svůj výstup**."
   ]
  },
  {
   "cell_type": "code",
   "execution_count": 56,
   "metadata": {},
   "outputs": [],
   "source": [
    "zamestnanci = [{'jmeno': 'Matouš', 'mzda': 40_000},\n",
    "               {'jmeno': 'Petr', 'mzda': 50_000}]"
   ]
  },
  {
   "cell_type": "code",
   "execution_count": 60,
   "metadata": {},
   "outputs": [],
   "source": [
    "def navys_mzdu(zamestnanec: dict, navyseni: int) -> dict:\n",
    "    if not zamestnanec:\n",
    "        return None\n",
    "\n",
    "    zamestnanec['mzda'] += navyseni\n",
    "    return zamestnanec\n",
    "\n",
    "\n",
    "def navys_cele_oddeleni(zamestnanci: list, navysovaci_fce: callable) -> list:\n",
    "    return [navys_mzdu(zamestnanec=zamestnanec, navyseni=10_000)\n",
    "            for zamestnanec in zamestnanci]\n",
    "    "
   ]
  },
  {
   "cell_type": "code",
   "execution_count": 61,
   "metadata": {},
   "outputs": [],
   "source": [
    "po_navyseni = navys_cele_oddeleni(zamestnanci, navys_mzdu)"
   ]
  },
  {
   "cell_type": "code",
   "execution_count": 62,
   "metadata": {},
   "outputs": [
    {
     "data": {
      "text/plain": [
       "[{'jmeno': 'Matouš', 'mzda': 50000}, {'jmeno': 'Petr', 'mzda': 60000}]"
      ]
     },
     "execution_count": 62,
     "metadata": {},
     "output_type": "execute_result"
    }
   ],
   "source": [
    "po_navyseni"
   ]
  },
  {
   "cell_type": "markdown",
   "metadata": {},
   "source": [
    "### Funkce vrací hodnoty\n",
    "\n",
    "---"
   ]
  },
  {
   "cell_type": "markdown",
   "metadata": {},
   "source": [
    "Nyní zapiš *uživatelskou funkci*, která vrátí klíče zadaného slovníku (spojené jako string):"
   ]
  },
  {
   "cell_type": "code",
   "execution_count": 63,
   "metadata": {},
   "outputs": [],
   "source": [
    "def vypis_klice(udaj):\n",
    "    if isinstance(udaj, dict):\n",
    "        return \", \".join(udaj.keys())"
   ]
  },
  {
   "cell_type": "code",
   "execution_count": 64,
   "metadata": {},
   "outputs": [
    {
     "data": {
      "text/plain": [
       "'jméno'"
      ]
     },
     "execution_count": 64,
     "metadata": {},
     "output_type": "execute_result"
    }
   ],
   "source": [
    "vypis_klice({\"jméno\": \"Matouš\"})"
   ]
  },
  {
   "cell_type": "code",
   "execution_count": 65,
   "metadata": {},
   "outputs": [
    {
     "data": {
      "text/plain": [
       "'jméno, příjmení'"
      ]
     },
     "execution_count": 65,
     "metadata": {},
     "output_type": "execute_result"
    }
   ],
   "source": [
    "vypis_klice({\"jméno\": \"Matouš\", \"příjmení\": \"Holinka\"})"
   ]
  },
  {
   "cell_type": "markdown",
   "metadata": {},
   "source": [
    "### Funkce vrací funkce\n",
    "\n",
    "---"
   ]
  },
  {
   "cell_type": "markdown",
   "metadata": {},
   "source": [
    "Tentokrát může funkce získat parametry různého datového typu (`list` a `dict`), proto musíš zpracovat klíče **dvěma způsoby**:"
   ]
  },
  {
   "cell_type": "code",
   "execution_count": 67,
   "metadata": {},
   "outputs": [],
   "source": [
    "from typing import Union"
   ]
  },
  {
   "cell_type": "code",
   "execution_count": 69,
   "metadata": {},
   "outputs": [],
   "source": [
    "def vypis_klice(udaj: Union[list, dict]):\n",
    "    if isinstance(udaj, dict):\n",
    "        return ziskej_klice_ze_slovniku(udaj)\n",
    "\n",
    "    elif isinstance(udaj, list):\n",
    "        return ziskej_klice_z_listu(udaj)"
   ]
  },
  {
   "cell_type": "code",
   "execution_count": 73,
   "metadata": {},
   "outputs": [],
   "source": [
    "def ziskej_klice_ze_slovniku(slovnikovy_udaj: dict) -> str:\n",
    "    return \", \".join(slovnikovy_udaj.keys())"
   ]
  },
  {
   "cell_type": "code",
   "execution_count": 74,
   "metadata": {},
   "outputs": [],
   "source": [
    "def ziskej_klice_z_listu(list_udaj: list):\n",
    "    klice = set()\n",
    "\n",
    "    for udaj in list_udaj:\n",
    "        if not isinstance(udaj, dict):\n",
    "            continue\n",
    "\n",
    "        for jmeno in udaj:\n",
    "            klice.add(jmeno)\n",
    "    else:\n",
    "        return \", \".join(klice)"
   ]
  },
  {
   "cell_type": "code",
   "execution_count": 75,
   "metadata": {},
   "outputs": [
    {
     "data": {
      "text/plain": [
       "'jméno, příjmení'"
      ]
     },
     "execution_count": 75,
     "metadata": {},
     "output_type": "execute_result"
    }
   ],
   "source": [
    "vypis_klice({\"jméno\": \"Matouš\", \"příjmení\": \"Holinka\"})"
   ]
  },
  {
   "cell_type": "code",
   "execution_count": 76,
   "metadata": {},
   "outputs": [
    {
     "data": {
      "text/plain": [
       "'jméno, příjmení, věk'"
      ]
     },
     "execution_count": 76,
     "metadata": {},
     "output_type": "execute_result"
    }
   ],
   "source": [
    "vypis_klice([\n",
    "        {\"jméno\": \"Matouš\"},\n",
    "        {\"jméno\": \"Marek\", \"příjmení\": \"Párek\"},\n",
    "        {\"jméno\": \"Marek\", \"příjmení\": \"Párek\", \"věk\": 11}\n",
    "    ]\n",
    ")"
   ]
  },
  {
   "cell_type": "markdown",
   "metadata": {},
   "source": [
    "Místo aby funkce `vypis_klice` manipulovala pouze s jedním stringem, umí nyní procházet i slovníky v listu.\n",
    "\n",
    "Pokud bude parametr datového typu:\n",
    "1. `dict`, vytáhne jména klíčů pomocí metody,\n",
    "2. `list`, vytáhne jména klíčů pomocí nestované smyčky.\n",
    "\n",
    "\n",
    "Narozdíl od **obyčejných proměnných**, které by *uživatelská funkce* mimo parametr neměla upravovat, uživ. funkce takový prohřešek nejsou.\n",
    "\n",
    "Dovnitř *uživatelských funkcí* sice nevidí, ale jejich odkazy (jména) *intepret* eviduje již při definici.\n",
    "\n",
    "Pořád ale platí, že je nutné dávat pozor **na kolize ve jménech objektů**."
   ]
  },
  {
   "cell_type": "markdown",
   "metadata": {},
   "source": [
    "### Rekurzivní zápis\n",
    "\n",
    "---"
   ]
  },
  {
   "cell_type": "markdown",
   "metadata": {},
   "source": [
    "*Rekurzivní zápis* je takový, kdy **uživatelská funkce** volá (spouští) sebe sama."
   ]
  },
  {
   "cell_type": "code",
   "execution_count": 77,
   "metadata": {},
   "outputs": [],
   "source": [
    "def secti_sekvenci_cisel(cisla):\n",
    "    if len(cisla) == 1:\n",
    "        return cisla[0]\n",
    "    else:\n",
    "        return cisla[0] + secti_sekvenci_cisel(cisla[1:])"
   ]
  },
  {
   "cell_type": "code",
   "execution_count": 78,
   "metadata": {},
   "outputs": [
    {
     "name": "stdout",
     "output_type": "stream",
     "text": [
      "10\n"
     ]
    }
   ],
   "source": [
    "print(secti_sekvenci_cisel((1, 2, 3, 4)))"
   ]
  },
  {
   "cell_type": "code",
   "execution_count": 79,
   "metadata": {},
   "outputs": [
    {
     "name": "stdout",
     "output_type": "stream",
     "text": [
      "15\n"
     ]
    }
   ],
   "source": [
    "print(secti_sekvenci_cisel((1, 2, 3, 4, 5)))"
   ]
  },
  {
   "cell_type": "markdown",
   "metadata": {},
   "source": [
    "Na většinu zadání v programování není optimální *rekurzivní zápis* funkce používat:\n",
    "1. Pokud řešení zápisu **není elegantní** a působí **komplikovaně**,\n",
    "2. rekurze **bere více paměti** než nerekurzivní řešení,\n",
    "3. runtime rekurzivního zápisu může **trvat delší dobu**.\n",
    "\n",
    "Jsou ovšem scénaře, kde se naopak rekurze perfektně hodí.\n",
    "\n",
    "Dokonce bude **stručnější a čitelnější**. Třeba procházení *stromových datových struktur*."
   ]
  },
  {
   "cell_type": "code",
   "execution_count": null,
   "metadata": {},
   "outputs": [],
   "source": [
    "nestovany_slovnik = {\n",
    "    \"jméno\": \"Matouš\",\n",
    "    \"příjmení\": \"Holinka\",\n",
    "    \"kontakt\": {\n",
    "        \"mail\": \"matous@holinka.com\",\n",
    "        \"telefon\": {\n",
    "            \"osobní\": \"111-222-333\", \n",
    "            \"služební\": {\n",
    "                \"práce_1\": \"222-333-444\",\n",
    "                \"práce_2\": \"444-333-222\",   \n",
    "            }\n",
    "        }\n",
    "    }\n",
    "}"
   ]
  },
  {
   "cell_type": "code",
   "execution_count": null,
   "metadata": {},
   "outputs": [],
   "source": [
    "def flatten_dict(nest_slovnik: dict) -> dict:\n",
    "    vysledny_sl = dict()\n",
    "    \n",
    "    for klic, hodnota in nest_slovnik.items():\n",
    "        if not isinstance(hodnota, dict):\n",
    "            vysledny_sl[klic] = hodnota\n",
    "        else:\n",
    "            vysledny_sl.update(flatten_dict(hodnota))\n",
    "    else:\n",
    "        return vysledny_sl"
   ]
  },
  {
   "cell_type": "code",
   "execution_count": null,
   "metadata": {},
   "outputs": [],
   "source": [
    "vystup = flatten_dict(nestovany_slovnik)"
   ]
  },
  {
   "cell_type": "code",
   "execution_count": null,
   "metadata": {},
   "outputs": [],
   "source": [
    "from pprint import pprint"
   ]
  },
  {
   "cell_type": "code",
   "execution_count": null,
   "metadata": {},
   "outputs": [],
   "source": [
    "pprint(nestovany_slovnik)"
   ]
  },
  {
   "cell_type": "code",
   "execution_count": null,
   "metadata": {},
   "outputs": [],
   "source": [
    "pprint(vystup)"
   ]
  },
  {
   "cell_type": "markdown",
   "metadata": {},
   "source": [
    "### Rekurzivně\n",
    "\n",
    "---"
   ]
  },
  {
   "cell_type": "code",
   "execution_count": 80,
   "metadata": {},
   "outputs": [],
   "source": [
    "from timeit import timeit"
   ]
  },
  {
   "cell_type": "code",
   "execution_count": 81,
   "metadata": {},
   "outputs": [],
   "source": [
    "r_ohlaseni = \"\"\"\n",
    "print(\"Délka rekurzivní řešení:\")\n",
    "def vypocitej_faktorial_r(cislo):\n",
    "    if cislo <= 1:\n",
    "        return 1\n",
    "    else:\n",
    "        return cislo * vypocitej_faktorial_r(cislo - 1)\n",
    "\"\"\""
   ]
  },
  {
   "cell_type": "code",
   "execution_count": 82,
   "metadata": {},
   "outputs": [
    {
     "name": "stdout",
     "output_type": "stream",
     "text": [
      "Délka rekurzivní řešení:\n"
     ]
    },
    {
     "data": {
      "text/plain": [
       "11.73224699399725"
      ]
     },
     "execution_count": 82,
     "metadata": {},
     "output_type": "execute_result"
    }
   ],
   "source": [
    "timeit(\"vypocitej_faktorial_r(10)\", setup=r_ohlaseni, number=10_000_000)"
   ]
  },
  {
   "cell_type": "markdown",
   "metadata": {},
   "source": [
    "### Nerekurzivně\n",
    "\n",
    "---"
   ]
  },
  {
   "cell_type": "code",
   "execution_count": 83,
   "metadata": {},
   "outputs": [],
   "source": [
    "ohlaseni = \"\"\"\n",
    "print(\"Délka nerekurzivní řešení:\")\n",
    "def vypocitej_faktorial(cislo):\n",
    "    vracena_hodnota = 1\n",
    "    for hodnota in range(2, cislo + 1):\n",
    "        vracena_hodnota *= hodnota\n",
    "    else:\n",
    "        return vracena_hodnota\n",
    "\"\"\""
   ]
  },
  {
   "cell_type": "code",
   "execution_count": 84,
   "metadata": {},
   "outputs": [
    {
     "name": "stdout",
     "output_type": "stream",
     "text": [
      "Délka nerekurzivní řešení:\n"
     ]
    },
    {
     "data": {
      "text/plain": [
       "6.15029756900185"
      ]
     },
     "execution_count": 84,
     "metadata": {},
     "output_type": "execute_result"
    }
   ],
   "source": [
    "timeit(\"vypocitej_faktorial(10)\", setup=ohlaseni, number=10_000_000)"
   ]
  },
  {
   "cell_type": "markdown",
   "metadata": {},
   "source": [
    "### Funkce implementovaná v C\n",
    "\n",
    "---"
   ]
  },
  {
   "cell_type": "code",
   "execution_count": 85,
   "metadata": {},
   "outputs": [],
   "source": [
    "c_ohlaseni = \"from math import factorial\\nprint('Délka řešení C funkcí:')\""
   ]
  },
  {
   "cell_type": "code",
   "execution_count": 86,
   "metadata": {},
   "outputs": [
    {
     "name": "stdout",
     "output_type": "stream",
     "text": [
      "Délka řešení C funkcí:\n"
     ]
    },
    {
     "data": {
      "text/plain": [
       "0.6228753229952417"
      ]
     },
     "execution_count": 86,
     "metadata": {},
     "output_type": "execute_result"
    }
   ],
   "source": [
    "timeit(\"factorial(10)\", setup=c_ohlaseni, number=10_000_000)"
   ]
  },
  {
   "cell_type": "markdown",
   "metadata": {},
   "source": [
    "[Formulář po osmé lekci](https://forms.gle/VBacWAtdNAGU72kPA)"
   ]
  },
  {
   "cell_type": "markdown",
   "metadata": {},
   "source": [
    "<br>\n",
    "\n",
    "<img src=\"https://external-content.duckduckgo.com/iu/?u=https%3A%2F%2Ftse3.mm.bing.net%2Fth%3Fid%3DOIP.GMJvJ-GG0YS8H5JmHR3CbwHaHm%26pid%3DApi&f=1&ipt=110157bae9409977a59d895a970a6d51afa8a31e0c7fca53a1f95fd2402f9a35&ipo=images\" width=\"200\">\n",
    "\n",
    "## Domácí úkol\n",
    "\n",
    "---"
   ]
  },
  {
   "cell_type": "markdown",
   "metadata": {},
   "source": [
    "Napiš soubor funkcí, které bude spouštět hlavní funkce `main`.\n",
    "\n",
    "Tato funkce bude umět generovat captcha kód o libovolné délkce znaků.\n",
    "\n",
    "Bude umět přidávat číselné znaky, malá písmena, velká písmena, podle zadání:\n",
    "```\n",
    "ZDngoM  # malá a velká písmena, délka 6 znaků\n",
    "ngom    # malá písmena, délka 4 znaků\n",
    "ZDng0   # malá, velká písmena, čísla , délka 5 znaků\n",
    "```"
   ]
  },
  {
   "cell_type": "markdown",
   "metadata": {},
   "source": [
    "Skript musí obsahovat tyto funkce:\n",
    "1. `vrat_ciselne_znaky`,\n",
    "2. `vrat_male_textove_znaky`,\n",
    "3. `vrat_velke_textove_znaky`,\n",
    "4. `vytvor_captchu`,\n",
    "5. `vytvor_davku`, (*volitelné*)\n",
    "6. `main`,"
   ]
  },
  {
   "cell_type": "markdown",
   "metadata": {},
   "source": [
    "---"
   ]
  }
 ],
 "metadata": {
  "kernelspec": {
   "display_name": "Python 3 (ipykernel)",
   "language": "python",
   "name": "python3"
  },
  "language_info": {
   "codemirror_mode": {
    "name": "ipython",
    "version": 3
   },
   "file_extension": ".py",
   "mimetype": "text/x-python",
   "name": "python",
   "nbconvert_exporter": "python",
   "pygments_lexer": "ipython3",
   "version": "3.8.10"
  }
 },
 "nbformat": 4,
 "nbformat_minor": 4
}
